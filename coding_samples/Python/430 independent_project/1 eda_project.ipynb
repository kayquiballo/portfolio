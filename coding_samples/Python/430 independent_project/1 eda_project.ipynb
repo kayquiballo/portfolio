{
 "cells": [
  {
   "cell_type": "markdown",
   "metadata": {},
   "source": [
    "# EDA Project"
   ]
  },
  {
   "cell_type": "markdown",
   "metadata": {},
   "source": [
    "<div class=\"alert alert-block alert-info\">The EDA project in this course has four main parts to it: <br>\n",
    "    \n",
    "1. Project Proposal\n",
    "2. Phase 1\n",
    "3. Phase 2\n",
    "4. Report\n",
    "\n",
    "This notebook will be used for Project Proposal, Phase 1, and Phase 2. You will have specific questions to answer within this notebook for Project Proposal and Phase 1. You will also continue using this notebook for Phase 2. However, guidance and expectations can be found on Canvas for that assignment. The report is completed outside of this notebook (delivered as a PDF). Detailed instructions for that assignment are provided in Canvas.</div>"
   ]
  },
  {
   "cell_type": "markdown",
   "metadata": {},
   "source": [
    "<div class=\"alert alert-block alert-danger\"><b><font size=4>Read this before proceeding:</font></b>\n",
    "    \n",
    "1. Review the list of data sets and sources of data to avoid before choosing your data. This list is provided in the instructions for the Project Proposal assignment in Canvas.<br><br>  \n",
    "\n",
    "2. It is expected that when you are asked questions requiring typed explanations you are to use a <b><u>markdown cell</u></b> to type your answers neatly. <b><u><i>Do not provide typed answers to questions as extra comments within your code.</i></u></b> Only provide comments within your code as you normally would, i.e. as needed to explain or remind yourself what each part of the code is doing.</div>"
   ]
  },
  {
   "cell_type": "markdown",
   "metadata": {},
   "source": [
    "# Project Proposal"
   ]
  },
  {
   "cell_type": "markdown",
   "metadata": {},
   "source": [
    "<div class=\"alert alert-block alert-info\">The intent of this assignment is for you to share your chosen data file(s) with your instructor and provide general information on your goals for the EDA project.</div>"
   ]
  },
  {
   "cell_type": "markdown",
   "metadata": {},
   "source": [
    "<div class=\"alert alert-block alert-success\"><b>Step 1 (2 pts)</b>: Give a brief <i><u>description</u></i> of the source(s) of your data and include a <i><u>direct link</u></i> to your data.</div>"
   ]
  },
  {
   "cell_type": "markdown",
   "metadata": {},
   "source": [
    "## Chicago Crime Rates\n",
    "\n",
    "https://ucr.fbi.gov/crime-in-the-u.s (Offenses Known to Law Enforcement - by State by City)\n",
    "\n",
    "https://home.chicagopolice.org/statistics-data/statistical-reports/annual-reports/ (Chicago Crime Stats)\n",
    "\n",
    "I will take a look at crime data from the Chicago which historically has ranked within the top 3 U.S. cities with the largest population and highest crime rates. Population data and property crime data ranges from 1995-2019 in the FBI database. Violent crime data for Chicago was incorrectly reported in the FBI database, so I used Chicago Police Department Annual Reports for this information.\n",
    "\n",
    "The data includes the categories of violent crime and property crime. Violent crime encompasses murder and nonnegligent manslaughter, rape, robbery, and aggravated assault (of which, robbery and assault make up the majority). Property crime encompasses burglary, larceny-theft, motor vehicle theft, and arson (of which, larceny-theft makes up the majority).\n",
    "\n",
    "Data was curated to only include population, violent crime rates, and property crime rates in Chicago from 1995-2019. Crime data was taken from different tables/reports and combined into 1 csv file to import.\n",
    "\n",
    "## City of Chicago Budget\n",
    "\n",
    "Chicago Budget Ordinances : https://chicityclerk.com/legislation-records/journals-and-reports/city-budgets\n",
    "\n",
    "~ Corporate Fund - Total Revenue; Department of Police / Chicago Police Department - Appropriation Total\n",
    "\n",
    "I will take a look at the City of Chicago Budget to see how it has changed over the years. The Corporate Fund is the City’s general operating fund is the largest fund in the city budget, supporting basic City operations and services, such as public safety, public health, and tree trimming. The majority of this Fund is resourced via taxpayer money. \n",
    "\n",
    "The Chicago Police Department is funded via the Corporate Fund and other grants. The majority of the Corporate Fund goes towards public safety > CPD > The Bureau of Patrol, which is responsible for general field operations, the protection of life and property, the apprehension of criminals, and the enforcement of laws.\n",
    "\n",
    "Data was curated to only include Corporate Fund and CPD Budget from 1995-2020. Each year's data was taken from its corresponding budget ordinance and combined into 1 csv file to import."
   ]
  },
  {
   "cell_type": "markdown",
   "metadata": {},
   "source": [
    "<div class=\"alert alert-block alert-success\"><b>Step 2 (2 pts)</b>: Briefly explain why you chose this data.</div>"
   ]
  },
  {
   "cell_type": "markdown",
   "metadata": {},
   "source": [
    "## Data Source Inspiration\n",
    "\n",
    "I came across this site which visually represents how homicide rates and police budgets have historically changed:\n",
    "https://www.politico.com/interactives/2020/police-budget-spending-george-floyd-defund/\n",
    "\n",
    "## My Take on the Data\n",
    "\n",
    "It got me thinking, I would like to do similar research but not just on homicide rates. Violent crime encompasses 4 different types of crimes, of which homicide contributes a relatively small percentage. I believe looking at violent crime as a whole (as well as property crime which is far more frequent) may be an insightful twist on this original analysis.\n",
    "\n",
    "I know that the police budgets in major cities like Chicago make up the majority of each city's budget. With so many duties for the police to deal with, it may be beneficial to examine how their budget has been impacting crime rates and if more of the city budget should be allocated to non-police resources. These resources include the budget for education, homelessness, social services, and healthcare which may affect unemployment rates, literacy rates, homelessness rates, mental health rates, mortality rates, and poverty rates."
   ]
  },
  {
   "cell_type": "markdown",
   "metadata": {},
   "source": [
    "<div class=\"alert alert-block alert-success\"><b>Step 3 (1 pt)</b>: Provide a brief overview of your goals for this project.</div>"
   ]
  },
  {
   "cell_type": "markdown",
   "metadata": {},
   "source": [
    "## Goal 1\n",
    "Show the percent change of police budget (adjusted for inflation) versus percent change in crime per capita from 1995-2019.\n",
    "\n",
    "## Goal 2\n",
    "Show the budget (adjusted for inflation) per crime per capita from 1995-2019.\n",
    "\n",
    "## Hypothesis and Outcome\n",
    "\n",
    "A police budget that increases at a rate quicker than the rate that crime decreases could indicate that the police budget is too high and not allocated efficiently. Ideally the police budget (adjusted due to inflation) should be increasing at the same rate as violent/property crime rates decreasing.\n",
    "\n",
    "The goal of this project is to see if police are overfunded and if resources should be allocated to other resources (as mentioned in the previous section)"
   ]
  },
  {
   "cell_type": "markdown",
   "metadata": {},
   "source": [
    "<div class=\"alert alert-block alert-success\"><b>Step 4 (1 pt)</b>: Read the data into this notebook.</div>"
   ]
  },
  {
   "cell_type": "code",
   "execution_count": 3,
   "metadata": {},
   "outputs": [],
   "source": [
    "import pandas as pd\n",
    "\n",
    "crime = pd.read_csv('chicago_crime.csv')\n",
    "budget = pd.read_csv('chicago_budget.csv')"
   ]
  },
  {
   "cell_type": "markdown",
   "metadata": {},
   "source": [
    "<div class=\"alert alert-block alert-success\"><b>Step 5 (1 pt)</b>: Inspect the data using the <b>info(&nbsp;)</b>, <b>head(&nbsp;)</b>, and <b>tail(&nbsp;)</b> methods.</div>"
   ]
  },
  {
   "cell_type": "code",
   "execution_count": 4,
   "metadata": {},
   "outputs": [
    {
     "name": "stdout",
     "output_type": "stream",
     "text": [
      "<class 'pandas.core.frame.DataFrame'>\n",
      "RangeIndex: 26 entries, 0 to 25\n",
      "Data columns (total 4 columns):\n",
      " #   Column          Non-Null Count  Dtype  \n",
      "---  ------          --------------  -----  \n",
      " 0   Year            26 non-null     int64  \n",
      " 1   Population      25 non-null     float64\n",
      " 2   Violent Crime   24 non-null     float64\n",
      " 3   Property Crime  25 non-null     float64\n",
      "dtypes: float64(3), int64(1)\n",
      "memory usage: 960.0 bytes\n",
      "<class 'pandas.core.frame.DataFrame'>\n",
      "RangeIndex: 26 entries, 0 to 25\n",
      "Data columns (total 3 columns):\n",
      " #   Column          Non-Null Count  Dtype\n",
      "---  ------          --------------  -----\n",
      " 0   Year            26 non-null     int64\n",
      " 1   Corporate Fund  26 non-null     int64\n",
      " 2   Police Budget   26 non-null     int64\n",
      "dtypes: int64(3)\n",
      "memory usage: 752.0 bytes\n"
     ]
    }
   ],
   "source": [
    "# TODO: Use the info() method to determine to inspect the variable (column) names, the number of non-null values,\n",
    "#       and the data types for each variable.\n",
    "crime.info()\n",
    "budget.info()"
   ]
  },
  {
   "cell_type": "markdown",
   "metadata": {},
   "source": [
    "Data looks correct from info:\n",
    "\n",
    "Crime dataframe looks at 25 different years. And violent crime is missing 2011 because it was not reported. All types are integer.\n",
    "\n",
    "Budget dataframe looks at 26 different years (includes 2020). All types are integer.\n",
    "\n",
    "All Columns for all dataframes were read in correctly.\n"
   ]
  },
  {
   "cell_type": "code",
   "execution_count": 5,
   "metadata": {},
   "outputs": [
    {
     "data": {
      "text/html": [
       "<div>\n",
       "<style scoped>\n",
       "    .dataframe tbody tr th:only-of-type {\n",
       "        vertical-align: middle;\n",
       "    }\n",
       "\n",
       "    .dataframe tbody tr th {\n",
       "        vertical-align: top;\n",
       "    }\n",
       "\n",
       "    .dataframe thead th {\n",
       "        text-align: right;\n",
       "    }\n",
       "</style>\n",
       "<table border=\"1\" class=\"dataframe\">\n",
       "  <thead>\n",
       "    <tr style=\"text-align: right;\">\n",
       "      <th></th>\n",
       "      <th>Year</th>\n",
       "      <th>Population</th>\n",
       "      <th>Violent Crime</th>\n",
       "      <th>Property Crime</th>\n",
       "    </tr>\n",
       "  </thead>\n",
       "  <tbody>\n",
       "    <tr>\n",
       "      <th>0</th>\n",
       "      <td>2020</td>\n",
       "      <td>NaN</td>\n",
       "      <td>NaN</td>\n",
       "      <td>NaN</td>\n",
       "    </tr>\n",
       "    <tr>\n",
       "      <th>1</th>\n",
       "      <td>2019</td>\n",
       "      <td>2707064.0</td>\n",
       "      <td>25545.0</td>\n",
       "      <td>80742.0</td>\n",
       "    </tr>\n",
       "    <tr>\n",
       "      <th>2</th>\n",
       "      <td>2018</td>\n",
       "      <td>2719151.0</td>\n",
       "      <td>27416.0</td>\n",
       "      <td>86513.0</td>\n",
       "    </tr>\n",
       "    <tr>\n",
       "      <th>3</th>\n",
       "      <td>2017</td>\n",
       "      <td>2706171.0</td>\n",
       "      <td>29764.0</td>\n",
       "      <td>88324.0</td>\n",
       "    </tr>\n",
       "    <tr>\n",
       "      <th>4</th>\n",
       "      <td>2016</td>\n",
       "      <td>2725153.0</td>\n",
       "      <td>30234.0</td>\n",
       "      <td>86960.0</td>\n",
       "    </tr>\n",
       "  </tbody>\n",
       "</table>\n",
       "</div>"
      ],
      "text/plain": [
       "   Year  Population  Violent Crime  Property Crime\n",
       "0  2020         NaN            NaN             NaN\n",
       "1  2019   2707064.0        25545.0         80742.0\n",
       "2  2018   2719151.0        27416.0         86513.0\n",
       "3  2017   2706171.0        29764.0         88324.0\n",
       "4  2016   2725153.0        30234.0         86960.0"
      ]
     },
     "execution_count": 5,
     "metadata": {},
     "output_type": "execute_result"
    }
   ],
   "source": [
    "# TODO: Use the head() method to inspect the first five (or more) rows of the data\n",
    "crime.head()"
   ]
  },
  {
   "cell_type": "markdown",
   "metadata": {},
   "source": [
    "This shows the 5 most recent years (2015-2019) of population and different crime totals."
   ]
  },
  {
   "cell_type": "code",
   "execution_count": 6,
   "metadata": {},
   "outputs": [
    {
     "data": {
      "text/html": [
       "<div>\n",
       "<style scoped>\n",
       "    .dataframe tbody tr th:only-of-type {\n",
       "        vertical-align: middle;\n",
       "    }\n",
       "\n",
       "    .dataframe tbody tr th {\n",
       "        vertical-align: top;\n",
       "    }\n",
       "\n",
       "    .dataframe thead th {\n",
       "        text-align: right;\n",
       "    }\n",
       "</style>\n",
       "<table border=\"1\" class=\"dataframe\">\n",
       "  <thead>\n",
       "    <tr style=\"text-align: right;\">\n",
       "      <th></th>\n",
       "      <th>Year</th>\n",
       "      <th>Corporate Fund</th>\n",
       "      <th>Police Budget</th>\n",
       "    </tr>\n",
       "  </thead>\n",
       "  <tbody>\n",
       "    <tr>\n",
       "      <th>0</th>\n",
       "      <td>2020</td>\n",
       "      <td>4338214000</td>\n",
       "      <td>1635918179</td>\n",
       "    </tr>\n",
       "    <tr>\n",
       "      <th>1</th>\n",
       "      <td>2019</td>\n",
       "      <td>3739732000</td>\n",
       "      <td>1547167697</td>\n",
       "    </tr>\n",
       "    <tr>\n",
       "      <th>2</th>\n",
       "      <td>2018</td>\n",
       "      <td>3754237000</td>\n",
       "      <td>1511933076</td>\n",
       "    </tr>\n",
       "    <tr>\n",
       "      <th>3</th>\n",
       "      <td>2017</td>\n",
       "      <td>3681964000</td>\n",
       "      <td>1434741100</td>\n",
       "    </tr>\n",
       "    <tr>\n",
       "      <th>4</th>\n",
       "      <td>2016</td>\n",
       "      <td>3570755000</td>\n",
       "      <td>1384510306</td>\n",
       "    </tr>\n",
       "  </tbody>\n",
       "</table>\n",
       "</div>"
      ],
      "text/plain": [
       "   Year  Corporate Fund  Police Budget\n",
       "0  2020      4338214000     1635918179\n",
       "1  2019      3739732000     1547167697\n",
       "2  2018      3754237000     1511933076\n",
       "3  2017      3681964000     1434741100\n",
       "4  2016      3570755000     1384510306"
      ]
     },
     "execution_count": 6,
     "metadata": {},
     "output_type": "execute_result"
    }
   ],
   "source": [
    "# TODO: Use the head() method to inspect the first five (or more) rows of the data\n",
    "budget.head()"
   ]
  },
  {
   "cell_type": "markdown",
   "metadata": {},
   "source": [
    "This shows the 5 most recent years (2016-2020) of Chicago's Corporate Fund and Police Budget."
   ]
  },
  {
   "cell_type": "code",
   "execution_count": 7,
   "metadata": {},
   "outputs": [
    {
     "data": {
      "text/html": [
       "<div>\n",
       "<style scoped>\n",
       "    .dataframe tbody tr th:only-of-type {\n",
       "        vertical-align: middle;\n",
       "    }\n",
       "\n",
       "    .dataframe tbody tr th {\n",
       "        vertical-align: top;\n",
       "    }\n",
       "\n",
       "    .dataframe thead th {\n",
       "        text-align: right;\n",
       "    }\n",
       "</style>\n",
       "<table border=\"1\" class=\"dataframe\">\n",
       "  <thead>\n",
       "    <tr style=\"text-align: right;\">\n",
       "      <th></th>\n",
       "      <th>Year</th>\n",
       "      <th>Population</th>\n",
       "      <th>Violent Crime</th>\n",
       "      <th>Property Crime</th>\n",
       "    </tr>\n",
       "  </thead>\n",
       "  <tbody>\n",
       "    <tr>\n",
       "      <th>21</th>\n",
       "      <td>1999</td>\n",
       "      <td>2821032.0</td>\n",
       "      <td>50522.0</td>\n",
       "      <td>174798.0</td>\n",
       "    </tr>\n",
       "    <tr>\n",
       "      <th>22</th>\n",
       "      <td>1998</td>\n",
       "      <td>2750917.0</td>\n",
       "      <td>62947.0</td>\n",
       "      <td>190661.0</td>\n",
       "    </tr>\n",
       "    <tr>\n",
       "      <th>23</th>\n",
       "      <td>1997</td>\n",
       "      <td>2765852.0</td>\n",
       "      <td>65112.0</td>\n",
       "      <td>195392.0</td>\n",
       "    </tr>\n",
       "    <tr>\n",
       "      <th>24</th>\n",
       "      <td>1996</td>\n",
       "      <td>2754118.0</td>\n",
       "      <td>67498.0</td>\n",
       "      <td>195618.0</td>\n",
       "    </tr>\n",
       "    <tr>\n",
       "      <th>25</th>\n",
       "      <td>1995</td>\n",
       "      <td>2749881.0</td>\n",
       "      <td>73014.0</td>\n",
       "      <td>199164.0</td>\n",
       "    </tr>\n",
       "  </tbody>\n",
       "</table>\n",
       "</div>"
      ],
      "text/plain": [
       "    Year  Population  Violent Crime  Property Crime\n",
       "21  1999   2821032.0        50522.0        174798.0\n",
       "22  1998   2750917.0        62947.0        190661.0\n",
       "23  1997   2765852.0        65112.0        195392.0\n",
       "24  1996   2754118.0        67498.0        195618.0\n",
       "25  1995   2749881.0        73014.0        199164.0"
      ]
     },
     "execution_count": 7,
     "metadata": {},
     "output_type": "execute_result"
    }
   ],
   "source": [
    "# TODO: Use the tail() method to inspect the last five (or more) rows of the data\n",
    "crime.tail()"
   ]
  },
  {
   "cell_type": "markdown",
   "metadata": {},
   "source": [
    "This shows the last 5 years (1995-1999) of population and different crime totals."
   ]
  },
  {
   "cell_type": "code",
   "execution_count": 8,
   "metadata": {},
   "outputs": [
    {
     "data": {
      "text/html": [
       "<div>\n",
       "<style scoped>\n",
       "    .dataframe tbody tr th:only-of-type {\n",
       "        vertical-align: middle;\n",
       "    }\n",
       "\n",
       "    .dataframe tbody tr th {\n",
       "        vertical-align: top;\n",
       "    }\n",
       "\n",
       "    .dataframe thead th {\n",
       "        text-align: right;\n",
       "    }\n",
       "</style>\n",
       "<table border=\"1\" class=\"dataframe\">\n",
       "  <thead>\n",
       "    <tr style=\"text-align: right;\">\n",
       "      <th></th>\n",
       "      <th>Year</th>\n",
       "      <th>Corporate Fund</th>\n",
       "      <th>Police Budget</th>\n",
       "    </tr>\n",
       "  </thead>\n",
       "  <tbody>\n",
       "    <tr>\n",
       "      <th>21</th>\n",
       "      <td>1999</td>\n",
       "      <td>2164878000</td>\n",
       "      <td>907103431</td>\n",
       "    </tr>\n",
       "    <tr>\n",
       "      <th>22</th>\n",
       "      <td>1998</td>\n",
       "      <td>2089940000</td>\n",
       "      <td>874797794</td>\n",
       "    </tr>\n",
       "    <tr>\n",
       "      <th>23</th>\n",
       "      <td>1997</td>\n",
       "      <td>2036432196</td>\n",
       "      <td>836794937</td>\n",
       "    </tr>\n",
       "    <tr>\n",
       "      <th>24</th>\n",
       "      <td>1996</td>\n",
       "      <td>1916225000</td>\n",
       "      <td>788095327</td>\n",
       "    </tr>\n",
       "    <tr>\n",
       "      <th>25</th>\n",
       "      <td>1995</td>\n",
       "      <td>1852972000</td>\n",
       "      <td>798584638</td>\n",
       "    </tr>\n",
       "  </tbody>\n",
       "</table>\n",
       "</div>"
      ],
      "text/plain": [
       "    Year  Corporate Fund  Police Budget\n",
       "21  1999      2164878000      907103431\n",
       "22  1998      2089940000      874797794\n",
       "23  1997      2036432196      836794937\n",
       "24  1996      1916225000      788095327\n",
       "25  1995      1852972000      798584638"
      ]
     },
     "execution_count": 8,
     "metadata": {},
     "output_type": "execute_result"
    }
   ],
   "source": [
    "# TODO: Use the tail() method to inspect the last five (or more) rows of the data\n",
    "budget.tail()"
   ]
  },
  {
   "cell_type": "markdown",
   "metadata": {},
   "source": [
    "This shows the last 5 years (1995-1999) of Chicago's Corporate Fund and Police Budget."
   ]
  },
  {
   "cell_type": "markdown",
   "metadata": {},
   "source": [
    "<div class=\"alert alert-block alert-danger\"><b>STOP HERE for your Project Proposal assignment. Submit your (1) original data file(s) along with (2) the completed notebook up to this point, and (3) the html file for grading and approval.</b></div>"
   ]
  },
  {
   "cell_type": "markdown",
   "metadata": {},
   "source": [
    "<div class=\"alert alert-block alert-warning\"><b>Instructor Feedback and Approval (3 pts)</b>: Your instructor will provide feedback in either the cell below this or via Canvas. You can expect one of the following point values for this portion.\n",
    "\n",
    "<b>3 pts</b> - if your project goals and data set are both approved.<br>\n",
    "<b>2 pts</b> - if your data set is approved but changes to your project goals (Step 3) are needed.<br>\n",
    "<b>1 pt</b> - if your project goals are approved but your data set is not approved.<br>\n",
    "<b>0 pts</b> - if neither your data set nor your project goals are approved.<br><br>\n",
    "    \n",
    "<i><u>As needed, follow your instructor's feeback and guidance to get on track for the remaining portions of the EDA project.</u></i>\n",
    "</div>"
   ]
  },
  {
   "cell_type": "markdown",
   "metadata": {},
   "source": [
    "# EDA Phase 1"
   ]
  },
  {
   "cell_type": "markdown",
   "metadata": {},
   "source": [
    "<div class=\"alert alert-block alert-info\">The overall goal of this assignment is to take all necessary steps to inspect the quality of your data and prepare the data according to your needs. For information and resources on the process of Exploratory Data Analysis (EDA), you should explore the <b><u>EDA Project Resources Module</u></b> in Canvas.\n",
    "\n",
    "Once you’ve read through the information provided in that module and have a comfortable understanding of EDA using Python, complete steps 6 through 10 listed below to satisfy the requirements for your EDA Phase 1 assignment. **Remember to convert code cells provided to markdown cells for any typed responses to questions.**</div>"
   ]
  },
  {
   "cell_type": "markdown",
   "metadata": {},
   "source": [
    "<div class=\"alert alert-block alert-success\"><b>Step 6 (2 pts)</b>: Begin by elaborating in more detail from the previous assignment on why you chose this data?<br>\n",
    "    \n",
    "1. Explain what you hope to learn from this data. \n",
    "2. Do you have a hunch about what this data will reveal? (The answer to this question will be used in the Introduction section of your EDA report.)\n",
    "</div>"
   ]
  },
  {
   "cell_type": "markdown",
   "metadata": {},
   "source": [
    "## 1. What I hope to learn\n",
    "From the data I hope to shed insight on the relationship between Chicago Police Department's Funding and the decline in crime rate from a historical perspective. Each year, the CPD Budget increases more and more while crime rates decrease, but if the City of Chicago is allocating more money and not seeing the same rate of decrease each year in crime, the city may want to invest monetary resources in other resources such as housing, education, and mental health resources.\n",
    "\n",
    "## 2. Hypothesis\n",
    "I hypothesize that The City of Chicago Budget is increasing exponentially while the rate of crime is not declining at the same rate (slower). This would support the hypothesis that the Chicago Police Department is overfunded, and that other resources should be looked into."
   ]
  },
  {
   "cell_type": "markdown",
   "metadata": {},
   "source": [
    "<div class=\"alert alert-block alert-success\"><b>Step 7 (2 pts)</b>: Discuss the popluation and the sample:<br>\n",
    "    \n",
    "1. What is the population being represented by the data you’ve chosen? \n",
    "2. What is the total sample size?\n",
    "</div>"
   ]
  },
  {
   "cell_type": "markdown",
   "metadata": {},
   "source": [
    "## 1. Population\n",
    "For the 'crime' dataset, the population would be all years where crime was reported in the City of Chicago.\n",
    "For the 'budget' dataset, the population would be all years where a budget was proposed in the City of Chicago\n",
    "\n",
    "## 2. Sample Size\n",
    "For the 'crime' dataset, the sample size is n=24: Years 1995-2019\n",
    "For the 'budget' dataset, the sample size is n=25: Years 1995-2020"
   ]
  },
  {
   "cell_type": "markdown",
   "metadata": {},
   "source": [
    "<div class=\"alert alert-block alert-success\"><b>Step 8 (2 pts)</b>: Describe how the data was collected. For example, is this a random sample? Are sampling weights used with the data?</div>"
   ]
  },
  {
   "cell_type": "markdown",
   "metadata": {},
   "source": [
    "This data was collected and curated manually by me. The 'crime' dataset only includes years 1995-2019 because those were the years reported successfully by the FBI. The 'budget' dataset only includes years 1995-2020 because we want data to compare to the 'crime' dataset. Each row (year) was collected in a separate report (table or pdf) to be added to a customly curated csv file. \n",
    "\n",
    "Sampling weights that must be added are inflation values for the years 1995-2020 in order to standardize the value of currency across each year. And per capita values for both crime and budget to take into account the change in population each year."
   ]
  },
  {
   "cell_type": "markdown",
   "metadata": {},
   "source": [
    "<div class=\"alert alert-block alert-success\"><b>Step 9 (4 pts)</b>: In the Project Proposal assignment you used the info(&nbsp;) method to inspect the variables, their data types, and the number of non-null values. Using that information as a guide, provide definitions of each of your variables and their corresponding data types, i.e. a data dictionary. Also indicate which variables will be used for your purposes.</div>"
   ]
  },
  {
   "cell_type": "code",
   "execution_count": 9,
   "metadata": {},
   "outputs": [
    {
     "data": {
      "text/html": [
       "<div>\n",
       "<style scoped>\n",
       "    .dataframe tbody tr th:only-of-type {\n",
       "        vertical-align: middle;\n",
       "    }\n",
       "\n",
       "    .dataframe tbody tr th {\n",
       "        vertical-align: top;\n",
       "    }\n",
       "\n",
       "    .dataframe thead th {\n",
       "        text-align: right;\n",
       "    }\n",
       "</style>\n",
       "<table border=\"1\" class=\"dataframe\">\n",
       "  <thead>\n",
       "    <tr style=\"text-align: right;\">\n",
       "      <th></th>\n",
       "      <th>Variable</th>\n",
       "      <th>Data Type</th>\n",
       "      <th>Definition</th>\n",
       "    </tr>\n",
       "  </thead>\n",
       "  <tbody>\n",
       "    <tr>\n",
       "      <th>0</th>\n",
       "      <td>Year</td>\n",
       "      <td>int64</td>\n",
       "      <td>The year in which crime data was recorded</td>\n",
       "    </tr>\n",
       "    <tr>\n",
       "      <th>1</th>\n",
       "      <td>Population</td>\n",
       "      <td>int64</td>\n",
       "      <td>The population of citizens that live in the Ci...</td>\n",
       "    </tr>\n",
       "    <tr>\n",
       "      <th>2</th>\n",
       "      <td>Violent_Crime_Total</td>\n",
       "      <td>float64</td>\n",
       "      <td>The number of violent crime offences in the Ci...</td>\n",
       "    </tr>\n",
       "    <tr>\n",
       "      <th>3</th>\n",
       "      <td>Property_Crime_Total</td>\n",
       "      <td>int64</td>\n",
       "      <td>The number of property crime offences i the Ci...</td>\n",
       "    </tr>\n",
       "    <tr>\n",
       "      <th>4</th>\n",
       "      <td>Violent_Crime_PC</td>\n",
       "      <td>float64</td>\n",
       "      <td>Violent crime per capita - 100,000 (Violent Cr...</td>\n",
       "    </tr>\n",
       "    <tr>\n",
       "      <th>5</th>\n",
       "      <td>Property_Crime_PC</td>\n",
       "      <td>float64</td>\n",
       "      <td>Property crime per capita - 100,000 (Property ...</td>\n",
       "    </tr>\n",
       "  </tbody>\n",
       "</table>\n",
       "</div>"
      ],
      "text/plain": [
       "               Variable Data Type  \\\n",
       "0                  Year     int64   \n",
       "1            Population     int64   \n",
       "2   Violent_Crime_Total   float64   \n",
       "3  Property_Crime_Total     int64   \n",
       "4      Violent_Crime_PC   float64   \n",
       "5     Property_Crime_PC   float64   \n",
       "\n",
       "                                          Definition  \n",
       "0          The year in which crime data was recorded  \n",
       "1  The population of citizens that live in the Ci...  \n",
       "2  The number of violent crime offences in the Ci...  \n",
       "3  The number of property crime offences i the Ci...  \n",
       "4  Violent crime per capita - 100,000 (Violent Cr...  \n",
       "5  Property crime per capita - 100,000 (Property ...  "
      ]
     },
     "execution_count": 9,
     "metadata": {},
     "output_type": "execute_result"
    }
   ],
   "source": [
    "#Data Dictionary for 'crime' dataset (n=25)\n",
    "data = {'Variable':  ['Year','Population', 'Violent_Crime_Total', 'Property_Crime_Total', 'Violent_Crime_PC', 'Property_Crime_PC'],\n",
    "        'Data Type': ['int64','int64','float64','int64','float64','float64'],\n",
    "        'Definition': ['The year in which crime data was recorded',\n",
    "                       'The population of citizens that live in the City of Chicago',\n",
    "                       'The number of violent crime offences in the City of Chicago (encompasses murder and nonnegligent manslaughter, rape, robbery, and aggravated assault)',\n",
    "                       'The number of property crime offences i the City of Chicago (encompasses burglary, larceny-theft, motor vehicle theft, and arson (of which, larceny-theft makes up the majority))',\n",
    "                       'Violent crime per capita - 100,000 (Violent Crime divided by Population)',\n",
    "                       'Property crime per capita - 100,000 (Property Crime divided by Population)']\n",
    "        }\n",
    "dd_crime = pd.DataFrame (data, columns = ['Variable', 'Data Type', 'Definition'])\n",
    "dd_crime"
   ]
  },
  {
   "cell_type": "markdown",
   "metadata": {},
   "source": [
    "Note: The 2 per capita variables are derivatives of other variables that have not been created yet. Only the per capita variables will be used in analysis. The other variables will be used to calculate the relevant columns."
   ]
  },
  {
   "cell_type": "code",
   "execution_count": 10,
   "metadata": {},
   "outputs": [
    {
     "data": {
      "text/html": [
       "<div>\n",
       "<style scoped>\n",
       "    .dataframe tbody tr th:only-of-type {\n",
       "        vertical-align: middle;\n",
       "    }\n",
       "\n",
       "    .dataframe tbody tr th {\n",
       "        vertical-align: top;\n",
       "    }\n",
       "\n",
       "    .dataframe thead th {\n",
       "        text-align: right;\n",
       "    }\n",
       "</style>\n",
       "<table border=\"1\" class=\"dataframe\">\n",
       "  <thead>\n",
       "    <tr style=\"text-align: right;\">\n",
       "      <th></th>\n",
       "      <th>Variable</th>\n",
       "      <th>Data Type</th>\n",
       "      <th>Definition</th>\n",
       "    </tr>\n",
       "  </thead>\n",
       "  <tbody>\n",
       "    <tr>\n",
       "      <th>0</th>\n",
       "      <td>Year</td>\n",
       "      <td>int64</td>\n",
       "      <td>The year in which a City of Chicago budget was...</td>\n",
       "    </tr>\n",
       "    <tr>\n",
       "      <th>1</th>\n",
       "      <td>Corporate Fund</td>\n",
       "      <td>int64</td>\n",
       "      <td>The total allowance of money in the Corporate ...</td>\n",
       "    </tr>\n",
       "    <tr>\n",
       "      <th>2</th>\n",
       "      <td>Police Budget</td>\n",
       "      <td>int64</td>\n",
       "      <td>The total allowance of money from the Corporat...</td>\n",
       "    </tr>\n",
       "    <tr>\n",
       "      <th>3</th>\n",
       "      <td>inflation</td>\n",
       "      <td>float64</td>\n",
       "      <td>The rate of inflation</td>\n",
       "    </tr>\n",
       "    <tr>\n",
       "      <th>4</th>\n",
       "      <td>Corporate_Fund_Total</td>\n",
       "      <td>float64</td>\n",
       "      <td>The Corporate Fund adjusted for inflation</td>\n",
       "    </tr>\n",
       "    <tr>\n",
       "      <th>5</th>\n",
       "      <td>Police_Budget_Total</td>\n",
       "      <td>float64</td>\n",
       "      <td>The Police Budget adjusted for inflation</td>\n",
       "    </tr>\n",
       "    <tr>\n",
       "      <th>6</th>\n",
       "      <td>Corporate_Fund_PC</td>\n",
       "      <td>float64</td>\n",
       "      <td>The Corporate Fund adjusted for inflation and ...</td>\n",
       "    </tr>\n",
       "    <tr>\n",
       "      <th>7</th>\n",
       "      <td>Police_Budget_PC</td>\n",
       "      <td>float64</td>\n",
       "      <td>The Police Budget adjusted for inflation and p...</td>\n",
       "    </tr>\n",
       "    <tr>\n",
       "      <th>8</th>\n",
       "      <td>Percent_CPD</td>\n",
       "      <td>float64</td>\n",
       "      <td>The percentage of the Corporate Fund allocated...</td>\n",
       "    </tr>\n",
       "  </tbody>\n",
       "</table>\n",
       "</div>"
      ],
      "text/plain": [
       "               Variable Data Type  \\\n",
       "0                  Year     int64   \n",
       "1        Corporate Fund     int64   \n",
       "2         Police Budget     int64   \n",
       "3             inflation   float64   \n",
       "4  Corporate_Fund_Total   float64   \n",
       "5   Police_Budget_Total   float64   \n",
       "6     Corporate_Fund_PC   float64   \n",
       "7      Police_Budget_PC   float64   \n",
       "8           Percent_CPD   float64   \n",
       "\n",
       "                                          Definition  \n",
       "0  The year in which a City of Chicago budget was...  \n",
       "1  The total allowance of money in the Corporate ...  \n",
       "2  The total allowance of money from the Corporat...  \n",
       "3                              The rate of inflation  \n",
       "4          The Corporate Fund adjusted for inflation  \n",
       "5           The Police Budget adjusted for inflation  \n",
       "6  The Corporate Fund adjusted for inflation and ...  \n",
       "7  The Police Budget adjusted for inflation and p...  \n",
       "8  The percentage of the Corporate Fund allocated...  "
      ]
     },
     "execution_count": 10,
     "metadata": {},
     "output_type": "execute_result"
    }
   ],
   "source": [
    "#Data Dictionary for 'budget' dataset (n=26)\n",
    "data = {'Variable':  ['Year','Corporate Fund', 'Police Budget', 'inflation', 'Corporate_Fund_Total', 'Police_Budget_Total', 'Corporate_Fund_PC', 'Police_Budget_PC','Percent_CPD'],\n",
    "        'Data Type': ['int64','int64','int64','float64','float64','float64','float64','float64','float64'],\n",
    "        'Definition': ['The year in which a City of Chicago budget was proposed',\n",
    "                       'The total allowance of money in the Corporate Fund',\n",
    "                       'The total allowance of money from the Corporate Fund allocated to CPD',\n",
    "                       'The rate of inflation',\n",
    "                       'The Corporate Fund adjusted for inflation',\n",
    "                       'The Police Budget adjusted for inflation',\n",
    "                       'The Corporate Fund adjusted for inflation and per capita - 100,000 (alias: corporate_fund_2)',\n",
    "                       'The Police Budget adjusted for inflation and per capita - 100,000 (alias: cpd_budget_2)',\n",
    "                       'The percentage of the Corporate Fund allocated to Police spending.']\n",
    "        }\n",
    "dd_crime = pd.DataFrame (data, columns = ['Variable', 'Data Type', 'Definition'])\n",
    "dd_crime"
   ]
  },
  {
   "cell_type": "markdown",
   "metadata": {},
   "source": [
    "Note: inflation will be a variable added to the dataset. c_fund_inf, cpd_budget_inf, c_fund_inf_pc (corporate_fund_2), cpd_budget_inf_pc (cpd_budget_2), and percent_cpd are derivatives of other variabels. Only variables adjusted for inflation and per capita will be used in analysis. The other variables will be used to calculate the relevant columns."
   ]
  },
  {
   "cell_type": "markdown",
   "metadata": {},
   "source": [
    "<div class=\"alert alert-block alert-success\"><b>Step 10 (10 pts)</b>: For full credit in this problem you'll want to <i><u>take all necessary steps to report on the quality of the data</u></i> and <i><u>clean the data accordingly</u></i>. Some things to consider while doing this are listed below. <b>Depending on your data and goals, there may be additional steps needed than those listed here.</b>\n",
    "    \n",
    "1. Are there rows with missing or inconsistent values? If so, eliminate those rows from your data where appropriate.\n",
    "2. Are there any outliers or duplicate rows? If so, eliminate those rows from your data where appropriate. \n",
    "At each stage of cleaning the data, state how many rows were eliminated.\n",
    "3. Are you using all columns (variables) in the data? If not, are you eliminating those columns?\n",
    "4. Consider some type of visual display such as a boxplot to determine any outliers. Do any outliers need removed? If so, how many were removed?\n",
    "\n",
    "At each stage of cleaning the data, state how many rows were eliminated. <b><u><i>It is good practice to get the shape of the data before and after each step in cleaning the data and add typed explanations (in separate markdown cells) of the steps taken to clean the data.</i></u></b><br></div>\n",
    "    \n",
    "<div class=\"alert alert-block alert-info\">Include the rest of your work below and insert cells where needed.</div>"
   ]
  },
  {
   "cell_type": "markdown",
   "metadata": {},
   "source": [
    "## 1. Missing/Inconsistent Value\n",
    "All data was hand curated from different datasets before combining into a single csv. There are no missing values in the 'budget' dataset. There is one missing value in the 'crime' dataset where violent crime was not reported. The missing value will not affect the analysis, and the value for property crime that year will be used so, there is no need to delete the data point."
   ]
  },
  {
   "cell_type": "code",
   "execution_count": 11,
   "metadata": {},
   "outputs": [
    {
     "data": {
      "text/html": [
       "<div>\n",
       "<style scoped>\n",
       "    .dataframe tbody tr th:only-of-type {\n",
       "        vertical-align: middle;\n",
       "    }\n",
       "\n",
       "    .dataframe tbody tr th {\n",
       "        vertical-align: top;\n",
       "    }\n",
       "\n",
       "    .dataframe thead th {\n",
       "        text-align: right;\n",
       "    }\n",
       "</style>\n",
       "<table border=\"1\" class=\"dataframe\">\n",
       "  <thead>\n",
       "    <tr style=\"text-align: right;\">\n",
       "      <th></th>\n",
       "      <th>Year</th>\n",
       "      <th>Population</th>\n",
       "      <th>Violent Crime</th>\n",
       "      <th>Property Crime</th>\n",
       "    </tr>\n",
       "  </thead>\n",
       "  <tbody>\n",
       "    <tr>\n",
       "      <th>0</th>\n",
       "      <td>2020</td>\n",
       "      <td>NaN</td>\n",
       "      <td>NaN</td>\n",
       "      <td>NaN</td>\n",
       "    </tr>\n",
       "    <tr>\n",
       "      <th>9</th>\n",
       "      <td>2011</td>\n",
       "      <td>2703713.0</td>\n",
       "      <td>NaN</td>\n",
       "      <td>118239.0</td>\n",
       "    </tr>\n",
       "  </tbody>\n",
       "</table>\n",
       "</div>"
      ],
      "text/plain": [
       "   Year  Population  Violent Crime  Property Crime\n",
       "0  2020         NaN            NaN             NaN\n",
       "9  2011   2703713.0            NaN        118239.0"
      ]
     },
     "execution_count": 11,
     "metadata": {},
     "output_type": "execute_result"
    }
   ],
   "source": [
    "#Crime returns 2011 where Violent Crime is not reported. We keep this value becuase Property Crime is reported.\n",
    "#We also keep 2020 as an empty year as a placeholder for calculation purposes and creation of future variables. It will not be used in analysis.\n",
    "crime[crime.isnull().any(axis=1)]"
   ]
  },
  {
   "cell_type": "code",
   "execution_count": 12,
   "metadata": {},
   "outputs": [
    {
     "data": {
      "text/html": [
       "<div>\n",
       "<style scoped>\n",
       "    .dataframe tbody tr th:only-of-type {\n",
       "        vertical-align: middle;\n",
       "    }\n",
       "\n",
       "    .dataframe tbody tr th {\n",
       "        vertical-align: top;\n",
       "    }\n",
       "\n",
       "    .dataframe thead th {\n",
       "        text-align: right;\n",
       "    }\n",
       "</style>\n",
       "<table border=\"1\" class=\"dataframe\">\n",
       "  <thead>\n",
       "    <tr style=\"text-align: right;\">\n",
       "      <th></th>\n",
       "      <th>Year</th>\n",
       "      <th>Corporate Fund</th>\n",
       "      <th>Police Budget</th>\n",
       "    </tr>\n",
       "  </thead>\n",
       "  <tbody>\n",
       "  </tbody>\n",
       "</table>\n",
       "</div>"
      ],
      "text/plain": [
       "Empty DataFrame\n",
       "Columns: [Year, Corporate Fund, Police Budget]\n",
       "Index: []"
      ]
     },
     "execution_count": 12,
     "metadata": {},
     "output_type": "execute_result"
    }
   ],
   "source": [
    "#This returns no values, because there are no null values in the 'budget' dataset\n",
    "budget[budget.isnull().any(axis=1)]"
   ]
  },
  {
   "cell_type": "markdown",
   "metadata": {},
   "source": [
    "## 2. Duplicates\n",
    "Because the dataset was handcurated and each row was taken from a different table/report, there should be no duplicate values. We will analyze for outliers in part 4."
   ]
  },
  {
   "cell_type": "code",
   "execution_count": 13,
   "metadata": {},
   "outputs": [
    {
     "data": {
      "text/plain": [
       "False"
      ]
     },
     "execution_count": 13,
     "metadata": {},
     "output_type": "execute_result"
    }
   ],
   "source": [
    "crime['Year'].duplicated().any() #returns False: there are no duplicate years in the 'crime' dataset"
   ]
  },
  {
   "cell_type": "code",
   "execution_count": 14,
   "metadata": {},
   "outputs": [
    {
     "data": {
      "text/plain": [
       "False"
      ]
     },
     "execution_count": 14,
     "metadata": {},
     "output_type": "execute_result"
    }
   ],
   "source": [
    "budget['Year'].duplicated().any() #returns False: there are no duplicate years in the 'budget' dataset"
   ]
  },
  {
   "cell_type": "markdown",
   "metadata": {},
   "source": [
    "## 3. Column Selection\n",
    "Because the dataset was handcurated and each row was taken from a different table/report, all columns will be utilized in either the analysis or the creation of additional columns (referenced in the data dictionary)."
   ]
  },
  {
   "cell_type": "markdown",
   "metadata": {},
   "source": [
    "## 4. Outliers\n",
    "All numeric variables (aside from year) are analyzed below. Of the 5 columns and 2 datasets, there is only 1 outlier."
   ]
  },
  {
   "cell_type": "code",
   "execution_count": 15,
   "metadata": {},
   "outputs": [
    {
     "data": {
      "text/plain": [
       "<matplotlib.axes._subplots.AxesSubplot at 0x7fa507a3ee50>"
      ]
     },
     "execution_count": 15,
     "metadata": {},
     "output_type": "execute_result"
    },
    {
     "data": {
      "image/png": "[encoded data removed]",
      "text/plain": [
       "<Figure size 432x288 with 1 Axes>"
      ]
     },
     "metadata": {
      "needs_background": "light"
     },
     "output_type": "display_data"
    }
   ],
   "source": [
    "crime.boxplot(column = 'Population') #no outliers"
   ]
  },
  {
   "cell_type": "code",
   "execution_count": 16,
   "metadata": {},
   "outputs": [
    {
     "data": {
      "text/plain": [
       "<matplotlib.axes._subplots.AxesSubplot at 0x7fa507aeca90>"
      ]
     },
     "execution_count": 16,
     "metadata": {},
     "output_type": "execute_result"
    },
    {
     "data": {
      "image/png": "[encoded data removed]",
      "text/plain": [
       "<Figure size 432x288 with 1 Axes>"
      ]
     },
     "metadata": {
      "needs_background": "light"
     },
     "output_type": "display_data"
    }
   ],
   "source": [
    "crime.boxplot(column = 'Violent Crime') #1 outlier, "
   ]
  },
  {
   "cell_type": "code",
   "execution_count": 17,
   "metadata": {},
   "outputs": [
    {
     "data": {
      "text/plain": [
       "<matplotlib.axes._subplots.AxesSubplot at 0x7fa507bd6850>"
      ]
     },
     "execution_count": 17,
     "metadata": {},
     "output_type": "execute_result"
    },
    {
     "data": {
      "image/png": "[encoded data removed]",
      "text/plain": [
       "<Figure size 432x288 with 1 Axes>"
      ]
     },
     "metadata": {
      "needs_background": "light"
     },
     "output_type": "display_data"
    }
   ],
   "source": [
    "crime.boxplot(column = 'Property Crime') # no outliers"
   ]
  },
  {
   "cell_type": "code",
   "execution_count": 18,
   "metadata": {},
   "outputs": [
    {
     "data": {
      "text/plain": [
       "<matplotlib.axes._subplots.AxesSubplot at 0x7fa507bd8220>"
      ]
     },
     "execution_count": 18,
     "metadata": {},
     "output_type": "execute_result"
    },
    {
     "data": {
      "image/png": "[encoded data removed]",
      "text/plain": [
       "<Figure size 432x288 with 1 Axes>"
      ]
     },
     "metadata": {
      "needs_background": "light"
     },
     "output_type": "display_data"
    }
   ],
   "source": [
    "budget.boxplot(column = 'Corporate Fund') # no outliers"
   ]
  },
  {
   "cell_type": "code",
   "execution_count": 19,
   "metadata": {},
   "outputs": [
    {
     "data": {
      "text/plain": [
       "<matplotlib.axes._subplots.AxesSubplot at 0x7fa507d61a90>"
      ]
     },
     "execution_count": 19,
     "metadata": {},
     "output_type": "execute_result"
    },
    {
     "data": {
      "image/png": "[encoded data removed]",
      "text/plain": [
       "<Figure size 432x288 with 1 Axes>"
      ]
     },
     "metadata": {
      "needs_background": "light"
     },
     "output_type": "display_data"
    }
   ],
   "source": [
    "budget.boxplot(column = 'Police Budget') # no outliers"
   ]
  },
  {
   "cell_type": "code",
   "execution_count": 20,
   "metadata": {},
   "outputs": [
    {
     "data": {
      "text/html": [
       "<div>\n",
       "<style scoped>\n",
       "    .dataframe tbody tr th:only-of-type {\n",
       "        vertical-align: middle;\n",
       "    }\n",
       "\n",
       "    .dataframe tbody tr th {\n",
       "        vertical-align: top;\n",
       "    }\n",
       "\n",
       "    .dataframe thead th {\n",
       "        text-align: right;\n",
       "    }\n",
       "</style>\n",
       "<table border=\"1\" class=\"dataframe\">\n",
       "  <thead>\n",
       "    <tr style=\"text-align: right;\">\n",
       "      <th></th>\n",
       "      <th>Year</th>\n",
       "      <th>Population</th>\n",
       "      <th>Violent Crime</th>\n",
       "      <th>Property Crime</th>\n",
       "    </tr>\n",
       "  </thead>\n",
       "  <tbody>\n",
       "    <tr>\n",
       "      <th>25</th>\n",
       "      <td>1995</td>\n",
       "      <td>2749881.0</td>\n",
       "      <td>73014.0</td>\n",
       "      <td>199164.0</td>\n",
       "    </tr>\n",
       "  </tbody>\n",
       "</table>\n",
       "</div>"
      ],
      "text/plain": [
       "    Year  Population  Violent Crime  Property Crime\n",
       "25  1995   2749881.0        73014.0        199164.0"
      ]
     },
     "execution_count": 20,
     "metadata": {},
     "output_type": "execute_result"
    }
   ],
   "source": [
    "#Violent Crime is the only column with in outlier\n",
    "crime[crime['Violent Crime'] > 70000]"
   ]
  },
  {
   "cell_type": "markdown",
   "metadata": {},
   "source": [
    "Although this value is identified as an outlier, it is the earlierst year of data with the largest Violent Crime value. It is only 6,000 off from the next value which relatively is not far off. We will not be removing this value because it provides a solid baseline of what violent crime looked like in 1995."
   ]
  },
  {
   "cell_type": "markdown",
   "metadata": {},
   "source": [
    "## 5. Adding Additional Columns\n",
    "We must add 2 calculated variables in the 'crime' dataset, and 6 calculated variables in the 'budget' dataset."
   ]
  },
  {
   "cell_type": "code",
   "execution_count": 21,
   "metadata": {},
   "outputs": [],
   "source": [
    "#creating clean 'crime' dataset\n",
    "crime_clean = pd.DataFrame()\n",
    "crime_clean['Year'] = crime['Year']\n",
    "crime_clean['Population'] = crime['Population']\n",
    "crime_clean['Violent_Crime_Total'] = crime['Violent Crime']\n",
    "crime_clean['Property_Crime_Total'] = crime['Property Crime']\n",
    "crime_clean['Violent_Crime_PC'] = crime['Violent Crime'] / crime['Population'] * 100000 #per Capita = per 100,000\n",
    "crime_clean['Property_Crime_PC'] = crime['Property Crime'] / crime['Population'] * 100000 #per Capita = per 100,000\n",
    "\n",
    "#view the data\n",
    "crime_clean.head()\n",
    "\n",
    "crime_clean.to_excel(r'/Users/kagenquiballo/Desktop/crime_clean.xlsx', index = False)"
   ]
  },
  {
   "cell_type": "code",
   "execution_count": 22,
   "metadata": {},
   "outputs": [],
   "source": [
    "#creating clean 'budget' dataset\n",
    "budget_clean = pd.DataFrame()\n",
    "budget_clean['Year'] = budget['Year']\n",
    "#value of $1 USD in 2020:\n",
    "budget_clean['Inflation'] = (1,1.02,1.04,1.06,1.08,1.10,1.10,1.12,1.13,1.16,1.19,1.21,1.21,1.26,1.29,1.33,1.38,1.41,1.45,1.47,1.51,1.56,1.60,1.62,1.66,1.71)\n",
    "#adjust Corporate Fund and Police Budget for Inflation\n",
    "budget_clean['Corporate_Fund_Total'] = budget['Corporate Fund'] * budget_clean['Inflation']\n",
    "budget_clean['Police_Budget_Total'] = budget['Police Budget'] * budget_clean['Inflation']\n",
    "#adjust for population\n",
    "budget_clean['Corporate_Fund_PC'] = budget_clean['Corporate_Fund_Total'] / crime['Population']\n",
    "budget_clean['Police_Budget_PC'] = budget_clean['Police_Budget_Total'] / crime['Population']\n",
    "\n",
    "budget_clean['Percent_CPD'] = budget_clean['Police_Budget_Total'] / budget_clean['Corporate_Fund_Total']\n",
    "\n",
    "#view the data\n",
    "budget_clean.head()\n",
    "\n",
    "budget_clean.to_excel(r'/Users/kagenquiballo/Desktop/budget_clean.xlsx', index = False)"
   ]
  },
  {
   "cell_type": "markdown",
   "metadata": {},
   "source": [
    "<div class=\"alert alert-block alert-danger\"><b>STOP HERE for your EDA Phase 1 assignment. Submit your <i><u>cleaned</u></i> data file along with the completed notebook up to this point for grading.</b></div>"
   ]
  },
  {
   "cell_type": "markdown",
   "metadata": {},
   "source": [
    "# EDA Phase 2"
   ]
  },
  {
   "cell_type": "markdown",
   "metadata": {},
   "source": [
    "<div class=\"alert alert-block alert-info\">All of your work for the EDA Phase 2 assignment will begin below here. Refer to the detailed instructions and expectations for this assignment in Canvas.</div>"
   ]
  },
  {
   "cell_type": "markdown",
   "metadata": {},
   "source": [
    "In the EDA Phase 1 assignment, the necessary steps were taken to prepare your data for analysis. The EDA Phase 2 assignment will consist of performing your analysis of the data related to your goals/plans for the EDA project. Using the completed notebook from Phase 1, complete your analysis of the data based on the guidelines listed below.\n",
    "\n",
    "To earn full credit on this assignment, you must complete (at a minimum) the following:\n",
    "\n",
    "- Begin by exploring and analyzing your data.\n",
    "- Note any assumptions and hypotheses you wish to make about the data through (mathematical or statistical) computations and visual representations of aspects of your data.\n",
    "- As you discover new facts and patterns in your data you want to make sure to document these in your Jupyter notebook itself.\n",
    "- You will need to explain the purpose of all the calculations you perform and graphs you generate rather than simply supplying the calculations and graphs. \n",
    "- You also need to interpret the results of your calculations and elaborate on what your graphs are telling you about the data. In particular, you should not let your code and its output “speak for itself”.\n",
    "- Keep in mind that EDA is an iterative process. The results of your explorations can lead to refinements of your assumptions and hypotheses as well the creation of new assumptions and hypotheses thereby necessitating further exploration. Jupyter notebook is an ideal environment to document this journey.\n",
    "\n",
    "Once you’ve completed your analysis, submit your completed notebook and your html file for grading."
   ]
  },
  {
   "cell_type": "markdown",
   "metadata": {},
   "source": [
    "## Part 1: Analysis of Crime and Percent Change over time\n",
    "\n",
    "In this section we will analyze how violent crime and property crime have changed from 1995 to 2020. When analyzing the crime counts, we will pay attention to which years have significant increases or decreases and why. When analyzing percent change in crime, we will pay attention to signficant large and small percentage changes and why. \n",
    "\n",
    "### Hypothesis and Assumptions:\n",
    "We hypothesize that in recent years, the percent change in crime is not as effective "
   ]
  },
  {
   "cell_type": "code",
   "execution_count": 23,
   "metadata": {},
   "outputs": [
    {
     "data": {
      "text/html": [
       "<div>\n",
       "<style scoped>\n",
       "    .dataframe tbody tr th:only-of-type {\n",
       "        vertical-align: middle;\n",
       "    }\n",
       "\n",
       "    .dataframe tbody tr th {\n",
       "        vertical-align: top;\n",
       "    }\n",
       "\n",
       "    .dataframe thead th {\n",
       "        text-align: right;\n",
       "    }\n",
       "</style>\n",
       "<table border=\"1\" class=\"dataframe\">\n",
       "  <thead>\n",
       "    <tr style=\"text-align: right;\">\n",
       "      <th></th>\n",
       "      <th>Year</th>\n",
       "      <th>Population</th>\n",
       "      <th>Violent_Crime_Total</th>\n",
       "      <th>Property_Crime_Total</th>\n",
       "      <th>Violent_Crime_PC</th>\n",
       "      <th>Property_Crime_PC</th>\n",
       "      <th>Inflation</th>\n",
       "      <th>Corporate_Fund_Total</th>\n",
       "      <th>Police_Budget_Total</th>\n",
       "      <th>Corporate_Fund_PC</th>\n",
       "      <th>Police_Budget_PC</th>\n",
       "      <th>Percent_CPD</th>\n",
       "      <th>Violent_Crime_Total_Change</th>\n",
       "      <th>Violent_Crime_PC_Change</th>\n",
       "      <th>Property_Crime_Total_Change</th>\n",
       "      <th>Property_Crime_PC_Change</th>\n",
       "    </tr>\n",
       "  </thead>\n",
       "  <tbody>\n",
       "    <tr>\n",
       "      <th>25</th>\n",
       "      <td>1995</td>\n",
       "      <td>2749881.0</td>\n",
       "      <td>73014.0</td>\n",
       "      <td>199164.0</td>\n",
       "      <td>2655.169442</td>\n",
       "      <td>7242.640682</td>\n",
       "      <td>1.71</td>\n",
       "      <td>3.168582e+09</td>\n",
       "      <td>1.365580e+09</td>\n",
       "      <td>1152.261541</td>\n",
       "      <td>496.595937</td>\n",
       "      <td>0.430975</td>\n",
       "      <td>NaN</td>\n",
       "      <td>NaN</td>\n",
       "      <td>NaN</td>\n",
       "      <td>NaN</td>\n",
       "    </tr>\n",
       "    <tr>\n",
       "      <th>24</th>\n",
       "      <td>1996</td>\n",
       "      <td>2754118.0</td>\n",
       "      <td>67498.0</td>\n",
       "      <td>195618.0</td>\n",
       "      <td>2450.802762</td>\n",
       "      <td>7102.745779</td>\n",
       "      <td>1.66</td>\n",
       "      <td>3.180934e+09</td>\n",
       "      <td>1.308238e+09</td>\n",
       "      <td>1154.973570</td>\n",
       "      <td>475.011689</td>\n",
       "      <td>0.411275</td>\n",
       "      <td>-8.172094</td>\n",
       "      <td>-8.338765</td>\n",
       "      <td>-1.812717</td>\n",
       "      <td>-1.969589</td>\n",
       "    </tr>\n",
       "    <tr>\n",
       "      <th>23</th>\n",
       "      <td>1997</td>\n",
       "      <td>2765852.0</td>\n",
       "      <td>65112.0</td>\n",
       "      <td>195392.0</td>\n",
       "      <td>2354.138978</td>\n",
       "      <td>7064.441626</td>\n",
       "      <td>1.62</td>\n",
       "      <td>3.299020e+09</td>\n",
       "      <td>1.355608e+09</td>\n",
       "      <td>1192.768144</td>\n",
       "      <td>490.123043</td>\n",
       "      <td>0.410912</td>\n",
       "      <td>-3.664455</td>\n",
       "      <td>-4.106121</td>\n",
       "      <td>-0.115665</td>\n",
       "      <td>-0.542211</td>\n",
       "    </tr>\n",
       "    <tr>\n",
       "      <th>22</th>\n",
       "      <td>1998</td>\n",
       "      <td>2750917.0</td>\n",
       "      <td>62947.0</td>\n",
       "      <td>190661.0</td>\n",
       "      <td>2288.218801</td>\n",
       "      <td>6930.816161</td>\n",
       "      <td>1.60</td>\n",
       "      <td>3.343904e+09</td>\n",
       "      <td>1.399676e+09</td>\n",
       "      <td>1215.559757</td>\n",
       "      <td>508.803599</td>\n",
       "      <td>0.418576</td>\n",
       "      <td>-3.439401</td>\n",
       "      <td>-2.880851</td>\n",
       "      <td>-2.481367</td>\n",
       "      <td>-1.927990</td>\n",
       "    </tr>\n",
       "    <tr>\n",
       "      <th>21</th>\n",
       "      <td>1999</td>\n",
       "      <td>2821032.0</td>\n",
       "      <td>50522.0</td>\n",
       "      <td>174798.0</td>\n",
       "      <td>1790.904889</td>\n",
       "      <td>6196.243077</td>\n",
       "      <td>1.56</td>\n",
       "      <td>3.377210e+09</td>\n",
       "      <td>1.415081e+09</td>\n",
       "      <td>1197.153978</td>\n",
       "      <td>501.618327</td>\n",
       "      <td>0.419009</td>\n",
       "      <td>-24.593247</td>\n",
       "      <td>-27.768862</td>\n",
       "      <td>-9.075047</td>\n",
       "      <td>-11.855137</td>\n",
       "    </tr>\n",
       "    <tr>\n",
       "      <th>20</th>\n",
       "      <td>2000</td>\n",
       "      <td>2866191.0</td>\n",
       "      <td>48499.0</td>\n",
       "      <td>170805.0</td>\n",
       "      <td>1692.106353</td>\n",
       "      <td>5959.302782</td>\n",
       "      <td>1.51</td>\n",
       "      <td>3.469123e+09</td>\n",
       "      <td>1.374042e+09</td>\n",
       "      <td>1210.360186</td>\n",
       "      <td>479.396502</td>\n",
       "      <td>0.396078</td>\n",
       "      <td>-4.171220</td>\n",
       "      <td>-5.838790</td>\n",
       "      <td>-2.337754</td>\n",
       "      <td>-3.975973</td>\n",
       "    </tr>\n",
       "    <tr>\n",
       "      <th>19</th>\n",
       "      <td>2001</td>\n",
       "      <td>2910709.0</td>\n",
       "      <td>46592.0</td>\n",
       "      <td>152160.0</td>\n",
       "      <td>1600.709655</td>\n",
       "      <td>5227.592315</td>\n",
       "      <td>1.47</td>\n",
       "      <td>3.589233e+09</td>\n",
       "      <td>1.350399e+09</td>\n",
       "      <td>1233.112912</td>\n",
       "      <td>463.941438</td>\n",
       "      <td>0.376236</td>\n",
       "      <td>-4.092977</td>\n",
       "      <td>-5.709761</td>\n",
       "      <td>-12.253549</td>\n",
       "      <td>-13.997084</td>\n",
       "    </tr>\n",
       "    <tr>\n",
       "      <th>18</th>\n",
       "      <td>2002</td>\n",
       "      <td>2938299.0</td>\n",
       "      <td>46157.0</td>\n",
       "      <td>148199.0</td>\n",
       "      <td>1570.874850</td>\n",
       "      <td>5043.700454</td>\n",
       "      <td>1.45</td>\n",
       "      <td>3.617324e+09</td>\n",
       "      <td>1.462070e+09</td>\n",
       "      <td>1231.094487</td>\n",
       "      <td>497.590580</td>\n",
       "      <td>0.404186</td>\n",
       "      <td>-0.942436</td>\n",
       "      <td>-1.899248</td>\n",
       "      <td>-2.672758</td>\n",
       "      <td>-3.645971</td>\n",
       "    </tr>\n",
       "    <tr>\n",
       "      <th>17</th>\n",
       "      <td>2003</td>\n",
       "      <td>2898374.0</td>\n",
       "      <td>39528.0</td>\n",
       "      <td>144622.0</td>\n",
       "      <td>1363.799151</td>\n",
       "      <td>4989.763226</td>\n",
       "      <td>1.41</td>\n",
       "      <td>3.556585e+09</td>\n",
       "      <td>1.470953e+09</td>\n",
       "      <td>1227.096706</td>\n",
       "      <td>507.509609</td>\n",
       "      <td>0.413586</td>\n",
       "      <td>-16.770391</td>\n",
       "      <td>-15.183739</td>\n",
       "      <td>-2.473344</td>\n",
       "      <td>-1.080958</td>\n",
       "    </tr>\n",
       "    <tr>\n",
       "      <th>16</th>\n",
       "      <td>2004</td>\n",
       "      <td>2882746.0</td>\n",
       "      <td>36780.0</td>\n",
       "      <td>140602.0</td>\n",
       "      <td>1275.866830</td>\n",
       "      <td>4877.363458</td>\n",
       "      <td>1.38</td>\n",
       "      <td>3.566152e+09</td>\n",
       "      <td>1.436242e+09</td>\n",
       "      <td>1237.067657</td>\n",
       "      <td>498.220116</td>\n",
       "      <td>0.402743</td>\n",
       "      <td>-7.471452</td>\n",
       "      <td>-6.891967</td>\n",
       "      <td>-2.859134</td>\n",
       "      <td>-2.304519</td>\n",
       "    </tr>\n",
       "    <tr>\n",
       "      <th>15</th>\n",
       "      <td>2005</td>\n",
       "      <td>2873441.0</td>\n",
       "      <td>35976.0</td>\n",
       "      <td>131183.0</td>\n",
       "      <td>1252.018051</td>\n",
       "      <td>4565.362574</td>\n",
       "      <td>1.33</td>\n",
       "      <td>3.643284e+09</td>\n",
       "      <td>1.379862e+09</td>\n",
       "      <td>1267.916630</td>\n",
       "      <td>480.212333</td>\n",
       "      <td>0.378741</td>\n",
       "      <td>-2.234823</td>\n",
       "      <td>-1.904827</td>\n",
       "      <td>-7.180046</td>\n",
       "      <td>-6.834088</td>\n",
       "    </tr>\n",
       "    <tr>\n",
       "      <th>14</th>\n",
       "      <td>2006</td>\n",
       "      <td>2857796.0</td>\n",
       "      <td>35335.0</td>\n",
       "      <td>129718.0</td>\n",
       "      <td>1236.442349</td>\n",
       "      <td>4539.092363</td>\n",
       "      <td>1.29</td>\n",
       "      <td>3.726546e+09</td>\n",
       "      <td>1.532232e+09</td>\n",
       "      <td>1303.992850</td>\n",
       "      <td>536.158520</td>\n",
       "      <td>0.411167</td>\n",
       "      <td>-1.814065</td>\n",
       "      <td>-1.259719</td>\n",
       "      <td>-1.129373</td>\n",
       "      <td>-0.578755</td>\n",
       "    </tr>\n",
       "    <tr>\n",
       "      <th>13</th>\n",
       "      <td>2007</td>\n",
       "      <td>2824434.0</td>\n",
       "      <td>34898.0</td>\n",
       "      <td>126298.0</td>\n",
       "      <td>1235.574986</td>\n",
       "      <td>4471.621571</td>\n",
       "      <td>1.26</td>\n",
       "      <td>3.830697e+09</td>\n",
       "      <td>1.538737e+09</td>\n",
       "      <td>1356.270800</td>\n",
       "      <td>544.794802</td>\n",
       "      <td>0.401686</td>\n",
       "      <td>-1.252221</td>\n",
       "      <td>-0.070199</td>\n",
       "      <td>-2.707881</td>\n",
       "      <td>-1.508866</td>\n",
       "    </tr>\n",
       "    <tr>\n",
       "      <th>12</th>\n",
       "      <td>2008</td>\n",
       "      <td>2829304.0</td>\n",
       "      <td>35797.0</td>\n",
       "      <td>131053.0</td>\n",
       "      <td>1265.222825</td>\n",
       "      <td>4631.987231</td>\n",
       "      <td>1.21</td>\n",
       "      <td>3.875645e+09</td>\n",
       "      <td>1.465114e+09</td>\n",
       "      <td>1369.822585</td>\n",
       "      <td>517.835657</td>\n",
       "      <td>0.378031</td>\n",
       "      <td>2.511384</td>\n",
       "      <td>2.343290</td>\n",
       "      <td>3.628303</td>\n",
       "      <td>3.462135</td>\n",
       "    </tr>\n",
       "    <tr>\n",
       "      <th>11</th>\n",
       "      <td>2009</td>\n",
       "      <td>2848431.0</td>\n",
       "      <td>33628.0</td>\n",
       "      <td>120407.0</td>\n",
       "      <td>1180.579765</td>\n",
       "      <td>4227.134166</td>\n",
       "      <td>1.21</td>\n",
       "      <td>3.853849e+09</td>\n",
       "      <td>1.467346e+09</td>\n",
       "      <td>1352.972493</td>\n",
       "      <td>515.141972</td>\n",
       "      <td>0.380748</td>\n",
       "      <td>-6.449982</td>\n",
       "      <td>-7.169618</td>\n",
       "      <td>-8.841679</td>\n",
       "      <td>-9.577483</td>\n",
       "    </tr>\n",
       "    <tr>\n",
       "      <th>10</th>\n",
       "      <td>2010</td>\n",
       "      <td>2833649.0</td>\n",
       "      <td>30550.0</td>\n",
       "      <td>120045.0</td>\n",
       "      <td>1078.115179</td>\n",
       "      <td>4236.410367</td>\n",
       "      <td>1.19</td>\n",
       "      <td>3.783897e+09</td>\n",
       "      <td>1.451095e+09</td>\n",
       "      <td>1335.344127</td>\n",
       "      <td>512.094273</td>\n",
       "      <td>0.383492</td>\n",
       "      <td>-10.075286</td>\n",
       "      <td>-9.504048</td>\n",
       "      <td>-0.301554</td>\n",
       "      <td>0.218964</td>\n",
       "    </tr>\n",
       "    <tr>\n",
       "      <th>9</th>\n",
       "      <td>2011</td>\n",
       "      <td>2703713.0</td>\n",
       "      <td>NaN</td>\n",
       "      <td>118239.0</td>\n",
       "      <td>NaN</td>\n",
       "      <td>4373.208251</td>\n",
       "      <td>1.16</td>\n",
       "      <td>3.775003e+09</td>\n",
       "      <td>1.498661e+09</td>\n",
       "      <td>1396.229215</td>\n",
       "      <td>554.297525</td>\n",
       "      <td>0.396996</td>\n",
       "      <td>NaN</td>\n",
       "      <td>NaN</td>\n",
       "      <td>-1.527415</td>\n",
       "      <td>3.128090</td>\n",
       "    </tr>\n",
       "    <tr>\n",
       "      <th>8</th>\n",
       "      <td>2012</td>\n",
       "      <td>2708382.0</td>\n",
       "      <td>29920.0</td>\n",
       "      <td>112466.0</td>\n",
       "      <td>1104.718611</td>\n",
       "      <td>4152.516152</td>\n",
       "      <td>1.13</td>\n",
       "      <td>3.335879e+09</td>\n",
       "      <td>1.391948e+09</td>\n",
       "      <td>1231.686908</td>\n",
       "      <td>513.940824</td>\n",
       "      <td>0.417266</td>\n",
       "      <td>NaN</td>\n",
       "      <td>NaN</td>\n",
       "      <td>-5.133107</td>\n",
       "      <td>-5.314660</td>\n",
       "    </tr>\n",
       "    <tr>\n",
       "      <th>7</th>\n",
       "      <td>2013</td>\n",
       "      <td>2720554.0</td>\n",
       "      <td>25792.0</td>\n",
       "      <td>95908.0</td>\n",
       "      <td>948.042200</td>\n",
       "      <td>3525.311389</td>\n",
       "      <td>1.12</td>\n",
       "      <td>3.339342e+09</td>\n",
       "      <td>1.400285e+09</td>\n",
       "      <td>1227.449115</td>\n",
       "      <td>514.705997</td>\n",
       "      <td>0.419330</td>\n",
       "      <td>-16.004963</td>\n",
       "      <td>-16.526312</td>\n",
       "      <td>-17.264462</td>\n",
       "      <td>-17.791471</td>\n",
       "    </tr>\n",
       "    <tr>\n",
       "      <th>6</th>\n",
       "      <td>2014</td>\n",
       "      <td>2724121.0</td>\n",
       "      <td>24210.0</td>\n",
       "      <td>85161.0</td>\n",
       "      <td>888.727043</td>\n",
       "      <td>3126.182721</td>\n",
       "      <td>1.10</td>\n",
       "      <td>3.560490e+09</td>\n",
       "      <td>1.420846e+09</td>\n",
       "      <td>1307.023403</td>\n",
       "      <td>521.579472</td>\n",
       "      <td>0.399059</td>\n",
       "      <td>-6.534490</td>\n",
       "      <td>-6.674170</td>\n",
       "      <td>-12.619626</td>\n",
       "      <td>-12.767285</td>\n",
       "    </tr>\n",
       "    <tr>\n",
       "      <th>5</th>\n",
       "      <td>2015</td>\n",
       "      <td>2728695.0</td>\n",
       "      <td>24741.0</td>\n",
       "      <td>80395.0</td>\n",
       "      <td>906.697157</td>\n",
       "      <td>2946.280182</td>\n",
       "      <td>1.10</td>\n",
       "      <td>3.887862e+09</td>\n",
       "      <td>1.511636e+09</td>\n",
       "      <td>1424.806363</td>\n",
       "      <td>553.977503</td>\n",
       "      <td>0.388809</td>\n",
       "      <td>2.146235</td>\n",
       "      <td>1.981931</td>\n",
       "      <td>-5.928229</td>\n",
       "      <td>-6.106091</td>\n",
       "    </tr>\n",
       "    <tr>\n",
       "      <th>4</th>\n",
       "      <td>2016</td>\n",
       "      <td>2725153.0</td>\n",
       "      <td>30234.0</td>\n",
       "      <td>86960.0</td>\n",
       "      <td>1109.442296</td>\n",
       "      <td>3191.013495</td>\n",
       "      <td>1.08</td>\n",
       "      <td>3.856415e+09</td>\n",
       "      <td>1.495271e+09</td>\n",
       "      <td>1415.118858</td>\n",
       "      <td>548.692543</td>\n",
       "      <td>0.387736</td>\n",
       "      <td>18.168287</td>\n",
       "      <td>18.274510</td>\n",
       "      <td>7.549448</td>\n",
       "      <td>7.669454</td>\n",
       "    </tr>\n",
       "    <tr>\n",
       "      <th>3</th>\n",
       "      <td>2017</td>\n",
       "      <td>2706171.0</td>\n",
       "      <td>29764.0</td>\n",
       "      <td>88324.0</td>\n",
       "      <td>1099.856587</td>\n",
       "      <td>3263.799664</td>\n",
       "      <td>1.06</td>\n",
       "      <td>3.902882e+09</td>\n",
       "      <td>1.520826e+09</td>\n",
       "      <td>1442.215529</td>\n",
       "      <td>561.984282</td>\n",
       "      <td>0.389667</td>\n",
       "      <td>-1.579089</td>\n",
       "      <td>-0.871542</td>\n",
       "      <td>1.544314</td>\n",
       "      <td>2.230105</td>\n",
       "    </tr>\n",
       "    <tr>\n",
       "      <th>2</th>\n",
       "      <td>2018</td>\n",
       "      <td>2719151.0</td>\n",
       "      <td>27416.0</td>\n",
       "      <td>86513.0</td>\n",
       "      <td>1008.255886</td>\n",
       "      <td>3181.618086</td>\n",
       "      <td>1.04</td>\n",
       "      <td>3.904406e+09</td>\n",
       "      <td>1.572410e+09</td>\n",
       "      <td>1435.891747</td>\n",
       "      <td>578.272556</td>\n",
       "      <td>0.402727</td>\n",
       "      <td>-8.564342</td>\n",
       "      <td>-9.085065</td>\n",
       "      <td>-2.093327</td>\n",
       "      <td>-2.583012</td>\n",
       "    </tr>\n",
       "    <tr>\n",
       "      <th>1</th>\n",
       "      <td>2019</td>\n",
       "      <td>2707064.0</td>\n",
       "      <td>25545.0</td>\n",
       "      <td>80742.0</td>\n",
       "      <td>943.642263</td>\n",
       "      <td>2982.640972</td>\n",
       "      <td>1.02</td>\n",
       "      <td>3.814527e+09</td>\n",
       "      <td>1.578111e+09</td>\n",
       "      <td>1409.101019</td>\n",
       "      <td>582.960377</td>\n",
       "      <td>0.413711</td>\n",
       "      <td>-7.324330</td>\n",
       "      <td>-6.847258</td>\n",
       "      <td>-7.147457</td>\n",
       "      <td>-6.671172</td>\n",
       "    </tr>\n",
       "    <tr>\n",
       "      <th>0</th>\n",
       "      <td>2020</td>\n",
       "      <td>NaN</td>\n",
       "      <td>NaN</td>\n",
       "      <td>NaN</td>\n",
       "      <td>NaN</td>\n",
       "      <td>NaN</td>\n",
       "      <td>1.00</td>\n",
       "      <td>4.338214e+09</td>\n",
       "      <td>1.635918e+09</td>\n",
       "      <td>NaN</td>\n",
       "      <td>NaN</td>\n",
       "      <td>0.377095</td>\n",
       "      <td>NaN</td>\n",
       "      <td>NaN</td>\n",
       "      <td>NaN</td>\n",
       "      <td>NaN</td>\n",
       "    </tr>\n",
       "  </tbody>\n",
       "</table>\n",
       "</div>"
      ],
      "text/plain": [
       "    Year  Population  Violent_Crime_Total  Property_Crime_Total  \\\n",
       "25  1995   2749881.0              73014.0              199164.0   \n",
       "24  1996   2754118.0              67498.0              195618.0   \n",
       "23  1997   2765852.0              65112.0              195392.0   \n",
       "22  1998   2750917.0              62947.0              190661.0   \n",
       "21  1999   2821032.0              50522.0              174798.0   \n",
       "20  2000   2866191.0              48499.0              170805.0   \n",
       "19  2001   2910709.0              46592.0              152160.0   \n",
       "18  2002   2938299.0              46157.0              148199.0   \n",
       "17  2003   2898374.0              39528.0              144622.0   \n",
       "16  2004   2882746.0              36780.0              140602.0   \n",
       "15  2005   2873441.0              35976.0              131183.0   \n",
       "14  2006   2857796.0              35335.0              129718.0   \n",
       "13  2007   2824434.0              34898.0              126298.0   \n",
       "12  2008   2829304.0              35797.0              131053.0   \n",
       "11  2009   2848431.0              33628.0              120407.0   \n",
       "10  2010   2833649.0              30550.0              120045.0   \n",
       "9   2011   2703713.0                  NaN              118239.0   \n",
       "8   2012   2708382.0              29920.0              112466.0   \n",
       "7   2013   2720554.0              25792.0               95908.0   \n",
       "6   2014   2724121.0              24210.0               85161.0   \n",
       "5   2015   2728695.0              24741.0               80395.0   \n",
       "4   2016   2725153.0              30234.0               86960.0   \n",
       "3   2017   2706171.0              29764.0               88324.0   \n",
       "2   2018   2719151.0              27416.0               86513.0   \n",
       "1   2019   2707064.0              25545.0               80742.0   \n",
       "0   2020         NaN                  NaN                   NaN   \n",
       "\n",
       "    Violent_Crime_PC  Property_Crime_PC  Inflation  Corporate_Fund_Total  \\\n",
       "25       2655.169442        7242.640682       1.71          3.168582e+09   \n",
       "24       2450.802762        7102.745779       1.66          3.180934e+09   \n",
       "23       2354.138978        7064.441626       1.62          3.299020e+09   \n",
       "22       2288.218801        6930.816161       1.60          3.343904e+09   \n",
       "21       1790.904889        6196.243077       1.56          3.377210e+09   \n",
       "20       1692.106353        5959.302782       1.51          3.469123e+09   \n",
       "19       1600.709655        5227.592315       1.47          3.589233e+09   \n",
       "18       1570.874850        5043.700454       1.45          3.617324e+09   \n",
       "17       1363.799151        4989.763226       1.41          3.556585e+09   \n",
       "16       1275.866830        4877.363458       1.38          3.566152e+09   \n",
       "15       1252.018051        4565.362574       1.33          3.643284e+09   \n",
       "14       1236.442349        4539.092363       1.29          3.726546e+09   \n",
       "13       1235.574986        4471.621571       1.26          3.830697e+09   \n",
       "12       1265.222825        4631.987231       1.21          3.875645e+09   \n",
       "11       1180.579765        4227.134166       1.21          3.853849e+09   \n",
       "10       1078.115179        4236.410367       1.19          3.783897e+09   \n",
       "9                NaN        4373.208251       1.16          3.775003e+09   \n",
       "8        1104.718611        4152.516152       1.13          3.335879e+09   \n",
       "7         948.042200        3525.311389       1.12          3.339342e+09   \n",
       "6         888.727043        3126.182721       1.10          3.560490e+09   \n",
       "5         906.697157        2946.280182       1.10          3.887862e+09   \n",
       "4        1109.442296        3191.013495       1.08          3.856415e+09   \n",
       "3        1099.856587        3263.799664       1.06          3.902882e+09   \n",
       "2        1008.255886        3181.618086       1.04          3.904406e+09   \n",
       "1         943.642263        2982.640972       1.02          3.814527e+09   \n",
       "0                NaN                NaN       1.00          4.338214e+09   \n",
       "\n",
       "    Police_Budget_Total  Corporate_Fund_PC  Police_Budget_PC  Percent_CPD  \\\n",
       "25         1.365580e+09        1152.261541        496.595937     0.430975   \n",
       "24         1.308238e+09        1154.973570        475.011689     0.411275   \n",
       "23         1.355608e+09        1192.768144        490.123043     0.410912   \n",
       "22         1.399676e+09        1215.559757        508.803599     0.418576   \n",
       "21         1.415081e+09        1197.153978        501.618327     0.419009   \n",
       "20         1.374042e+09        1210.360186        479.396502     0.396078   \n",
       "19         1.350399e+09        1233.112912        463.941438     0.376236   \n",
       "18         1.462070e+09        1231.094487        497.590580     0.404186   \n",
       "17         1.470953e+09        1227.096706        507.509609     0.413586   \n",
       "16         1.436242e+09        1237.067657        498.220116     0.402743   \n",
       "15         1.379862e+09        1267.916630        480.212333     0.378741   \n",
       "14         1.532232e+09        1303.992850        536.158520     0.411167   \n",
       "13         1.538737e+09        1356.270800        544.794802     0.401686   \n",
       "12         1.465114e+09        1369.822585        517.835657     0.378031   \n",
       "11         1.467346e+09        1352.972493        515.141972     0.380748   \n",
       "10         1.451095e+09        1335.344127        512.094273     0.383492   \n",
       "9          1.498661e+09        1396.229215        554.297525     0.396996   \n",
       "8          1.391948e+09        1231.686908        513.940824     0.417266   \n",
       "7          1.400285e+09        1227.449115        514.705997     0.419330   \n",
       "6          1.420846e+09        1307.023403        521.579472     0.399059   \n",
       "5          1.511636e+09        1424.806363        553.977503     0.388809   \n",
       "4          1.495271e+09        1415.118858        548.692543     0.387736   \n",
       "3          1.520826e+09        1442.215529        561.984282     0.389667   \n",
       "2          1.572410e+09        1435.891747        578.272556     0.402727   \n",
       "1          1.578111e+09        1409.101019        582.960377     0.413711   \n",
       "0          1.635918e+09                NaN               NaN     0.377095   \n",
       "\n",
       "    Violent_Crime_Total_Change  Violent_Crime_PC_Change  \\\n",
       "25                         NaN                      NaN   \n",
       "24                   -8.172094                -8.338765   \n",
       "23                   -3.664455                -4.106121   \n",
       "22                   -3.439401                -2.880851   \n",
       "21                  -24.593247               -27.768862   \n",
       "20                   -4.171220                -5.838790   \n",
       "19                   -4.092977                -5.709761   \n",
       "18                   -0.942436                -1.899248   \n",
       "17                  -16.770391               -15.183739   \n",
       "16                   -7.471452                -6.891967   \n",
       "15                   -2.234823                -1.904827   \n",
       "14                   -1.814065                -1.259719   \n",
       "13                   -1.252221                -0.070199   \n",
       "12                    2.511384                 2.343290   \n",
       "11                   -6.449982                -7.169618   \n",
       "10                  -10.075286                -9.504048   \n",
       "9                          NaN                      NaN   \n",
       "8                          NaN                      NaN   \n",
       "7                   -16.004963               -16.526312   \n",
       "6                    -6.534490                -6.674170   \n",
       "5                     2.146235                 1.981931   \n",
       "4                    18.168287                18.274510   \n",
       "3                    -1.579089                -0.871542   \n",
       "2                    -8.564342                -9.085065   \n",
       "1                    -7.324330                -6.847258   \n",
       "0                          NaN                      NaN   \n",
       "\n",
       "    Property_Crime_Total_Change  Property_Crime_PC_Change  \n",
       "25                          NaN                       NaN  \n",
       "24                    -1.812717                 -1.969589  \n",
       "23                    -0.115665                 -0.542211  \n",
       "22                    -2.481367                 -1.927990  \n",
       "21                    -9.075047                -11.855137  \n",
       "20                    -2.337754                 -3.975973  \n",
       "19                   -12.253549                -13.997084  \n",
       "18                    -2.672758                 -3.645971  \n",
       "17                    -2.473344                 -1.080958  \n",
       "16                    -2.859134                 -2.304519  \n",
       "15                    -7.180046                 -6.834088  \n",
       "14                    -1.129373                 -0.578755  \n",
       "13                    -2.707881                 -1.508866  \n",
       "12                     3.628303                  3.462135  \n",
       "11                    -8.841679                 -9.577483  \n",
       "10                    -0.301554                  0.218964  \n",
       "9                     -1.527415                  3.128090  \n",
       "8                     -5.133107                 -5.314660  \n",
       "7                    -17.264462                -17.791471  \n",
       "6                    -12.619626                -12.767285  \n",
       "5                     -5.928229                 -6.106091  \n",
       "4                      7.549448                  7.669454  \n",
       "3                      1.544314                  2.230105  \n",
       "2                     -2.093327                 -2.583012  \n",
       "1                     -7.147457                 -6.671172  \n",
       "0                           NaN                       NaN  "
      ]
     },
     "execution_count": 23,
     "metadata": {},
     "output_type": "execute_result"
    }
   ],
   "source": [
    "import matplotlib.pyplot as plt\n",
    "import seaborn as sns\n",
    "import pandas as pd\n",
    "import numpy as np\n",
    "\n",
    "data_both = pd.merge(crime_clean,budget_clean)    #combines data into a single dataframe\n",
    "data_both = data_both.sort_values(by=['Year'], ascending = True)\n",
    "data_both['Violent_Crime_Total_Change'] = data_both['Violent_Crime_Total'].diff() / data_both['Violent_Crime_Total'] * 100\n",
    "data_both['Violent_Crime_PC_Change'] = data_both['Violent_Crime_PC'].diff() / data_both['Violent_Crime_PC'] * 100\n",
    "data_both['Property_Crime_Total_Change'] = data_both['Property_Crime_Total'].diff() / data_both['Property_Crime_Total'] * 100\n",
    "data_both['Property_Crime_PC_Change'] = data_both['Property_Crime_PC'].diff() / data_both['Property_Crime_PC'] * 100\n",
    "data_both"
   ]
  },
  {
   "cell_type": "code",
   "execution_count": 24,
   "metadata": {},
   "outputs": [
    {
     "data": {
      "text/plain": [
       "Index(['Year', 'Population', 'Violent_Crime_Total', 'Property_Crime_Total',\n",
       "       'Violent_Crime_PC', 'Property_Crime_PC', 'Inflation',\n",
       "       'Corporate_Fund_Total', 'Police_Budget_Total', 'Corporate_Fund_PC',\n",
       "       'Police_Budget_PC', 'Percent_CPD', 'Violent_Crime_Total_Change',\n",
       "       'Violent_Crime_PC_Change', 'Property_Crime_Total_Change',\n",
       "       'Property_Crime_PC_Change'],\n",
       "      dtype='object')"
      ]
     },
     "execution_count": 24,
     "metadata": {},
     "output_type": "execute_result"
    }
   ],
   "source": [
    "data_both.columns      #view the columns"
   ]
  },
  {
   "cell_type": "code",
   "execution_count": 25,
   "metadata": {},
   "outputs": [
    {
     "data": {
      "image/png": "[encoded data removed]",
      "text/plain": [
       "<Figure size 432x288 with 4 Axes>"
      ]
     },
     "metadata": {
      "needs_background": "light"
     },
     "output_type": "display_data"
    }
   ],
   "source": [
    "# =========================\n",
    "#       Violent Crime\n",
    "# =========================\n",
    "\n",
    "plt.suptitle('Violent Crime')\n",
    "\n",
    "#Violent Crime Total\n",
    "plt.subplot(2, 2, 1)\n",
    "plt.plot( 'Year', 'Violent_Crime_Total', data=data_both, marker='o', markerfacecolor='blue', markersize=2, color='skyblue', linewidth=4)\n",
    "plt.title('Total')\n",
    "plt.xlabel('Year')\n",
    "plt.ylabel('Violent Crime')\n",
    "\n",
    "#Violent Crime Per Capita\n",
    "plt.subplot(2, 2, 2)\n",
    "plt.plot( 'Year', 'Violent_Crime_PC', data=data_both, marker='o', markerfacecolor='lightcoral', markersize=2, color='darksalmon', linewidth=4)\n",
    "plt.title('per Capita')\n",
    "plt.xlabel('Year')\n",
    "plt.ylabel('Violent Crime')\n",
    "\n",
    "#Violent Crime Total (percent change)\n",
    "plt.subplot(2, 2, 3)\n",
    "plt.plot( 'Year', 'Violent_Crime_Total_Change', data=data_both, marker='o', markerfacecolor='blue', markersize=2, color='skyblue', linewidth=4)\n",
    "plt.title('Total')\n",
    "plt.xlabel('Year')\n",
    "plt.ylabel('(% change)')\n",
    "\n",
    "#Violent Crime Per Capita\n",
    "plt.subplot(2, 2, 4)\n",
    "plt.plot( 'Year', 'Violent_Crime_PC_Change', data=data_both, marker='o', markerfacecolor='lightcoral', markersize=2, color='darksalmon', linewidth=4)\n",
    "plt.title('per Capita')\n",
    "plt.xlabel('Year')\n",
    "plt.ylabel('(% change)')\n",
    "\n",
    "\n",
    "plt.tight_layout()"
   ]
  },
  {
   "cell_type": "code",
   "execution_count": 26,
   "metadata": {},
   "outputs": [
    {
     "data": {
      "text/plain": [
       "-5.7742755414433535"
      ]
     },
     "execution_count": 26,
     "metadata": {},
     "output_type": "execute_result"
    }
   ],
   "source": [
    "data_both['Violent_Crime_PC_Change'].median()"
   ]
  },
  {
   "cell_type": "markdown",
   "metadata": {},
   "source": [
    "### Analysis:\n",
    "From the Violent Crime counts in the top, it looks like the total amount of violent crime has a decreasing trend throughout the years, both for Total Count and per Capita. In the percent change graphs on the bottom, there looks to be significant decreases of violent crime in 1999 and 2003 and a significant increase of violent crime in 2016. Overall, the median percent change per capita of violent crime from 1995 to 2020 is -5.77%"
   ]
  },
  {
   "cell_type": "code",
   "execution_count": 27,
   "metadata": {},
   "outputs": [
    {
     "data": {
      "image/png": "[encoded data removed]",
      "text/plain": [
       "<Figure size 432x288 with 4 Axes>"
      ]
     },
     "metadata": {
      "needs_background": "light"
     },
     "output_type": "display_data"
    }
   ],
   "source": [
    "# =========================\n",
    "#       Property Crime\n",
    "# =========================\n",
    "\n",
    "plt.suptitle('Property Crime')\n",
    "\n",
    "#Violent Crime Total\n",
    "plt.subplot(2, 2, 1)\n",
    "plt.plot( 'Year', 'Property_Crime_Total', data=data_both, marker='o', markerfacecolor='blue', markersize=2, color='skyblue', linewidth=4)\n",
    "plt.title('Total')\n",
    "plt.xlabel('Year')\n",
    "plt.ylabel('Property Crime')\n",
    "\n",
    "#Property Crime Per Capita\n",
    "plt.subplot(2, 2, 2)\n",
    "plt.plot( 'Year', 'Property_Crime_PC', data=data_both, marker='o', markerfacecolor='lightcoral', markersize=2, color='darksalmon', linewidth=4)\n",
    "plt.title('per Capita')\n",
    "plt.xlabel('Year')\n",
    "plt.ylabel('Property Crime')\n",
    "\n",
    "#Property Crime Total (percent change)\n",
    "plt.subplot(2, 2, 3)\n",
    "plt.plot( 'Year', 'Property_Crime_Total_Change', data=data_both, marker='o', markerfacecolor='blue', markersize=2, color='skyblue', linewidth=4)\n",
    "plt.title('Total')\n",
    "plt.xlabel('Year')\n",
    "plt.ylabel('(% change)')\n",
    "\n",
    "#Property Crime Per Capita\n",
    "plt.subplot(2, 2, 4)\n",
    "plt.plot( 'Year', 'Property_Crime_PC_Change', data=data_both, marker='o', markerfacecolor='lightcoral', markersize=2, color='darksalmon', linewidth=4)\n",
    "plt.title('per Capita')\n",
    "plt.xlabel('Year')\n",
    "plt.ylabel('(% change)')\n",
    "\n",
    "\n",
    "plt.tight_layout()"
   ]
  },
  {
   "cell_type": "code",
   "execution_count": 28,
   "metadata": {},
   "outputs": [
    {
     "data": {
      "text/plain": [
       "-2.443765513865536"
      ]
     },
     "execution_count": 28,
     "metadata": {},
     "output_type": "execute_result"
    }
   ],
   "source": [
    "data_both['Property_Crime_PC_Change'].median()"
   ]
  },
  {
   "cell_type": "markdown",
   "metadata": {},
   "source": [
    "### Analysis:\n",
    "From the Property Crime counts in the top, it looks like the total amount of violent crime has a decreasing trend throughout the years, both for Total Count and per Capita. In the percent change graphs on the bottom, there looks to be significant decreases of property crime in 2001 and 2013 and a significant increase of property crime in 2016. Overall, the median percent change per capita of violent crime from 1995 to 2020 is -2.44%"
   ]
  },
  {
   "cell_type": "code",
   "execution_count": 29,
   "metadata": {},
   "outputs": [
    {
     "data": {
      "text/plain": [
       "0.40220649277923903"
      ]
     },
     "execution_count": 29,
     "metadata": {},
     "output_type": "execute_result"
    },
    {
     "data": {
      "image/png": "[encoded data removed]",
      "text/plain": [
       "<Figure size 432x288 with 1 Axes>"
      ]
     },
     "metadata": {
      "needs_background": "light"
     },
     "output_type": "display_data"
    }
   ],
   "source": [
    "# =========================\n",
    "#       Percent Total\n",
    "# =========================\n",
    "\n",
    "plt.suptitle('City Budget')\n",
    "\n",
    "#Violent Crime Total\n",
    "plt.plot( 'Year', 'Percent_CPD', data=data_both, marker='o', markerfacecolor='blue', markersize=2, color='skyblue', linewidth=4)\n",
    "#plt.title('Total')\n",
    "plt.xlabel('Year')\n",
    "plt.ylabel('Percent_CPD')\n",
    "data_both['Percent_CPD'].median()"
   ]
  },
  {
   "cell_type": "code",
   "execution_count": 30,
   "metadata": {},
   "outputs": [
    {
     "data": {
      "text/plain": [
       "0.43097501635210894"
      ]
     },
     "execution_count": 30,
     "metadata": {},
     "output_type": "execute_result"
    }
   ],
   "source": [
    "data_both['Percent_CPD'].max()"
   ]
  },
  {
   "cell_type": "code",
   "execution_count": 31,
   "metadata": {},
   "outputs": [
    {
     "data": {
      "text/plain": [
       "0.3762359747794017"
      ]
     },
     "execution_count": 31,
     "metadata": {},
     "output_type": "execute_result"
    }
   ],
   "source": [
    "data_both['Percent_CPD'].min()"
   ]
  },
  {
   "cell_type": "markdown",
   "metadata": {},
   "source": [
    "### Analysis:\n",
    "\n",
    "The CPD budget takes anywhere from 37.62% to 43.10% of the Corporate Fund in the Chicago Budget, taking up the largest percentage of the tax-payers money. The percentage seems to fluctuate between years with a median percentage of 40.22%."
   ]
  },
  {
   "cell_type": "markdown",
   "metadata": {},
   "source": [
    "## Part 2: Analysis of City Budget over time\n",
    "\n",
    "In this section we will analyze what percentage of the Corporate Fund goes to funding the Chicago Police Department (CPD) and how the city budget has changed over time by taking into acount population and inflation from 1995 to 2020. We will pay attention to any overall trends in the city budget as well as any significant increases or decreases. \n",
    "\n",
    "### Hypothesis and Assumptions:\n",
    "We hypothesize that in recent years, the city of Chicago Budget has increased significantly."
   ]
  },
  {
   "cell_type": "code",
   "execution_count": 32,
   "metadata": {},
   "outputs": [
    {
     "data": {
      "image/png": "[encoded data removed]",
      "text/plain": [
       "<Figure size 432x288 with 4 Axes>"
      ]
     },
     "metadata": {
      "needs_background": "light"
     },
     "output_type": "display_data"
    }
   ],
   "source": [
    "# =========================\n",
    "#       City Budget\n",
    "# =========================\n",
    "\n",
    "plt.suptitle('City Budget')\n",
    "\n",
    "#Corporate Fund Total\n",
    "plt.subplot(2, 2, 1)\n",
    "plt.plot( 'Year', 'Corporate_Fund_Total', data=data_both, marker='o', markerfacecolor='blue', markersize=2, color='skyblue', linewidth=4)\n",
    "plt.title('Corporate Fund')\n",
    "plt.xlabel('Year')\n",
    "plt.ylabel('Dollars')\n",
    "\n",
    "#Corporate Fund Per Capita\n",
    "plt.subplot(2, 2, 2)\n",
    "plt.plot( 'Year', 'Corporate_Fund_PC', data=data_both, marker='o', markerfacecolor='lightcoral', markersize=2, color='darksalmon', linewidth=4)\n",
    "plt.title('per Capita')\n",
    "plt.xlabel('Year')\n",
    "plt.ylabel('Dollars')\n",
    "\n",
    "#Chicago Budget Total\n",
    "plt.subplot(2, 2, 3)\n",
    "plt.plot( 'Year', 'Police_Budget_Total', data=data_both, marker='o', markerfacecolor='blue', markersize=2, color='skyblue', linewidth=4)\n",
    "plt.title('CPD Budget')\n",
    "plt.xlabel('Year')\n",
    "plt.ylabel('Dollars')\n",
    "\n",
    "#Chicago Budget Per Capita\n",
    "plt.subplot(2, 2, 4)\n",
    "plt.plot( 'Year', 'Police_Budget_PC', data=data_both, marker='o', markerfacecolor='lightcoral', markersize=2, color='darksalmon', linewidth=4)\n",
    "plt.title('per Capita')\n",
    "plt.xlabel('Year')\n",
    "plt.ylabel('Dollars')\n",
    "\n",
    "plt.tight_layout()"
   ]
  },
  {
   "cell_type": "code",
   "execution_count": 33,
   "metadata": {},
   "outputs": [
    {
     "data": {
      "text/plain": [
       "3630303665.0"
      ]
     },
     "execution_count": 33,
     "metadata": {},
     "output_type": "execute_result"
    }
   ],
   "source": [
    "data_both['Corporate_Fund_Total'].median()"
   ]
  },
  {
   "cell_type": "code",
   "execution_count": 34,
   "metadata": {},
   "outputs": [
    {
     "data": {
      "text/plain": [
       "1456582664.6"
      ]
     },
     "execution_count": 34,
     "metadata": {},
     "output_type": "execute_result"
    }
   ],
   "source": [
    "data_both['Police_Budget_Total'].median()"
   ]
  },
  {
   "cell_type": "markdown",
   "metadata": {},
   "source": [
    "### Analysis:\n",
    "From the Corporate Fund amount on the top, it looks like it has an increasing trend throughout the years, with a significant budget cut in 2012, and a significant budget raise in 2020. In the CPD Budget amount on the bottom, it also has an increasing trend throughout the years. Overall, the median Corporate Budget per year was 3.63 billion dollars and the median Police Budget per year was 1.45 billion dollars.\n",
    "\n",
    "Each has a record highs in Corporate Fund and CPD Budget in the past 3 years. All these data points are adjusted for inflation."
   ]
  },
  {
   "cell_type": "markdown",
   "metadata": {},
   "source": [
    "## Part 3: Combined Analysis of Crime and Police Funding\n",
    "\n",
    "In this section we will analyze a correlation matrix between crime counts and police funding using each year as an individual data point. We graph these points and create a regression model. \n",
    "\n",
    "### Hypothesis and Assumptions:\n",
    "We hypothesize that there is a negative correlation between crime and budget (as budget increases, crime will decrease). I would hypothesize an negative exponential or logarithmic graph where each increase in budget (x) results in a smaller decrease in crime (y)."
   ]
  },
  {
   "cell_type": "code",
   "execution_count": 35,
   "metadata": {},
   "outputs": [
    {
     "data": {
      "text/html": [
       "<div>\n",
       "<style scoped>\n",
       "    .dataframe tbody tr th:only-of-type {\n",
       "        vertical-align: middle;\n",
       "    }\n",
       "\n",
       "    .dataframe tbody tr th {\n",
       "        vertical-align: top;\n",
       "    }\n",
       "\n",
       "    .dataframe thead th {\n",
       "        text-align: right;\n",
       "    }\n",
       "</style>\n",
       "<table border=\"1\" class=\"dataframe\">\n",
       "  <thead>\n",
       "    <tr style=\"text-align: right;\">\n",
       "      <th></th>\n",
       "      <th>Year</th>\n",
       "      <th>Population</th>\n",
       "      <th>Violent_Crime_Total</th>\n",
       "      <th>Property_Crime_Total</th>\n",
       "      <th>Violent_Crime_PC</th>\n",
       "      <th>Property_Crime_PC</th>\n",
       "      <th>Inflation</th>\n",
       "      <th>Corporate_Fund_Total</th>\n",
       "      <th>Police_Budget_Total</th>\n",
       "      <th>Corporate_Fund_PC</th>\n",
       "      <th>Police_Budget_PC</th>\n",
       "      <th>Percent_CPD</th>\n",
       "      <th>Violent_Crime_Total_Change</th>\n",
       "      <th>Violent_Crime_PC_Change</th>\n",
       "      <th>Property_Crime_Total_Change</th>\n",
       "      <th>Property_Crime_PC_Change</th>\n",
       "    </tr>\n",
       "  </thead>\n",
       "  <tbody>\n",
       "    <tr>\n",
       "      <th>Year</th>\n",
       "      <td>1.000000</td>\n",
       "      <td>-0.504227</td>\n",
       "      <td>-0.907208</td>\n",
       "      <td>-0.977842</td>\n",
       "      <td>-0.880751</td>\n",
       "      <td>-0.960937</td>\n",
       "      <td>-0.985175</td>\n",
       "      <td>0.749093</td>\n",
       "      <td>0.756897</td>\n",
       "      <td>0.857212</td>\n",
       "      <td>0.817763</td>\n",
       "      <td>-0.380258</td>\n",
       "      <td>0.257908</td>\n",
       "      <td>0.282973</td>\n",
       "      <td>-0.012042</td>\n",
       "      <td>0.051894</td>\n",
       "    </tr>\n",
       "    <tr>\n",
       "      <th>Population</th>\n",
       "      <td>-0.504227</td>\n",
       "      <td>1.000000</td>\n",
       "      <td>0.163835</td>\n",
       "      <td>0.374820</td>\n",
       "      <td>0.094447</td>\n",
       "      <td>0.291586</td>\n",
       "      <td>0.416730</td>\n",
       "      <td>0.016292</td>\n",
       "      <td>-0.185810</td>\n",
       "      <td>-0.360713</td>\n",
       "      <td>-0.588450</td>\n",
       "      <td>-0.289838</td>\n",
       "      <td>-0.126339</td>\n",
       "      <td>-0.137688</td>\n",
       "      <td>-0.025435</td>\n",
       "      <td>-0.088151</td>\n",
       "    </tr>\n",
       "    <tr>\n",
       "      <th>Violent_Crime_Total</th>\n",
       "      <td>-0.907208</td>\n",
       "      <td>0.163835</td>\n",
       "      <td>1.000000</td>\n",
       "      <td>0.954361</td>\n",
       "      <td>0.997478</td>\n",
       "      <td>0.967947</td>\n",
       "      <td>0.950678</td>\n",
       "      <td>-0.727912</td>\n",
       "      <td>-0.661700</td>\n",
       "      <td>-0.751150</td>\n",
       "      <td>-0.628062</td>\n",
       "      <td>0.418194</td>\n",
       "      <td>-0.134765</td>\n",
       "      <td>-0.163011</td>\n",
       "      <td>0.173717</td>\n",
       "      <td>0.117226</td>\n",
       "    </tr>\n",
       "    <tr>\n",
       "      <th>Property_Crime_Total</th>\n",
       "      <td>-0.977842</td>\n",
       "      <td>0.374820</td>\n",
       "      <td>0.954361</td>\n",
       "      <td>1.000000</td>\n",
       "      <td>0.937396</td>\n",
       "      <td>0.996033</td>\n",
       "      <td>0.980292</td>\n",
       "      <td>-0.730643</td>\n",
       "      <td>-0.700431</td>\n",
       "      <td>-0.823296</td>\n",
       "      <td>-0.744394</td>\n",
       "      <td>0.368992</td>\n",
       "      <td>-0.256073</td>\n",
       "      <td>-0.280907</td>\n",
       "      <td>0.105003</td>\n",
       "      <td>0.039505</td>\n",
       "    </tr>\n",
       "    <tr>\n",
       "      <th>Violent_Crime_PC</th>\n",
       "      <td>-0.880751</td>\n",
       "      <td>0.094447</td>\n",
       "      <td>0.997478</td>\n",
       "      <td>0.937396</td>\n",
       "      <td>1.000000</td>\n",
       "      <td>0.956989</td>\n",
       "      <td>0.930760</td>\n",
       "      <td>-0.736832</td>\n",
       "      <td>-0.655623</td>\n",
       "      <td>-0.733871</td>\n",
       "      <td>-0.593133</td>\n",
       "      <td>0.443317</td>\n",
       "      <td>-0.125897</td>\n",
       "      <td>-0.152693</td>\n",
       "      <td>0.181187</td>\n",
       "      <td>0.126803</td>\n",
       "    </tr>\n",
       "    <tr>\n",
       "      <th>Property_Crime_PC</th>\n",
       "      <td>-0.960937</td>\n",
       "      <td>0.291586</td>\n",
       "      <td>0.967947</td>\n",
       "      <td>0.996033</td>\n",
       "      <td>0.956989</td>\n",
       "      <td>1.000000</td>\n",
       "      <td>0.970901</td>\n",
       "      <td>-0.753820</td>\n",
       "      <td>-0.704252</td>\n",
       "      <td>-0.813832</td>\n",
       "      <td>-0.711604</td>\n",
       "      <td>0.406759</td>\n",
       "      <td>-0.251881</td>\n",
       "      <td>-0.275818</td>\n",
       "      <td>0.114146</td>\n",
       "      <td>0.053349</td>\n",
       "    </tr>\n",
       "    <tr>\n",
       "      <th>Inflation</th>\n",
       "      <td>-0.985175</td>\n",
       "      <td>0.416730</td>\n",
       "      <td>0.950678</td>\n",
       "      <td>0.980292</td>\n",
       "      <td>0.930760</td>\n",
       "      <td>0.970901</td>\n",
       "      <td>1.000000</td>\n",
       "      <td>-0.753797</td>\n",
       "      <td>-0.733130</td>\n",
       "      <td>-0.849716</td>\n",
       "      <td>-0.770053</td>\n",
       "      <td>0.427782</td>\n",
       "      <td>-0.264935</td>\n",
       "      <td>-0.293269</td>\n",
       "      <td>0.023800</td>\n",
       "      <td>-0.050068</td>\n",
       "    </tr>\n",
       "    <tr>\n",
       "      <th>Corporate_Fund_Total</th>\n",
       "      <td>0.749093</td>\n",
       "      <td>0.016292</td>\n",
       "      <td>-0.727912</td>\n",
       "      <td>-0.730643</td>\n",
       "      <td>-0.736832</td>\n",
       "      <td>-0.753820</td>\n",
       "      <td>-0.753797</td>\n",
       "      <td>1.000000</td>\n",
       "      <td>0.866510</td>\n",
       "      <td>0.926485</td>\n",
       "      <td>0.677346</td>\n",
       "      <td>-0.706652</td>\n",
       "      <td>0.464003</td>\n",
       "      <td>0.482913</td>\n",
       "      <td>0.319315</td>\n",
       "      <td>0.357171</td>\n",
       "    </tr>\n",
       "    <tr>\n",
       "      <th>Police_Budget_Total</th>\n",
       "      <td>0.756897</td>\n",
       "      <td>-0.185810</td>\n",
       "      <td>-0.661700</td>\n",
       "      <td>-0.700431</td>\n",
       "      <td>-0.655623</td>\n",
       "      <td>-0.704252</td>\n",
       "      <td>-0.733130</td>\n",
       "      <td>0.866510</td>\n",
       "      <td>1.000000</td>\n",
       "      <td>0.842605</td>\n",
       "      <td>0.903471</td>\n",
       "      <td>-0.261214</td>\n",
       "      <td>0.210435</td>\n",
       "      <td>0.249583</td>\n",
       "      <td>0.274680</td>\n",
       "      <td>0.334293</td>\n",
       "    </tr>\n",
       "    <tr>\n",
       "      <th>Corporate_Fund_PC</th>\n",
       "      <td>0.857212</td>\n",
       "      <td>-0.360713</td>\n",
       "      <td>-0.751150</td>\n",
       "      <td>-0.823296</td>\n",
       "      <td>-0.733871</td>\n",
       "      <td>-0.813832</td>\n",
       "      <td>-0.849716</td>\n",
       "      <td>0.926485</td>\n",
       "      <td>0.842605</td>\n",
       "      <td>1.000000</td>\n",
       "      <td>0.854584</td>\n",
       "      <td>-0.518767</td>\n",
       "      <td>0.463569</td>\n",
       "      <td>0.484383</td>\n",
       "      <td>0.299934</td>\n",
       "      <td>0.358766</td>\n",
       "    </tr>\n",
       "    <tr>\n",
       "      <th>Police_Budget_PC</th>\n",
       "      <td>0.817763</td>\n",
       "      <td>-0.588450</td>\n",
       "      <td>-0.628062</td>\n",
       "      <td>-0.744394</td>\n",
       "      <td>-0.593133</td>\n",
       "      <td>-0.711604</td>\n",
       "      <td>-0.770053</td>\n",
       "      <td>0.677346</td>\n",
       "      <td>0.903471</td>\n",
       "      <td>0.854584</td>\n",
       "      <td>1.000000</td>\n",
       "      <td>-0.000394</td>\n",
       "      <td>0.225469</td>\n",
       "      <td>0.261028</td>\n",
       "      <td>0.228768</td>\n",
       "      <td>0.304175</td>\n",
       "    </tr>\n",
       "    <tr>\n",
       "      <th>Percent_CPD</th>\n",
       "      <td>-0.380258</td>\n",
       "      <td>-0.289838</td>\n",
       "      <td>0.418194</td>\n",
       "      <td>0.368992</td>\n",
       "      <td>0.443317</td>\n",
       "      <td>0.406759</td>\n",
       "      <td>0.427782</td>\n",
       "      <td>-0.706652</td>\n",
       "      <td>-0.261214</td>\n",
       "      <td>-0.518767</td>\n",
       "      <td>-0.000394</td>\n",
       "      <td>1.000000</td>\n",
       "      <td>-0.506094</td>\n",
       "      <td>-0.484203</td>\n",
       "      <td>-0.171448</td>\n",
       "      <td>-0.156506</td>\n",
       "    </tr>\n",
       "    <tr>\n",
       "      <th>Violent_Crime_Total_Change</th>\n",
       "      <td>0.257908</td>\n",
       "      <td>-0.126339</td>\n",
       "      <td>-0.134765</td>\n",
       "      <td>-0.256073</td>\n",
       "      <td>-0.125897</td>\n",
       "      <td>-0.251881</td>\n",
       "      <td>-0.264935</td>\n",
       "      <td>0.464003</td>\n",
       "      <td>0.210435</td>\n",
       "      <td>0.463569</td>\n",
       "      <td>0.225469</td>\n",
       "      <td>-0.506094</td>\n",
       "      <td>1.000000</td>\n",
       "      <td>0.993025</td>\n",
       "      <td>0.575833</td>\n",
       "      <td>0.577470</td>\n",
       "    </tr>\n",
       "    <tr>\n",
       "      <th>Violent_Crime_PC_Change</th>\n",
       "      <td>0.282973</td>\n",
       "      <td>-0.137688</td>\n",
       "      <td>-0.163011</td>\n",
       "      <td>-0.280907</td>\n",
       "      <td>-0.152693</td>\n",
       "      <td>-0.275818</td>\n",
       "      <td>-0.293269</td>\n",
       "      <td>0.482913</td>\n",
       "      <td>0.249583</td>\n",
       "      <td>0.484383</td>\n",
       "      <td>0.261028</td>\n",
       "      <td>-0.484203</td>\n",
       "      <td>0.993025</td>\n",
       "      <td>1.000000</td>\n",
       "      <td>0.596159</td>\n",
       "      <td>0.614453</td>\n",
       "    </tr>\n",
       "    <tr>\n",
       "      <th>Property_Crime_Total_Change</th>\n",
       "      <td>-0.012042</td>\n",
       "      <td>-0.025435</td>\n",
       "      <td>0.173717</td>\n",
       "      <td>0.105003</td>\n",
       "      <td>0.181187</td>\n",
       "      <td>0.114146</td>\n",
       "      <td>0.023800</td>\n",
       "      <td>0.319315</td>\n",
       "      <td>0.274680</td>\n",
       "      <td>0.299934</td>\n",
       "      <td>0.228768</td>\n",
       "      <td>-0.171448</td>\n",
       "      <td>0.575833</td>\n",
       "      <td>0.596159</td>\n",
       "      <td>1.000000</td>\n",
       "      <td>0.976720</td>\n",
       "    </tr>\n",
       "    <tr>\n",
       "      <th>Property_Crime_PC_Change</th>\n",
       "      <td>0.051894</td>\n",
       "      <td>-0.088151</td>\n",
       "      <td>0.117226</td>\n",
       "      <td>0.039505</td>\n",
       "      <td>0.126803</td>\n",
       "      <td>0.053349</td>\n",
       "      <td>-0.050068</td>\n",
       "      <td>0.357171</td>\n",
       "      <td>0.334293</td>\n",
       "      <td>0.358766</td>\n",
       "      <td>0.304175</td>\n",
       "      <td>-0.156506</td>\n",
       "      <td>0.577470</td>\n",
       "      <td>0.614453</td>\n",
       "      <td>0.976720</td>\n",
       "      <td>1.000000</td>\n",
       "    </tr>\n",
       "  </tbody>\n",
       "</table>\n",
       "</div>"
      ],
      "text/plain": [
       "                                 Year  Population  Violent_Crime_Total  \\\n",
       "Year                         1.000000   -0.504227            -0.907208   \n",
       "Population                  -0.504227    1.000000             0.163835   \n",
       "Violent_Crime_Total         -0.907208    0.163835             1.000000   \n",
       "Property_Crime_Total        -0.977842    0.374820             0.954361   \n",
       "Violent_Crime_PC            -0.880751    0.094447             0.997478   \n",
       "Property_Crime_PC           -0.960937    0.291586             0.967947   \n",
       "Inflation                   -0.985175    0.416730             0.950678   \n",
       "Corporate_Fund_Total         0.749093    0.016292            -0.727912   \n",
       "Police_Budget_Total          0.756897   -0.185810            -0.661700   \n",
       "Corporate_Fund_PC            0.857212   -0.360713            -0.751150   \n",
       "Police_Budget_PC             0.817763   -0.588450            -0.628062   \n",
       "Percent_CPD                 -0.380258   -0.289838             0.418194   \n",
       "Violent_Crime_Total_Change   0.257908   -0.126339            -0.134765   \n",
       "Violent_Crime_PC_Change      0.282973   -0.137688            -0.163011   \n",
       "Property_Crime_Total_Change -0.012042   -0.025435             0.173717   \n",
       "Property_Crime_PC_Change     0.051894   -0.088151             0.117226   \n",
       "\n",
       "                             Property_Crime_Total  Violent_Crime_PC  \\\n",
       "Year                                    -0.977842         -0.880751   \n",
       "Population                               0.374820          0.094447   \n",
       "Violent_Crime_Total                      0.954361          0.997478   \n",
       "Property_Crime_Total                     1.000000          0.937396   \n",
       "Violent_Crime_PC                         0.937396          1.000000   \n",
       "Property_Crime_PC                        0.996033          0.956989   \n",
       "Inflation                                0.980292          0.930760   \n",
       "Corporate_Fund_Total                    -0.730643         -0.736832   \n",
       "Police_Budget_Total                     -0.700431         -0.655623   \n",
       "Corporate_Fund_PC                       -0.823296         -0.733871   \n",
       "Police_Budget_PC                        -0.744394         -0.593133   \n",
       "Percent_CPD                              0.368992          0.443317   \n",
       "Violent_Crime_Total_Change              -0.256073         -0.125897   \n",
       "Violent_Crime_PC_Change                 -0.280907         -0.152693   \n",
       "Property_Crime_Total_Change              0.105003          0.181187   \n",
       "Property_Crime_PC_Change                 0.039505          0.126803   \n",
       "\n",
       "                             Property_Crime_PC  Inflation  \\\n",
       "Year                                 -0.960937  -0.985175   \n",
       "Population                            0.291586   0.416730   \n",
       "Violent_Crime_Total                   0.967947   0.950678   \n",
       "Property_Crime_Total                  0.996033   0.980292   \n",
       "Violent_Crime_PC                      0.956989   0.930760   \n",
       "Property_Crime_PC                     1.000000   0.970901   \n",
       "Inflation                             0.970901   1.000000   \n",
       "Corporate_Fund_Total                 -0.753820  -0.753797   \n",
       "Police_Budget_Total                  -0.704252  -0.733130   \n",
       "Corporate_Fund_PC                    -0.813832  -0.849716   \n",
       "Police_Budget_PC                     -0.711604  -0.770053   \n",
       "Percent_CPD                           0.406759   0.427782   \n",
       "Violent_Crime_Total_Change           -0.251881  -0.264935   \n",
       "Violent_Crime_PC_Change              -0.275818  -0.293269   \n",
       "Property_Crime_Total_Change           0.114146   0.023800   \n",
       "Property_Crime_PC_Change              0.053349  -0.050068   \n",
       "\n",
       "                             Corporate_Fund_Total  Police_Budget_Total  \\\n",
       "Year                                     0.749093             0.756897   \n",
       "Population                               0.016292            -0.185810   \n",
       "Violent_Crime_Total                     -0.727912            -0.661700   \n",
       "Property_Crime_Total                    -0.730643            -0.700431   \n",
       "Violent_Crime_PC                        -0.736832            -0.655623   \n",
       "Property_Crime_PC                       -0.753820            -0.704252   \n",
       "Inflation                               -0.753797            -0.733130   \n",
       "Corporate_Fund_Total                     1.000000             0.866510   \n",
       "Police_Budget_Total                      0.866510             1.000000   \n",
       "Corporate_Fund_PC                        0.926485             0.842605   \n",
       "Police_Budget_PC                         0.677346             0.903471   \n",
       "Percent_CPD                             -0.706652            -0.261214   \n",
       "Violent_Crime_Total_Change               0.464003             0.210435   \n",
       "Violent_Crime_PC_Change                  0.482913             0.249583   \n",
       "Property_Crime_Total_Change              0.319315             0.274680   \n",
       "Property_Crime_PC_Change                 0.357171             0.334293   \n",
       "\n",
       "                             Corporate_Fund_PC  Police_Budget_PC  Percent_CPD  \\\n",
       "Year                                  0.857212          0.817763    -0.380258   \n",
       "Population                           -0.360713         -0.588450    -0.289838   \n",
       "Violent_Crime_Total                  -0.751150         -0.628062     0.418194   \n",
       "Property_Crime_Total                 -0.823296         -0.744394     0.368992   \n",
       "Violent_Crime_PC                     -0.733871         -0.593133     0.443317   \n",
       "Property_Crime_PC                    -0.813832         -0.711604     0.406759   \n",
       "Inflation                            -0.849716         -0.770053     0.427782   \n",
       "Corporate_Fund_Total                  0.926485          0.677346    -0.706652   \n",
       "Police_Budget_Total                   0.842605          0.903471    -0.261214   \n",
       "Corporate_Fund_PC                     1.000000          0.854584    -0.518767   \n",
       "Police_Budget_PC                      0.854584          1.000000    -0.000394   \n",
       "Percent_CPD                          -0.518767         -0.000394     1.000000   \n",
       "Violent_Crime_Total_Change            0.463569          0.225469    -0.506094   \n",
       "Violent_Crime_PC_Change               0.484383          0.261028    -0.484203   \n",
       "Property_Crime_Total_Change           0.299934          0.228768    -0.171448   \n",
       "Property_Crime_PC_Change              0.358766          0.304175    -0.156506   \n",
       "\n",
       "                             Violent_Crime_Total_Change  \\\n",
       "Year                                           0.257908   \n",
       "Population                                    -0.126339   \n",
       "Violent_Crime_Total                           -0.134765   \n",
       "Property_Crime_Total                          -0.256073   \n",
       "Violent_Crime_PC                              -0.125897   \n",
       "Property_Crime_PC                             -0.251881   \n",
       "Inflation                                     -0.264935   \n",
       "Corporate_Fund_Total                           0.464003   \n",
       "Police_Budget_Total                            0.210435   \n",
       "Corporate_Fund_PC                              0.463569   \n",
       "Police_Budget_PC                               0.225469   \n",
       "Percent_CPD                                   -0.506094   \n",
       "Violent_Crime_Total_Change                     1.000000   \n",
       "Violent_Crime_PC_Change                        0.993025   \n",
       "Property_Crime_Total_Change                    0.575833   \n",
       "Property_Crime_PC_Change                       0.577470   \n",
       "\n",
       "                             Violent_Crime_PC_Change  \\\n",
       "Year                                        0.282973   \n",
       "Population                                 -0.137688   \n",
       "Violent_Crime_Total                        -0.163011   \n",
       "Property_Crime_Total                       -0.280907   \n",
       "Violent_Crime_PC                           -0.152693   \n",
       "Property_Crime_PC                          -0.275818   \n",
       "Inflation                                  -0.293269   \n",
       "Corporate_Fund_Total                        0.482913   \n",
       "Police_Budget_Total                         0.249583   \n",
       "Corporate_Fund_PC                           0.484383   \n",
       "Police_Budget_PC                            0.261028   \n",
       "Percent_CPD                                -0.484203   \n",
       "Violent_Crime_Total_Change                  0.993025   \n",
       "Violent_Crime_PC_Change                     1.000000   \n",
       "Property_Crime_Total_Change                 0.596159   \n",
       "Property_Crime_PC_Change                    0.614453   \n",
       "\n",
       "                             Property_Crime_Total_Change  \\\n",
       "Year                                           -0.012042   \n",
       "Population                                     -0.025435   \n",
       "Violent_Crime_Total                             0.173717   \n",
       "Property_Crime_Total                            0.105003   \n",
       "Violent_Crime_PC                                0.181187   \n",
       "Property_Crime_PC                               0.114146   \n",
       "Inflation                                       0.023800   \n",
       "Corporate_Fund_Total                            0.319315   \n",
       "Police_Budget_Total                             0.274680   \n",
       "Corporate_Fund_PC                               0.299934   \n",
       "Police_Budget_PC                                0.228768   \n",
       "Percent_CPD                                    -0.171448   \n",
       "Violent_Crime_Total_Change                      0.575833   \n",
       "Violent_Crime_PC_Change                         0.596159   \n",
       "Property_Crime_Total_Change                     1.000000   \n",
       "Property_Crime_PC_Change                        0.976720   \n",
       "\n",
       "                             Property_Crime_PC_Change  \n",
       "Year                                         0.051894  \n",
       "Population                                  -0.088151  \n",
       "Violent_Crime_Total                          0.117226  \n",
       "Property_Crime_Total                         0.039505  \n",
       "Violent_Crime_PC                             0.126803  \n",
       "Property_Crime_PC                            0.053349  \n",
       "Inflation                                   -0.050068  \n",
       "Corporate_Fund_Total                         0.357171  \n",
       "Police_Budget_Total                          0.334293  \n",
       "Corporate_Fund_PC                            0.358766  \n",
       "Police_Budget_PC                             0.304175  \n",
       "Percent_CPD                                 -0.156506  \n",
       "Violent_Crime_Total_Change                   0.577470  \n",
       "Violent_Crime_PC_Change                      0.614453  \n",
       "Property_Crime_Total_Change                  0.976720  \n",
       "Property_Crime_PC_Change                     1.000000  "
      ]
     },
     "execution_count": 35,
     "metadata": {},
     "output_type": "execute_result"
    }
   ],
   "source": [
    "#put correlation matrix here\n",
    "data_both.corr()\n",
    "#data_both[['Violent_Crime_PC','Property_Crime_PC','Corporate_Fund_PC','Police_Budget_PC','Violent_Crime_PC_Change','Property_Crime_PC_Change']].corr()"
   ]
  },
  {
   "cell_type": "code",
   "execution_count": 36,
   "metadata": {},
   "outputs": [
    {
     "data": {
      "image/png": "[encoded data removed]",
      "text/plain": [
       "<Figure size 648x432 with 2 Axes>"
      ]
     },
     "metadata": {
      "needs_background": "light"
     },
     "output_type": "display_data"
    }
   ],
   "source": [
    "# =========================\n",
    "#    Correlation Matrix\n",
    "# =========================\n",
    "\n",
    "columns = ['Violent_Crime_PC','Property_Crime_PC','Corporate_Fund_PC','Police_Budget_PC','Violent_Crime_PC_Change','Property_Crime_PC_Change']\n",
    "df_corr = data_both[columns]\n",
    "# TODO create a heat map using all six numeric variables. Pick a new color combination.\n",
    "# https://matplotlib.org/3.1.1/gallery/color/colormap_reference.html\n",
    "\n",
    "######################\n",
    "# running the correlation\n",
    "df_corr.corr()\n",
    "\n",
    "# setting up the heatmap\n",
    "corrmat = df_corr.corr()\n",
    "\n",
    "# set the figure size\n",
    "f, ax = plt.subplots(figsize=(9, 6))\n",
    "\n",
    "# pass the data and set the parameters\n",
    "sns.heatmap(corrmat, vmax=.8, square=True, annot=True, cmap='RdBu', linewidths=.5 )\n",
    "plt.title('Crime and Budget')\n",
    "\n",
    "# images can be saved - default is .png\n",
    "# https://matplotlib.org/3.1.1/api/_as_gen/matplotlib.pyplot.savefig.html\n",
    "plt.savefig('Crime_and_Budget')\n",
    "######################\n"
   ]
  },
  {
   "cell_type": "markdown",
   "metadata": {},
   "source": [
    "### Anlaysis:\n",
    "There is a strong positive correlation (0.96) between violent crime and property crime. Although maybe not a causation, it would make sense that both would rise and fall together since they are both classified as crime.\n",
    "\n",
    "There is a strong negative correlation between Corporate Fund and Property Crime (-0.81). There is a moderate negative correlation between Corporate Fund and Violent Crime (-0.73) and Police Budget and Property Crime (-0.71). There is a weaker negative correlation between Police Budget and Violent Crime (-0.59). Overall, it appears that Corporate fund has a higher affect on decreasing crime than the Police Budget, especially on Property Crime. Whereas Police Budget has a weaker affect on decreasing crime, also with a favor in Property Crime. We may infer that the Corporate Fund may have a higher effect because it invests in other funds such as homelessness and mental health. It's interesting to see that budget also has a weaker effect on Violent Crime than Property Crime."
   ]
  },
  {
   "cell_type": "code",
   "execution_count": 37,
   "metadata": {},
   "outputs": [
    {
     "data": {
      "image/png": "[encoded data removed]",
      "text/plain": [
       "<Figure size 432x288 with 4 Axes>"
      ]
     },
     "metadata": {
      "needs_background": "light"
     },
     "output_type": "display_data"
    }
   ],
   "source": [
    "# =========================\n",
    "# Graph of Crime and Budget\n",
    "# =========================\n",
    "\n",
    "plt.suptitle('Crime vs Budget')\n",
    "\n",
    "data_vio = data_both[data_both['Violent_Crime_PC'].notnull()]\n",
    "data_prop = data_both[data_both['Property_Crime_PC'].notnull()]\n",
    "\n",
    "#Corporate Fund vs Violent Crime\n",
    "plt.subplot(2, 2, 1)\n",
    "plt.plot( 'Corporate_Fund_PC', 'Violent_Crime_PC', data=data_vio, marker='o', markerfacecolor='blue', markersize=4, color='skyblue', linewidth=4, linestyle='None')\n",
    "plt.title(' ')\n",
    "#plt.xlabel('Corporate Fund')\n",
    "plt.ylabel('Violent Crime')\n",
    "\n",
    "#Police Budget vs Violent Crime\n",
    "plt.subplot(2, 2, 2)\n",
    "plt.plot( 'Police_Budget_PC', 'Violent_Crime_PC', data=data_vio, marker='o', markerfacecolor='lightcoral', markersize=4, color='darksalmon', linewidth=4, linestyle='None')\n",
    "#plt.title('--')\n",
    "#plt.xlabel('CPD Budget')\n",
    "#plt.ylabel('Violent Crime')\n",
    "\n",
    "#Corporate Fund vs Property Crime\n",
    "plt.subplot(2, 2, 3)\n",
    "plt.plot( 'Corporate_Fund_PC', 'Property_Crime_PC', data=data_prop, marker='o', markerfacecolor='blue', markersize=4, color='skyblue', linewidth=4, linestyle='None')\n",
    "#plt.title('--')\n",
    "plt.xlabel('Corporate Fund')\n",
    "plt.ylabel('Property Crime')\n",
    "\n",
    "#Police Budget vs Property Crime\n",
    "plt.subplot(2, 2, 4)\n",
    "plt.plot( 'Police_Budget_PC', 'Property_Crime_PC', data=data_prop, marker='o', markerfacecolor='lightcoral', markersize=4, color='darksalmon', linewidth=4, linestyle='None')\n",
    "#plt.title('--')\n",
    "plt.xlabel('CPD Budget')\n",
    "#plt.ylabel('Property Crime')\n",
    "\n",
    "plt.tight_layout()"
   ]
  },
  {
   "cell_type": "markdown",
   "metadata": {},
   "source": [
    "### Anlaysis:\n",
    "It is clear that there is a negative correlation between crime and budget. To determine if the budget increase proportionally decreases crime, we will fit a linear regression. This hypothosis will hold true if the R^2 for linear regression is higher than that of an exponential or logartithmic regression.\n",
    "\n",
    "### Hypothesis:\n",
    "The R^2 of exponential and logarithmic models are greater than a linear regression, indicating that the increase in budget does not proportionally decrease crime: the police is overfunded."
   ]
  },
  {
   "cell_type": "code",
   "execution_count": 38,
   "metadata": {},
   "outputs": [
    {
     "name": "stdout",
     "output_type": "stream",
     "text": [
      "R^2 for linear/violent: 0.3518073313715513\n",
      "R^2 for linear/property: 0.506379629756931\n",
      "R^2 for log/violent: 0.3556195029887253\n",
      "R^2 for log/property: 0.5063098130098614\n",
      "R^2 for exp/violent: 0.41236149659873905\n",
      "R^2 for exp/property: 0.5602082172384005\n"
     ]
    }
   ],
   "source": [
    "# =========================\n",
    "#     Linear Regressions --> y = A + B*x,\n",
    "# =========================\n",
    "\n",
    "import numpy as np\n",
    "from sklearn.linear_model import LinearRegression\n",
    "\n",
    "x1 = np.array(data_vio['Police_Budget_PC']).reshape((-1, 1))\n",
    "y1 = np.array(data_vio['Violent_Crime_PC'])\n",
    "model = LinearRegression().fit(x1, y1)\n",
    "r_sq_lin_v = model.score(x1, y1)\n",
    "print('R^2 for linear/violent:', r_sq_lin_v)\n",
    "\n",
    "x2 = np.array(data_prop['Police_Budget_PC']).reshape((-1, 1))\n",
    "y2 = np.array(data_prop['Property_Crime_PC'])\n",
    "model = LinearRegression().fit(x2, y2)\n",
    "r_sq_lin_p = model.score(x2, y2)\n",
    "print('R^2 for linear/property:', r_sq_lin_p)\n",
    "\n",
    "# =========================\n",
    "#  Logarithmic Regressions --> y = A + B log x\n",
    "# =========================\n",
    "\n",
    "import numpy\n",
    "def polyfit(x, y, degree):\n",
    "    results = {}\n",
    "\n",
    "    coeffs = numpy.polyfit(x, y, degree)\n",
    "\n",
    "     # Polynomial Coefficients\n",
    "    results['polynomial'] = coeffs.tolist()\n",
    "\n",
    "    # r-squared\n",
    "    p = numpy.poly1d(coeffs)\n",
    "    # fit values, and mean\n",
    "    yhat = p(x)                         # or [p(z) for z in x]\n",
    "    ybar = numpy.sum(y)/len(y)          # or sum(y)/len(y)\n",
    "    ssreg = numpy.sum((yhat-ybar)**2)   # or sum([ (yihat - ybar)**2 for yihat in yhat])\n",
    "    sstot = numpy.sum((y - ybar)**2)    # or sum([ (yi - ybar)**2 for yi in y])\n",
    "    results['determination'] = ssreg / sstot\n",
    "\n",
    "    return results['determination']\n",
    "\n",
    "x3 = np.array(np.log(data_vio['Police_Budget_PC']))\n",
    "y3 = np.array(data_vio['Violent_Crime_PC'])\n",
    "r_sq_log_v = polyfit(x3, y3, 1)\n",
    "print('R^2 for log/violent:', r_sq_log_v)\n",
    "\n",
    "x4 = np.array(np.log(data_prop['Police_Budget_PC']))\n",
    "y4 = np.array(data_prop['Property_Crime_PC'])\n",
    "r_sq_log_p = polyfit(x4, y4, 1)\n",
    "print('R^2 for log/property:', r_sq_log_p)\n",
    "\n",
    "# =========================\n",
    "#  Exponential Regressions --> y = Ae^(Bx)\n",
    "# =========================\n",
    "\n",
    "x5 = np.array(data_vio['Police_Budget_PC'])\n",
    "y5 = np.array(np.log(data_vio['Violent_Crime_PC']))\n",
    "r_sq_log_v = polyfit(x5, y5, 1)\n",
    "print('R^2 for exp/violent:', r_sq_log_v)\n",
    "\n",
    "x6 = np.array(data_prop['Police_Budget_PC'])\n",
    "y6 = np.array(np.log(data_prop['Property_Crime_PC']))\n",
    "r_sq_log_p = polyfit(x6, y6, 1)\n",
    "print('R^2 for exp/property:', r_sq_log_p)\n"
   ]
  },
  {
   "cell_type": "markdown",
   "metadata": {},
   "source": [
    "### Analysis:\n",
    "The exponential functions have higher R^2 and are better at predicting crime rates by 6% for both violent and property crime. This supports our hypothesis that City Budget does not have a proportionate relationship between crime and budget. We conclude that the Police Department is overfunded and an increas in budget has less and less effect on the decrease in Crime"
   ]
  },
  {
   "cell_type": "markdown",
   "metadata": {},
   "source": [
    "## Part 4: Appropriate Budget\n",
    "\n",
    "In this section we will compare an appropriate budget for 2020 assuming that there is a median decrease in crime this year to what the current budget is. We will use the exponential models since it had the highest R^2 value."
   ]
  },
  {
   "cell_type": "code",
   "execution_count": 39,
   "metadata": {},
   "outputs": [
    {
     "name": "stdout",
     "output_type": "stream",
     "text": [
      "Predicted CPD Total (exp) from VC: [1.58011153e+09]\n",
      "Predicted CPD Total (exp) from PC: [1.59262167e+09]\n",
      "Predicted CPD Total (lin) from VC: [1.55495281e+09]\n",
      "Predicted CPD Total (lin) from PC: [1.57068203e+09]\n"
     ]
    }
   ],
   "source": [
    "# =========================\n",
    "#   Appropriate Budget\n",
    "# =========================\n",
    "x5 = np.array(data_vio['Police_Budget_PC'])\n",
    "y5 = np.array(np.log(data_vio['Violent_Crime_PC']))\n",
    "#2019 Violent Crime PC minus median difference in Violent Crime PC\n",
    "val5 = data_both['Violent_Crime_PC'][1] + (data_both['Violent_Crime_PC'].diff()).median()\n",
    "\n",
    "x6 = np.array(data_prop['Police_Budget_PC'])\n",
    "y6 = np.array(np.log(data_prop['Property_Crime_PC']))\n",
    "#2019 Property Crime PC minus median difference in Property Crime PC\n",
    "val6 = data_both['Property_Crime_PC'][1] + (data_both['Property_Crime_PC'].diff()).median()\n",
    "\n",
    "def find_x_from_y(x, y, deg, value, threshold=1E-6):\n",
    "    r = np.roots(np.polyfit(x, y - value, deg))\n",
    "    return r.real[abs(r.imag) < threshold] \n",
    "\n",
    "\n",
    "## THE GENEROUS ESTIMATE - Exponential Model\n",
    "#Predicted Police Budget PC from a median decrease in Violent Crime\n",
    "z1 = find_x_from_y(x5, y5, 1, np.log(val5))\n",
    "print(\"Predicted CPD Total (exp) from VC:\", z1 * data_both['Population'][1] )\n",
    "#Predicted Police Budget PC from a median decrease in Property Crime\n",
    "z2 = find_x_from_y(x6, y6, 1, np.log(val6))\n",
    "print(\"Predicted CPD Total (exp) from PC:\", z2 * data_both['Population'][1] )\n",
    "\n",
    "\n",
    "## THE REALISTIC ESTIMATE - LINEAR Model\n",
    "#Predicted Police Budget PC from a median decrease in Violent Crime\n",
    "model1 = LinearRegression().fit(x1, y1)\n",
    "z3 = numpy.roots([model1.coef_, model1.intercept_ - val5])\n",
    "print(\"Predicted CPD Total (lin) from VC:\", z3 * data_both['Population'][1])\n",
    "#Predicted Police Budget PC from a median decrease in Property Crime\n",
    "model2 = LinearRegression().fit(x2, y2)\n",
    "z4 = numpy.roots([model2.coef_, model2.intercept_ - val6])\n",
    "print(\"Predicted CPD Total (lin) from PC:\", z4 * data_both['Population'][1] )"
   ]
  },
  {
   "cell_type": "markdown",
   "metadata": {},
   "source": [
    "### Analysis:\n",
    "The actual CPD Budget for 2020 is 1.636 Billion dollars. \n",
    "\n",
    "### A Generous Prediction - Exponential Model\n",
    "Using our accurate exponential model, we assume that each increase in the police budget has a smaller affect on crime rates (inefficient).\n",
    "\n",
    "The predicted Police Budget Total for 2020 with a median decrease in Violent Crime and Property Crime ranges from 1.580 to 1.593 billion dollars. To put that in perspective, our exponential model claims that the CPD Budget is overfunded by 43-56 Million dollars.\n",
    "\n",
    "STD Police_Budget_Total is 8.048622e+07 (overfunded by 0.53-0.70 standard deviations: reasonable)\n",
    "\n",
    "### A Realistic Prediction - Linear Model\n",
    "Using a idealistic model where each increase in police budget is directly proportional to a decrease in crime, we predict the following CPD Budget for 2020.\n",
    "\n",
    "The predicted Police Budget Total for 2020 with a median decrease in Violent Crime and Property Crime ranges from 1.555 to 1.571 billion dollars. To put that in perspective, our exponential model claims that the CPD Budget is overfunded by 65-81 Million dollars.\n",
    "\n",
    "STD Police_Budget_Total is 8.048622e+07 (overfunded by 0.80-1.01 standard deviations: reasonable)\n",
    "\n",
    "### Comparing the CPD Budget to other Finances\n",
    "\n",
    "The 1,636 Million Dollar CPD Budget, large as it is, is at least overfunded by 43-81 Million dollars.\n",
    "\n",
    "Other 2020 Budget Items:\n",
    "\n",
    "- $10.0 million for affordable housing and homelessness\n",
    "\n",
    "- $9.0 million for violence prevention\n",
    "\n",
    "- $21.2 million for mental health services"
   ]
  },
  {
   "cell_type": "markdown",
   "metadata": {},
   "source": [
    "## Part 5: Final Thoughts and Future Directions\n",
    "\n",
    "We can conclude from this exploratory data analysis that the Chicago Police Department is overfunded. Using predictive models, we see that non-linear models better explain the relationship between crime and budget. For each increase in the annual city budget, there is less and less affect on the crime that exists (meaning that the police do not effectively utilize the budget because the relationship is not proportional/linear).\n",
    "\n",
    "With that being said, instead of increasing Police Budget which has less and less impact on the decrease in crime, the City of Chicago should explore increasing budget for education, homelessness, and mental health resources. These resources prevent crime at the source (poverty) whereas the police prevent crime after-the-fact. "
   ]
  },
  {
   "cell_type": "code",
   "execution_count": null,
   "metadata": {},
   "outputs": [],
   "source": []
  },
  {
   "cell_type": "code",
   "execution_count": null,
   "metadata": {},
   "outputs": [],
   "source": []
  }
 ],
 "metadata": {
  "kernelspec": {
   "display_name": "Python 3",
   "language": "python",
   "name": "python3"
  },
  "language_info": {
   "codemirror_mode": {
    "name": "ipython",
    "version": 3
   },
   "file_extension": ".py",
   "mimetype": "text/x-python",
   "name": "python",
   "nbconvert_exporter": "python",
   "pygments_lexer": "ipython3",
   "version": "3.8.3"
  }
 },
 "nbformat": 4,
 "nbformat_minor": 1
}
