{
 "cells": [
  {
   "cell_type": "markdown",
   "metadata": {},
   "source": [
    "# MSDS 422 Assignment 3"
   ]
  },
  {
   "cell_type": "markdown",
   "metadata": {},
   "source": [
    "## Background\n",
    "Compete in the House Prices:  Advanced Regression Techniques (Links to an external site.) competition, where you will predict house prices in Ames, Iowa (‘SalePrice’).  You will be required to submit predictions to Kaggle.com and provide evidence of those submissions. As part of the analysis, you must address the following at a minimum. "
   ]
  },
  {
   "cell_type": "markdown",
   "metadata": {},
   "source": [
    "## Management/Research Question\n",
    "Based off the information we see from the dataset, we want to determine what variables may be important in determining the Sale Price of a property. This may help in determining reasonable selling prices of future properties."
   ]
  },
  {
   "cell_type": "markdown",
   "metadata": {},
   "source": [
    "## Data Exploration"
   ]
  },
  {
   "cell_type": "code",
   "execution_count": 1,
   "metadata": {},
   "outputs": [
    {
     "name": "stdout",
     "output_type": "stream",
     "text": [
      "Requirement already satisfied: lazypredict in /Users/kagenquiballo/opt/anaconda3/lib/python3.8/site-packages (0.2.9)\n",
      "Requirement already satisfied: six==1.15.0 in /Users/kagenquiballo/opt/anaconda3/lib/python3.8/site-packages (from lazypredict) (1.15.0)\n",
      "Requirement already satisfied: numpy==1.19.1 in /Users/kagenquiballo/opt/anaconda3/lib/python3.8/site-packages (from lazypredict) (1.19.1)\n",
      "Requirement already satisfied: lightgbm==2.3.1 in /Users/kagenquiballo/opt/anaconda3/lib/python3.8/site-packages (from lazypredict) (2.3.1)\n",
      "Requirement already satisfied: PyYAML==5.3.1 in /Users/kagenquiballo/opt/anaconda3/lib/python3.8/site-packages (from lazypredict) (5.3.1)\n",
      "Requirement already satisfied: scikit-learn==0.23.1 in /Users/kagenquiballo/opt/anaconda3/lib/python3.8/site-packages (from lazypredict) (0.23.1)\n",
      "Requirement already satisfied: pandas==1.0.5 in /Users/kagenquiballo/opt/anaconda3/lib/python3.8/site-packages (from lazypredict) (1.0.5)\n",
      "Requirement already satisfied: tqdm==4.56.0 in /Users/kagenquiballo/opt/anaconda3/lib/python3.8/site-packages (from lazypredict) (4.56.0)\n",
      "Requirement already satisfied: joblib==1.0.0 in /Users/kagenquiballo/opt/anaconda3/lib/python3.8/site-packages (from lazypredict) (1.0.0)\n",
      "Requirement already satisfied: xgboost==1.1.1 in /Users/kagenquiballo/opt/anaconda3/lib/python3.8/site-packages (from lazypredict) (1.1.1)\n",
      "Requirement already satisfied: scipy==1.5.4 in /Users/kagenquiballo/opt/anaconda3/lib/python3.8/site-packages (from lazypredict) (1.5.4)\n",
      "Requirement already satisfied: click==7.1.2 in /Users/kagenquiballo/opt/anaconda3/lib/python3.8/site-packages (from lazypredict) (7.1.2)\n",
      "Requirement already satisfied: pytest==5.4.3 in /Users/kagenquiballo/opt/anaconda3/lib/python3.8/site-packages (from lazypredict) (5.4.3)\n",
      "Requirement already satisfied: threadpoolctl>=2.0.0 in /Users/kagenquiballo/opt/anaconda3/lib/python3.8/site-packages (from scikit-learn==0.23.1->lazypredict) (2.1.0)\n",
      "Requirement already satisfied: python-dateutil>=2.6.1 in /Users/kagenquiballo/opt/anaconda3/lib/python3.8/site-packages (from pandas==1.0.5->lazypredict) (2.8.1)\n",
      "Requirement already satisfied: pytz>=2017.2 in /Users/kagenquiballo/opt/anaconda3/lib/python3.8/site-packages (from pandas==1.0.5->lazypredict) (2020.1)\n",
      "Requirement already satisfied: py>=1.5.0 in /Users/kagenquiballo/opt/anaconda3/lib/python3.8/site-packages (from pytest==5.4.3->lazypredict) (1.9.0)\n",
      "Requirement already satisfied: packaging in /Users/kagenquiballo/opt/anaconda3/lib/python3.8/site-packages (from pytest==5.4.3->lazypredict) (20.4)\n",
      "Requirement already satisfied: attrs>=17.4.0 in /Users/kagenquiballo/opt/anaconda3/lib/python3.8/site-packages (from pytest==5.4.3->lazypredict) (19.3.0)\n",
      "Requirement already satisfied: more-itertools>=4.0.0 in /Users/kagenquiballo/opt/anaconda3/lib/python3.8/site-packages (from pytest==5.4.3->lazypredict) (8.4.0)\n",
      "Requirement already satisfied: pluggy<1.0,>=0.12 in /Users/kagenquiballo/opt/anaconda3/lib/python3.8/site-packages (from pytest==5.4.3->lazypredict) (0.13.1)\n",
      "Requirement already satisfied: wcwidth in /Users/kagenquiballo/opt/anaconda3/lib/python3.8/site-packages (from pytest==5.4.3->lazypredict) (0.2.5)\n",
      "Requirement already satisfied: pyparsing>=2.0.2 in /Users/kagenquiballo/opt/anaconda3/lib/python3.8/site-packages (from packaging->pytest==5.4.3->lazypredict) (2.4.7)\n"
     ]
    },
    {
     "name": "stderr",
     "output_type": "stream",
     "text": [
      "/Users/kagenquiballo/opt/anaconda3/lib/python3.8/site-packages/sklearn/utils/deprecation.py:143: FutureWarning: The sklearn.utils.testing module is  deprecated in version 0.22 and will be removed in version 0.24. The corresponding classes / functions should instead be imported from sklearn.utils. Anything that cannot be imported from sklearn.utils is now part of the private API.\n",
      "  warnings.warn(message, FutureWarning)\n"
     ]
    }
   ],
   "source": [
    "import pandas as pd\n",
    "import matplotlib.pyplot as plt\n",
    "from scipy import stats\n",
    "import numpy as np\n",
    "import warnings\n",
    "\n",
    "import statsmodels.api as sm\n",
    "from statsmodels.stats.outliers_influence import variance_inflation_factor\n",
    "from sklearn.ensemble import IsolationForest\n",
    "\n",
    "from sklearn.preprocessing import StandardScaler\n",
    "from sklearn.model_selection import train_test_split\n",
    "from sklearn.metrics import r2_score, mean_absolute_error, mean_squared_error\n",
    "from sklearn.metrics import mean_squared_log_error\n",
    "import xgboost as xgb\n",
    "from sklearn.model_selection import GridSearchCV\n",
    "from sklearn import model_selection\n",
    "\n",
    "from sklearn.linear_model import LinearRegression\n",
    "from sklearn.linear_model import Ridge\n",
    "from sklearn.linear_model import Lasso\n",
    "from sklearn.linear_model import ElasticNet\n",
    "from sklearn.linear_model import ElasticNetCV\n",
    "from sklearn.model_selection import RepeatedKFold\n",
    "from sklearn.svm import SVR\n",
    "from xgboost import XGBRegressor\n",
    "from sklearn.preprocessing import PolynomialFeatures\n",
    "\n",
    "import sys\n",
    "!{sys.executable} -m pip install lazypredict\n",
    "from lazypredict.Supervised import LazyRegressor"
   ]
  },
  {
   "cell_type": "code",
   "execution_count": 2,
   "metadata": {},
   "outputs": [],
   "source": [
    "#import data\n",
    "train = pd.read_csv('train.csv')\n",
    "test = pd.read_csv('test.csv')"
   ]
  },
  {
   "cell_type": "code",
   "execution_count": 3,
   "metadata": {},
   "outputs": [],
   "source": [
    "#no need for ID (arbitrary number)\n",
    "train = train.drop(labels = 'Id',axis=1)\n",
    "test = test.drop(labels = 'Id',axis=1)"
   ]
  },
  {
   "cell_type": "code",
   "execution_count": 4,
   "metadata": {},
   "outputs": [
    {
     "data": {
      "text/plain": [
       "(1460, 80)"
      ]
     },
     "execution_count": 4,
     "metadata": {},
     "output_type": "execute_result"
    }
   ],
   "source": [
    "train.shape"
   ]
  },
  {
   "cell_type": "markdown",
   "metadata": {},
   "source": [
    "There are 1460 records and 80 variables in the training dataset."
   ]
  },
  {
   "cell_type": "code",
   "execution_count": 5,
   "metadata": {},
   "outputs": [
    {
     "data": {
      "text/plain": [
       "(1460, 43)"
      ]
     },
     "execution_count": 5,
     "metadata": {},
     "output_type": "execute_result"
    }
   ],
   "source": [
    "train.select_dtypes(include=object).shape"
   ]
  },
  {
   "cell_type": "markdown",
   "metadata": {},
   "source": [
    "43 of the variables are non-numeric variables."
   ]
  },
  {
   "cell_type": "code",
   "execution_count": 6,
   "metadata": {},
   "outputs": [
    {
     "data": {
      "text/plain": [
       "(1460, 37)"
      ]
     },
     "execution_count": 6,
     "metadata": {},
     "output_type": "execute_result"
    }
   ],
   "source": [
    "train.select_dtypes(include=np.number).shape"
   ]
  },
  {
   "cell_type": "markdown",
   "metadata": {},
   "source": [
    "37 of the variables are numeric variables."
   ]
  },
  {
   "cell_type": "code",
   "execution_count": 7,
   "metadata": {},
   "outputs": [
    {
     "data": {
      "text/html": [
       "<div>\n",
       "<style scoped>\n",
       "    .dataframe tbody tr th:only-of-type {\n",
       "        vertical-align: middle;\n",
       "    }\n",
       "\n",
       "    .dataframe tbody tr th {\n",
       "        vertical-align: top;\n",
       "    }\n",
       "\n",
       "    .dataframe thead th {\n",
       "        text-align: right;\n",
       "    }\n",
       "</style>\n",
       "<table border=\"1\" class=\"dataframe\">\n",
       "  <thead>\n",
       "    <tr style=\"text-align: right;\">\n",
       "      <th></th>\n",
       "      <th>MSSubClass</th>\n",
       "      <th>LotFrontage</th>\n",
       "      <th>LotArea</th>\n",
       "      <th>OverallQual</th>\n",
       "      <th>OverallCond</th>\n",
       "      <th>YearBuilt</th>\n",
       "      <th>YearRemodAdd</th>\n",
       "      <th>MasVnrArea</th>\n",
       "      <th>BsmtFinSF1</th>\n",
       "      <th>BsmtFinSF2</th>\n",
       "      <th>...</th>\n",
       "      <th>WoodDeckSF</th>\n",
       "      <th>OpenPorchSF</th>\n",
       "      <th>EnclosedPorch</th>\n",
       "      <th>3SsnPorch</th>\n",
       "      <th>ScreenPorch</th>\n",
       "      <th>PoolArea</th>\n",
       "      <th>MiscVal</th>\n",
       "      <th>MoSold</th>\n",
       "      <th>YrSold</th>\n",
       "      <th>SalePrice</th>\n",
       "    </tr>\n",
       "  </thead>\n",
       "  <tbody>\n",
       "    <tr>\n",
       "      <th>0</th>\n",
       "      <td>60</td>\n",
       "      <td>65.00</td>\n",
       "      <td>8450</td>\n",
       "      <td>7</td>\n",
       "      <td>5</td>\n",
       "      <td>2003</td>\n",
       "      <td>2003</td>\n",
       "      <td>196.00</td>\n",
       "      <td>706</td>\n",
       "      <td>0</td>\n",
       "      <td>...</td>\n",
       "      <td>0</td>\n",
       "      <td>61</td>\n",
       "      <td>0</td>\n",
       "      <td>0</td>\n",
       "      <td>0</td>\n",
       "      <td>0</td>\n",
       "      <td>0</td>\n",
       "      <td>2</td>\n",
       "      <td>2008</td>\n",
       "      <td>208500</td>\n",
       "    </tr>\n",
       "    <tr>\n",
       "      <th>1</th>\n",
       "      <td>20</td>\n",
       "      <td>80.00</td>\n",
       "      <td>9600</td>\n",
       "      <td>6</td>\n",
       "      <td>8</td>\n",
       "      <td>1976</td>\n",
       "      <td>1976</td>\n",
       "      <td>0.00</td>\n",
       "      <td>978</td>\n",
       "      <td>0</td>\n",
       "      <td>...</td>\n",
       "      <td>298</td>\n",
       "      <td>0</td>\n",
       "      <td>0</td>\n",
       "      <td>0</td>\n",
       "      <td>0</td>\n",
       "      <td>0</td>\n",
       "      <td>0</td>\n",
       "      <td>5</td>\n",
       "      <td>2007</td>\n",
       "      <td>181500</td>\n",
       "    </tr>\n",
       "    <tr>\n",
       "      <th>2</th>\n",
       "      <td>60</td>\n",
       "      <td>68.00</td>\n",
       "      <td>11250</td>\n",
       "      <td>7</td>\n",
       "      <td>5</td>\n",
       "      <td>2001</td>\n",
       "      <td>2002</td>\n",
       "      <td>162.00</td>\n",
       "      <td>486</td>\n",
       "      <td>0</td>\n",
       "      <td>...</td>\n",
       "      <td>0</td>\n",
       "      <td>42</td>\n",
       "      <td>0</td>\n",
       "      <td>0</td>\n",
       "      <td>0</td>\n",
       "      <td>0</td>\n",
       "      <td>0</td>\n",
       "      <td>9</td>\n",
       "      <td>2008</td>\n",
       "      <td>223500</td>\n",
       "    </tr>\n",
       "    <tr>\n",
       "      <th>3</th>\n",
       "      <td>70</td>\n",
       "      <td>60.00</td>\n",
       "      <td>9550</td>\n",
       "      <td>7</td>\n",
       "      <td>5</td>\n",
       "      <td>1915</td>\n",
       "      <td>1970</td>\n",
       "      <td>0.00</td>\n",
       "      <td>216</td>\n",
       "      <td>0</td>\n",
       "      <td>...</td>\n",
       "      <td>0</td>\n",
       "      <td>35</td>\n",
       "      <td>272</td>\n",
       "      <td>0</td>\n",
       "      <td>0</td>\n",
       "      <td>0</td>\n",
       "      <td>0</td>\n",
       "      <td>2</td>\n",
       "      <td>2006</td>\n",
       "      <td>140000</td>\n",
       "    </tr>\n",
       "    <tr>\n",
       "      <th>4</th>\n",
       "      <td>60</td>\n",
       "      <td>84.00</td>\n",
       "      <td>14260</td>\n",
       "      <td>8</td>\n",
       "      <td>5</td>\n",
       "      <td>2000</td>\n",
       "      <td>2000</td>\n",
       "      <td>350.00</td>\n",
       "      <td>655</td>\n",
       "      <td>0</td>\n",
       "      <td>...</td>\n",
       "      <td>192</td>\n",
       "      <td>84</td>\n",
       "      <td>0</td>\n",
       "      <td>0</td>\n",
       "      <td>0</td>\n",
       "      <td>0</td>\n",
       "      <td>0</td>\n",
       "      <td>12</td>\n",
       "      <td>2008</td>\n",
       "      <td>250000</td>\n",
       "    </tr>\n",
       "  </tbody>\n",
       "</table>\n",
       "<p>5 rows × 37 columns</p>\n",
       "</div>"
      ],
      "text/plain": [
       "   MSSubClass  LotFrontage  LotArea  OverallQual  OverallCond  YearBuilt  \\\n",
       "0          60        65.00     8450            7            5       2003   \n",
       "1          20        80.00     9600            6            8       1976   \n",
       "2          60        68.00    11250            7            5       2001   \n",
       "3          70        60.00     9550            7            5       1915   \n",
       "4          60        84.00    14260            8            5       2000   \n",
       "\n",
       "   YearRemodAdd  MasVnrArea  BsmtFinSF1  BsmtFinSF2  ...  WoodDeckSF  \\\n",
       "0          2003      196.00         706           0  ...           0   \n",
       "1          1976        0.00         978           0  ...         298   \n",
       "2          2002      162.00         486           0  ...           0   \n",
       "3          1970        0.00         216           0  ...           0   \n",
       "4          2000      350.00         655           0  ...         192   \n",
       "\n",
       "   OpenPorchSF  EnclosedPorch  3SsnPorch  ScreenPorch  PoolArea  MiscVal  \\\n",
       "0           61              0          0            0         0        0   \n",
       "1            0              0          0            0         0        0   \n",
       "2           42              0          0            0         0        0   \n",
       "3           35            272          0            0         0        0   \n",
       "4           84              0          0            0         0        0   \n",
       "\n",
       "   MoSold  YrSold  SalePrice  \n",
       "0       2    2008     208500  \n",
       "1       5    2007     181500  \n",
       "2       9    2008     223500  \n",
       "3       2    2006     140000  \n",
       "4      12    2008     250000  \n",
       "\n",
       "[5 rows x 37 columns]"
      ]
     },
     "execution_count": 7,
     "metadata": {},
     "output_type": "execute_result"
    }
   ],
   "source": [
    "train.select_dtypes(include=np.number).head()"
   ]
  },
  {
   "cell_type": "code",
   "execution_count": 8,
   "metadata": {},
   "outputs": [
    {
     "data": {
      "text/html": [
       "<div>\n",
       "<style scoped>\n",
       "    .dataframe tbody tr th:only-of-type {\n",
       "        vertical-align: middle;\n",
       "    }\n",
       "\n",
       "    .dataframe tbody tr th {\n",
       "        vertical-align: top;\n",
       "    }\n",
       "\n",
       "    .dataframe thead th {\n",
       "        text-align: right;\n",
       "    }\n",
       "</style>\n",
       "<table border=\"1\" class=\"dataframe\">\n",
       "  <thead>\n",
       "    <tr style=\"text-align: right;\">\n",
       "      <th></th>\n",
       "      <th>MSZoning</th>\n",
       "      <th>Street</th>\n",
       "      <th>Alley</th>\n",
       "      <th>LotShape</th>\n",
       "      <th>LandContour</th>\n",
       "      <th>Utilities</th>\n",
       "      <th>LotConfig</th>\n",
       "      <th>LandSlope</th>\n",
       "      <th>Neighborhood</th>\n",
       "      <th>Condition1</th>\n",
       "      <th>...</th>\n",
       "      <th>GarageType</th>\n",
       "      <th>GarageFinish</th>\n",
       "      <th>GarageQual</th>\n",
       "      <th>GarageCond</th>\n",
       "      <th>PavedDrive</th>\n",
       "      <th>PoolQC</th>\n",
       "      <th>Fence</th>\n",
       "      <th>MiscFeature</th>\n",
       "      <th>SaleType</th>\n",
       "      <th>SaleCondition</th>\n",
       "    </tr>\n",
       "  </thead>\n",
       "  <tbody>\n",
       "    <tr>\n",
       "      <th>0</th>\n",
       "      <td>RL</td>\n",
       "      <td>Pave</td>\n",
       "      <td>NaN</td>\n",
       "      <td>Reg</td>\n",
       "      <td>Lvl</td>\n",
       "      <td>AllPub</td>\n",
       "      <td>Inside</td>\n",
       "      <td>Gtl</td>\n",
       "      <td>CollgCr</td>\n",
       "      <td>Norm</td>\n",
       "      <td>...</td>\n",
       "      <td>Attchd</td>\n",
       "      <td>RFn</td>\n",
       "      <td>TA</td>\n",
       "      <td>TA</td>\n",
       "      <td>Y</td>\n",
       "      <td>NaN</td>\n",
       "      <td>NaN</td>\n",
       "      <td>NaN</td>\n",
       "      <td>WD</td>\n",
       "      <td>Normal</td>\n",
       "    </tr>\n",
       "    <tr>\n",
       "      <th>1</th>\n",
       "      <td>RL</td>\n",
       "      <td>Pave</td>\n",
       "      <td>NaN</td>\n",
       "      <td>Reg</td>\n",
       "      <td>Lvl</td>\n",
       "      <td>AllPub</td>\n",
       "      <td>FR2</td>\n",
       "      <td>Gtl</td>\n",
       "      <td>Veenker</td>\n",
       "      <td>Feedr</td>\n",
       "      <td>...</td>\n",
       "      <td>Attchd</td>\n",
       "      <td>RFn</td>\n",
       "      <td>TA</td>\n",
       "      <td>TA</td>\n",
       "      <td>Y</td>\n",
       "      <td>NaN</td>\n",
       "      <td>NaN</td>\n",
       "      <td>NaN</td>\n",
       "      <td>WD</td>\n",
       "      <td>Normal</td>\n",
       "    </tr>\n",
       "    <tr>\n",
       "      <th>2</th>\n",
       "      <td>RL</td>\n",
       "      <td>Pave</td>\n",
       "      <td>NaN</td>\n",
       "      <td>IR1</td>\n",
       "      <td>Lvl</td>\n",
       "      <td>AllPub</td>\n",
       "      <td>Inside</td>\n",
       "      <td>Gtl</td>\n",
       "      <td>CollgCr</td>\n",
       "      <td>Norm</td>\n",
       "      <td>...</td>\n",
       "      <td>Attchd</td>\n",
       "      <td>RFn</td>\n",
       "      <td>TA</td>\n",
       "      <td>TA</td>\n",
       "      <td>Y</td>\n",
       "      <td>NaN</td>\n",
       "      <td>NaN</td>\n",
       "      <td>NaN</td>\n",
       "      <td>WD</td>\n",
       "      <td>Normal</td>\n",
       "    </tr>\n",
       "    <tr>\n",
       "      <th>3</th>\n",
       "      <td>RL</td>\n",
       "      <td>Pave</td>\n",
       "      <td>NaN</td>\n",
       "      <td>IR1</td>\n",
       "      <td>Lvl</td>\n",
       "      <td>AllPub</td>\n",
       "      <td>Corner</td>\n",
       "      <td>Gtl</td>\n",
       "      <td>Crawfor</td>\n",
       "      <td>Norm</td>\n",
       "      <td>...</td>\n",
       "      <td>Detchd</td>\n",
       "      <td>Unf</td>\n",
       "      <td>TA</td>\n",
       "      <td>TA</td>\n",
       "      <td>Y</td>\n",
       "      <td>NaN</td>\n",
       "      <td>NaN</td>\n",
       "      <td>NaN</td>\n",
       "      <td>WD</td>\n",
       "      <td>Abnorml</td>\n",
       "    </tr>\n",
       "    <tr>\n",
       "      <th>4</th>\n",
       "      <td>RL</td>\n",
       "      <td>Pave</td>\n",
       "      <td>NaN</td>\n",
       "      <td>IR1</td>\n",
       "      <td>Lvl</td>\n",
       "      <td>AllPub</td>\n",
       "      <td>FR2</td>\n",
       "      <td>Gtl</td>\n",
       "      <td>NoRidge</td>\n",
       "      <td>Norm</td>\n",
       "      <td>...</td>\n",
       "      <td>Attchd</td>\n",
       "      <td>RFn</td>\n",
       "      <td>TA</td>\n",
       "      <td>TA</td>\n",
       "      <td>Y</td>\n",
       "      <td>NaN</td>\n",
       "      <td>NaN</td>\n",
       "      <td>NaN</td>\n",
       "      <td>WD</td>\n",
       "      <td>Normal</td>\n",
       "    </tr>\n",
       "  </tbody>\n",
       "</table>\n",
       "<p>5 rows × 43 columns</p>\n",
       "</div>"
      ],
      "text/plain": [
       "  MSZoning Street Alley LotShape LandContour Utilities LotConfig LandSlope  \\\n",
       "0       RL   Pave   NaN      Reg         Lvl    AllPub    Inside       Gtl   \n",
       "1       RL   Pave   NaN      Reg         Lvl    AllPub       FR2       Gtl   \n",
       "2       RL   Pave   NaN      IR1         Lvl    AllPub    Inside       Gtl   \n",
       "3       RL   Pave   NaN      IR1         Lvl    AllPub    Corner       Gtl   \n",
       "4       RL   Pave   NaN      IR1         Lvl    AllPub       FR2       Gtl   \n",
       "\n",
       "  Neighborhood Condition1  ... GarageType GarageFinish GarageQual GarageCond  \\\n",
       "0      CollgCr       Norm  ...     Attchd          RFn         TA         TA   \n",
       "1      Veenker      Feedr  ...     Attchd          RFn         TA         TA   \n",
       "2      CollgCr       Norm  ...     Attchd          RFn         TA         TA   \n",
       "3      Crawfor       Norm  ...     Detchd          Unf         TA         TA   \n",
       "4      NoRidge       Norm  ...     Attchd          RFn         TA         TA   \n",
       "\n",
       "  PavedDrive PoolQC Fence MiscFeature SaleType SaleCondition  \n",
       "0          Y    NaN   NaN         NaN       WD        Normal  \n",
       "1          Y    NaN   NaN         NaN       WD        Normal  \n",
       "2          Y    NaN   NaN         NaN       WD        Normal  \n",
       "3          Y    NaN   NaN         NaN       WD       Abnorml  \n",
       "4          Y    NaN   NaN         NaN       WD        Normal  \n",
       "\n",
       "[5 rows x 43 columns]"
      ]
     },
     "execution_count": 8,
     "metadata": {},
     "output_type": "execute_result"
    }
   ],
   "source": [
    "train.select_dtypes(include=object).head()"
   ]
  },
  {
   "cell_type": "markdown",
   "metadata": {},
   "source": [
    "We get an idea of what the variables may look like by taking a look at a few records. We split it up by numeric and non-numeric data."
   ]
  },
  {
   "cell_type": "code",
   "execution_count": 9,
   "metadata": {},
   "outputs": [
    {
     "data": {
      "text/plain": [
       "Text(0.5, 1.0, 'Boxplot of Sale Prices')"
      ]
     },
     "execution_count": 9,
     "metadata": {},
     "output_type": "execute_result"
    },
    {
     "data": {
      "image/png": "[encoded data removed]",
      "text/plain": [
       "<Figure size 432x288 with 1 Axes>"
      ]
     },
     "metadata": {
      "needs_background": "light"
     },
     "output_type": "display_data"
    }
   ],
   "source": [
    "#check histogram of SalePrice\n",
    "fig, ax = plt.subplots()\n",
    "plt.boxplot(train[\"SalePrice\"], vert=False)\n",
    "plt.xlabel('Sale Price ($)')\n",
    "plt.title('Boxplot of Sale Prices')"
   ]
  },
  {
   "cell_type": "code",
   "execution_count": 10,
   "metadata": {},
   "outputs": [
    {
     "data": {
      "text/plain": [
       "count     1460.00\n",
       "mean    180921.20\n",
       "std      79442.50\n",
       "min      34900.00\n",
       "25%     129975.00\n",
       "50%     163000.00\n",
       "75%     214000.00\n",
       "max     755000.00\n",
       "Name: SalePrice, dtype: float64"
      ]
     },
     "execution_count": 10,
     "metadata": {},
     "output_type": "execute_result"
    }
   ],
   "source": [
    "train[\"SalePrice\"].describe()"
   ]
  },
  {
   "cell_type": "markdown",
   "metadata": {},
   "source": [
    "We see that SalePrice (the variable we are trying to predict) has a approximately normal distribution that is skewed right. The average is ~181k, and can range from ~35k - ~755k. The median sale price is ~163k. We will use standard scaling later on to address the skewed data."
   ]
  },
  {
   "cell_type": "markdown",
   "metadata": {},
   "source": [
    "## Data Cleaning"
   ]
  },
  {
   "cell_type": "code",
   "execution_count": 11,
   "metadata": {},
   "outputs": [
    {
     "data": {
      "text/plain": [
       "PoolQC          1453\n",
       "MiscFeature     1406\n",
       "Alley           1369\n",
       "Fence           1179\n",
       "FireplaceQu      690\n",
       "LotFrontage      259\n",
       "GarageYrBlt       81\n",
       "GarageType        81\n",
       "GarageFinish      81\n",
       "GarageQual        81\n",
       "dtype: int64"
      ]
     },
     "execution_count": 11,
     "metadata": {},
     "output_type": "execute_result"
    }
   ],
   "source": [
    "#check for missing data \n",
    "train.isnull().sum()[train.isnull().sum()>0].sort_values(ascending=False).head(10)"
   ]
  },
  {
   "cell_type": "markdown",
   "metadata": {},
   "source": [
    "There are 1460 records. Remove variables with over 1000 missing data points."
   ]
  },
  {
   "cell_type": "code",
   "execution_count": 12,
   "metadata": {},
   "outputs": [],
   "source": [
    "#drop columns with lots of missing data\n",
    "train = train.drop(labels = ['PoolQC', 'MiscFeature', 'Alley', 'Fence'], axis=1)\n",
    "test = test.drop(labels = ['PoolQC', 'MiscFeature', 'Alley', 'Fence'], axis=1)"
   ]
  },
  {
   "cell_type": "code",
   "execution_count": 44,
   "metadata": {},
   "outputs": [
    {
     "data": {
      "text/plain": [
       "Series([], dtype: int64)"
      ]
     },
     "execution_count": 44,
     "metadata": {},
     "output_type": "execute_result"
    }
   ],
   "source": [
    "#fill NA values\n",
    "#train = train.dropna()\n",
    "values = {\n",
    "    'FireplaceQu':\"None\",\n",
    "    'LotFrontage': 0,\n",
    "    'GarageYrBlt': 1880, \n",
    "    'GarageType': \"None\",\n",
    "    'GarageFinish': \"None\",\n",
    "    'GarageQual': \"None\",\n",
    "    'GarageCond': \"None\",\n",
    "    'BsmtFinType2': \"None\",\n",
    "    'BsmtExposure': \"None\",\n",
    "    'BsmtFinType1': \"None\", \n",
    "    'BsmtCond': \"None\",\n",
    "    'BsmtQual': \"None\",\n",
    "    'MasVnrArea': 0,\n",
    "    'MasVnrType': \"None\",\n",
    "    'Electrical': \"None\",\n",
    "\n",
    "    'MSZoning': \"None\",\n",
    "    'Functional': \"None\",\n",
    "    'BsmtHalfBath': 0,\n",
    "    'BsmtFullBath': 0,\n",
    "    'Utilities': \"None\",\n",
    "    'SaleType': \"None\",\n",
    "    'GarageArea': 0,\n",
    "    'GarageCars': 0,\n",
    "    'KitchenQual': \"None\",\n",
    "    'TotalBsmtSF': 0\n",
    "    \n",
    "}\n",
    "\n",
    "train.fillna(value=values, inplace=True)\n",
    "test.fillna(value=values, inplace=True)\n",
    "\n",
    "#see if na's were filled\n",
    "train.isnull().sum()[train.isnull().sum()>0].sort_values(ascending=False)"
   ]
  },
  {
   "cell_type": "markdown",
   "metadata": {},
   "source": [
    "For the variables that still have missing data, we can fill these in with 0 or \"None\" values depending on what makes more sense."
   ]
  },
  {
   "cell_type": "code",
   "execution_count": 14,
   "metadata": {},
   "outputs": [
    {
     "data": {
      "text/plain": [
       "0"
      ]
     },
     "execution_count": 14,
     "metadata": {},
     "output_type": "execute_result"
    }
   ],
   "source": [
    "#check for dupes\n",
    "train.duplicated().sum()"
   ]
  },
  {
   "cell_type": "markdown",
   "metadata": {},
   "source": [
    "There are no duplicate rows in the dataset."
   ]
  },
  {
   "cell_type": "markdown",
   "metadata": {},
   "source": [
    "## Feature Selection & Creation\n",
    "### Feature Selection - Numeric"
   ]
  },
  {
   "cell_type": "code",
   "execution_count": 15,
   "metadata": {},
   "outputs": [
    {
     "data": {
      "text/plain": [
       "SalePrice      1.00\n",
       "OverallQual    0.79\n",
       "GrLivArea      0.71\n",
       "GarageCars     0.64\n",
       "GarageArea     0.62\n",
       "TotalBsmtSF    0.61\n",
       "1stFlrSF       0.61\n",
       "FullBath       0.56\n",
       "TotRmsAbvGrd   0.53\n",
       "YearBuilt      0.52\n",
       "YearRemodAdd   0.51\n",
       "GarageYrBlt    0.50\n",
       "MasVnrArea     0.47\n",
       "Fireplaces     0.47\n",
       "BsmtFinSF1     0.39\n",
       "Name: SalePrice, dtype: float64"
      ]
     },
     "execution_count": 15,
     "metadata": {},
     "output_type": "execute_result"
    }
   ],
   "source": [
    "train.corr()['SalePrice'].sort_values(ascending=False).head(15)"
   ]
  },
  {
   "cell_type": "markdown",
   "metadata": {},
   "source": [
    "Here we can see the top 15 variables that have a high correlation with SalePrice. Let's draw the cutoff at 0.5 to see which ones are worth including in our models."
   ]
  },
  {
   "cell_type": "code",
   "execution_count": 16,
   "metadata": {},
   "outputs": [
    {
     "data": {
      "text/plain": [
       "['OverallQual',\n",
       " 'YearBuilt',\n",
       " 'YearRemodAdd',\n",
       " 'TotalBsmtSF',\n",
       " '1stFlrSF',\n",
       " 'GrLivArea',\n",
       " 'FullBath',\n",
       " 'TotRmsAbvGrd',\n",
       " 'GarageYrBlt',\n",
       " 'GarageCars',\n",
       " 'GarageArea']"
      ]
     },
     "execution_count": 16,
     "metadata": {},
     "output_type": "execute_result"
    }
   ],
   "source": [
    "#select important numeric variables for analysis\n",
    "corr_matrix = train.corr()\n",
    "numeric_cols = list(corr_matrix['SalePrice'][(corr_matrix[\"SalePrice\"] > 0.5)].index)\n",
    "numeric_cols.remove('SalePrice')\n",
    "numeric_cols"
   ]
  },
  {
   "cell_type": "markdown",
   "metadata": {},
   "source": [
    "Now that we have an idea of what numeric variables to include in our models, lets determine if there is any collinearity between them."
   ]
  },
  {
   "cell_type": "code",
   "execution_count": 17,
   "metadata": {},
   "outputs": [
    {
     "data": {
      "text/html": [
       "<style  type=\"text/css\" >\n",
       "    #T_77481000_7a59_11ec_ac87_9801a791e1cbrow0_col0 {\n",
       "            background-color:  #b40426;\n",
       "            color:  #f1f1f1;\n",
       "        }    #T_77481000_7a59_11ec_ac87_9801a791e1cbrow0_col1 {\n",
       "            background-color:  #e3d9d3;\n",
       "            color:  #000000;\n",
       "        }    #T_77481000_7a59_11ec_ac87_9801a791e1cbrow0_col2 {\n",
       "            background-color:  #cdd9ec;\n",
       "            color:  #000000;\n",
       "        }    #T_77481000_7a59_11ec_ac87_9801a791e1cbrow0_col3 {\n",
       "            background-color:  #b1cbfc;\n",
       "            color:  #000000;\n",
       "        }    #T_77481000_7a59_11ec_ac87_9801a791e1cbrow0_col4 {\n",
       "            background-color:  #a2c1ff;\n",
       "            color:  #000000;\n",
       "        }    #T_77481000_7a59_11ec_ac87_9801a791e1cbrow0_col5 {\n",
       "            background-color:  #dadce0;\n",
       "            color:  #000000;\n",
       "        }    #T_77481000_7a59_11ec_ac87_9801a791e1cbrow0_col6 {\n",
       "            background-color:  #aac7fd;\n",
       "            color:  #000000;\n",
       "        }    #T_77481000_7a59_11ec_ac87_9801a791e1cbrow0_col7 {\n",
       "            background-color:  #b5cdfa;\n",
       "            color:  #000000;\n",
       "        }    #T_77481000_7a59_11ec_ac87_9801a791e1cbrow0_col8 {\n",
       "            background-color:  #d5dbe5;\n",
       "            color:  #000000;\n",
       "        }    #T_77481000_7a59_11ec_ac87_9801a791e1cbrow0_col9 {\n",
       "            background-color:  #b7cff9;\n",
       "            color:  #000000;\n",
       "        }    #T_77481000_7a59_11ec_ac87_9801a791e1cbrow0_col10 {\n",
       "            background-color:  #abc8fd;\n",
       "            color:  #000000;\n",
       "        }    #T_77481000_7a59_11ec_ac87_9801a791e1cbrow1_col0 {\n",
       "            background-color:  #8db0fe;\n",
       "            color:  #000000;\n",
       "        }    #T_77481000_7a59_11ec_ac87_9801a791e1cbrow1_col1 {\n",
       "            background-color:  #b40426;\n",
       "            color:  #f1f1f1;\n",
       "        }    #T_77481000_7a59_11ec_ac87_9801a791e1cbrow1_col2 {\n",
       "            background-color:  #dcdddd;\n",
       "            color:  #000000;\n",
       "        }    #T_77481000_7a59_11ec_ac87_9801a791e1cbrow1_col3 {\n",
       "            background-color:  #688aef;\n",
       "            color:  #000000;\n",
       "        }    #T_77481000_7a59_11ec_ac87_9801a791e1cbrow1_col4 {\n",
       "            background-color:  #4b64d5;\n",
       "            color:  #f1f1f1;\n",
       "        }    #T_77481000_7a59_11ec_ac87_9801a791e1cbrow1_col5 {\n",
       "            background-color:  #3b4cc0;\n",
       "            color:  #f1f1f1;\n",
       "        }    #T_77481000_7a59_11ec_ac87_9801a791e1cbrow1_col6 {\n",
       "            background-color:  #80a3fa;\n",
       "            color:  #000000;\n",
       "        }    #T_77481000_7a59_11ec_ac87_9801a791e1cbrow1_col7 {\n",
       "            background-color:  #3b4cc0;\n",
       "            color:  #f1f1f1;\n",
       "        }    #T_77481000_7a59_11ec_ac87_9801a791e1cbrow1_col8 {\n",
       "            background-color:  #f7b599;\n",
       "            color:  #000000;\n",
       "        }    #T_77481000_7a59_11ec_ac87_9801a791e1cbrow1_col9 {\n",
       "            background-color:  #96b7ff;\n",
       "            color:  #000000;\n",
       "        }    #T_77481000_7a59_11ec_ac87_9801a791e1cbrow1_col10 {\n",
       "            background-color:  #80a3fa;\n",
       "            color:  #000000;\n",
       "        }    #T_77481000_7a59_11ec_ac87_9801a791e1cbrow2_col0 {\n",
       "            background-color:  #81a4fb;\n",
       "            color:  #000000;\n",
       "        }    #T_77481000_7a59_11ec_ac87_9801a791e1cbrow2_col1 {\n",
       "            background-color:  #e9d5cb;\n",
       "            color:  #000000;\n",
       "        }    #T_77481000_7a59_11ec_ac87_9801a791e1cbrow2_col2 {\n",
       "            background-color:  #b40426;\n",
       "            color:  #f1f1f1;\n",
       "        }    #T_77481000_7a59_11ec_ac87_9801a791e1cbrow2_col3 {\n",
       "            background-color:  #3c4ec2;\n",
       "            color:  #f1f1f1;\n",
       "        }    #T_77481000_7a59_11ec_ac87_9801a791e1cbrow2_col4 {\n",
       "            background-color:  #3b4cc0;\n",
       "            color:  #f1f1f1;\n",
       "        }    #T_77481000_7a59_11ec_ac87_9801a791e1cbrow2_col5 {\n",
       "            background-color:  #5d7ce6;\n",
       "            color:  #000000;\n",
       "        }    #T_77481000_7a59_11ec_ac87_9801a791e1cbrow2_col6 {\n",
       "            background-color:  #7093f3;\n",
       "            color:  #000000;\n",
       "        }    #T_77481000_7a59_11ec_ac87_9801a791e1cbrow2_col7 {\n",
       "            background-color:  #5b7ae5;\n",
       "            color:  #000000;\n",
       "        }    #T_77481000_7a59_11ec_ac87_9801a791e1cbrow2_col8 {\n",
       "            background-color:  #cbd8ee;\n",
       "            color:  #000000;\n",
       "        }    #T_77481000_7a59_11ec_ac87_9801a791e1cbrow2_col9 {\n",
       "            background-color:  #5673e0;\n",
       "            color:  #000000;\n",
       "        }    #T_77481000_7a59_11ec_ac87_9801a791e1cbrow2_col10 {\n",
       "            background-color:  #4a63d3;\n",
       "            color:  #f1f1f1;\n",
       "        }    #T_77481000_7a59_11ec_ac87_9801a791e1cbrow3_col0 {\n",
       "            background-color:  #799cf8;\n",
       "            color:  #000000;\n",
       "        }    #T_77481000_7a59_11ec_ac87_9801a791e1cbrow3_col1 {\n",
       "            background-color:  #a7c5fe;\n",
       "            color:  #000000;\n",
       "        }    #T_77481000_7a59_11ec_ac87_9801a791e1cbrow3_col2 {\n",
       "            background-color:  #6180e9;\n",
       "            color:  #000000;\n",
       "        }    #T_77481000_7a59_11ec_ac87_9801a791e1cbrow3_col3 {\n",
       "            background-color:  #b40426;\n",
       "            color:  #f1f1f1;\n",
       "        }    #T_77481000_7a59_11ec_ac87_9801a791e1cbrow3_col4 {\n",
       "            background-color:  #f39475;\n",
       "            color:  #000000;\n",
       "        }    #T_77481000_7a59_11ec_ac87_9801a791e1cbrow3_col5 {\n",
       "            background-color:  #a5c3fe;\n",
       "            color:  #000000;\n",
       "        }    #T_77481000_7a59_11ec_ac87_9801a791e1cbrow3_col6 {\n",
       "            background-color:  #3b4cc0;\n",
       "            color:  #f1f1f1;\n",
       "        }    #T_77481000_7a59_11ec_ac87_9801a791e1cbrow3_col7 {\n",
       "            background-color:  #7ea1fa;\n",
       "            color:  #000000;\n",
       "        }    #T_77481000_7a59_11ec_ac87_9801a791e1cbrow3_col8 {\n",
       "            background-color:  #7ea1fa;\n",
       "            color:  #000000;\n",
       "        }    #T_77481000_7a59_11ec_ac87_9801a791e1cbrow3_col9 {\n",
       "            background-color:  #5e7de7;\n",
       "            color:  #000000;\n",
       "        }    #T_77481000_7a59_11ec_ac87_9801a791e1cbrow3_col10 {\n",
       "            background-color:  #84a7fc;\n",
       "            color:  #000000;\n",
       "        }    #T_77481000_7a59_11ec_ac87_9801a791e1cbrow4_col0 {\n",
       "            background-color:  #5470de;\n",
       "            color:  #000000;\n",
       "        }    #T_77481000_7a59_11ec_ac87_9801a791e1cbrow4_col1 {\n",
       "            background-color:  #7da0f9;\n",
       "            color:  #000000;\n",
       "        }    #T_77481000_7a59_11ec_ac87_9801a791e1cbrow4_col2 {\n",
       "            background-color:  #4c66d6;\n",
       "            color:  #000000;\n",
       "        }    #T_77481000_7a59_11ec_ac87_9801a791e1cbrow4_col3 {\n",
       "            background-color:  #f49a7b;\n",
       "            color:  #000000;\n",
       "        }    #T_77481000_7a59_11ec_ac87_9801a791e1cbrow4_col4 {\n",
       "            background-color:  #b40426;\n",
       "            color:  #f1f1f1;\n",
       "        }    #T_77481000_7a59_11ec_ac87_9801a791e1cbrow4_col5 {\n",
       "            background-color:  #d2dbe8;\n",
       "            color:  #000000;\n",
       "        }    #T_77481000_7a59_11ec_ac87_9801a791e1cbrow4_col6 {\n",
       "            background-color:  #5470de;\n",
       "            color:  #000000;\n",
       "        }    #T_77481000_7a59_11ec_ac87_9801a791e1cbrow4_col7 {\n",
       "            background-color:  #aec9fc;\n",
       "            color:  #000000;\n",
       "        }    #T_77481000_7a59_11ec_ac87_9801a791e1cbrow4_col8 {\n",
       "            background-color:  #6384eb;\n",
       "            color:  #000000;\n",
       "        }    #T_77481000_7a59_11ec_ac87_9801a791e1cbrow4_col9 {\n",
       "            background-color:  #5f7fe8;\n",
       "            color:  #000000;\n",
       "        }    #T_77481000_7a59_11ec_ac87_9801a791e1cbrow4_col10 {\n",
       "            background-color:  #85a8fc;\n",
       "            color:  #000000;\n",
       "        }    #T_77481000_7a59_11ec_ac87_9801a791e1cbrow5_col0 {\n",
       "            background-color:  #9bbcff;\n",
       "            color:  #000000;\n",
       "        }    #T_77481000_7a59_11ec_ac87_9801a791e1cbrow5_col1 {\n",
       "            background-color:  #5e7de7;\n",
       "            color:  #000000;\n",
       "        }    #T_77481000_7a59_11ec_ac87_9801a791e1cbrow5_col2 {\n",
       "            background-color:  #5f7fe8;\n",
       "            color:  #000000;\n",
       "        }    #T_77481000_7a59_11ec_ac87_9801a791e1cbrow5_col3 {\n",
       "            background-color:  #88abfd;\n",
       "            color:  #000000;\n",
       "        }    #T_77481000_7a59_11ec_ac87_9801a791e1cbrow5_col4 {\n",
       "            background-color:  #c9d7f0;\n",
       "            color:  #000000;\n",
       "        }    #T_77481000_7a59_11ec_ac87_9801a791e1cbrow5_col5 {\n",
       "            background-color:  #b40426;\n",
       "            color:  #f1f1f1;\n",
       "        }    #T_77481000_7a59_11ec_ac87_9801a791e1cbrow5_col6 {\n",
       "            background-color:  #cfdaea;\n",
       "            color:  #000000;\n",
       "        }    #T_77481000_7a59_11ec_ac87_9801a791e1cbrow5_col7 {\n",
       "            background-color:  #ec8165;\n",
       "            color:  #000000;\n",
       "        }    #T_77481000_7a59_11ec_ac87_9801a791e1cbrow5_col8 {\n",
       "            background-color:  #6180e9;\n",
       "            color:  #000000;\n",
       "        }    #T_77481000_7a59_11ec_ac87_9801a791e1cbrow5_col9 {\n",
       "            background-color:  #6f92f3;\n",
       "            color:  #000000;\n",
       "        }    #T_77481000_7a59_11ec_ac87_9801a791e1cbrow5_col10 {\n",
       "            background-color:  #7a9df8;\n",
       "            color:  #000000;\n",
       "        }    #T_77481000_7a59_11ec_ac87_9801a791e1cbrow6_col0 {\n",
       "            background-color:  #81a4fb;\n",
       "            color:  #000000;\n",
       "        }    #T_77481000_7a59_11ec_ac87_9801a791e1cbrow6_col1 {\n",
       "            background-color:  #c4d5f3;\n",
       "            color:  #000000;\n",
       "        }    #T_77481000_7a59_11ec_ac87_9801a791e1cbrow6_col2 {\n",
       "            background-color:  #a1c0ff;\n",
       "            color:  #000000;\n",
       "        }    #T_77481000_7a59_11ec_ac87_9801a791e1cbrow6_col3 {\n",
       "            background-color:  #4a63d3;\n",
       "            color:  #f1f1f1;\n",
       "        }    #T_77481000_7a59_11ec_ac87_9801a791e1cbrow6_col4 {\n",
       "            background-color:  #7699f6;\n",
       "            color:  #000000;\n",
       "        }    #T_77481000_7a59_11ec_ac87_9801a791e1cbrow6_col5 {\n",
       "            background-color:  #e6d7cf;\n",
       "            color:  #000000;\n",
       "        }    #T_77481000_7a59_11ec_ac87_9801a791e1cbrow6_col6 {\n",
       "            background-color:  #b40426;\n",
       "            color:  #f1f1f1;\n",
       "        }    #T_77481000_7a59_11ec_ac87_9801a791e1cbrow6_col7 {\n",
       "            background-color:  #dedcdb;\n",
       "            color:  #000000;\n",
       "        }    #T_77481000_7a59_11ec_ac87_9801a791e1cbrow6_col8 {\n",
       "            background-color:  #a1c0ff;\n",
       "            color:  #000000;\n",
       "        }    #T_77481000_7a59_11ec_ac87_9801a791e1cbrow6_col9 {\n",
       "            background-color:  #7093f3;\n",
       "            color:  #000000;\n",
       "        }    #T_77481000_7a59_11ec_ac87_9801a791e1cbrow6_col10 {\n",
       "            background-color:  #5a78e4;\n",
       "            color:  #000000;\n",
       "        }    #T_77481000_7a59_11ec_ac87_9801a791e1cbrow7_col0 {\n",
       "            background-color:  #3b4cc0;\n",
       "            color:  #f1f1f1;\n",
       "        }    #T_77481000_7a59_11ec_ac87_9801a791e1cbrow7_col1 {\n",
       "            background-color:  #3b4cc0;\n",
       "            color:  #f1f1f1;\n",
       "        }    #T_77481000_7a59_11ec_ac87_9801a791e1cbrow7_col2 {\n",
       "            background-color:  #3b4cc0;\n",
       "            color:  #f1f1f1;\n",
       "        }    #T_77481000_7a59_11ec_ac87_9801a791e1cbrow7_col3 {\n",
       "            background-color:  #3b4cc0;\n",
       "            color:  #f1f1f1;\n",
       "        }    #T_77481000_7a59_11ec_ac87_9801a791e1cbrow7_col4 {\n",
       "            background-color:  #84a7fc;\n",
       "            color:  #000000;\n",
       "        }    #T_77481000_7a59_11ec_ac87_9801a791e1cbrow7_col5 {\n",
       "            background-color:  #f08b6e;\n",
       "            color:  #000000;\n",
       "        }    #T_77481000_7a59_11ec_ac87_9801a791e1cbrow7_col6 {\n",
       "            background-color:  #adc9fd;\n",
       "            color:  #000000;\n",
       "        }    #T_77481000_7a59_11ec_ac87_9801a791e1cbrow7_col7 {\n",
       "            background-color:  #b40426;\n",
       "            color:  #f1f1f1;\n",
       "        }    #T_77481000_7a59_11ec_ac87_9801a791e1cbrow7_col8 {\n",
       "            background-color:  #3b4cc0;\n",
       "            color:  #f1f1f1;\n",
       "        }    #T_77481000_7a59_11ec_ac87_9801a791e1cbrow7_col9 {\n",
       "            background-color:  #3b4cc0;\n",
       "            color:  #f1f1f1;\n",
       "        }    #T_77481000_7a59_11ec_ac87_9801a791e1cbrow7_col10 {\n",
       "            background-color:  #3b4cc0;\n",
       "            color:  #f1f1f1;\n",
       "        }    #T_77481000_7a59_11ec_ac87_9801a791e1cbrow8_col0 {\n",
       "            background-color:  #84a7fc;\n",
       "            color:  #000000;\n",
       "        }    #T_77481000_7a59_11ec_ac87_9801a791e1cbrow8_col1 {\n",
       "            background-color:  #f7ad90;\n",
       "            color:  #000000;\n",
       "        }    #T_77481000_7a59_11ec_ac87_9801a791e1cbrow8_col2 {\n",
       "            background-color:  #c5d6f2;\n",
       "            color:  #000000;\n",
       "        }    #T_77481000_7a59_11ec_ac87_9801a791e1cbrow8_col3 {\n",
       "            background-color:  #506bda;\n",
       "            color:  #000000;\n",
       "        }    #T_77481000_7a59_11ec_ac87_9801a791e1cbrow8_col4 {\n",
       "            background-color:  #465ecf;\n",
       "            color:  #f1f1f1;\n",
       "        }    #T_77481000_7a59_11ec_ac87_9801a791e1cbrow8_col5 {\n",
       "            background-color:  #5470de;\n",
       "            color:  #000000;\n",
       "        }    #T_77481000_7a59_11ec_ac87_9801a791e1cbrow8_col6 {\n",
       "            background-color:  #6687ed;\n",
       "            color:  #000000;\n",
       "        }    #T_77481000_7a59_11ec_ac87_9801a791e1cbrow8_col7 {\n",
       "            background-color:  #516ddb;\n",
       "            color:  #000000;\n",
       "        }    #T_77481000_7a59_11ec_ac87_9801a791e1cbrow8_col8 {\n",
       "            background-color:  #b40426;\n",
       "            color:  #f1f1f1;\n",
       "        }    #T_77481000_7a59_11ec_ac87_9801a791e1cbrow8_col9 {\n",
       "            background-color:  #f2cbb7;\n",
       "            color:  #000000;\n",
       "        }    #T_77481000_7a59_11ec_ac87_9801a791e1cbrow8_col10 {\n",
       "            background-color:  #edd2c3;\n",
       "            color:  #000000;\n",
       "        }    #T_77481000_7a59_11ec_ac87_9801a791e1cbrow9_col0 {\n",
       "            background-color:  #9fbfff;\n",
       "            color:  #000000;\n",
       "        }    #T_77481000_7a59_11ec_ac87_9801a791e1cbrow9_col1 {\n",
       "            background-color:  #dadce0;\n",
       "            color:  #000000;\n",
       "        }    #T_77481000_7a59_11ec_ac87_9801a791e1cbrow9_col2 {\n",
       "            background-color:  #98b9ff;\n",
       "            color:  #000000;\n",
       "        }    #T_77481000_7a59_11ec_ac87_9801a791e1cbrow9_col3 {\n",
       "            background-color:  #7ea1fa;\n",
       "            color:  #000000;\n",
       "        }    #T_77481000_7a59_11ec_ac87_9801a791e1cbrow9_col4 {\n",
       "            background-color:  #92b4fe;\n",
       "            color:  #000000;\n",
       "        }    #T_77481000_7a59_11ec_ac87_9801a791e1cbrow9_col5 {\n",
       "            background-color:  #aac7fd;\n",
       "            color:  #000000;\n",
       "        }    #T_77481000_7a59_11ec_ac87_9801a791e1cbrow9_col6 {\n",
       "            background-color:  #81a4fb;\n",
       "            color:  #000000;\n",
       "        }    #T_77481000_7a59_11ec_ac87_9801a791e1cbrow9_col7 {\n",
       "            background-color:  #9dbdff;\n",
       "            color:  #000000;\n",
       "        }    #T_77481000_7a59_11ec_ac87_9801a791e1cbrow9_col8 {\n",
       "            background-color:  #f7af91;\n",
       "            color:  #000000;\n",
       "        }    #T_77481000_7a59_11ec_ac87_9801a791e1cbrow9_col9 {\n",
       "            background-color:  #b40426;\n",
       "            color:  #f1f1f1;\n",
       "        }    #T_77481000_7a59_11ec_ac87_9801a791e1cbrow9_col10 {\n",
       "            background-color:  #e97a5f;\n",
       "            color:  #000000;\n",
       "        }    #T_77481000_7a59_11ec_ac87_9801a791e1cbrow10_col0 {\n",
       "            background-color:  #88abfd;\n",
       "            color:  #000000;\n",
       "        }    #T_77481000_7a59_11ec_ac87_9801a791e1cbrow10_col1 {\n",
       "            background-color:  #c7d7f0;\n",
       "            color:  #000000;\n",
       "        }    #T_77481000_7a59_11ec_ac87_9801a791e1cbrow10_col2 {\n",
       "            background-color:  #82a6fb;\n",
       "            color:  #000000;\n",
       "        }    #T_77481000_7a59_11ec_ac87_9801a791e1cbrow10_col3 {\n",
       "            background-color:  #98b9ff;\n",
       "            color:  #000000;\n",
       "        }    #T_77481000_7a59_11ec_ac87_9801a791e1cbrow10_col4 {\n",
       "            background-color:  #a9c6fd;\n",
       "            color:  #000000;\n",
       "        }    #T_77481000_7a59_11ec_ac87_9801a791e1cbrow10_col5 {\n",
       "            background-color:  #abc8fd;\n",
       "            color:  #000000;\n",
       "        }    #T_77481000_7a59_11ec_ac87_9801a791e1cbrow10_col6 {\n",
       "            background-color:  #6180e9;\n",
       "            color:  #000000;\n",
       "        }    #T_77481000_7a59_11ec_ac87_9801a791e1cbrow10_col7 {\n",
       "            background-color:  #93b5fe;\n",
       "            color:  #000000;\n",
       "        }    #T_77481000_7a59_11ec_ac87_9801a791e1cbrow10_col8 {\n",
       "            background-color:  #f7ba9f;\n",
       "            color:  #000000;\n",
       "        }    #T_77481000_7a59_11ec_ac87_9801a791e1cbrow10_col9 {\n",
       "            background-color:  #eb7d62;\n",
       "            color:  #000000;\n",
       "        }    #T_77481000_7a59_11ec_ac87_9801a791e1cbrow10_col10 {\n",
       "            background-color:  #b40426;\n",
       "            color:  #f1f1f1;\n",
       "        }</style><table id=\"T_77481000_7a59_11ec_ac87_9801a791e1cb\" ><thead>    <tr>        <th class=\"blank level0\" ></th>        <th class=\"col_heading level0 col0\" >OverallQual</th>        <th class=\"col_heading level0 col1\" >YearBuilt</th>        <th class=\"col_heading level0 col2\" >YearRemodAdd</th>        <th class=\"col_heading level0 col3\" >TotalBsmtSF</th>        <th class=\"col_heading level0 col4\" >1stFlrSF</th>        <th class=\"col_heading level0 col5\" >GrLivArea</th>        <th class=\"col_heading level0 col6\" >FullBath</th>        <th class=\"col_heading level0 col7\" >TotRmsAbvGrd</th>        <th class=\"col_heading level0 col8\" >GarageYrBlt</th>        <th class=\"col_heading level0 col9\" >GarageCars</th>        <th class=\"col_heading level0 col10\" >GarageArea</th>    </tr></thead><tbody>\n",
       "                <tr>\n",
       "                        <th id=\"T_77481000_7a59_11ec_ac87_9801a791e1cblevel0_row0\" class=\"row_heading level0 row0\" >OverallQual</th>\n",
       "                        <td id=\"T_77481000_7a59_11ec_ac87_9801a791e1cbrow0_col0\" class=\"data row0 col0\" >1.00</td>\n",
       "                        <td id=\"T_77481000_7a59_11ec_ac87_9801a791e1cbrow0_col1\" class=\"data row0 col1\" >0.57</td>\n",
       "                        <td id=\"T_77481000_7a59_11ec_ac87_9801a791e1cbrow0_col2\" class=\"data row0 col2\" >0.55</td>\n",
       "                        <td id=\"T_77481000_7a59_11ec_ac87_9801a791e1cbrow0_col3\" class=\"data row0 col3\" >0.54</td>\n",
       "                        <td id=\"T_77481000_7a59_11ec_ac87_9801a791e1cbrow0_col4\" class=\"data row0 col4\" >0.48</td>\n",
       "                        <td id=\"T_77481000_7a59_11ec_ac87_9801a791e1cbrow0_col5\" class=\"data row0 col5\" >0.59</td>\n",
       "                        <td id=\"T_77481000_7a59_11ec_ac87_9801a791e1cbrow0_col6\" class=\"data row0 col6\" >0.55</td>\n",
       "                        <td id=\"T_77481000_7a59_11ec_ac87_9801a791e1cbrow0_col7\" class=\"data row0 col7\" >0.43</td>\n",
       "                        <td id=\"T_77481000_7a59_11ec_ac87_9801a791e1cbrow0_col8\" class=\"data row0 col8\" >0.56</td>\n",
       "                        <td id=\"T_77481000_7a59_11ec_ac87_9801a791e1cbrow0_col9\" class=\"data row0 col9\" >0.60</td>\n",
       "                        <td id=\"T_77481000_7a59_11ec_ac87_9801a791e1cbrow0_col10\" class=\"data row0 col10\" >0.56</td>\n",
       "            </tr>\n",
       "            <tr>\n",
       "                        <th id=\"T_77481000_7a59_11ec_ac87_9801a791e1cblevel0_row1\" class=\"row_heading level0 row1\" >YearBuilt</th>\n",
       "                        <td id=\"T_77481000_7a59_11ec_ac87_9801a791e1cbrow1_col0\" class=\"data row1 col0\" >0.57</td>\n",
       "                        <td id=\"T_77481000_7a59_11ec_ac87_9801a791e1cbrow1_col1\" class=\"data row1 col1\" >1.00</td>\n",
       "                        <td id=\"T_77481000_7a59_11ec_ac87_9801a791e1cbrow1_col2\" class=\"data row1 col2\" >0.59</td>\n",
       "                        <td id=\"T_77481000_7a59_11ec_ac87_9801a791e1cbrow1_col3\" class=\"data row1 col3\" >0.39</td>\n",
       "                        <td id=\"T_77481000_7a59_11ec_ac87_9801a791e1cbrow1_col4\" class=\"data row1 col4\" >0.28</td>\n",
       "                        <td id=\"T_77481000_7a59_11ec_ac87_9801a791e1cbrow1_col5\" class=\"data row1 col5\" >0.20</td>\n",
       "                        <td id=\"T_77481000_7a59_11ec_ac87_9801a791e1cbrow1_col6\" class=\"data row1 col6\" >0.47</td>\n",
       "                        <td id=\"T_77481000_7a59_11ec_ac87_9801a791e1cbrow1_col7\" class=\"data row1 col7\" >0.10</td>\n",
       "                        <td id=\"T_77481000_7a59_11ec_ac87_9801a791e1cbrow1_col8\" class=\"data row1 col8\" >0.73</td>\n",
       "                        <td id=\"T_77481000_7a59_11ec_ac87_9801a791e1cbrow1_col9\" class=\"data row1 col9\" >0.54</td>\n",
       "                        <td id=\"T_77481000_7a59_11ec_ac87_9801a791e1cbrow1_col10\" class=\"data row1 col10\" >0.48</td>\n",
       "            </tr>\n",
       "            <tr>\n",
       "                        <th id=\"T_77481000_7a59_11ec_ac87_9801a791e1cblevel0_row2\" class=\"row_heading level0 row2\" >YearRemodAdd</th>\n",
       "                        <td id=\"T_77481000_7a59_11ec_ac87_9801a791e1cbrow2_col0\" class=\"data row2 col0\" >0.55</td>\n",
       "                        <td id=\"T_77481000_7a59_11ec_ac87_9801a791e1cbrow2_col1\" class=\"data row2 col1\" >0.59</td>\n",
       "                        <td id=\"T_77481000_7a59_11ec_ac87_9801a791e1cbrow2_col2\" class=\"data row2 col2\" >1.00</td>\n",
       "                        <td id=\"T_77481000_7a59_11ec_ac87_9801a791e1cbrow2_col3\" class=\"data row2 col3\" >0.29</td>\n",
       "                        <td id=\"T_77481000_7a59_11ec_ac87_9801a791e1cbrow2_col4\" class=\"data row2 col4\" >0.24</td>\n",
       "                        <td id=\"T_77481000_7a59_11ec_ac87_9801a791e1cbrow2_col5\" class=\"data row2 col5\" >0.29</td>\n",
       "                        <td id=\"T_77481000_7a59_11ec_ac87_9801a791e1cbrow2_col6\" class=\"data row2 col6\" >0.44</td>\n",
       "                        <td id=\"T_77481000_7a59_11ec_ac87_9801a791e1cbrow2_col7\" class=\"data row2 col7\" >0.19</td>\n",
       "                        <td id=\"T_77481000_7a59_11ec_ac87_9801a791e1cbrow2_col8\" class=\"data row2 col8\" >0.53</td>\n",
       "                        <td id=\"T_77481000_7a59_11ec_ac87_9801a791e1cbrow2_col9\" class=\"data row2 col9\" >0.42</td>\n",
       "                        <td id=\"T_77481000_7a59_11ec_ac87_9801a791e1cbrow2_col10\" class=\"data row2 col10\" >0.37</td>\n",
       "            </tr>\n",
       "            <tr>\n",
       "                        <th id=\"T_77481000_7a59_11ec_ac87_9801a791e1cblevel0_row3\" class=\"row_heading level0 row3\" >TotalBsmtSF</th>\n",
       "                        <td id=\"T_77481000_7a59_11ec_ac87_9801a791e1cbrow3_col0\" class=\"data row3 col0\" >0.54</td>\n",
       "                        <td id=\"T_77481000_7a59_11ec_ac87_9801a791e1cbrow3_col1\" class=\"data row3 col1\" >0.39</td>\n",
       "                        <td id=\"T_77481000_7a59_11ec_ac87_9801a791e1cbrow3_col2\" class=\"data row3 col2\" >0.29</td>\n",
       "                        <td id=\"T_77481000_7a59_11ec_ac87_9801a791e1cbrow3_col3\" class=\"data row3 col3\" >1.00</td>\n",
       "                        <td id=\"T_77481000_7a59_11ec_ac87_9801a791e1cbrow3_col4\" class=\"data row3 col4\" >0.82</td>\n",
       "                        <td id=\"T_77481000_7a59_11ec_ac87_9801a791e1cbrow3_col5\" class=\"data row3 col5\" >0.45</td>\n",
       "                        <td id=\"T_77481000_7a59_11ec_ac87_9801a791e1cbrow3_col6\" class=\"data row3 col6\" >0.32</td>\n",
       "                        <td id=\"T_77481000_7a59_11ec_ac87_9801a791e1cbrow3_col7\" class=\"data row3 col7\" >0.29</td>\n",
       "                        <td id=\"T_77481000_7a59_11ec_ac87_9801a791e1cbrow3_col8\" class=\"data row3 col8\" >0.34</td>\n",
       "                        <td id=\"T_77481000_7a59_11ec_ac87_9801a791e1cbrow3_col9\" class=\"data row3 col9\" >0.43</td>\n",
       "                        <td id=\"T_77481000_7a59_11ec_ac87_9801a791e1cbrow3_col10\" class=\"data row3 col10\" >0.49</td>\n",
       "            </tr>\n",
       "            <tr>\n",
       "                        <th id=\"T_77481000_7a59_11ec_ac87_9801a791e1cblevel0_row4\" class=\"row_heading level0 row4\" >1stFlrSF</th>\n",
       "                        <td id=\"T_77481000_7a59_11ec_ac87_9801a791e1cbrow4_col0\" class=\"data row4 col0\" >0.48</td>\n",
       "                        <td id=\"T_77481000_7a59_11ec_ac87_9801a791e1cbrow4_col1\" class=\"data row4 col1\" >0.28</td>\n",
       "                        <td id=\"T_77481000_7a59_11ec_ac87_9801a791e1cbrow4_col2\" class=\"data row4 col2\" >0.24</td>\n",
       "                        <td id=\"T_77481000_7a59_11ec_ac87_9801a791e1cbrow4_col3\" class=\"data row4 col3\" >0.82</td>\n",
       "                        <td id=\"T_77481000_7a59_11ec_ac87_9801a791e1cbrow4_col4\" class=\"data row4 col4\" >1.00</td>\n",
       "                        <td id=\"T_77481000_7a59_11ec_ac87_9801a791e1cbrow4_col5\" class=\"data row4 col5\" >0.57</td>\n",
       "                        <td id=\"T_77481000_7a59_11ec_ac87_9801a791e1cbrow4_col6\" class=\"data row4 col6\" >0.38</td>\n",
       "                        <td id=\"T_77481000_7a59_11ec_ac87_9801a791e1cbrow4_col7\" class=\"data row4 col7\" >0.41</td>\n",
       "                        <td id=\"T_77481000_7a59_11ec_ac87_9801a791e1cbrow4_col8\" class=\"data row4 col8\" >0.27</td>\n",
       "                        <td id=\"T_77481000_7a59_11ec_ac87_9801a791e1cbrow4_col9\" class=\"data row4 col9\" >0.44</td>\n",
       "                        <td id=\"T_77481000_7a59_11ec_ac87_9801a791e1cbrow4_col10\" class=\"data row4 col10\" >0.49</td>\n",
       "            </tr>\n",
       "            <tr>\n",
       "                        <th id=\"T_77481000_7a59_11ec_ac87_9801a791e1cblevel0_row5\" class=\"row_heading level0 row5\" >GrLivArea</th>\n",
       "                        <td id=\"T_77481000_7a59_11ec_ac87_9801a791e1cbrow5_col0\" class=\"data row5 col0\" >0.59</td>\n",
       "                        <td id=\"T_77481000_7a59_11ec_ac87_9801a791e1cbrow5_col1\" class=\"data row5 col1\" >0.20</td>\n",
       "                        <td id=\"T_77481000_7a59_11ec_ac87_9801a791e1cbrow5_col2\" class=\"data row5 col2\" >0.29</td>\n",
       "                        <td id=\"T_77481000_7a59_11ec_ac87_9801a791e1cbrow5_col3\" class=\"data row5 col3\" >0.45</td>\n",
       "                        <td id=\"T_77481000_7a59_11ec_ac87_9801a791e1cbrow5_col4\" class=\"data row5 col4\" >0.57</td>\n",
       "                        <td id=\"T_77481000_7a59_11ec_ac87_9801a791e1cbrow5_col5\" class=\"data row5 col5\" >1.00</td>\n",
       "                        <td id=\"T_77481000_7a59_11ec_ac87_9801a791e1cbrow5_col6\" class=\"data row5 col6\" >0.63</td>\n",
       "                        <td id=\"T_77481000_7a59_11ec_ac87_9801a791e1cbrow5_col7\" class=\"data row5 col7\" >0.83</td>\n",
       "                        <td id=\"T_77481000_7a59_11ec_ac87_9801a791e1cbrow5_col8\" class=\"data row5 col8\" >0.27</td>\n",
       "                        <td id=\"T_77481000_7a59_11ec_ac87_9801a791e1cbrow5_col9\" class=\"data row5 col9\" >0.47</td>\n",
       "                        <td id=\"T_77481000_7a59_11ec_ac87_9801a791e1cbrow5_col10\" class=\"data row5 col10\" >0.47</td>\n",
       "            </tr>\n",
       "            <tr>\n",
       "                        <th id=\"T_77481000_7a59_11ec_ac87_9801a791e1cblevel0_row6\" class=\"row_heading level0 row6\" >FullBath</th>\n",
       "                        <td id=\"T_77481000_7a59_11ec_ac87_9801a791e1cbrow6_col0\" class=\"data row6 col0\" >0.55</td>\n",
       "                        <td id=\"T_77481000_7a59_11ec_ac87_9801a791e1cbrow6_col1\" class=\"data row6 col1\" >0.47</td>\n",
       "                        <td id=\"T_77481000_7a59_11ec_ac87_9801a791e1cbrow6_col2\" class=\"data row6 col2\" >0.44</td>\n",
       "                        <td id=\"T_77481000_7a59_11ec_ac87_9801a791e1cbrow6_col3\" class=\"data row6 col3\" >0.32</td>\n",
       "                        <td id=\"T_77481000_7a59_11ec_ac87_9801a791e1cbrow6_col4\" class=\"data row6 col4\" >0.38</td>\n",
       "                        <td id=\"T_77481000_7a59_11ec_ac87_9801a791e1cbrow6_col5\" class=\"data row6 col5\" >0.63</td>\n",
       "                        <td id=\"T_77481000_7a59_11ec_ac87_9801a791e1cbrow6_col6\" class=\"data row6 col6\" >1.00</td>\n",
       "                        <td id=\"T_77481000_7a59_11ec_ac87_9801a791e1cbrow6_col7\" class=\"data row6 col7\" >0.55</td>\n",
       "                        <td id=\"T_77481000_7a59_11ec_ac87_9801a791e1cbrow6_col8\" class=\"data row6 col8\" >0.42</td>\n",
       "                        <td id=\"T_77481000_7a59_11ec_ac87_9801a791e1cbrow6_col9\" class=\"data row6 col9\" >0.47</td>\n",
       "                        <td id=\"T_77481000_7a59_11ec_ac87_9801a791e1cbrow6_col10\" class=\"data row6 col10\" >0.41</td>\n",
       "            </tr>\n",
       "            <tr>\n",
       "                        <th id=\"T_77481000_7a59_11ec_ac87_9801a791e1cblevel0_row7\" class=\"row_heading level0 row7\" >TotRmsAbvGrd</th>\n",
       "                        <td id=\"T_77481000_7a59_11ec_ac87_9801a791e1cbrow7_col0\" class=\"data row7 col0\" >0.43</td>\n",
       "                        <td id=\"T_77481000_7a59_11ec_ac87_9801a791e1cbrow7_col1\" class=\"data row7 col1\" >0.10</td>\n",
       "                        <td id=\"T_77481000_7a59_11ec_ac87_9801a791e1cbrow7_col2\" class=\"data row7 col2\" >0.19</td>\n",
       "                        <td id=\"T_77481000_7a59_11ec_ac87_9801a791e1cbrow7_col3\" class=\"data row7 col3\" >0.29</td>\n",
       "                        <td id=\"T_77481000_7a59_11ec_ac87_9801a791e1cbrow7_col4\" class=\"data row7 col4\" >0.41</td>\n",
       "                        <td id=\"T_77481000_7a59_11ec_ac87_9801a791e1cbrow7_col5\" class=\"data row7 col5\" >0.83</td>\n",
       "                        <td id=\"T_77481000_7a59_11ec_ac87_9801a791e1cbrow7_col6\" class=\"data row7 col6\" >0.55</td>\n",
       "                        <td id=\"T_77481000_7a59_11ec_ac87_9801a791e1cbrow7_col7\" class=\"data row7 col7\" >1.00</td>\n",
       "                        <td id=\"T_77481000_7a59_11ec_ac87_9801a791e1cbrow7_col8\" class=\"data row7 col8\" >0.16</td>\n",
       "                        <td id=\"T_77481000_7a59_11ec_ac87_9801a791e1cbrow7_col9\" class=\"data row7 col9\" >0.36</td>\n",
       "                        <td id=\"T_77481000_7a59_11ec_ac87_9801a791e1cbrow7_col10\" class=\"data row7 col10\" >0.34</td>\n",
       "            </tr>\n",
       "            <tr>\n",
       "                        <th id=\"T_77481000_7a59_11ec_ac87_9801a791e1cblevel0_row8\" class=\"row_heading level0 row8\" >GarageYrBlt</th>\n",
       "                        <td id=\"T_77481000_7a59_11ec_ac87_9801a791e1cbrow8_col0\" class=\"data row8 col0\" >0.56</td>\n",
       "                        <td id=\"T_77481000_7a59_11ec_ac87_9801a791e1cbrow8_col1\" class=\"data row8 col1\" >0.73</td>\n",
       "                        <td id=\"T_77481000_7a59_11ec_ac87_9801a791e1cbrow8_col2\" class=\"data row8 col2\" >0.53</td>\n",
       "                        <td id=\"T_77481000_7a59_11ec_ac87_9801a791e1cbrow8_col3\" class=\"data row8 col3\" >0.34</td>\n",
       "                        <td id=\"T_77481000_7a59_11ec_ac87_9801a791e1cbrow8_col4\" class=\"data row8 col4\" >0.27</td>\n",
       "                        <td id=\"T_77481000_7a59_11ec_ac87_9801a791e1cbrow8_col5\" class=\"data row8 col5\" >0.27</td>\n",
       "                        <td id=\"T_77481000_7a59_11ec_ac87_9801a791e1cbrow8_col6\" class=\"data row8 col6\" >0.42</td>\n",
       "                        <td id=\"T_77481000_7a59_11ec_ac87_9801a791e1cbrow8_col7\" class=\"data row8 col7\" >0.16</td>\n",
       "                        <td id=\"T_77481000_7a59_11ec_ac87_9801a791e1cbrow8_col8\" class=\"data row8 col8\" >1.00</td>\n",
       "                        <td id=\"T_77481000_7a59_11ec_ac87_9801a791e1cbrow8_col9\" class=\"data row8 col9\" >0.74</td>\n",
       "                        <td id=\"T_77481000_7a59_11ec_ac87_9801a791e1cbrow8_col10\" class=\"data row8 col10\" >0.71</td>\n",
       "            </tr>\n",
       "            <tr>\n",
       "                        <th id=\"T_77481000_7a59_11ec_ac87_9801a791e1cblevel0_row9\" class=\"row_heading level0 row9\" >GarageCars</th>\n",
       "                        <td id=\"T_77481000_7a59_11ec_ac87_9801a791e1cbrow9_col0\" class=\"data row9 col0\" >0.60</td>\n",
       "                        <td id=\"T_77481000_7a59_11ec_ac87_9801a791e1cbrow9_col1\" class=\"data row9 col1\" >0.54</td>\n",
       "                        <td id=\"T_77481000_7a59_11ec_ac87_9801a791e1cbrow9_col2\" class=\"data row9 col2\" >0.42</td>\n",
       "                        <td id=\"T_77481000_7a59_11ec_ac87_9801a791e1cbrow9_col3\" class=\"data row9 col3\" >0.43</td>\n",
       "                        <td id=\"T_77481000_7a59_11ec_ac87_9801a791e1cbrow9_col4\" class=\"data row9 col4\" >0.44</td>\n",
       "                        <td id=\"T_77481000_7a59_11ec_ac87_9801a791e1cbrow9_col5\" class=\"data row9 col5\" >0.47</td>\n",
       "                        <td id=\"T_77481000_7a59_11ec_ac87_9801a791e1cbrow9_col6\" class=\"data row9 col6\" >0.47</td>\n",
       "                        <td id=\"T_77481000_7a59_11ec_ac87_9801a791e1cbrow9_col7\" class=\"data row9 col7\" >0.36</td>\n",
       "                        <td id=\"T_77481000_7a59_11ec_ac87_9801a791e1cbrow9_col8\" class=\"data row9 col8\" >0.74</td>\n",
       "                        <td id=\"T_77481000_7a59_11ec_ac87_9801a791e1cbrow9_col9\" class=\"data row9 col9\" >1.00</td>\n",
       "                        <td id=\"T_77481000_7a59_11ec_ac87_9801a791e1cbrow9_col10\" class=\"data row9 col10\" >0.88</td>\n",
       "            </tr>\n",
       "            <tr>\n",
       "                        <th id=\"T_77481000_7a59_11ec_ac87_9801a791e1cblevel0_row10\" class=\"row_heading level0 row10\" >GarageArea</th>\n",
       "                        <td id=\"T_77481000_7a59_11ec_ac87_9801a791e1cbrow10_col0\" class=\"data row10 col0\" >0.56</td>\n",
       "                        <td id=\"T_77481000_7a59_11ec_ac87_9801a791e1cbrow10_col1\" class=\"data row10 col1\" >0.48</td>\n",
       "                        <td id=\"T_77481000_7a59_11ec_ac87_9801a791e1cbrow10_col2\" class=\"data row10 col2\" >0.37</td>\n",
       "                        <td id=\"T_77481000_7a59_11ec_ac87_9801a791e1cbrow10_col3\" class=\"data row10 col3\" >0.49</td>\n",
       "                        <td id=\"T_77481000_7a59_11ec_ac87_9801a791e1cbrow10_col4\" class=\"data row10 col4\" >0.49</td>\n",
       "                        <td id=\"T_77481000_7a59_11ec_ac87_9801a791e1cbrow10_col5\" class=\"data row10 col5\" >0.47</td>\n",
       "                        <td id=\"T_77481000_7a59_11ec_ac87_9801a791e1cbrow10_col6\" class=\"data row10 col6\" >0.41</td>\n",
       "                        <td id=\"T_77481000_7a59_11ec_ac87_9801a791e1cbrow10_col7\" class=\"data row10 col7\" >0.34</td>\n",
       "                        <td id=\"T_77481000_7a59_11ec_ac87_9801a791e1cbrow10_col8\" class=\"data row10 col8\" >0.71</td>\n",
       "                        <td id=\"T_77481000_7a59_11ec_ac87_9801a791e1cbrow10_col9\" class=\"data row10 col9\" >0.88</td>\n",
       "                        <td id=\"T_77481000_7a59_11ec_ac87_9801a791e1cbrow10_col10\" class=\"data row10 col10\" >1.00</td>\n",
       "            </tr>\n",
       "    </tbody></table>"
      ],
      "text/plain": [
       "<pandas.io.formats.style.Styler at 0x7fb3c5709a00>"
      ]
     },
     "execution_count": 17,
     "metadata": {},
     "output_type": "execute_result"
    }
   ],
   "source": [
    "#check for collinearity\n",
    "X_num = train[numeric_cols]\n",
    "#correlation matrix\n",
    "X_num.corr().style.background_gradient(cmap='coolwarm').set_precision(2)"
   ]
  },
  {
   "cell_type": "markdown",
   "metadata": {},
   "source": [
    "R(GarageArea, GarageCars) = 0.88 <br />\n",
    "R(1stFlrSF, TotRmsAbvGrd) = 0.83 <br />\n",
    "R(GrLivArea, TotalBsmtSF) = 0.82 <br />\n",
    "R(GarageYrBlt, GarageCars) = 0.80 <br />\n",
    "We will drop 4 and test again. "
   ]
  },
  {
   "cell_type": "code",
   "execution_count": 18,
   "metadata": {},
   "outputs": [
    {
     "data": {
      "text/html": [
       "<style  type=\"text/css\" >\n",
       "    #T_7751764a_7a59_11ec_ac87_9801a791e1cbrow0_col0 {\n",
       "            background-color:  #b40426;\n",
       "            color:  #f1f1f1;\n",
       "        }    #T_7751764a_7a59_11ec_ac87_9801a791e1cbrow0_col1 {\n",
       "            background-color:  #d4dbe6;\n",
       "            color:  #000000;\n",
       "        }    #T_7751764a_7a59_11ec_ac87_9801a791e1cbrow0_col2 {\n",
       "            background-color:  #b6cefa;\n",
       "            color:  #000000;\n",
       "        }    #T_7751764a_7a59_11ec_ac87_9801a791e1cbrow0_col3 {\n",
       "            background-color:  #afcafc;\n",
       "            color:  #000000;\n",
       "        }    #T_7751764a_7a59_11ec_ac87_9801a791e1cbrow0_col4 {\n",
       "            background-color:  #dadce0;\n",
       "            color:  #000000;\n",
       "        }    #T_7751764a_7a59_11ec_ac87_9801a791e1cbrow0_col5 {\n",
       "            background-color:  #aac7fd;\n",
       "            color:  #000000;\n",
       "        }    #T_7751764a_7a59_11ec_ac87_9801a791e1cbrow0_col6 {\n",
       "            background-color:  #9fbfff;\n",
       "            color:  #000000;\n",
       "        }    #T_7751764a_7a59_11ec_ac87_9801a791e1cbrow1_col0 {\n",
       "            background-color:  #516ddb;\n",
       "            color:  #000000;\n",
       "        }    #T_7751764a_7a59_11ec_ac87_9801a791e1cbrow1_col1 {\n",
       "            background-color:  #b40426;\n",
       "            color:  #f1f1f1;\n",
       "        }    #T_7751764a_7a59_11ec_ac87_9801a791e1cbrow1_col2 {\n",
       "            background-color:  #c9d7f0;\n",
       "            color:  #000000;\n",
       "        }    #T_7751764a_7a59_11ec_ac87_9801a791e1cbrow1_col3 {\n",
       "            background-color:  #6788ee;\n",
       "            color:  #000000;\n",
       "        }    #T_7751764a_7a59_11ec_ac87_9801a791e1cbrow1_col4 {\n",
       "            background-color:  #3b4cc0;\n",
       "            color:  #f1f1f1;\n",
       "        }    #T_7751764a_7a59_11ec_ac87_9801a791e1cbrow1_col5 {\n",
       "            background-color:  #80a3fa;\n",
       "            color:  #000000;\n",
       "        }    #T_7751764a_7a59_11ec_ac87_9801a791e1cbrow1_col6 {\n",
       "            background-color:  #7093f3;\n",
       "            color:  #000000;\n",
       "        }    #T_7751764a_7a59_11ec_ac87_9801a791e1cbrow2_col0 {\n",
       "            background-color:  #4358cb;\n",
       "            color:  #f1f1f1;\n",
       "        }    #T_7751764a_7a59_11ec_ac87_9801a791e1cbrow2_col1 {\n",
       "            background-color:  #dadce0;\n",
       "            color:  #000000;\n",
       "        }    #T_7751764a_7a59_11ec_ac87_9801a791e1cbrow2_col2 {\n",
       "            background-color:  #b40426;\n",
       "            color:  #f1f1f1;\n",
       "        }    #T_7751764a_7a59_11ec_ac87_9801a791e1cbrow2_col3 {\n",
       "            background-color:  #3b4cc0;\n",
       "            color:  #f1f1f1;\n",
       "        }    #T_7751764a_7a59_11ec_ac87_9801a791e1cbrow2_col4 {\n",
       "            background-color:  #5d7ce6;\n",
       "            color:  #000000;\n",
       "        }    #T_7751764a_7a59_11ec_ac87_9801a791e1cbrow2_col5 {\n",
       "            background-color:  #7093f3;\n",
       "            color:  #000000;\n",
       "        }    #T_7751764a_7a59_11ec_ac87_9801a791e1cbrow2_col6 {\n",
       "            background-color:  #3b4cc0;\n",
       "            color:  #f1f1f1;\n",
       "        }    #T_7751764a_7a59_11ec_ac87_9801a791e1cbrow3_col0 {\n",
       "            background-color:  #3b4cc0;\n",
       "            color:  #f1f1f1;\n",
       "        }    #T_7751764a_7a59_11ec_ac87_9801a791e1cbrow3_col1 {\n",
       "            background-color:  #89acfd;\n",
       "            color:  #000000;\n",
       "        }    #T_7751764a_7a59_11ec_ac87_9801a791e1cbrow3_col2 {\n",
       "            background-color:  #3c4ec2;\n",
       "            color:  #f1f1f1;\n",
       "        }    #T_7751764a_7a59_11ec_ac87_9801a791e1cbrow3_col3 {\n",
       "            background-color:  #b40426;\n",
       "            color:  #f1f1f1;\n",
       "        }    #T_7751764a_7a59_11ec_ac87_9801a791e1cbrow3_col4 {\n",
       "            background-color:  #a5c3fe;\n",
       "            color:  #000000;\n",
       "        }    #T_7751764a_7a59_11ec_ac87_9801a791e1cbrow3_col5 {\n",
       "            background-color:  #3b4cc0;\n",
       "            color:  #f1f1f1;\n",
       "        }    #T_7751764a_7a59_11ec_ac87_9801a791e1cbrow3_col6 {\n",
       "            background-color:  #7597f6;\n",
       "            color:  #000000;\n",
       "        }    #T_7751764a_7a59_11ec_ac87_9801a791e1cbrow4_col0 {\n",
       "            background-color:  #5f7fe8;\n",
       "            color:  #000000;\n",
       "        }    #T_7751764a_7a59_11ec_ac87_9801a791e1cbrow4_col1 {\n",
       "            background-color:  #3b4cc0;\n",
       "            color:  #f1f1f1;\n",
       "        }    #T_7751764a_7a59_11ec_ac87_9801a791e1cbrow4_col2 {\n",
       "            background-color:  #3b4cc0;\n",
       "            color:  #f1f1f1;\n",
       "        }    #T_7751764a_7a59_11ec_ac87_9801a791e1cbrow4_col3 {\n",
       "            background-color:  #86a9fc;\n",
       "            color:  #000000;\n",
       "        }    #T_7751764a_7a59_11ec_ac87_9801a791e1cbrow4_col4 {\n",
       "            background-color:  #b40426;\n",
       "            color:  #f1f1f1;\n",
       "        }    #T_7751764a_7a59_11ec_ac87_9801a791e1cbrow4_col5 {\n",
       "            background-color:  #cfdaea;\n",
       "            color:  #000000;\n",
       "        }    #T_7751764a_7a59_11ec_ac87_9801a791e1cbrow4_col6 {\n",
       "            background-color:  #6b8df0;\n",
       "            color:  #000000;\n",
       "        }    #T_7751764a_7a59_11ec_ac87_9801a791e1cbrow5_col0 {\n",
       "            background-color:  #4358cb;\n",
       "            color:  #f1f1f1;\n",
       "        }    #T_7751764a_7a59_11ec_ac87_9801a791e1cbrow5_col1 {\n",
       "            background-color:  #abc8fd;\n",
       "            color:  #000000;\n",
       "        }    #T_7751764a_7a59_11ec_ac87_9801a791e1cbrow5_col2 {\n",
       "            background-color:  #80a3fa;\n",
       "            color:  #000000;\n",
       "        }    #T_7751764a_7a59_11ec_ac87_9801a791e1cbrow5_col3 {\n",
       "            background-color:  #485fd1;\n",
       "            color:  #f1f1f1;\n",
       "        }    #T_7751764a_7a59_11ec_ac87_9801a791e1cbrow5_col4 {\n",
       "            background-color:  #e6d7cf;\n",
       "            color:  #000000;\n",
       "        }    #T_7751764a_7a59_11ec_ac87_9801a791e1cbrow5_col5 {\n",
       "            background-color:  #b40426;\n",
       "            color:  #f1f1f1;\n",
       "        }    #T_7751764a_7a59_11ec_ac87_9801a791e1cbrow5_col6 {\n",
       "            background-color:  #4a63d3;\n",
       "            color:  #f1f1f1;\n",
       "        }    #T_7751764a_7a59_11ec_ac87_9801a791e1cbrow6_col0 {\n",
       "            background-color:  #4a63d3;\n",
       "            color:  #f1f1f1;\n",
       "        }    #T_7751764a_7a59_11ec_ac87_9801a791e1cbrow6_col1 {\n",
       "            background-color:  #afcafc;\n",
       "            color:  #000000;\n",
       "        }    #T_7751764a_7a59_11ec_ac87_9801a791e1cbrow6_col2 {\n",
       "            background-color:  #5f7fe8;\n",
       "            color:  #000000;\n",
       "        }    #T_7751764a_7a59_11ec_ac87_9801a791e1cbrow6_col3 {\n",
       "            background-color:  #96b7ff;\n",
       "            color:  #000000;\n",
       "        }    #T_7751764a_7a59_11ec_ac87_9801a791e1cbrow6_col4 {\n",
       "            background-color:  #abc8fd;\n",
       "            color:  #000000;\n",
       "        }    #T_7751764a_7a59_11ec_ac87_9801a791e1cbrow6_col5 {\n",
       "            background-color:  #6180e9;\n",
       "            color:  #000000;\n",
       "        }    #T_7751764a_7a59_11ec_ac87_9801a791e1cbrow6_col6 {\n",
       "            background-color:  #b40426;\n",
       "            color:  #f1f1f1;\n",
       "        }</style><table id=\"T_7751764a_7a59_11ec_ac87_9801a791e1cb\" ><thead>    <tr>        <th class=\"blank level0\" ></th>        <th class=\"col_heading level0 col0\" >OverallQual</th>        <th class=\"col_heading level0 col1\" >YearBuilt</th>        <th class=\"col_heading level0 col2\" >YearRemodAdd</th>        <th class=\"col_heading level0 col3\" >TotalBsmtSF</th>        <th class=\"col_heading level0 col4\" >GrLivArea</th>        <th class=\"col_heading level0 col5\" >FullBath</th>        <th class=\"col_heading level0 col6\" >GarageArea</th>    </tr></thead><tbody>\n",
       "                <tr>\n",
       "                        <th id=\"T_7751764a_7a59_11ec_ac87_9801a791e1cblevel0_row0\" class=\"row_heading level0 row0\" >OverallQual</th>\n",
       "                        <td id=\"T_7751764a_7a59_11ec_ac87_9801a791e1cbrow0_col0\" class=\"data row0 col0\" >1.00</td>\n",
       "                        <td id=\"T_7751764a_7a59_11ec_ac87_9801a791e1cbrow0_col1\" class=\"data row0 col1\" >0.57</td>\n",
       "                        <td id=\"T_7751764a_7a59_11ec_ac87_9801a791e1cbrow0_col2\" class=\"data row0 col2\" >0.55</td>\n",
       "                        <td id=\"T_7751764a_7a59_11ec_ac87_9801a791e1cbrow0_col3\" class=\"data row0 col3\" >0.54</td>\n",
       "                        <td id=\"T_7751764a_7a59_11ec_ac87_9801a791e1cbrow0_col4\" class=\"data row0 col4\" >0.59</td>\n",
       "                        <td id=\"T_7751764a_7a59_11ec_ac87_9801a791e1cbrow0_col5\" class=\"data row0 col5\" >0.55</td>\n",
       "                        <td id=\"T_7751764a_7a59_11ec_ac87_9801a791e1cbrow0_col6\" class=\"data row0 col6\" >0.56</td>\n",
       "            </tr>\n",
       "            <tr>\n",
       "                        <th id=\"T_7751764a_7a59_11ec_ac87_9801a791e1cblevel0_row1\" class=\"row_heading level0 row1\" >YearBuilt</th>\n",
       "                        <td id=\"T_7751764a_7a59_11ec_ac87_9801a791e1cbrow1_col0\" class=\"data row1 col0\" >0.57</td>\n",
       "                        <td id=\"T_7751764a_7a59_11ec_ac87_9801a791e1cbrow1_col1\" class=\"data row1 col1\" >1.00</td>\n",
       "                        <td id=\"T_7751764a_7a59_11ec_ac87_9801a791e1cbrow1_col2\" class=\"data row1 col2\" >0.59</td>\n",
       "                        <td id=\"T_7751764a_7a59_11ec_ac87_9801a791e1cbrow1_col3\" class=\"data row1 col3\" >0.39</td>\n",
       "                        <td id=\"T_7751764a_7a59_11ec_ac87_9801a791e1cbrow1_col4\" class=\"data row1 col4\" >0.20</td>\n",
       "                        <td id=\"T_7751764a_7a59_11ec_ac87_9801a791e1cbrow1_col5\" class=\"data row1 col5\" >0.47</td>\n",
       "                        <td id=\"T_7751764a_7a59_11ec_ac87_9801a791e1cbrow1_col6\" class=\"data row1 col6\" >0.48</td>\n",
       "            </tr>\n",
       "            <tr>\n",
       "                        <th id=\"T_7751764a_7a59_11ec_ac87_9801a791e1cblevel0_row2\" class=\"row_heading level0 row2\" >YearRemodAdd</th>\n",
       "                        <td id=\"T_7751764a_7a59_11ec_ac87_9801a791e1cbrow2_col0\" class=\"data row2 col0\" >0.55</td>\n",
       "                        <td id=\"T_7751764a_7a59_11ec_ac87_9801a791e1cbrow2_col1\" class=\"data row2 col1\" >0.59</td>\n",
       "                        <td id=\"T_7751764a_7a59_11ec_ac87_9801a791e1cbrow2_col2\" class=\"data row2 col2\" >1.00</td>\n",
       "                        <td id=\"T_7751764a_7a59_11ec_ac87_9801a791e1cbrow2_col3\" class=\"data row2 col3\" >0.29</td>\n",
       "                        <td id=\"T_7751764a_7a59_11ec_ac87_9801a791e1cbrow2_col4\" class=\"data row2 col4\" >0.29</td>\n",
       "                        <td id=\"T_7751764a_7a59_11ec_ac87_9801a791e1cbrow2_col5\" class=\"data row2 col5\" >0.44</td>\n",
       "                        <td id=\"T_7751764a_7a59_11ec_ac87_9801a791e1cbrow2_col6\" class=\"data row2 col6\" >0.37</td>\n",
       "            </tr>\n",
       "            <tr>\n",
       "                        <th id=\"T_7751764a_7a59_11ec_ac87_9801a791e1cblevel0_row3\" class=\"row_heading level0 row3\" >TotalBsmtSF</th>\n",
       "                        <td id=\"T_7751764a_7a59_11ec_ac87_9801a791e1cbrow3_col0\" class=\"data row3 col0\" >0.54</td>\n",
       "                        <td id=\"T_7751764a_7a59_11ec_ac87_9801a791e1cbrow3_col1\" class=\"data row3 col1\" >0.39</td>\n",
       "                        <td id=\"T_7751764a_7a59_11ec_ac87_9801a791e1cbrow3_col2\" class=\"data row3 col2\" >0.29</td>\n",
       "                        <td id=\"T_7751764a_7a59_11ec_ac87_9801a791e1cbrow3_col3\" class=\"data row3 col3\" >1.00</td>\n",
       "                        <td id=\"T_7751764a_7a59_11ec_ac87_9801a791e1cbrow3_col4\" class=\"data row3 col4\" >0.45</td>\n",
       "                        <td id=\"T_7751764a_7a59_11ec_ac87_9801a791e1cbrow3_col5\" class=\"data row3 col5\" >0.32</td>\n",
       "                        <td id=\"T_7751764a_7a59_11ec_ac87_9801a791e1cbrow3_col6\" class=\"data row3 col6\" >0.49</td>\n",
       "            </tr>\n",
       "            <tr>\n",
       "                        <th id=\"T_7751764a_7a59_11ec_ac87_9801a791e1cblevel0_row4\" class=\"row_heading level0 row4\" >GrLivArea</th>\n",
       "                        <td id=\"T_7751764a_7a59_11ec_ac87_9801a791e1cbrow4_col0\" class=\"data row4 col0\" >0.59</td>\n",
       "                        <td id=\"T_7751764a_7a59_11ec_ac87_9801a791e1cbrow4_col1\" class=\"data row4 col1\" >0.20</td>\n",
       "                        <td id=\"T_7751764a_7a59_11ec_ac87_9801a791e1cbrow4_col2\" class=\"data row4 col2\" >0.29</td>\n",
       "                        <td id=\"T_7751764a_7a59_11ec_ac87_9801a791e1cbrow4_col3\" class=\"data row4 col3\" >0.45</td>\n",
       "                        <td id=\"T_7751764a_7a59_11ec_ac87_9801a791e1cbrow4_col4\" class=\"data row4 col4\" >1.00</td>\n",
       "                        <td id=\"T_7751764a_7a59_11ec_ac87_9801a791e1cbrow4_col5\" class=\"data row4 col5\" >0.63</td>\n",
       "                        <td id=\"T_7751764a_7a59_11ec_ac87_9801a791e1cbrow4_col6\" class=\"data row4 col6\" >0.47</td>\n",
       "            </tr>\n",
       "            <tr>\n",
       "                        <th id=\"T_7751764a_7a59_11ec_ac87_9801a791e1cblevel0_row5\" class=\"row_heading level0 row5\" >FullBath</th>\n",
       "                        <td id=\"T_7751764a_7a59_11ec_ac87_9801a791e1cbrow5_col0\" class=\"data row5 col0\" >0.55</td>\n",
       "                        <td id=\"T_7751764a_7a59_11ec_ac87_9801a791e1cbrow5_col1\" class=\"data row5 col1\" >0.47</td>\n",
       "                        <td id=\"T_7751764a_7a59_11ec_ac87_9801a791e1cbrow5_col2\" class=\"data row5 col2\" >0.44</td>\n",
       "                        <td id=\"T_7751764a_7a59_11ec_ac87_9801a791e1cbrow5_col3\" class=\"data row5 col3\" >0.32</td>\n",
       "                        <td id=\"T_7751764a_7a59_11ec_ac87_9801a791e1cbrow5_col4\" class=\"data row5 col4\" >0.63</td>\n",
       "                        <td id=\"T_7751764a_7a59_11ec_ac87_9801a791e1cbrow5_col5\" class=\"data row5 col5\" >1.00</td>\n",
       "                        <td id=\"T_7751764a_7a59_11ec_ac87_9801a791e1cbrow5_col6\" class=\"data row5 col6\" >0.41</td>\n",
       "            </tr>\n",
       "            <tr>\n",
       "                        <th id=\"T_7751764a_7a59_11ec_ac87_9801a791e1cblevel0_row6\" class=\"row_heading level0 row6\" >GarageArea</th>\n",
       "                        <td id=\"T_7751764a_7a59_11ec_ac87_9801a791e1cbrow6_col0\" class=\"data row6 col0\" >0.56</td>\n",
       "                        <td id=\"T_7751764a_7a59_11ec_ac87_9801a791e1cbrow6_col1\" class=\"data row6 col1\" >0.48</td>\n",
       "                        <td id=\"T_7751764a_7a59_11ec_ac87_9801a791e1cbrow6_col2\" class=\"data row6 col2\" >0.37</td>\n",
       "                        <td id=\"T_7751764a_7a59_11ec_ac87_9801a791e1cbrow6_col3\" class=\"data row6 col3\" >0.49</td>\n",
       "                        <td id=\"T_7751764a_7a59_11ec_ac87_9801a791e1cbrow6_col4\" class=\"data row6 col4\" >0.47</td>\n",
       "                        <td id=\"T_7751764a_7a59_11ec_ac87_9801a791e1cbrow6_col5\" class=\"data row6 col5\" >0.41</td>\n",
       "                        <td id=\"T_7751764a_7a59_11ec_ac87_9801a791e1cbrow6_col6\" class=\"data row6 col6\" >1.00</td>\n",
       "            </tr>\n",
       "    </tbody></table>"
      ],
      "text/plain": [
       "<pandas.io.formats.style.Styler at 0x7fb3c5c0f5b0>"
      ]
     },
     "execution_count": 18,
     "metadata": {},
     "output_type": "execute_result"
    }
   ],
   "source": [
    "#drop vars\n",
    "X_num = X_num.drop(['GarageCars', 'TotRmsAbvGrd', '1stFlrSF', 'GarageYrBlt'],axis=1)\n",
    "#correlation matrix\n",
    "X_num.corr().style.background_gradient(cmap='coolwarm').set_precision(2)"
   ]
  },
  {
   "cell_type": "markdown",
   "metadata": {},
   "source": [
    "There are no longer any high correlations between numeric predictors."
   ]
  },
  {
   "cell_type": "markdown",
   "metadata": {},
   "source": [
    "### Feature Selection - Categorical"
   ]
  },
  {
   "cell_type": "code",
   "execution_count": 19,
   "metadata": {},
   "outputs": [],
   "source": [
    "# Categorical columns - choose the important ones (based off looking at descriptions)\n",
    "categorical_cols = [\"MSZoning\", \"BldgType\", \"Utilities\", \"Heating\", \"SaleCondition\", \"KitchenQual\", \"LandSlope\"]\n",
    "X_cat = pd.get_dummies(train[categorical_cols], columns=categorical_cols)"
   ]
  },
  {
   "cell_type": "markdown",
   "metadata": {},
   "source": [
    "MSZoning: The general zoning classification <br />\n",
    "BldgType: Type of dwelling <br />\n",
    "Utilities: Type of utilities available <br />\n",
    "Heating: Type of heating <br />\n",
    "SaleCondition: Condition of sale <br />\n",
    "KitchenQual: Kitchen quality <br />\n",
    "LandSlope: Slope of property <br />\n",
    "We also recode our cetegorical data here using dummy variables so they can be used in the models."
   ]
  },
  {
   "cell_type": "markdown",
   "metadata": {},
   "source": [
    "### Feature Creation"
   ]
  },
  {
   "cell_type": "code",
   "execution_count": 20,
   "metadata": {},
   "outputs": [],
   "source": [
    "#years between built and remode\n",
    "X_num['YearBuilt_minus_YearRemodAdd'] = train.apply(lambda x: x['YearBuilt'] - x['YearRemodAdd'],axis=1)\n",
    "#Uses Qual and Cond\n",
    "X_num['OverallQual_and_OverallCond'] = train.apply(lambda x: x['OverallQual'] + x['OverallCond'],axis=1)\n",
    "\n",
    "#drop old vars from X\n",
    "X_num = X_num.drop(['YearRemodAdd', 'YearBuilt','OverallQual'],axis=1)"
   ]
  },
  {
   "cell_type": "markdown",
   "metadata": {},
   "source": [
    "We can include a few combinations of variables here as well in order to gain insight from variables that may otherwise for correlated. For example It may be insightful to see how long between building date and remodeling date. A combination of both Quality and Condition may be more insightful than just looking at Quality."
   ]
  },
  {
   "cell_type": "code",
   "execution_count": 21,
   "metadata": {},
   "outputs": [],
   "source": [
    "#combine numeric and categoric X\n",
    "X_final = X_num.join(X_cat)\n",
    "y = train.SalePrice\n",
    "\n",
    "#standard scaling\n",
    "std_scaler = StandardScaler()\n",
    "numeric_cols = X_final._get_numeric_data().columns \n",
    "X_final[numeric_cols] = std_scaler.fit_transform(X_final[numeric_cols])\n",
    "\n",
    "#cross validation sets from training set\n",
    "X_train, X_val, y_train, y_val = train_test_split(X_final, y, test_size=0.2, random_state=1)"
   ]
  },
  {
   "cell_type": "markdown",
   "metadata": {},
   "source": [
    "Our last step before modeling is to combine our predictors, scale them using standard scaling, and split the training data so we can use cross validation."
   ]
  },
  {
   "cell_type": "markdown",
   "metadata": {},
   "source": [
    "## Modeling"
   ]
  },
  {
   "cell_type": "markdown",
   "metadata": {},
   "source": [
    "Here we use a package to test 42 different regressions to see their goodness of fit metrics like their R-Squared and Adjusted R-Squared values. We can also rank them by RMSE by using cross-validation against the testing portion of the training dataset."
   ]
  },
  {
   "cell_type": "code",
   "execution_count": 22,
   "metadata": {},
   "outputs": [
    {
     "name": "stderr",
     "output_type": "stream",
     "text": [
      "100%|██████████| 42/42 [00:08<00:00,  5.14it/s]\n"
     ]
    }
   ],
   "source": [
    "reg = LazyRegressor(verbose=0, ignore_warnings=False, custom_metric=None)\n",
    "models, predictions = reg.fit(X_train, X_val, y_train, y_val)"
   ]
  },
  {
   "cell_type": "code",
   "execution_count": 23,
   "metadata": {},
   "outputs": [
    {
     "name": "stdout",
     "output_type": "stream",
     "text": [
      "                               Adjusted R-Squared  R-Squared       RMSE  \\\n",
      "Model                                                                     \n",
      "XGBRegressor                                 0.86       0.88   29557.25   \n",
      "BaggingRegressor                             0.85       0.87   30088.05   \n",
      "GradientBoostingRegressor                    0.85       0.87   30270.81   \n",
      "HistGradientBoostingRegressor                0.84       0.86   31262.64   \n",
      "PoissonRegressor                             0.84       0.86   31624.44   \n",
      "RandomForestRegressor                        0.84       0.86   31995.49   \n",
      "LGBMRegressor                                0.83       0.85   32223.48   \n",
      "HuberRegressor                               0.80       0.83   34885.08   \n",
      "RANSACRegressor                              0.80       0.83   34957.62   \n",
      "PassiveAggressiveRegressor                   0.80       0.82   35397.17   \n",
      "LassoCV                                      0.80       0.82   35604.96   \n",
      "LassoLarsCV                                  0.80       0.82   35612.24   \n",
      "LarsCV                                       0.80       0.82   35612.24   \n",
      "LassoLars                                    0.80       0.82   35655.12   \n",
      "Lars                                         0.80       0.82   35676.38   \n",
      "LassoLarsIC                                  0.80       0.82   35718.05   \n",
      "Lasso                                        0.79       0.82   35740.90   \n",
      "Ridge                                        0.79       0.82   35750.00   \n",
      "TransformedTargetRegressor                   0.79       0.82   35762.12   \n",
      "LinearRegression                             0.79       0.82   35762.12   \n",
      "RidgeCV                                      0.79       0.82   35827.52   \n",
      "BayesianRidge                                0.79       0.82   35957.72   \n",
      "OrthogonalMatchingPursuitCV                  0.78       0.81   37046.45   \n",
      "ExtraTreesRegressor                          0.77       0.80   37861.27   \n",
      "DecisionTreeRegressor                        0.76       0.79   38733.62   \n",
      "GammaRegressor                               0.75       0.79   39132.57   \n",
      "ElasticNet                                   0.75       0.78   39709.63   \n",
      "AdaBoostRegressor                            0.73       0.76   41297.67   \n",
      "TweedieRegressor                             0.70       0.74   43021.56   \n",
      "GeneralizedLinearRegressor                   0.70       0.74   43021.56   \n",
      "KNeighborsRegressor                          0.70       0.74   43076.58   \n",
      "OrthogonalMatchingPursuit                    0.70       0.74   43180.82   \n",
      "ExtraTreeRegressor                           0.52       0.58   54645.42   \n",
      "ElasticNetCV                                -0.04       0.09   80536.21   \n",
      "NuSVR                                       -0.15      -0.00   84468.24   \n",
      "DummyRegressor                              -0.15      -0.01   84695.70   \n",
      "SGDRegressor                                -0.16      -0.01   84798.93   \n",
      "SVR                                         -0.16      -0.02   85102.62   \n",
      "KernelRidge                                 -4.59      -3.88  186620.71   \n",
      "MLPRegressor                                -5.02      -4.25  193580.96   \n",
      "LinearSVR                                   -5.04      -4.27  193955.44   \n",
      "GaussianProcessRegressor                  -417.01    -363.86 1613123.09   \n",
      "\n",
      "                               Time Taken  \n",
      "Model                                      \n",
      "XGBRegressor                         0.22  \n",
      "BaggingRegressor                     0.08  \n",
      "GradientBoostingRegressor            0.25  \n",
      "HistGradientBoostingRegressor        1.33  \n",
      "PoissonRegressor                     0.04  \n",
      "RandomForestRegressor                0.69  \n",
      "LGBMRegressor                        0.20  \n",
      "HuberRegressor                       0.09  \n",
      "RANSACRegressor                      0.17  \n",
      "PassiveAggressiveRegressor           0.12  \n",
      "LassoCV                              0.20  \n",
      "LassoLarsCV                          0.07  \n",
      "LarsCV                               0.07  \n",
      "LassoLars                            0.03  \n",
      "Lars                                 0.03  \n",
      "LassoLarsIC                          0.03  \n",
      "Lasso                                0.06  \n",
      "Ridge                                0.02  \n",
      "TransformedTargetRegressor           0.04  \n",
      "LinearRegression                     0.02  \n",
      "RidgeCV                              0.03  \n",
      "BayesianRidge                        0.02  \n",
      "OrthogonalMatchingPursuitCV          0.04  \n",
      "ExtraTreesRegressor                  0.72  \n",
      "DecisionTreeRegressor                0.02  \n",
      "GammaRegressor                       0.04  \n",
      "ElasticNet                           0.02  \n",
      "AdaBoostRegressor                    0.20  \n",
      "TweedieRegressor                     0.04  \n",
      "GeneralizedLinearRegressor           0.09  \n",
      "KNeighborsRegressor                  0.08  \n",
      "OrthogonalMatchingPursuit            0.03  \n",
      "ExtraTreeRegressor                   0.03  \n",
      "ElasticNetCV                         0.11  \n",
      "NuSVR                                0.13  \n",
      "DummyRegressor                       0.02  \n",
      "SGDRegressor                         0.02  \n",
      "SVR                                  0.18  \n",
      "KernelRidge                          0.11  \n",
      "MLPRegressor                         2.14  \n",
      "LinearSVR                            0.03  \n",
      "GaussianProcessRegressor             0.27  \n"
     ]
    }
   ],
   "source": [
    "print(models)"
   ]
  },
  {
   "cell_type": "markdown",
   "metadata": {},
   "source": [
    "The best model is XGBRegressor with Adjusted R-Squared value of 0.86, a R-Squared of 0.88, and a RMSE value of 29557.25. Let's recreate the model below so we can predict SalePrice for test data. \n",
    "\n",
    "In layman's terms, this tells us that the XGBRegressor has the best ability to predict SalePrice based off the predictors (variables) we investigated above. 88% of the variation in the data can be attributed to the predictors we looked at using this specific model. It's great ability to predict saleprice is why we choose this model to predict SalePrice in the testing dataset in the final section."
   ]
  },
  {
   "cell_type": "code",
   "execution_count": 24,
   "metadata": {},
   "outputs": [
    {
     "name": "stdout",
     "output_type": "stream",
     "text": [
      "Training score:  0.8762093254720652\n"
     ]
    }
   ],
   "source": [
    "# XGBRegressor\n",
    "from xgboost import XGBRegressor\n",
    "xgbr = xgb.XGBRegressor(verbosity=0) \n",
    "XGBRegressor(base_score=0.5, booster='gbtree', colsample_bylevel=1,\n",
    "       colsample_bynode=1, colsample_bytree=1, gamma=0,\n",
    "       importance_type='gain', learning_rate=0.1, max_delta_step=0,\n",
    "       max_depth=3, min_child_weight=1, missing=None, n_estimators=100,\n",
    "       n_jobs=1, nthread=None, objective='reg:linear', random_state=0,\n",
    "       reg_alpha=0, reg_lambda=1, scale_pos_weight=1, seed=None,\n",
    "       silent=None, subsample=1, verbosity=1)\n",
    "xgbr.fit(X_train, y_train)\n",
    "score = xgbr.score(X_val, y_val)  \n",
    "print(\"Training score: \", score)\n",
    "#Training score:  0.8762093254720652"
   ]
  },
  {
   "cell_type": "code",
   "execution_count": 25,
   "metadata": {},
   "outputs": [
    {
     "data": {
      "image/png": "[encoded data removed]",
      "text/plain": [
       "<Figure size 432x288 with 1 Axes>"
      ]
     },
     "metadata": {
      "needs_background": "light"
     },
     "output_type": "display_data"
    }
   ],
   "source": [
    "import matplotlib.pyplot as plt\n",
    "ypred = xgbr.predict(X_val)\n",
    "plt.scatter(ypred, y_val-ypred)\n",
    "\n",
    "plt.show()"
   ]
  },
  {
   "cell_type": "markdown",
   "metadata": {},
   "source": [
    "We can see that the sum of the residuals from this plot is approximately zero. There is homoscedasicity for the majority of points as seen by the even spread in the clump."
   ]
  },
  {
   "cell_type": "code",
   "execution_count": 26,
   "metadata": {},
   "outputs": [
    {
     "name": "stdout",
     "output_type": "stream",
     "text": [
      "Training score:  0.8474507129045956\n"
     ]
    }
   ],
   "source": [
    "# BaggingRegressor (2nd best)\n",
    "from sklearn.ensemble import BaggingRegressor\n",
    "reg = BaggingRegressor(random_state=0)\n",
    "reg.fit(X_train, y_train)\n",
    "reg.predict(X_train[1:2])\n",
    "print(\"Training score: \", reg.score(X_val, y_val))\n",
    "#Training score:  0.8474507129045956"
   ]
  },
  {
   "cell_type": "code",
   "execution_count": 27,
   "metadata": {},
   "outputs": [
    {
     "name": "stdout",
     "output_type": "stream",
     "text": [
      "Training score:  0.8734785957836944\n"
     ]
    }
   ],
   "source": [
    "# GradientBoostingRegressor (3rd best)\n",
    "from sklearn.ensemble import GradientBoostingRegressor\n",
    "reg = GradientBoostingRegressor(random_state=0)\n",
    "reg.fit(X_train, y_train)\n",
    "reg.predict(X_train[1:2])\n",
    "print(\"Training score: \", reg.score(X_val, y_val))\n",
    "#Training score:  0.8734785957836944"
   ]
  },
  {
   "cell_type": "code",
   "execution_count": 28,
   "metadata": {},
   "outputs": [
    {
     "name": "stdout",
     "output_type": "stream",
     "text": [
      "R2 Score: 0.7756335723070844\n",
      "RMSLE: 0.1785919918210902\n",
      "Training score:  0.8422430140166917\n"
     ]
    }
   ],
   "source": [
    "#another model to test: SVR\n",
    "from sklearn.svm import SVR\n",
    "svr = SVR(C=1000000)\n",
    "svr.fit(X_train, y_train)\n",
    "predictions = svr.predict(X_val)\n",
    "r_squared = r2_score(predictions, y_val)\n",
    "print(\"R2 Score:\", r_squared)\n",
    "rmsle = np.sqrt(mean_squared_log_error(predictions, y_val))\n",
    "print(\"RMSLE:\", rmsle)\n",
    "print(\"Training score: \", svr.score(X_val, y_val))"
   ]
  },
  {
   "cell_type": "markdown",
   "metadata": {},
   "source": [
    "As suspected, the XGBRegressor model has the highest score still after re-creating these regression models, and will be used in the final predictions."
   ]
  },
  {
   "cell_type": "markdown",
   "metadata": {},
   "source": [
    "## Submission using test data"
   ]
  },
  {
   "cell_type": "markdown",
   "metadata": {},
   "source": [
    "Score for UserName Kay Quiballo : 0.16008 (xgbr model)"
   ]
  },
  {
   "cell_type": "markdown",
   "metadata": {},
   "source": [
    "[x] Conduct your analysis using a cross-validation design. <br />\n",
    "[x] Conduct EDA and provide appropriate visualizations in the process.<br />\n",
    "[x] Build a minimum of two separate regression models using the training set.<br />\n",
    "[x] Evaluate polynomial, indicator, dichotomous, & piecewise model components.<br />\n",
    "[x] Create at least one feature from the data set.<br />\n",
    "[x] Evaluate the models’ assumptions.<br />\n",
    "[x] Evaluate goodness of fit metrics on the training and validation sets.<br />\n",
    "[x] Submit predictions for the unseen test set available on Kaggle.com.<br />\n",
    "[x] Provide your Kaggle user name and a screen snapshot of your Kaggle scores.<br />\n",
    "[x] Discuss what your models tell you in layman’s terms"
   ]
  },
  {
   "cell_type": "markdown",
   "metadata": {},
   "source": [
    "## Continued Analysis - Week 3"
   ]
  },
  {
   "cell_type": "markdown",
   "metadata": {},
   "source": [
    "[x] Conduct your analysis using a cross-validation design.<br />\n",
    "[x] Conduct / improve upon previous EDA.<br />\n",
    "[x] Build models with many variables.<br />\n",
    "[x] Transform and feature engineer as appropriate.<br />\n",
    "[x] Build at a minimum the following regression models.<br />\n",
    "    - [x] Lasso\n",
    "    - [x] Ridge\n",
    "    - [x] ElasticNet\n",
    "[x] Conduct hyperparameter tuning for the ElasticNet.<br />\n",
    "[x] Evaluate performance of the model using the Kaggle metric upon which your scores are evaluated.<br />\n",
    "[x] Submit at least two models to Kaggle.com for evaluation. Provider your Kaggle.com user name and screen snapshots of your Kaggle scores."
   ]
  },
  {
   "cell_type": "markdown",
   "metadata": {},
   "source": [
    "Here we will run codes for Lasso, Ridge, and ElasticNet as well as incorporate cross validation and tuning."
   ]
  },
  {
   "cell_type": "code",
   "execution_count": 29,
   "metadata": {},
   "outputs": [
    {
     "name": "stdout",
     "output_type": "stream",
     "text": [
      "R2 Score: 0.7443460353263026\n",
      "RMSLE: 0.2981062349348306\n",
      "Training score:  0.8207973505477888\n"
     ]
    }
   ],
   "source": [
    "# Ridge Regression\n",
    "ridge = Ridge()\n",
    "ridge.fit(X_train, y_train)\n",
    "predictions = ridge.predict(X_val)\n",
    "\n",
    "print(\"R2 Score:\", r2_score(predictions, y_val))\n",
    "print(\"RMSLE:\", np.sqrt(mean_squared_log_error(predictions, y_val)))\n",
    "print(\"Training score: \", ridge.score(X_val, y_val)) #0.821\n",
    "# XGBR training score:  0.876"
   ]
  },
  {
   "cell_type": "code",
   "execution_count": 30,
   "metadata": {},
   "outputs": [
    {
     "name": "stdout",
     "output_type": "stream",
     "text": [
      "R2 Score: 0.7446150682231629\n",
      "RMSLE: 0.2985137556854789\n",
      "Training score:  0.8208888270021573\n"
     ]
    }
   ],
   "source": [
    "# Lasso Regression\n",
    "lasso = Lasso()\n",
    "lasso.fit(X_train, y_train)\n",
    "predictions = lasso.predict(X_val)\n",
    "\n",
    "print(\"R2 Score:\", r2_score(predictions, y_val))\n",
    "print(\"RMSLE:\", np.sqrt(mean_squared_log_error(predictions, y_val)))\n",
    "print(\"Training score: \", lasso.score(X_val, y_val)) #0.821\n",
    "# XGBR training score:  0.876"
   ]
  },
  {
   "cell_type": "code",
   "execution_count": 31,
   "metadata": {},
   "outputs": [
    {
     "name": "stdout",
     "output_type": "stream",
     "text": [
      "R2 Score: 0.7066386489418999\n",
      "RMSLE: 0.2349265947759376\n",
      "Training score:  0.8096180061264948\n"
     ]
    }
   ],
   "source": [
    "# ElasticNet Regression\n",
    "elasticnet = ElasticNet(alpha=1.0, l1_ratio=0.88)\n",
    "elasticnet.fit(X_train, y_train)\n",
    "predictions = elasticnet.predict(X_val)\n",
    "\n",
    "print(\"R2 Score:\", r2_score(predictions, y_val))\n",
    "print(\"RMSLE:\", np.sqrt(mean_squared_log_error(predictions, y_val)))\n",
    "print(\"Training score: \", elasticnet.score(X_val, y_val)) #0.779 without tuning, 0.810 with tuning\n",
    "# XGBR training score:  0.876\n",
    "\n",
    "##### commented out because it takes a long time to run\n",
    "#cv = RepeatedKFold(n_splits=10, n_repeats=3, random_state=1)\n",
    "#grid = dict()\n",
    "#grid['alpha'] = [1e-5, 1e-4, 1e-3, 1e-2, 1e-1, 0.0, 1.0, 10.0, 100.0]\n",
    "#grid['l1_ratio'] = np.arange(0, 1, 0.01)\n",
    "#search = GridSearchCV(model, grid, scoring='neg_mean_absolute_error', cv=cv, n_jobs=-1)\n",
    "#results = search.fit(X_train, y_train)\n",
    "#print('MAE: %.3f' % results.best_score_) #MAE: -22452.921\n",
    "#print('Config: %s' % results.best_params_) #Config: {'alpha': 1.0, 'l1_ratio': 0.88}"
   ]
  },
  {
   "cell_type": "markdown",
   "metadata": {},
   "source": [
    "Both ridge and lasso have higher training scores of 0.821. Elasticnet intitially had a score of 0.779 but after hyperparameter tuning of alpha and l1_ratio using kfold, its score was improved to 0.810."
   ]
  },
  {
   "cell_type": "markdown",
   "metadata": {},
   "source": [
    "## Submission"
   ]
  },
  {
   "cell_type": "code",
   "execution_count": 46,
   "metadata": {},
   "outputs": [],
   "source": [
    "#Submission using test data\n",
    "\n",
    "#numerics\n",
    "corr_matrix = train.corr()\n",
    "numeric_cols = list(corr_matrix['SalePrice'][(corr_matrix[\"SalePrice\"] > 0.5)].index)\n",
    "numeric_cols.remove('SalePrice')\n",
    "X_num = test[numeric_cols]\n",
    "X_num['YearBuilt_minus_YearRemodAdd'] = test.apply(lambda x: x['YearBuilt'] - x['YearRemodAdd'],axis=1)\n",
    "X_num['OverallQual_and_OverallCond'] = test.apply(lambda x: x['OverallQual'] + x['OverallCond'],axis=1)\n",
    "X_num = X_num.drop(['YearRemodAdd', 'YearBuilt','OverallQual', 'GarageCars', 'TotRmsAbvGrd', '1stFlrSF', 'GarageYrBlt'],axis=1)\n",
    "\n",
    "#categoric\n",
    "categorical_cols = [\"MSZoning\", \"BldgType\", \"Utilities\", \"Heating\", \"SaleCondition\", \"KitchenQual\", \"LandSlope\"]\n",
    "X_cat = pd.get_dummies(test[categorical_cols], columns=categorical_cols)\n",
    "\n",
    "#combine\n",
    "X_final = X_num.join(X_cat)\n",
    "\n",
    "#scale\n",
    "std_scaler = StandardScaler()\n",
    "numeric_cols = X_final._get_numeric_data().columns \n",
    "X_final[numeric_cols] = std_scaler.fit_transform(X_final[numeric_cols])\n",
    "\n",
    "#fill missing coded variables\n",
    "set(list(X_train.columns)) - set(list(X_final.columns))\n",
    "X_final['Heating_Floor'] = 0\n",
    "X_final['Heating_OthW'] = 0\n",
    "X_final['Utilities_NoSeWa'] = 0\n",
    "\n",
    "#reorder\n",
    "cols_when_model_builds = xgbr.get_booster().feature_names\n",
    "X_final = X_final[cols_when_model_builds]\n",
    "\n",
    "#predict values from test data\n",
    "test_id = pd.read_csv('test.csv')\n",
    "\n",
    "ypred = xgbr.predict(X_final)\n",
    "submit = pd.DataFrame({'Id': test_id['Id'], 'SalePrice': ypred})\n",
    "submit.to_csv('xgbr.csv',index=False)\n",
    "\n",
    "ypred = lasso.predict(X_final)\n",
    "submit = pd.DataFrame({'Id': test_id['Id'], 'SalePrice': ypred})\n",
    "submit.to_csv('lasso.csv',index=False)\n",
    "\n",
    "ypred = ridge.predict(X_final)\n",
    "submit = pd.DataFrame({'Id': test_id['Id'], 'SalePrice': ypred})\n",
    "submit.to_csv('ridge.csv',index=False)\n",
    "\n",
    "ypred = elasticnet.predict(X_final)\n",
    "submit = pd.DataFrame({'Id': test_id['Id'], 'SalePrice': ypred})\n",
    "submit.to_csv('elasticnet.csv',index=False)"
   ]
  },
  {
   "cell_type": "markdown",
   "metadata": {},
   "source": [
    "#### Kaggle Scores for UserName \"Kay Quiballo\" Submissions\n",
    "xgbr: 0.15937 <br />\n",
    "lasso: 0.34969 <br />\n",
    "ridge: 0.34619 <br />\n",
    "elasticnet: 33363 <br />"
   ]
  },
  {
   "cell_type": "markdown",
   "metadata": {},
   "source": [
    "After the continued analysis, we see that lasso ridge and elasticnet performed similarly, but not doing nearly as well when predicting SalePrice of testing data using the xgbr model."
   ]
  },
  {
   "cell_type": "markdown",
   "metadata": {},
   "source": [
    "# END -- extra code not used in analysis\n",
    "\n",
    "### The following models were created and run, but did not have significant prediction power, goodness of fit, or cross-validation metrics. These include linear regression, ridge regression, lasso regression, polynomial regression, and piecewise models. They can be run below, but run-time takes a while so they were not included from the analysis."
   ]
  },
  {
   "cell_type": "code",
   "execution_count": null,
   "metadata": {},
   "outputs": [],
   "source": [
    "#Evaluate polynomial, indicator, dichotomous, & piecewise model components.\n",
    "# Fitting Polynomial Regression to the dataset\n",
    "#from sklearn.preprocessing import PolynomialFeatures\n",
    " \n",
    "#poly = PolynomialFeatures(degree = 4)\n",
    "#X_poly = poly.fit_transform(X_train)\n",
    " \n",
    "#poly.fit(X_poly, y_train)\n",
    "#lin2 = LinearRegression()\n",
    "#lin2.fit(X_poly, y)\n",
    "\n",
    "#note: this code can be run but takes a significant amount of time to pass. "
   ]
  },
  {
   "cell_type": "code",
   "execution_count": null,
   "metadata": {},
   "outputs": [],
   "source": [
    "# Linear Regression\n",
    "#lin_reg = LinearRegression()\n",
    "#lin_reg.fit(X_train, y_train)\n",
    "#predictions = lin_reg.predict(X_val)\n",
    "#r_squared = r2_score(predictions, y_val)\n",
    "\n",
    "#print(\"R2 Score:\", r_squared)\n",
    "#rmsle = np.sqrt(mean_squared_log_error(predictions, y_val))\n",
    "#print(\"RMSLE:\", rmsle)\n",
    "#model.append('Linear Regression')\n",
    "#error.append(rmsle)\n",
    "\n",
    "#R2 Score: 0.7445699257777422\n",
    "#RMSLE: 0.29949680128499373"
   ]
  }
 ],
 "metadata": {
  "kernelspec": {
   "display_name": "Python 3",
   "language": "python",
   "name": "python3"
  },
  "language_info": {
   "codemirror_mode": {
    "name": "ipython",
    "version": 3
   },
   "file_extension": ".py",
   "mimetype": "text/x-python",
   "name": "python",
   "nbconvert_exporter": "python",
   "pygments_lexer": "ipython3",
   "version": "3.8.3"
  }
 },
 "nbformat": 4,
 "nbformat_minor": 4
}
