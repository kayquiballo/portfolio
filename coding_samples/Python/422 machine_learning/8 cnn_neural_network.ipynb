{
 "cells": [
  {
   "cell_type": "markdown",
   "metadata": {},
   "source": [
    "# MSDS 422 Assignment 8: Dogs vs. Cats Redux: Kernel Edition\n",
    "\n",
    "#### Kay Quiballo | 02/21/2022\n",
    "\n",
    "## Management/Research Question\n",
    "\n",
    "The Dogs vs. Cats Redux:  Kernel Edition (Links to an external site.) on Kaggle.com is a foundational CNN problem. This week, you will compete in this competition and submit scores to Kaggle.com.\n",
    "\n",
    "RECOMMENDATION: the data set here is large, so you might consider conducting exploratory data analysis and building initial models on a smaller subsample prior to applying it to the full dataset.  Eventually, you will need to build your models on the entirety, though.\n",
    "\n",
    "## Requirements\n",
    "1. Conduct your analysis using a cross-validation design.\n",
    "2. Conduct EDA.\n",
    "3. Build at least three CNN models based on hyperparameter tuning.\n",
    "4. Evaluate goodness of fit metrics.\n",
    "5. Build ROC and Precision / Recall graphs.\n",
    "6. Once you have your best-performing models, classify the test data and submit it to Kaggle. Provide your Kaggle.com user name and screen snapshots of your scores.\n",
    "7. Discuss your model’s performance.\n"
   ]
  },
  {
   "cell_type": "code",
   "execution_count": 1,
   "metadata": {},
   "outputs": [],
   "source": [
    "import os, cv2, random\n",
    "from tqdm import tqdm\n",
    "import numpy as np\n",
    "import pandas as pd\n",
    "from random import shuffle "
   ]
  },
  {
   "cell_type": "code",
   "execution_count": 2,
   "metadata": {},
   "outputs": [],
   "source": [
    "epochs = 10\n",
    "batch_size = 10"
   ]
  },
  {
   "cell_type": "code",
   "execution_count": 3,
   "metadata": {},
   "outputs": [],
   "source": [
    "def label_pet_image_one_hot_encoder(img):\n",
    "    pet = img.split('.')[-3]\n",
    "    if pet == 'cat': return [1,0]\n",
    "    elif pet == 'dog': return [0,1]\n",
    "    \n",
    "def process_data(data_image_list, DATA_FOLDER, isTrain=True):\n",
    "    data_df = []\n",
    "    for img in tqdm(data_image_list):\n",
    "        path = os.path.join(DATA_FOLDER,img)\n",
    "        if(isTrain):\n",
    "            label = label_pet_image_one_hot_encoder(img)\n",
    "        else:\n",
    "            label = img.split('.')[0]\n",
    "        img = cv2.imread(path,cv2.IMREAD_COLOR)\n",
    "        img = cv2.resize(img, (224,224))\n",
    "        data_df.append([np.array(img),np.array(label)])\n",
    "    shuffle(data_df)\n",
    "    return data_df"
   ]
  },
  {
   "cell_type": "code",
   "execution_count": 4,
   "metadata": {},
   "outputs": [
    {
     "name": "stderr",
     "output_type": "stream",
     "text": [
      "100%|██████████| 400/400 [00:02<00:00, 196.29it/s]\n"
     ]
    }
   ],
   "source": [
    "train = process_data(os.listdir(\"./train/\"), './train/')\n",
    "#train = process_data(os.listdir(\"./train_total/\"), './train_total/')"
   ]
  },
  {
   "cell_type": "code",
   "execution_count": 5,
   "metadata": {},
   "outputs": [
    {
     "name": "stderr",
     "output_type": "stream",
     "text": [
      "100%|██████████| 12500/12500 [00:55<00:00, 225.93it/s]\n"
     ]
    }
   ],
   "source": [
    "test = process_data(os.listdir(\"./test/\"), './test/', False)"
   ]
  },
  {
   "cell_type": "code",
   "execution_count": 6,
   "metadata": {},
   "outputs": [],
   "source": [
    "X = np.array([i[0] for i in train]).reshape(-1,224,224,3)\n",
    "y = np.array([i[1] for i in train])"
   ]
  },
  {
   "cell_type": "code",
   "execution_count": 7,
   "metadata": {},
   "outputs": [],
   "source": [
    "import matplotlib.pyplot as plt\n",
    "from sklearn.model_selection import train_test_split\n",
    "from sklearn.metrics import classification_report\n",
    "from IPython.display import SVG\n",
    "from keras.utils.vis_utils import model_to_dot\n",
    "from keras.utils.vis_utils import plot_model\n",
    "from keras.applications import resnet\n",
    "#from tensorflow.python.keras.applications.resnet50 import ResNet50\n",
    "from tensorflow.python.keras.models import Sequential\n",
    "from tensorflow.python.keras.layers import Dense, Flatten, GlobalAveragePooling2D\n",
    "import plotly.express as px\n",
    "from sklearn.metrics import roc_curve, roc_auc_score, auc, precision_recall_curve"
   ]
  },
  {
   "cell_type": "code",
   "execution_count": 8,
   "metadata": {},
   "outputs": [],
   "source": [
    "X_train, X_val, y_train, y_val = train_test_split(X, y, test_size=0.5, random_state=42)\n",
    "#y_test = np.asarray(test_labels).astype('float32').reshape((-1,1))"
   ]
  },
  {
   "cell_type": "code",
   "execution_count": 9,
   "metadata": {},
   "outputs": [
    {
     "name": "stdout",
     "output_type": "stream",
     "text": [
      "Epoch 1/10\n",
      "20/20 [==============================] - 128s 6s/step - loss: 37.4843 - accuracy: 0.5450 - val_loss: 64953.8555 - val_accuracy: 0.5100\n",
      "Epoch 2/10\n",
      "20/20 [==============================] - 113s 6s/step - loss: 4.2048 - accuracy: 0.5300 - val_loss: 4112.2417 - val_accuracy: 0.4650\n",
      "Epoch 3/10\n",
      "20/20 [==============================] - 109s 5s/step - loss: 2.2336 - accuracy: 0.5450 - val_loss: 492.4722 - val_accuracy: 0.4600\n",
      "Epoch 4/10\n",
      "20/20 [==============================] - 113s 6s/step - loss: 2.2207 - accuracy: 0.5000 - val_loss: 69.2901 - val_accuracy: 0.4500\n",
      "Epoch 5/10\n",
      "20/20 [==============================] - 107s 5s/step - loss: 1.3374 - accuracy: 0.5450 - val_loss: 5.4860 - val_accuracy: 0.5400\n",
      "Epoch 6/10\n",
      "20/20 [==============================] - 108s 5s/step - loss: 1.4749 - accuracy: 0.5500 - val_loss: 1.7112 - val_accuracy: 0.6000\n",
      "Epoch 7/10\n",
      "20/20 [==============================] - 111s 6s/step - loss: 1.6296 - accuracy: 0.5600 - val_loss: 3.0595 - val_accuracy: 0.5750\n",
      "Epoch 8/10\n",
      "20/20 [==============================] - 114s 6s/step - loss: 1.4659 - accuracy: 0.5000 - val_loss: 4.3385 - val_accuracy: 0.6000\n",
      "Epoch 9/10\n",
      "20/20 [==============================] - 108s 5s/step - loss: 1.0225 - accuracy: 0.6200 - val_loss: 0.7226 - val_accuracy: 0.5950\n",
      "Epoch 10/10\n",
      "20/20 [==============================] - 108s 5s/step - loss: 0.8766 - accuracy: 0.6300 - val_loss: 1.5245 - val_accuracy: 0.5400\n",
      "ResNet50: ROC AUC=0.574\n"
     ]
    },
    {
     "data": {
      "image/png": "[encoded data removed]",
      "text/plain": [
       "<Figure size 432x288 with 1 Axes>"
      ]
     },
     "metadata": {
      "needs_background": "light"
     },
     "output_type": "display_data"
    }
   ],
   "source": [
    "#ResNet50\n",
    "model1 = Sequential()\n",
    "model1.add(resnet.ResNet50(include_top=False, pooling='max', weights='imagenet'))\n",
    "model1.add(Dense(2, activation='softmax'))\n",
    "model1.layers[0].trainable = True\n",
    "model1.compile(optimizer='sgd', loss='categorical_crossentropy', metrics=['accuracy'])\n",
    "train_model = model1.fit(X_train, y_train, batch_size=batch_size, epochs=epochs, verbose=1, validation_data=(X_val, y_val))\n",
    "\n",
    "#=====================================\n",
    "print('ResNet50: ROC AUC=%.3f' % (roc_auc_score(y_val, model1.predict(X_val))))\n",
    "fpr, tpr, thresholds = roc_curve(y_val.argmax(axis=1), model1.predict(X_val).argmax(axis=1))\n",
    "plt.plot(fpr, tpr, linestyle='--', label='ResNet50')\n",
    "plt.xlabel('False Positive Rate')\n",
    "plt.ylabel('True Positive Rate')\n",
    "plt.legend()\n",
    "plt.show()"
   ]
  },
  {
   "cell_type": "code",
   "execution_count": 16,
   "metadata": {},
   "outputs": [
    {
     "name": "stdout",
     "output_type": "stream",
     "text": [
      "1/1 [==============================] - 371s 371s/step - loss: 64.1940 - accuracy: 0.4900 - val_loss: 19146303488.0000 - val_accuracy: 0.5100\n",
      "VGG16: ROC AUC=0.500\n"
     ]
    },
    {
     "data": {
      "image/png": "[encoded data removed]",
      "text/plain": [
       "<Figure size 432x288 with 1 Axes>"
      ]
     },
     "metadata": {
      "needs_background": "light"
     },
     "output_type": "display_data"
    }
   ],
   "source": [
    "#VGG16\n",
    "from keras.applications.vgg16 import VGG16\n",
    "model2 = Sequential()\n",
    "model2.add(VGG16(include_top=False, pooling='max', weights='imagenet'))\n",
    "model2.add(Dense(2, activation='softmax'))\n",
    "model2.layers[0].trainable = True\n",
    "model2.compile(optimizer='sgd', loss='categorical_crossentropy', metrics=['accuracy'])\n",
    "train_model = model2.fit(X_train, y_train, batch_size=200, epochs=1, verbose=1, validation_data=(X_val, y_val))\n",
    "\n",
    "#=====================================\n",
    "print('VGG16: ROC AUC=%.3f' % (roc_auc_score(y_val, model2.predict(X_val))))\n",
    "fpr, tpr, thresholds = roc_curve(y_val.argmax(axis=1), model2.predict(X_val).argmax(axis=1))\n",
    "plt.plot(fpr, tpr, linestyle='--', label='VGG16')\n",
    "plt.xlabel('False Positive Rate')\n",
    "plt.ylabel('True Positive Rate')\n",
    "plt.legend()\n",
    "plt.show()"
   ]
  },
  {
   "cell_type": "code",
   "execution_count": 18,
   "metadata": {},
   "outputs": [
    {
     "name": "stdout",
     "output_type": "stream",
     "text": [
      "1/1 [==============================] - 435s 435s/step - loss: 60.7110 - accuracy: 0.4700 - val_loss: 24880857088.0000 - val_accuracy: 0.4900\n",
      "VGG19: ROC AUC=0.500\n"
     ]
    },
    {
     "data": {
      "image/png": "[encoded data removed]",
      "text/plain": [
       "<Figure size 432x288 with 1 Axes>"
      ]
     },
     "metadata": {
      "needs_background": "light"
     },
     "output_type": "display_data"
    }
   ],
   "source": [
    "#VGG19\n",
    "from keras.applications.vgg19 import VGG19\n",
    "model3 = Sequential()\n",
    "model3.add(VGG19(include_top=False, pooling='max', weights='imagenet'))\n",
    "model3.add(Dense(2, activation='softmax'))\n",
    "model3.layers[0].trainable = True\n",
    "model3.compile(optimizer='sgd', loss='categorical_crossentropy', metrics=['accuracy'])\n",
    "train_model = model3.fit(X_train, y_train, batch_size=200, epochs=1, verbose=1, validation_data=(X_val, y_val))\n",
    "\n",
    "#=====================================\n",
    "print('VGG19: ROC AUC=%.3f' % (roc_auc_score(y_val, model3.predict(X_val))))\n",
    "fpr, tpr, thresholds = roc_curve(y_val.argmax(axis=1), model3.predict(X_val).argmax(axis=1))\n",
    "plt.plot(fpr, tpr, linestyle='--', label='VGG19')\n",
    "plt.xlabel('False Positive Rate')\n",
    "plt.ylabel('True Positive Rate')\n",
    "plt.legend()\n",
    "plt.show()"
   ]
  },
  {
   "cell_type": "code",
   "execution_count": 19,
   "metadata": {},
   "outputs": [
    {
     "name": "stdout",
     "output_type": "stream",
     "text": [
      "1/1 [==============================] - 95s 95s/step - loss: 1.6040 - accuracy: 0.3900 - val_loss: 13.0281 - val_accuracy: 0.4900\n",
      "InceptionV3: ROC AUC=0.452\n"
     ]
    },
    {
     "data": {
      "image/png": "[encoded data removed]",
      "text/plain": [
       "<Figure size 432x288 with 1 Axes>"
      ]
     },
     "metadata": {
      "needs_background": "light"
     },
     "output_type": "display_data"
    }
   ],
   "source": [
    "#InceptionV3\n",
    "from keras.applications.inception_v3 import InceptionV3\n",
    "model4 = Sequential()\n",
    "model4.add(InceptionV3(include_top=False, pooling='max', weights='imagenet'))\n",
    "model4.add(Dense(2, activation='softmax'))\n",
    "model4.layers[0].trainable = True\n",
    "model4.compile(optimizer='sgd', loss='categorical_crossentropy', metrics=['accuracy'])\n",
    "train_model = model4.fit(X_train, y_train, batch_size=200, epochs=1, verbose=1, validation_data=(X_val, y_val))\n",
    "\n",
    "#=====================================\n",
    "print('InceptionV3: ROC AUC=%.3f' % (roc_auc_score(y_val, model4.predict(X_val))))\n",
    "fpr, tpr, thresholds = roc_curve(y_val.argmax(axis=1), model4.predict(X_val).argmax(axis=1))\n",
    "plt.plot(fpr, tpr, linestyle='--', label='InceptionV3')\n",
    "plt.xlabel('False Positive Rate')\n",
    "plt.ylabel('True Positive Rate')\n",
    "plt.legend()\n",
    "plt.show()"
   ]
  },
  {
   "cell_type": "code",
   "execution_count": 20,
   "metadata": {},
   "outputs": [
    {
     "name": "stdout",
     "output_type": "stream",
     "text": [
      "Downloading data from https://storage.googleapis.com/tensorflow/keras-applications/xception/xception_weights_tf_dim_ordering_tf_kernels_notop.h5\n",
      "83689472/83683744 [==============================] - 11s 0us/step\n",
      "83697664/83683744 [==============================] - 11s 0us/step\n",
      "1/1 [==============================] - 381s 381s/step - loss: 0.7553 - accuracy: 0.5950 - val_loss: 1.2815 - val_accuracy: 0.5050\n",
      "Xception: ROC AUC=0.449\n"
     ]
    },
    {
     "data": {
      "image/png": "[encoded data removed]",
      "text/plain": [
       "<Figure size 432x288 with 1 Axes>"
      ]
     },
     "metadata": {
      "needs_background": "light"
     },
     "output_type": "display_data"
    }
   ],
   "source": [
    "#Xception\n",
    "from keras.applications.xception import Xception\n",
    "model5 = Sequential()\n",
    "model5.add(Xception(include_top=False, pooling='max', weights='imagenet'))\n",
    "model5.add(Dense(2, activation='softmax'))\n",
    "model5.layers[0].trainable = True\n",
    "model5.compile(optimizer='sgd', loss='categorical_crossentropy', metrics=['accuracy'])\n",
    "train_model = model5.fit(X_train, y_train, batch_size=200, epochs=1, verbose=1, validation_data=(X_val, y_val))\n",
    "\n",
    "#=====================================\n",
    "print('Xception: ROC AUC=%.3f' % (roc_auc_score(y_val, model5.predict(X_val))))\n",
    "fpr, tpr, thresholds = roc_curve(y_val.argmax(axis=1), model5.predict(X_val).argmax(axis=1))\n",
    "plt.plot(fpr, tpr, linestyle='--', label='Xception')\n",
    "plt.xlabel('False Positive Rate')\n",
    "plt.ylabel('True Positive Rate')\n",
    "plt.legend()\n",
    "plt.show()"
   ]
  },
  {
   "cell_type": "code",
   "execution_count": 21,
   "metadata": {},
   "outputs": [
    {
     "name": "stderr",
     "output_type": "stream",
     "text": [
      "\r",
      "  0%|          | 0/12500 [00:00<?, ?it/s]"
     ]
    },
    {
     "name": "stdout",
     "output_type": "stream",
     "text": [
      "WARNING:tensorflow:Layers in a Sequential model should only have a single input tensor, but we receive a <class 'tuple'> input: (<tf.Tensor 'IteratorGetNext:0' shape=(None, 224, 224, 3) dtype=uint8>,)\n",
      "Consider rewriting this model with the Functional API.\n"
     ]
    },
    {
     "name": "stderr",
     "output_type": "stream",
     "text": [
      "100%|██████████| 12500/12500 [40:45<00:00,  5.11it/s] \n"
     ]
    }
   ],
   "source": [
    "pred_list = []\n",
    "img_list = []\n",
    "for img in tqdm(test):\n",
    "    img_data = img[0]\n",
    "    img_idx = img[1]\n",
    "    data = img_data.reshape(-1,224,224,3)\n",
    "    predicted = model1.predict([data])[0]\n",
    "    img_list.append(img_idx)\n",
    "    pred_list.append(predicted[1])\n",
    "    \n",
    "submission = pd.DataFrame({'id':img_list , 'label':pred_list})\n",
    "submission.head()\n",
    "submission.to_csv(\"submission1.csv\", index=False)    "
   ]
  },
  {
   "cell_type": "code",
   "execution_count": 23,
   "metadata": {},
   "outputs": [
    {
     "name": "stderr",
     "output_type": "stream",
     "text": [
      "\r",
      "  0%|          | 0/12500 [00:00<?, ?it/s]"
     ]
    },
    {
     "name": "stdout",
     "output_type": "stream",
     "text": [
      "WARNING:tensorflow:Layers in a Sequential model should only have a single input tensor, but we receive a <class 'tuple'> input: (<tf.Tensor 'IteratorGetNext:0' shape=(None, 224, 224, 3) dtype=uint8>,)\n",
      "Consider rewriting this model with the Functional API.\n"
     ]
    },
    {
     "name": "stderr",
     "output_type": "stream",
     "text": [
      "100%|██████████| 12500/12500 [1:05:16<00:00,  3.19it/s]\n"
     ]
    }
   ],
   "source": [
    "pred_list = []\n",
    "img_list = []\n",
    "for img in tqdm(test):\n",
    "    img_data = img[0]\n",
    "    img_idx = img[1]\n",
    "    data = img_data.reshape(-1,224,224,3)\n",
    "    predicted = model2.predict([data])[0]\n",
    "    img_list.append(img_idx)\n",
    "    pred_list.append(predicted[1])\n",
    "    \n",
    "submission = pd.DataFrame({'id':img_list , 'label':pred_list})\n",
    "submission.head()\n",
    "submission.to_csv(\"submission2.csv\", index=False)    "
   ]
  },
  {
   "cell_type": "code",
   "execution_count": 24,
   "metadata": {},
   "outputs": [
    {
     "name": "stderr",
     "output_type": "stream",
     "text": [
      "\r",
      "  0%|          | 0/12500 [00:00<?, ?it/s]"
     ]
    },
    {
     "name": "stdout",
     "output_type": "stream",
     "text": [
      "WARNING:tensorflow:Layers in a Sequential model should only have a single input tensor, but we receive a <class 'tuple'> input: (<tf.Tensor 'IteratorGetNext:0' shape=(None, 224, 224, 3) dtype=uint8>,)\n",
      "Consider rewriting this model with the Functional API.\n"
     ]
    },
    {
     "name": "stderr",
     "output_type": "stream",
     "text": [
      "100%|██████████| 12500/12500 [1:19:14<00:00,  2.63it/s]\n"
     ]
    }
   ],
   "source": [
    "pred_list = []\n",
    "img_list = []\n",
    "for img in tqdm(test):\n",
    "    img_data = img[0]\n",
    "    img_idx = img[1]\n",
    "    data = img_data.reshape(-1,224,224,3)\n",
    "    predicted = model3.predict([data])[0]\n",
    "    img_list.append(img_idx)\n",
    "    pred_list.append(predicted[1])\n",
    "    \n",
    "submission = pd.DataFrame({'id':img_list , 'label':pred_list})\n",
    "submission.head()\n",
    "submission.to_csv(\"submission3.csv\", index=False)    "
   ]
  },
  {
   "cell_type": "code",
   "execution_count": 25,
   "metadata": {},
   "outputs": [
    {
     "name": "stderr",
     "output_type": "stream",
     "text": [
      "\r",
      "  0%|          | 0/12500 [00:00<?, ?it/s]"
     ]
    },
    {
     "name": "stdout",
     "output_type": "stream",
     "text": [
      "WARNING:tensorflow:Layers in a Sequential model should only have a single input tensor, but we receive a <class 'tuple'> input: (<tf.Tensor 'IteratorGetNext:0' shape=(None, 224, 224, 3) dtype=uint8>,)\n",
      "Consider rewriting this model with the Functional API.\n"
     ]
    },
    {
     "name": "stderr",
     "output_type": "stream",
     "text": [
      "100%|██████████| 12500/12500 [27:51<00:00,  7.48it/s]\n"
     ]
    }
   ],
   "source": [
    "pred_list = []\n",
    "img_list = []\n",
    "for img in tqdm(test):\n",
    "    img_data = img[0]\n",
    "    img_idx = img[1]\n",
    "    data = img_data.reshape(-1,224,224,3)\n",
    "    predicted = model4.predict([data])[0]\n",
    "    img_list.append(img_idx)\n",
    "    pred_list.append(predicted[1])\n",
    "    \n",
    "submission = pd.DataFrame({'id':img_list , 'label':pred_list})\n",
    "submission.head()\n",
    "submission.to_csv(\"submission4.csv\", index=False)    "
   ]
  },
  {
   "cell_type": "code",
   "execution_count": 26,
   "metadata": {},
   "outputs": [
    {
     "name": "stderr",
     "output_type": "stream",
     "text": [
      "\r",
      "  0%|          | 0/12500 [00:00<?, ?it/s]"
     ]
    },
    {
     "name": "stdout",
     "output_type": "stream",
     "text": [
      "WARNING:tensorflow:Layers in a Sequential model should only have a single input tensor, but we receive a <class 'tuple'> input: (<tf.Tensor 'IteratorGetNext:0' shape=(None, 224, 224, 3) dtype=uint8>,)\n",
      "Consider rewriting this model with the Functional API.\n"
     ]
    },
    {
     "name": "stderr",
     "output_type": "stream",
     "text": [
      "100%|██████████| 12500/12500 [37:04<00:00,  5.62it/s]\n"
     ]
    }
   ],
   "source": [
    "pred_list = []\n",
    "img_list = []\n",
    "for img in tqdm(test):\n",
    "    img_data = img[0]\n",
    "    img_idx = img[1]\n",
    "    data = img_data.reshape(-1,224,224,3)\n",
    "    predicted = model5.predict([data])[0]\n",
    "    img_list.append(img_idx)\n",
    "    pred_list.append(predicted[1])\n",
    "    \n",
    "submission = pd.DataFrame({'id':img_list , 'label':pred_list})\n",
    "submission.head()\n",
    "submission.to_csv(\"submission5.csv\", index=False)    "
   ]
  },
  {
   "cell_type": "markdown",
   "metadata": {},
   "source": [
    "### Results\n",
    "Model 1 (ResNet50 : Score=1.49286, accuracy: 0.6300) <br>\n",
    "Model 2 (VGG16 : Score=17.26978, accuracy: 0.4900) <br>\n",
    "Model 3 (VGG19 : Score=17.26938, accuracy: 0.4700) <br>\n",
    "Model 4 (InceptionV3 : Score=11.90260, accuracy: 0.3900) <br>\n",
    "Model 5 (Xception : Score=1.23464, accuracy: 0.5950) <br>"
   ]
  },
  {
   "cell_type": "markdown",
   "metadata": {},
   "source": [
    "These models had accuracy ranging from 39% (M4) to 63% (M1). Relatively, when predicting whether an image is a dog or a cat, only M1 and M5 have accuracies better than guessing (50%). Two areas that need improvement to the analysis are the amount of time it took to run each model as well as the training dataset. Only 100 cat images and 100 dog images were used for training when there were a total of 25,000 that could have been used, which in turn would have improved accuracy. Additionally, during the hyperparameter tuning, increasing the epochs or changing the batch sizes also contributed to possibly better accuracy with the tradeoff of runtime. With hyperparameters being tuned to the shortest runtime and small training set, each model took hours to run, and a randomized cv search would have taken even longer. One last thing that could use investigation is model weights. Many other analysts have used weight files but I was only able to run a default function in the weight parameter. In conclusion, making a model with great accuracy would require more time to process data and discover different neural networks. It may be worth looking into methods that increase accuracy without sacrificing such long runtimes. With the models produced, they may be slightly better than guessing, but not by much (~10-15%)."
   ]
  },
  {
   "cell_type": "code",
   "execution_count": null,
   "metadata": {},
   "outputs": [],
   "source": []
  }
 ],
 "metadata": {
  "kernelspec": {
   "display_name": "Python 3",
   "language": "python",
   "name": "python3"
  },
  "language_info": {
   "codemirror_mode": {
    "name": "ipython",
    "version": 3
   },
   "file_extension": ".py",
   "mimetype": "text/x-python",
   "name": "python",
   "nbconvert_exporter": "python",
   "pygments_lexer": "ipython3",
   "version": "3.8.3"
  }
 },
 "nbformat": 4,
 "nbformat_minor": 4
}
