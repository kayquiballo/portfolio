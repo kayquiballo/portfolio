{
 "cells": [
  {
   "cell_type": "code",
   "execution_count": 6,
   "metadata": {},
   "outputs": [
    {
     "name": "stdout",
     "output_type": "stream",
     "text": [
      "Requirement already satisfied: pulp in /Users/kagenquiballo/opt/anaconda3/lib/python3.8/site-packages (2.3)\r\n",
      "Requirement already satisfied: amply>=0.1.2 in /Users/kagenquiballo/opt/anaconda3/lib/python3.8/site-packages (from pulp) (0.1.2)\r\n",
      "Requirement already satisfied: pyparsing in /Users/kagenquiballo/opt/anaconda3/lib/python3.8/site-packages (from amply>=0.1.2->pulp) (2.4.7)\r\n",
      "Requirement already satisfied: docutils>=0.3 in /Users/kagenquiballo/opt/anaconda3/lib/python3.8/site-packages (from amply>=0.1.2->pulp) (0.16)\r\n"
     ]
    }
   ],
   "source": [
    "!pip install pulp"
   ]
  },
  {
   "cell_type": "markdown",
   "metadata": {},
   "source": [
    "### Question 1\n",
    "SteelCo manufactures three types of steel at two different steel mills.  During a given month, Mill 1 has 200 hours of blast furnace time available, whereas Mill 2 has 300 hours.  Because of differences in the furnaces at each mill, the time and cost to produce a ton of steel differs for each mill and are shown in the following table.  Each month, SteelCo must manufacture a total of at least 400 tons of Steel 1, 500 tons of Steel 2, and 300 tons of Steel 3 to meet demand; however, the total amount of Steel 2 manufactured should not exceed the combined amount of Steel 1 and Steel 3.  Also, in order to maintain a roughly uniform usage of the two mills, management’s policy is that the percentage of available blast furnace capacity (time) used at each mill should be the same. That is, the relative rates of usage should be equivalent, not the absolute usage. Clearly formulate a linear program (LP) to minimize the cost of manufacturing the desired steel."
   ]
  },
  {
   "cell_type": "code",
   "execution_count": 9,
   "metadata": {},
   "outputs": [
    {
     "name": "stdout",
     "output_type": "stream",
     "text": [
      "Pulp Solutions\n",
      "Time for Steel 1, Mill 1: 8000.0 minutes\n",
      "Time for Steel 2, Mill 1: 2588.2353 minutes\n",
      "Time for Steel 3, Mill 1: 0.0 minutes\n",
      "Time for Steel 1, Mill 2: 0.0 minutes\n",
      "Time for Steel 2, Mill 2: 6882.3529 minutes\n",
      "Time for Steel 3, Mill 2: 9000.0 minutes\n"
     ]
    }
   ],
   "source": [
    "from pulp import LpVariable, LpProblem, LpMaximize, LpStatus, value, LpMinimize\n",
    "\n",
    "# declare your variables\n",
    "S1_M1 = LpVariable(\"S1_M1\", 0, None) # S1_M1>=0\n",
    "S2_M1 = LpVariable(\"S2_M1\", 0, None) # S2_M1>=0\n",
    "S3_M1 = LpVariable(\"S3_M1\", 0, None) # S3_M1>=0\n",
    "S1_M2 = LpVariable(\"S1_M2\", 0, None) # S1_M2>=0\n",
    "S2_M2 = LpVariable(\"S2_M2\", 0, None) # S2_M2>=0\n",
    "S3_M2 = LpVariable(\"S3_M2\", 0, None) # S3_M2>=0\n",
    "\n",
    "# defines the problem\n",
    "prob = LpProblem(\"problem\", LpMinimize)\n",
    "\n",
    "# defines the constraints\n",
    "## \"Mill 1 has 200 hours of blast furnace time available, whereas Mill 2 has 300 hours\"\n",
    "prob += S1_M1 + S2_M1 + S3_M1 <= 200*60\n",
    "prob += S1_M2 + S2_M2 + S3_M2 <= 300*60 \n",
    "## \"at least 400 tons of Steel 1, 500 tons of Steel 2, and 300 tons of Steel 3\"\n",
    "prob += S1_M1*(1/20) + S1_M2*(1/24) >= 400\n",
    "prob += S2_M1*(1/22) + S2_M2*(1/18) >= 500\n",
    "prob += S3_M1*(1/28) + S3_M2*(1/30) >= 300 \n",
    "## \"the total amount of Steel 2 manufactured should not exceed the combined amount of Steel 1 and Steel 3\"\n",
    "prob += [ S2_M1*(1/22) + S2_M2*(1/18) ] <= [ S1_M1*(1/20) + S1_M2*(1/24) ] + [ S3_M1*(1/28) + S3_M2*(1/30)  ]\n",
    "## \"the percentage of available blast furnace capacity (time) used at each mill should be the same\"\n",
    "prob += ( S1_M1 + S2_M1 + S3_M1 ) / 200 <= ( S1_M2 + S2_M2 + S3_M2 ) / 300 \n",
    "prob += ( S1_M1 + S2_M1 + S3_M1 ) / 200 >= ( S1_M2 + S2_M2 + S3_M2 ) / 300 \n",
    "\n",
    "# defines the objective function to minimize\n",
    "prob += (10)*S1_M1*(1/20) + (12)*S1_M2*(1/24) + (11)*S2_M1*(1/22) + (9)*S2_M2*(1/18) + (14)*S3_M1*(1/28) + (10)*S3_M2*(1/30)\n",
    "\n",
    "# solve the problem\n",
    "status = prob.solve()\n",
    "LpStatus[status]\n",
    "\n",
    "# print the results\n",
    "print(\"Pulp Solutions\")\n",
    "print(\"Time for Steel 1, Mill 1:\", value(S1_M1), \"minutes\")\n",
    "print(\"Time for Steel 2, Mill 1:\", value(S2_M1), \"minutes\")\n",
    "print(\"Time for Steel 3, Mill 1:\", value(S3_M1), \"minutes\")\n",
    "print(\"Time for Steel 1, Mill 2:\", value(S1_M2), \"minutes\")\n",
    "print(\"Time for Steel 2, Mill 2:\", value(S2_M2), \"minutes\")\n",
    "print(\"Time for Steel 3, Mill 2:\", value(S3_M2), \"minutes\")"
   ]
  },
  {
   "cell_type": "markdown",
   "metadata": {},
   "source": [
    "### Question 4\n",
    "Turkeyco produces two types of turkey cutlets for sale to fast-food restaurants.  Each type of cutlet consists of white meat and dark meat.  Cutlet 1 sells for $4/lb and must consist of at least 70% white meat.  Cutlet 2 sells for $3/lb and must consist of at least 60% white meat.  At most, 50 lb of cutlet 1 and 30 lb of cutlet 2 can be sold.  The two types of turkey used to manufacture the cutlets are purchased from the GobbleGobble Turkey Farm.  Each type 1 turkey costs $10 and yields 5 lb of white meat and 2 lb of dark meat.  Each type 2 turkey costs $8 and yields 3 lb of white meat and 3 lb of dark meat. "
   ]
  },
  {
   "cell_type": "code",
   "execution_count": 41,
   "metadata": {},
   "outputs": [
    {
     "name": "stdout",
     "output_type": "stream",
     "text": [
      "Pulp Solutions\n",
      "White 1: 36.0 pounds\n",
      "White 2: 18.0 pounds\n",
      "Dark 1: 14.0 pounds\n",
      "Dark 2: 12.0 pounds\n",
      "Turkey 1: 8.6666667 turkeys\n",
      "Turkey 2: 3.2222222 turkeys\n",
      "Sales: 176.0 dollars\n",
      "Sales with rounded values: 176.0 dollars\n"
     ]
    }
   ],
   "source": [
    "from pulp import LpVariable, LpProblem, LpMaximize, LpStatus, value, LpMinimize\n",
    "\n",
    "# declare your variables\n",
    "W1 = LpVariable(\"W1\", 0, None) # W1>=0\n",
    "W2 = LpVariable(\"W2\", 0, None) # W2>=0\n",
    "D1 = LpVariable(\"D1\", 0, None) # D1>=0\n",
    "D2 = LpVariable(\"D2\", 0, None) # D2>=0\n",
    "T1 = LpVariable(\"T1\", 0, None) # T1>=0\n",
    "T2 = LpVariable(\"T2\", 0, None) # T2>=0\n",
    "\n",
    "# defines the problem\n",
    "prob = LpProblem(\"problem\", LpMaximize)\n",
    "\n",
    "#Cutlet 1 must consist of at least 70% white meat.  Cutlet 2 must consist of at least 60% white meat\n",
    "prob += W1 >= 0.70*(W1 + D1)\n",
    "prob += W2 >= 0.60*(W2 + D2)\n",
    "\n",
    "# At most, 50 lb of cutlet 1 and 30 lb of cutlet 2 can be sold\n",
    "prob += W1 + D1 <= 50\n",
    "prob += W2 + D2 <= 30\n",
    "\n",
    "#Each type 1 turkey costs $10 and yields 5 lb of white meat and 2 lb of dark meat.  Each type 2 turkey costs $8 and yields 3 lb of white meat and 3 lb of dark meat.  \n",
    "prob += W1 + W2 <= 5*T1 + 3*T2\n",
    "prob += D1 + D2 <= 2*T1 + 3*T2\n",
    "\n",
    "\n",
    "# defines the objective function to maximize\n",
    "prob += (4*(W1 + D1) + 3*(W2 + D2)) - (10*T1 + 8*T2) \n",
    "\n",
    "# solve the problem\n",
    "status = prob.solve()\n",
    "LpStatus[status]\n",
    "\n",
    "# print the results\n",
    "print(\"Pulp Solutions\")\n",
    "print(\"White 1:\", value(W1), \"pounds\")\n",
    "print(\"White 2:\", value(W2), \"pounds\")\n",
    "print(\"Dark 1:\", value(D1), \"pounds\")\n",
    "print(\"Dark 2:\", value(D2), \"pounds\")\n",
    "print(\"Turkey 1:\", value(T1), \"turkeys\")\n",
    "print(\"Turkey 2:\", value(T2), \"turkeys\")\n",
    "print(\"Sales:\", value((4*(W1 + D1) + 3*(W2 + D2)) - (10*T1 + 8*T2) ), \"dollars\")\n",
    "print(\"Sales with rounded values:\", value((4*(W1 + D1) + 3*(W2 + D2)) - (10*9 + 8*3) ), \"dollars\")\n",
    "#8,4=173\n",
    "#8,3=166\n",
    "#9,3=176* tested for max profits\n",
    "#9,4=168\n"
   ]
  },
  {
   "cell_type": "markdown",
   "metadata": {},
   "source": [
    "### Question 5\n",
    "A company wants to plan production for the ensuing year to minimize the combined cost of production and inventory costs.  In each quarter of the year, demand is anticipated to be 130, 160, 250, and 150 units, respectively.  The plant can produce a maximum of 200 units each quarter.  The product can be manufactured at a cost of $15 per unit during the first quarter, however the manufacturing cost is expected to rise by $1 per quarter.  Excess production can be stored from one quarter to the next at a cost of $1.50 per unit, but the storage facility can hold a maximum of 60 units.  How should the production be scheduled so as to minimize the total costs?"
   ]
  },
  {
   "cell_type": "code",
   "execution_count": 40,
   "metadata": {},
   "outputs": [
    {
     "name": "stdout",
     "output_type": "stream",
     "text": [
      "Pulp Solutions\n",
      "Supply for Quarter A: 140.0 units\n",
      "Supply for Quarter B: 200.0 units\n",
      "Supply for Quarter C: 200.0 units\n",
      "Supply for Quarter D: 150.0 units\n",
      "Total Cost: 11490.0 dollars\n"
     ]
    }
   ],
   "source": [
    "from pulp import LpVariable, LpProblem, LpMaximize, LpStatus, value, LpMinimize\n",
    "\n",
    "# declare your variables\n",
    "Sa = LpVariable(\"Sa\", 0, 200) # Sa>=0\n",
    "Sb = LpVariable(\"Sb\", 0, 200) # Sb>=0\n",
    "Sc = LpVariable(\"Sc\", 0, 200) # Sc>=0\n",
    "Sd = LpVariable(\"Sd\", 0, 200) # Sd>=0\n",
    "\n",
    "# defines the problem\n",
    "prob = LpProblem(\"problem\", LpMinimize)\n",
    "\n",
    "#Quarter A Constraints:\n",
    "prob += Sa - 130 >= 0\n",
    "prob += Sa - 130 <= 60\n",
    "\n",
    "#Quarter B Constraints:\n",
    "prob += (Sb - 160) + (Sa - 130) >= 0\n",
    "prob += (Sb - 160) + (Sa - 130) <= 60\n",
    "\n",
    "#Quarter C Constraints:\n",
    "prob += (Sc - 250) + (Sb - 160) + (Sa - 130) >= 0\n",
    "prob += (Sc - 250) + (Sb - 160) + (Sa - 130) <= 60\n",
    "\n",
    "#Quarter D Constraints:\n",
    "prob += (Sd - 150) + (Sc - 250) + (Sb - 160) + (Sa - 130) >= 0\n",
    "prob += (Sd - 150) + (Sc - 250) + (Sb - 160) + (Sa - 130) <= 60\n",
    "\n",
    "\n",
    "# defines the objective function to minimize\n",
    "prob += Sa*15 + (Sa - 130)*1.5 + Sb*16 + ( (Sb - 160) + (Sa - 130) )*1.5 + Sc*17 + ( (Sc - 250) + (Sb - 160) + (Sa - 130) )*1.5 + Sd*18 + ( (Sd - 150) + (Sc - 250) + (Sb - 160) + (Sa - 130) )*1.5\n",
    "\n",
    "# solve the problem\n",
    "status = prob.solve()\n",
    "LpStatus[status]\n",
    "\n",
    "# print the results\n",
    "print(\"Pulp Solutions\")\n",
    "print(\"Supply for Quarter A:\", value(Sa), \"units\")\n",
    "print(\"Supply for Quarter B:\", value(Sb), \"units\")\n",
    "print(\"Supply for Quarter C:\", value(Sc), \"units\")\n",
    "print(\"Supply for Quarter D:\", value(Sd), \"units\")\n",
    "print(\"Total Cost:\", value(Sa*15 + (Sa - 130)*1.5 + Sb*16 + ( (Sb - 160) + (Sa - 130) )*1.5 + Sc*17 + ( (Sc - 250) + (Sb - 160) + (Sa - 130) )*1.5 + Sd*18 + ( (Sd - 150) + (Sc - 250) + (Sb - 160) + (Sa - 130) )*1.5), \"dollars\")\n"
   ]
  },
  {
   "cell_type": "code",
   "execution_count": null,
   "metadata": {},
   "outputs": [],
   "source": []
  }
 ],
 "metadata": {
  "kernelspec": {
   "display_name": "Python 3",
   "language": "python",
   "name": "python3"
  },
  "language_info": {
   "codemirror_mode": {
    "name": "ipython",
    "version": 3
   },
   "file_extension": ".py",
   "mimetype": "text/x-python",
   "name": "python",
   "nbconvert_exporter": "python",
   "pygments_lexer": "ipython3",
   "version": "3.8.3"
  }
 },
 "nbformat": 4,
 "nbformat_minor": 4
}
