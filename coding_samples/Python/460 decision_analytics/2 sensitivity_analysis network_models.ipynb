{
 "cells": [
  {
   "cell_type": "code",
   "execution_count": 1,
   "metadata": {},
   "outputs": [
    {
     "name": "stdout",
     "output_type": "stream",
     "text": [
      "Requirement already satisfied: pulp in /Users/kagenquiballo/opt/anaconda3/lib/python3.8/site-packages (2.3)\r\n",
      "Requirement already satisfied: amply>=0.1.2 in /Users/kagenquiballo/opt/anaconda3/lib/python3.8/site-packages (from pulp) (0.1.2)\r\n",
      "Requirement already satisfied: pyparsing in /Users/kagenquiballo/opt/anaconda3/lib/python3.8/site-packages (from amply>=0.1.2->pulp) (2.4.7)\r\n",
      "Requirement already satisfied: docutils>=0.3 in /Users/kagenquiballo/opt/anaconda3/lib/python3.8/site-packages (from amply>=0.1.2->pulp) (0.16)\r\n"
     ]
    }
   ],
   "source": [
    "!pip install pulp"
   ]
  },
  {
   "attachments": {},
   "cell_type": "markdown",
   "metadata": {},
   "source": [
    "### Question 2\n",
    "Carco manufactures cars and trucks.  Each car contributes $300 to profit and each truck, $400; these profits do not consider machine rental.  The resources required to manufacture a car and a truck are shown below.  Each day Carco can rent up to 98 Type 1 machines at a cost of $50 per machine.  The company now has 73 Type 2 machines and 260 tons of steel available.  Marketing considerations dictate that at least 88 cars and at least 26 trucks be produced."
   ]
  },
  {
   "cell_type": "code",
   "execution_count": 5,
   "metadata": {},
   "outputs": [
    {
     "name": "stdout",
     "output_type": "stream",
     "text": [
      "Pulp Solutions\n",
      "Cars:  88.0\n",
      "Trucks:  27.6\n",
      "Machine 1:  98.0\n",
      "Profit: $ 32540.0\n"
     ]
    }
   ],
   "source": [
    "from pulp import LpVariable, LpProblem, LpMaximize, LpStatus, value, LpMinimize\n",
    "\n",
    "# declare your variables\n",
    "x1 = LpVariable(\"x1\", 88, None) # x1>=88\n",
    "x2 = LpVariable(\"x2\", 26, None) # x2>=26\n",
    "m1 = LpVariable(\"m1\", 0, 98) # m1<=98\n",
    "\n",
    "# defines the problem\n",
    "prob = LpProblem(\"problem\", LpMaximize)\n",
    "\n",
    "# defines the constraints\n",
    "prob += 0.8*x1 + x2 <= m1\n",
    "prob += 0.6*x1 + 0.7*x2 <= 73\n",
    "prob += 2*x1 + 3*x2 <= 260\n",
    "\n",
    "# defines the objective function to minimize\n",
    "prob += 300*x1 + 400*x2 - 50*m1\n",
    "\n",
    "# solve the problem\n",
    "status = prob.solve()\n",
    "LpStatus[status]\n",
    "\n",
    "# print the results\n",
    "print(\"Pulp Solutions\")\n",
    "print(\"Cars: \", value(x1))\n",
    "print(\"Trucks: \", value(x2))\n",
    "print(\"Machine 1: \", value(m1))\n",
    "print(\"Profit: $\", 300*value(x1) + 400*value(x2) - 50*value(m1))"
   ]
  },
  {
   "attachments": {},
   "cell_type": "markdown",
   "metadata": {},
   "source": [
    "### Question 3\n",
    "A catering company must have the following number of clean napkins available at the beginning of each of the next four days:  day 1: 15, day 2: 12, day 3: 18, and day 4: 6.  After being used, a napkin can be cleaned by one of two methods: fast service or slow service. Fast service costs $0.10 per napkin, and a napkin cleaned via fast service is available for use the day after it is last used.  Slow service costs $0.06 per napkin, and a napkin cleaned via slow service is available two days after they were last used.  New napkins can be purchased for a cost of $0.20 per napkin."
   ]
  },
  {
   "cell_type": "code",
   "execution_count": 9,
   "metadata": {},
   "outputs": [
    {
     "name": "stdout",
     "output_type": "stream",
     "text": [
      "Pulp Solutions\n",
      "x1: 15.0\n",
      "x2: 3.0\n",
      "x3: 0.0\n",
      "x4: 0.0\n",
      "y1: 9.0\n",
      "y2: 12.0\n",
      "y3: 6.0\n",
      "z1: 6.0\n",
      "z2: 0.0\n",
      "Cost: $ 6.66\n"
     ]
    }
   ],
   "source": [
    "from pulp import LpVariable, LpProblem, LpMaximize, LpStatus, value, LpMinimize\n",
    "\n",
    "# declare your variables\n",
    "x1 = LpVariable(\"x1\", 0, None) # x1>=0\n",
    "x2 = LpVariable(\"x2\", 0, None) # x2>=0\n",
    "x3 = LpVariable(\"x3\", 0, None) # x3>=0\n",
    "x4 = LpVariable(\"x4\", 0, None) # x4>=0\n",
    "\n",
    "y1 = LpVariable(\"y1\", 0, None) # y1>=0\n",
    "y2 = LpVariable(\"y2\", 0, None) # y2>=0\n",
    "y3 = LpVariable(\"y3\", 0, None) # y3>=0\n",
    "\n",
    "z1 = LpVariable(\"z1\", 0, None) # z1>=0\n",
    "z2 = LpVariable(\"z2\", 0, None) # z2>=0\n",
    "\n",
    "# defines the problem\n",
    "prob = LpProblem(\"problem\", LpMinimize)\n",
    "\n",
    "prob += x1 >= 15\n",
    "prob += x2 + y1 >= 12\n",
    "prob += x3 + y2 + z1 >= 18\n",
    "prob += x4 + y3 + z2 >= 6\n",
    "\n",
    "prob += y1 + z1 <= x1\n",
    "prob += y2 + z2 <= x2 + y1\n",
    "prob += y3 <= x3 + y2 + z1\n",
    "\n",
    "# defines the objective function to minimize\n",
    "prob += 20*(x1+x2+x3+x4) + 10*(y1+y2+y3) + 6*(z1+z2)\n",
    "\n",
    "# solve the problem\n",
    "status = prob.solve()\n",
    "LpStatus[status]\n",
    "\n",
    "# print the results\n",
    "print(\"Pulp Solutions\")\n",
    "print(\"x1:\", value(x1))\n",
    "print(\"x2:\", value(x2))\n",
    "print(\"x3:\", value(x3))\n",
    "print(\"x4:\", value(x4))\n",
    "print(\"y1:\", value(y1))\n",
    "print(\"y2:\", value(y2))\n",
    "print(\"y3:\", value(y3))\n",
    "print(\"z1:\", value(z1))\n",
    "print(\"z2:\", value(z2))\n",
    "print(\"Cost: $\", value(20*(x1+x2+x3+x4) + 10*(y1+y2+y3) + 6*(z1+z2))/100)"
   ]
  },
  {
   "attachments": {},
   "cell_type": "markdown",
   "metadata": {},
   "source": [
    "### Question 4\n",
    "A university has three professors who each teach four courses per year.  Each year, four sections of marketing, finance, and production must be offered.  At least one section of each class must be offered during each semester (fall and spring).  Each professor’s time preferences and preference for teaching various courses are given below."
   ]
  },
  {
   "cell_type": "code",
   "execution_count": 12,
   "metadata": {},
   "outputs": [
    {
     "name": "stdout",
     "output_type": "stream",
     "text": [
      "Pulp Solutions\n",
      "Professor 1, Fall, Marketing: 1.0\n",
      "Professor 1, Fall, Finance: 0.0\n",
      "Professor 1, Fall, Production: 0.0\n",
      "Professor 1, Spring, Marketing: 1.0\n",
      "Professor 1, Spring, Finance: 1.0\n",
      "Professor 1, Spring, Production: 1.0\n",
      "Professor 2, Fall, Marketing: 1.0\n",
      "Professor 2, Fall, Finance: 1.0\n",
      "Professor 2, Fall, Production: 1.0\n",
      "Professor 2, Spring, Marketing: 0.0\n",
      "Professor 2, Spring, Finance: 1.0\n",
      "Professor 2, Spring, Production: 0.0\n",
      "Professor 3, Fall, Marketing: 1.0\n",
      "Professor 3, Fall, Finance: 0.0\n",
      "Professor 3, Fall, Production: 1.0\n",
      "Professor 3, Spring, Marketing: 1.0\n",
      "Professor 3, Spring, Finance: 0.0\n",
      "Professor 3, Spring, Production: 1.0\n",
      "Satisfaction, Professor 1: 36.0\n",
      "Satisfaction, Professor 2: 39.0\n",
      "Satisfaction, Professor 3: 38.0\n",
      "Total Satisfaction: 113.0\n",
      "Professor 1 teaches Marketing in Fall and Marketing & Finance & Production in Spring.\n",
      "Professor 2 teaches Marketing & Finance & Production in Fall and Finance in Spring.\n",
      "Professor 3 teaches Marketing & Production in Fall and Marketing & Production in Spring.\n"
     ]
    }
   ],
   "source": [
    "from pulp import LpVariable, LpProblem, LpMaximize, LpStatus, value, LpMinimize\n",
    "\n",
    "# declare your variables\n",
    "p1_f_m = LpVariable(\"p1_f_m\", 0, 1, cat=\"Integer\")\n",
    "p1_f_f = LpVariable(\"p1_f_f\", 0, 1, cat=\"Integer\")\n",
    "p1_f_p = LpVariable(\"p1_f_p\", 0, 1, cat=\"Integer\")\n",
    "p1_s_m = LpVariable(\"p1_s_m\", 0, 1, cat=\"Integer\")\n",
    "p1_s_f = LpVariable(\"p1_s_f\", 0, 1, cat=\"Integer\")\n",
    "p1_s_p = LpVariable(\"p1_s_p\", 0, 1, cat=\"Integer\")\n",
    "\n",
    "p2_f_m = LpVariable(\"p2_f_m\", 0, 1, cat=\"Integer\")\n",
    "p2_f_f = LpVariable(\"p2_f_f\", 0, 1, cat=\"Integer\")\n",
    "p2_f_p = LpVariable(\"p2_f_p\", 0, 1, cat=\"Integer\")\n",
    "p2_s_m = LpVariable(\"p2_s_m\", 0, 1, cat=\"Integer\")\n",
    "p2_s_f = LpVariable(\"p2_s_f\", 0, 1, cat=\"Integer\")\n",
    "p2_s_p = LpVariable(\"p2_s_p\", 0, 1, cat=\"Integer\")\n",
    "\n",
    "p3_f_m = LpVariable(\"p3_f_m\", 0, 1, cat=\"Integer\")\n",
    "p3_f_f = LpVariable(\"p3_f_f\", 0, 1, cat=\"Integer\")\n",
    "p3_f_p = LpVariable(\"p3_f_p\", 0, 1, cat=\"Integer\")\n",
    "p3_s_m = LpVariable(\"p3_s_m\", 0, 1, cat=\"Integer\")\n",
    "p3_s_f = LpVariable(\"p3_s_f\", 0, 1, cat=\"Integer\")\n",
    "p3_s_p = LpVariable(\"p3_s_p\", 0, 1, cat=\"Integer\")\n",
    "\n",
    "# defines the problem\n",
    "prob = LpProblem(\"problem\", LpMaximize)\n",
    "\n",
    "#teaches 4 classes\n",
    "prob += p1_f_m + p1_f_f + p1_f_p + p1_s_m + p1_s_f + p1_s_p <= 4 \n",
    "prob += p2_f_m + p2_f_f + p2_f_p + p2_s_m + p2_s_f + p2_s_p <= 4 \n",
    "prob += p3_f_m + p3_f_f + p3_f_p + p3_s_m + p3_s_f + p3_s_p <= 4 \n",
    "prob += p1_f_m + p1_f_f + p1_f_p + p1_s_m + p1_s_f + p1_s_p >= 4 \n",
    "prob += p2_f_m + p2_f_f + p2_f_p + p2_s_m + p2_s_f + p2_s_p >= 4 \n",
    "prob += p3_f_m + p3_f_f + p3_f_p + p3_s_m + p3_s_f + p3_s_p >= 4 \n",
    "\n",
    "#at least one section\n",
    "prob += p1_f_m + p2_f_m + p3_f_m >= 1\n",
    "prob += p1_f_f + p2_f_f + p3_f_f >= 1\n",
    "prob += p1_f_p + p2_f_p + p3_f_p >= 1\n",
    "prob += p1_s_m + p2_s_m + p3_s_m >= 1\n",
    "prob += p1_s_f + p2_s_f + p3_s_f >= 1\n",
    "prob += p1_s_p + p2_s_p + p3_s_p >= 1\n",
    "\n",
    "# defines the objective function to maximize\n",
    "prob += p1_f_m*9 + p1_f_f*8 + p1_f_p*7 + p1_s_m*10 + p1_s_f*9 + p1_s_p*8 + p2_f_m*9 + p2_f_f*11 + p2_f_p*10 + p2_s_m*7 + p2_s_f*9 + p2_s_p*8 + p3_f_m*9 + p3_f_f*8 + p3_f_p*10 + p3_s_m*9 + p3_s_f*8 + p3_s_p*10\n",
    "\n",
    "# solve the problem\n",
    "status = prob.solve()\n",
    "LpStatus[status]\n",
    "\n",
    "# print the results\n",
    "print(\"Pulp Solutions\")\n",
    "print(\"Professor 1, Fall, Marketing:\", value(p1_f_m))\n",
    "print(\"Professor 1, Fall, Finance:\", value(p1_f_f))\n",
    "print(\"Professor 1, Fall, Production:\", value(p1_f_p))\n",
    "print(\"Professor 1, Spring, Marketing:\", value(p1_s_m))\n",
    "print(\"Professor 1, Spring, Finance:\", value(p1_s_f))\n",
    "print(\"Professor 1, Spring, Production:\", value(p1_s_p))\n",
    "\n",
    "print(\"Professor 2, Fall, Marketing:\", value(p2_f_m))\n",
    "print(\"Professor 2, Fall, Finance:\", value(p2_f_f))\n",
    "print(\"Professor 2, Fall, Production:\", value(p2_f_p))\n",
    "print(\"Professor 2, Spring, Marketing:\", value(p2_s_m))\n",
    "print(\"Professor 2, Spring, Finance:\", value(p2_s_f))\n",
    "print(\"Professor 2, Spring, Production:\", value(p2_s_p))\n",
    "\n",
    "print(\"Professor 3, Fall, Marketing:\", value(p3_f_m))\n",
    "print(\"Professor 3, Fall, Finance:\", value(p3_f_f))\n",
    "print(\"Professor 3, Fall, Production:\", value(p3_f_p))\n",
    "print(\"Professor 3, Spring, Marketing:\", value(p3_s_m))\n",
    "print(\"Professor 3, Spring, Finance:\", value(p3_s_f))\n",
    "print(\"Professor 3, Spring, Production:\", value(p3_s_p))\n",
    "\n",
    "print(\"Satisfaction, Professor 1:\", value(p1_f_m*9 + p1_f_f*8 + p1_f_p*7 + p1_s_m*10 + p1_s_f*9 + p1_s_p*8))\n",
    "print(\"Satisfaction, Professor 2:\", value(p2_f_m*9 + p2_f_f*11 + p2_f_p*10 + p2_s_m*7 + p2_s_f*9 + p2_s_p*8))\n",
    "print(\"Satisfaction, Professor 3:\", value(p3_f_m*9 + p3_f_f*8 + p3_f_p*10 + p3_s_m*9 + p3_s_f*8 + p3_s_p*10))\n",
    "\n",
    "print(\"Total Satisfaction:\", value(p1_f_m*9 + p1_f_f*8 + p1_f_p*7 + p1_s_m*10 + p1_s_f*9 + p1_s_p*8 + p2_f_m*9 + p2_f_f*11 + p2_f_p*10 + p2_s_m*7 + p2_s_f*9 + p2_s_p*8 + p3_f_m*9 + p3_f_f*8 + p3_f_p*10 + p3_s_m*9 + p3_s_f*8 + p3_s_p*10))\n",
    "\n",
    "print(\"Professor 1 teaches Marketing in Fall and Marketing & Finance & Production in Spring.\")\n",
    "print(\"Professor 2 teaches Marketing & Finance & Production in Fall and Finance in Spring.\")\n",
    "print(\"Professor 3 teaches Marketing & Production in Fall and Marketing & Production in Spring.\")\n"
   ]
  },
  {
   "cell_type": "code",
   "execution_count": null,
   "metadata": {},
   "outputs": [],
   "source": []
  }
 ],
 "metadata": {
  "kernelspec": {
   "display_name": "Python 3",
   "language": "python",
   "name": "python3"
  },
  "language_info": {
   "codemirror_mode": {
    "name": "ipython",
    "version": 3
   },
   "file_extension": ".py",
   "mimetype": "text/x-python",
   "name": "python",
   "nbconvert_exporter": "python",
   "pygments_lexer": "ipython3",
   "version": "3.8.3"
  }
 },
 "nbformat": 4,
 "nbformat_minor": 4
}
