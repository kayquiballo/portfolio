{
 "cells": [
  {
   "cell_type": "markdown",
   "metadata": {},
   "source": [
    "# Deliverables:\n",
    "\n",
    "- Submit two files that has the name: <font color = 'red'>YourLastName_Exercise_3:</font>\n",
    "\n",
    " 1. Your **HTML file** that has your Source code and output\n",
    " 2. Your **ipynb script** that has your Source code and output\n",
    "\n",
    "\n",
    "# Objectives:\n",
    "\n",
    "In this exercise, you will:\n",
    "\n",
    " - Analyze the dataset in the given CSV file\n",
    " - Clean the given dataset\n",
    " - Load the dataset into sqlite database engine\n",
    " - Execute different SQL queries\n",
    "\n",
    " \n"
   ]
  },
  {
   "cell_type": "markdown",
   "metadata": {},
   "source": [
    "###   Data Preparation"
   ]
  },
  {
   "cell_type": "markdown",
   "metadata": {},
   "source": [
    "As a data scientist for BestDeal retailer, you\n",
    "have been tasked with improving their revenue and the effectiveness of the\n",
    "marketing campaign of their electronic products. The given dataset has\n",
    "10,000 records for the purchases of their customers and is used to predict\n",
    "customers shopping patterns and to provide answers for ad-hoc queries.\n",
    "The dataset DirtyData4BestDeal10000.csv is drawn from its database of\n",
    "customers."
   ]
  },
  {
   "cell_type": "code",
   "execution_count": 1,
   "metadata": {},
   "outputs": [],
   "source": [
    "# load libraries\n",
    "import pandas as pd  \n",
    "import numpy as np  \n",
    "import sqlalchemy\n",
    "from sqlalchemy import create_engine\n",
    "from sqlalchemy import inspect\n",
    "\n",
    "# set up notebook to display multiple output in one cell\n",
    "from IPython.core.interactiveshell import InteractiveShell\n",
    "InteractiveShell.ast_node_interactivity = \"all\""
   ]
  },
  {
   "cell_type": "markdown",
   "metadata": {},
   "source": [
    "### Lets read the dirtydata4bestdeal CSV and load into a dataframe object"
   ]
  },
  {
   "cell_type": "code",
   "execution_count": 2,
   "metadata": {},
   "outputs": [
    {
     "name": "stdout",
     "output_type": "stream",
     "text": [
      "<class 'pandas.core.frame.DataFrame'>\n",
      "RangeIndex: 10000 entries, 0 to 9999\n",
      "Data columns (total 34 columns):\n",
      " #   Column              Non-Null Count  Dtype  \n",
      "---  ------              --------------  -----  \n",
      " 0   ZipCode             9856 non-null   float64\n",
      " 1   CustomerAge         9856 non-null   float64\n",
      " 2   SamsungTV46LED      10000 non-null  int64  \n",
      " 3   SonyTV42LED         9984 non-null   object \n",
      " 4   XBOX360             9992 non-null   object \n",
      " 5   DellLaptop          9968 non-null   object \n",
      " 6   BoseSoundSystem     9981 non-null   object \n",
      " 7   BoseHeadSet         9976 non-null   float64\n",
      " 8   SonyHeadSet         9976 non-null   float64\n",
      " 9   iPod                9968 non-null   float64\n",
      " 10  iPhone              9984 non-null   float64\n",
      " 11  Panasonic50LED      9992 non-null   float64\n",
      " 12  SonyPS4             9999 non-null   float64\n",
      " 13  WiiU                9976 non-null   float64\n",
      " 14  WDexternalHD        9985 non-null   float64\n",
      " 15  SamsungTV55LED      9984 non-null   float64\n",
      " 16  SonyTV60LED         9993 non-null   float64\n",
      " 17  SandiskMemoryCard   9991 non-null   float64\n",
      " 18  SonySoundSystem     9999 non-null   float64\n",
      " 19  SonyCamera          10000 non-null  int64  \n",
      " 20  PanasonicCamera     10000 non-null  int64  \n",
      " 21  HPPrinter           9992 non-null   float64\n",
      " 22  SonyDVDplayer       9984 non-null   float64\n",
      " 23  ToshibaDVDplayer    9992 non-null   float64\n",
      " 24  GalaxyTablet        10000 non-null  int64  \n",
      " 25  SurfaceTablet       9986 non-null   float64\n",
      " 26  HPLaptop            9968 non-null   float64\n",
      " 27  HDMICable           9992 non-null   float64\n",
      " 28  SpeakerCable        9952 non-null   float64\n",
      " 29  CallOfDutyGame      9976 non-null   float64\n",
      " 30  GrandTheftAutoGame  9968 non-null   float64\n",
      " 31  ASUSLaptop          9960 non-null   float64\n",
      " 32  LenevoLaptop        9976 non-null   float64\n",
      " 33  TVStandWallMount    10000 non-null  int64  \n",
      "dtypes: float64(25), int64(5), object(4)\n",
      "memory usage: 2.6+ MB\n"
     ]
    }
   ],
   "source": [
    "dirtydata=pd.read_csv('DirtyData4BestDeal10000.csv')\n",
    "\n",
    "# check out the variables\n",
    "dirtydata.info()"
   ]
  },
  {
   "cell_type": "code",
   "execution_count": 3,
   "metadata": {},
   "outputs": [
    {
     "data": {
      "text/html": [
       "<div>\n",
       "<style scoped>\n",
       "    .dataframe tbody tr th:only-of-type {\n",
       "        vertical-align: middle;\n",
       "    }\n",
       "\n",
       "    .dataframe tbody tr th {\n",
       "        vertical-align: top;\n",
       "    }\n",
       "\n",
       "    .dataframe thead th {\n",
       "        text-align: right;\n",
       "    }\n",
       "</style>\n",
       "<table border=\"1\" class=\"dataframe\">\n",
       "  <thead>\n",
       "    <tr style=\"text-align: right;\">\n",
       "      <th></th>\n",
       "      <th>ZipCode</th>\n",
       "      <th>CustomerAge</th>\n",
       "      <th>SamsungTV46LED</th>\n",
       "      <th>SonyTV42LED</th>\n",
       "      <th>XBOX360</th>\n",
       "      <th>DellLaptop</th>\n",
       "      <th>BoseSoundSystem</th>\n",
       "      <th>BoseHeadSet</th>\n",
       "      <th>SonyHeadSet</th>\n",
       "      <th>iPod</th>\n",
       "      <th>...</th>\n",
       "      <th>GalaxyTablet</th>\n",
       "      <th>SurfaceTablet</th>\n",
       "      <th>HPLaptop</th>\n",
       "      <th>HDMICable</th>\n",
       "      <th>SpeakerCable</th>\n",
       "      <th>CallOfDutyGame</th>\n",
       "      <th>GrandTheftAutoGame</th>\n",
       "      <th>ASUSLaptop</th>\n",
       "      <th>LenevoLaptop</th>\n",
       "      <th>TVStandWallMount</th>\n",
       "    </tr>\n",
       "  </thead>\n",
       "  <tbody>\n",
       "    <tr>\n",
       "      <th>0</th>\n",
       "      <td>30134.0</td>\n",
       "      <td>35.0</td>\n",
       "      <td>1</td>\n",
       "      <td>1</td>\n",
       "      <td>1</td>\n",
       "      <td>0</td>\n",
       "      <td>0</td>\n",
       "      <td>1.0</td>\n",
       "      <td>1.0</td>\n",
       "      <td>0.0</td>\n",
       "      <td>...</td>\n",
       "      <td>1</td>\n",
       "      <td>0.0</td>\n",
       "      <td>1.0</td>\n",
       "      <td>1.0</td>\n",
       "      <td>1.0</td>\n",
       "      <td>1.0</td>\n",
       "      <td>0.0</td>\n",
       "      <td>1.0</td>\n",
       "      <td>1.0</td>\n",
       "      <td>1</td>\n",
       "    </tr>\n",
       "    <tr>\n",
       "      <th>1</th>\n",
       "      <td>62791.0</td>\n",
       "      <td>43.0</td>\n",
       "      <td>0</td>\n",
       "      <td>1</td>\n",
       "      <td>0</td>\n",
       "      <td>0</td>\n",
       "      <td>1</td>\n",
       "      <td>0.0</td>\n",
       "      <td>1.0</td>\n",
       "      <td>0.0</td>\n",
       "      <td>...</td>\n",
       "      <td>1</td>\n",
       "      <td>0.0</td>\n",
       "      <td>1.0</td>\n",
       "      <td>0.0</td>\n",
       "      <td>1.0</td>\n",
       "      <td>1.0</td>\n",
       "      <td>0.0</td>\n",
       "      <td>1.0</td>\n",
       "      <td>1.0</td>\n",
       "      <td>1</td>\n",
       "    </tr>\n",
       "    <tr>\n",
       "      <th>2</th>\n",
       "      <td>60611.0</td>\n",
       "      <td>23.0</td>\n",
       "      <td>1</td>\n",
       "      <td>NaN</td>\n",
       "      <td>0</td>\n",
       "      <td>1</td>\n",
       "      <td>0</td>\n",
       "      <td>NaN</td>\n",
       "      <td>1.0</td>\n",
       "      <td>1.0</td>\n",
       "      <td>...</td>\n",
       "      <td>0</td>\n",
       "      <td>0.0</td>\n",
       "      <td>1.0</td>\n",
       "      <td>0.0</td>\n",
       "      <td>1.0</td>\n",
       "      <td>1.0</td>\n",
       "      <td>0.0</td>\n",
       "      <td>NaN</td>\n",
       "      <td>1.0</td>\n",
       "      <td>1</td>\n",
       "    </tr>\n",
       "    <tr>\n",
       "      <th>3</th>\n",
       "      <td>60616.0</td>\n",
       "      <td>56.0</td>\n",
       "      <td>0</td>\n",
       "      <td>1</td>\n",
       "      <td>1</td>\n",
       "      <td>1</td>\n",
       "      <td>0</td>\n",
       "      <td>0.0</td>\n",
       "      <td>1.0</td>\n",
       "      <td>1.0</td>\n",
       "      <td>...</td>\n",
       "      <td>0</td>\n",
       "      <td>0.0</td>\n",
       "      <td>1.0</td>\n",
       "      <td>0.0</td>\n",
       "      <td>1.0</td>\n",
       "      <td>0.0</td>\n",
       "      <td>0.0</td>\n",
       "      <td>1.0</td>\n",
       "      <td>0.0</td>\n",
       "      <td>0</td>\n",
       "    </tr>\n",
       "    <tr>\n",
       "      <th>4</th>\n",
       "      <td>30303.0</td>\n",
       "      <td>25.0</td>\n",
       "      <td>1</td>\n",
       "      <td>NaN</td>\n",
       "      <td>0</td>\n",
       "      <td>NaN</td>\n",
       "      <td>1</td>\n",
       "      <td>1.0</td>\n",
       "      <td>1.0</td>\n",
       "      <td>0.0</td>\n",
       "      <td>...</td>\n",
       "      <td>1</td>\n",
       "      <td>0.0</td>\n",
       "      <td>1.0</td>\n",
       "      <td>1.0</td>\n",
       "      <td>1.0</td>\n",
       "      <td>1.0</td>\n",
       "      <td>0.0</td>\n",
       "      <td>1.0</td>\n",
       "      <td>10.0</td>\n",
       "      <td>0</td>\n",
       "    </tr>\n",
       "  </tbody>\n",
       "</table>\n",
       "<p>5 rows × 34 columns</p>\n",
       "</div>"
      ],
      "text/plain": [
       "   ZipCode  CustomerAge  SamsungTV46LED SonyTV42LED XBOX360 DellLaptop  \\\n",
       "0  30134.0         35.0               1           1       1          0   \n",
       "1  62791.0         43.0               0           1       0          0   \n",
       "2  60611.0         23.0               1         NaN       0          1   \n",
       "3  60616.0         56.0               0           1       1          1   \n",
       "4  30303.0         25.0               1         NaN       0        NaN   \n",
       "\n",
       "  BoseSoundSystem  BoseHeadSet  SonyHeadSet  iPod  ...  GalaxyTablet  \\\n",
       "0               0          1.0          1.0   0.0  ...             1   \n",
       "1               1          0.0          1.0   0.0  ...             1   \n",
       "2               0          NaN          1.0   1.0  ...             0   \n",
       "3               0          0.0          1.0   1.0  ...             0   \n",
       "4               1          1.0          1.0   0.0  ...             1   \n",
       "\n",
       "   SurfaceTablet  HPLaptop  HDMICable  SpeakerCable  CallOfDutyGame  \\\n",
       "0            0.0       1.0        1.0           1.0             1.0   \n",
       "1            0.0       1.0        0.0           1.0             1.0   \n",
       "2            0.0       1.0        0.0           1.0             1.0   \n",
       "3            0.0       1.0        0.0           1.0             0.0   \n",
       "4            0.0       1.0        1.0           1.0             1.0   \n",
       "\n",
       "   GrandTheftAutoGame  ASUSLaptop  LenevoLaptop  TVStandWallMount  \n",
       "0                 0.0         1.0           1.0                 1  \n",
       "1                 0.0         1.0           1.0                 1  \n",
       "2                 0.0         NaN           1.0                 1  \n",
       "3                 0.0         1.0           0.0                 0  \n",
       "4                 0.0         1.0          10.0                 0  \n",
       "\n",
       "[5 rows x 34 columns]"
      ]
     },
     "execution_count": 3,
     "metadata": {},
     "output_type": "execute_result"
    }
   ],
   "source": [
    "# Do you see NaN values below?\n",
    "dirtydata.head()"
   ]
  },
  {
   "cell_type": "markdown",
   "metadata": {},
   "source": [
    "### Lets use boxplot to visualize the data and get an idea if there are dirty/messy/invalid data"
   ]
  },
  {
   "cell_type": "code",
   "execution_count": 4,
   "metadata": {},
   "outputs": [
    {
     "data": {
      "text/plain": [
       "<matplotlib.axes._subplots.AxesSubplot at 0x7fcedb1de4c0>"
      ]
     },
     "execution_count": 4,
     "metadata": {},
     "output_type": "execute_result"
    },
    {
     "data": {
      "image/png": "[encoded data removed]",
      "text/plain": [
       "<Figure size 432x288 with 1 Axes>"
      ]
     },
     "metadata": {
      "needs_background": "light"
     },
     "output_type": "display_data"
    }
   ],
   "source": [
    "# check out customer age\n",
    "dirtydata.boxplot(column='CustomerAge')\n"
   ]
  },
  {
   "cell_type": "code",
   "execution_count": 5,
   "metadata": {},
   "outputs": [
    {
     "data": {
      "text/plain": [
       "<matplotlib.axes._subplots.AxesSubplot at 0x7fcedb2a19a0>"
      ]
     },
     "execution_count": 5,
     "metadata": {},
     "output_type": "execute_result"
    },
    {
     "data": {
      "image/png": "[encoded data removed]",
      "text/plain": [
       "<Figure size 432x288 with 1 Axes>"
      ]
     },
     "metadata": {
      "needs_background": "light"
     },
     "output_type": "display_data"
    }
   ],
   "source": [
    "# check out customer age with a histogram\n",
    "dirtydata['CustomerAge'].hist(bins=20)"
   ]
  },
  {
   "cell_type": "code",
   "execution_count": 6,
   "metadata": {},
   "outputs": [
    {
     "data": {
      "text/plain": [
       "count    9976.000000\n",
       "mean        0.629711\n",
       "std         0.627375\n",
       "min         0.000000\n",
       "25%         0.000000\n",
       "50%         1.000000\n",
       "75%         1.000000\n",
       "max        11.000000\n",
       "Name: LenevoLaptop, dtype: float64"
      ]
     },
     "execution_count": 6,
     "metadata": {},
     "output_type": "execute_result"
    }
   ],
   "source": [
    "# look at details of LenenovaLaptop\n",
    "dirtydata.LenevoLaptop.describe()"
   ]
  },
  {
   "cell_type": "code",
   "execution_count": 7,
   "metadata": {},
   "outputs": [
    {
     "data": {
      "text/plain": [
       "<matplotlib.axes._subplots.AxesSubplot at 0x7fcedb3e57f0>"
      ]
     },
     "execution_count": 7,
     "metadata": {},
     "output_type": "execute_result"
    },
    {
     "data": {
      "image/png": "[encoded data removed]",
      "text/plain": [
       "<Figure size 432x288 with 1 Axes>"
      ]
     },
     "metadata": {
      "needs_background": "light"
     },
     "output_type": "display_data"
    }
   ],
   "source": [
    "dirtydata.boxplot(column='LenevoLaptop')"
   ]
  },
  {
   "cell_type": "code",
   "execution_count": 8,
   "metadata": {},
   "outputs": [
    {
     "data": {
      "text/plain": [
       "<matplotlib.axes._subplots.AxesSubplot at 0x7fcedb4ecd60>"
      ]
     },
     "execution_count": 8,
     "metadata": {},
     "output_type": "execute_result"
    },
    {
     "data": {
      "image/png": "[encoded data removed]",
      "text/plain": [
       "<Figure size 432x288 with 1 Axes>"
      ]
     },
     "metadata": {
      "needs_background": "light"
     },
     "output_type": "display_data"
    }
   ],
   "source": [
    "# look at zip codes\n",
    "dirtydata.boxplot(column='ZipCode')\n"
   ]
  },
  {
   "cell_type": "markdown",
   "metadata": {},
   "source": [
    "### Lets clean the dirty/messy data in the dirtydata dataframe object"
   ]
  },
  {
   "cell_type": "markdown",
   "metadata": {},
   "source": [
    "You need to write your python code such that:\n",
    "1. rows/records/tuples/transactions in the data frame that have missing values for fields/columns will be removed\n",
    "2. rows/records/tuples/transactions in the data frame that have invalid/abnormal values for fields/columns will be removed\n",
    "\n",
    "Examples of invalid/dirty/messy data:\n",
    "  1. NaN values in the dataframe (Blank/Empty cells in the CSV file)\n",
    "\n",
    "  2. Every product has a value 1 which means bought or 0 which means NOT bought; values like 11, 10, 9 are examples of invalid data\n",
    "\n",
    "  3. CustomerAge value range could be from 18 to 100; values like 723, 634 are examples of invalid data\n",
    "  \n",
    "  4. Zipcode should have 5 digits\n"
   ]
  },
  {
   "cell_type": "code",
   "execution_count": 9,
   "metadata": {},
   "outputs": [
    {
     "data": {
      "text/plain": [
       "(10000, 34)"
      ]
     },
     "execution_count": 9,
     "metadata": {},
     "output_type": "execute_result"
    },
    {
     "data": {
      "text/plain": [
       "(9432, 34)"
      ]
     },
     "execution_count": 9,
     "metadata": {},
     "output_type": "execute_result"
    },
    {
     "data": {
      "text/html": [
       "<div>\n",
       "<style scoped>\n",
       "    .dataframe tbody tr th:only-of-type {\n",
       "        vertical-align: middle;\n",
       "    }\n",
       "\n",
       "    .dataframe tbody tr th {\n",
       "        vertical-align: top;\n",
       "    }\n",
       "\n",
       "    .dataframe thead th {\n",
       "        text-align: right;\n",
       "    }\n",
       "</style>\n",
       "<table border=\"1\" class=\"dataframe\">\n",
       "  <thead>\n",
       "    <tr style=\"text-align: right;\">\n",
       "      <th></th>\n",
       "      <th>ZipCode</th>\n",
       "      <th>CustomerAge</th>\n",
       "      <th>SamsungTV46LED</th>\n",
       "      <th>SonyTV42LED</th>\n",
       "      <th>XBOX360</th>\n",
       "      <th>DellLaptop</th>\n",
       "      <th>BoseSoundSystem</th>\n",
       "      <th>BoseHeadSet</th>\n",
       "      <th>SonyHeadSet</th>\n",
       "      <th>iPod</th>\n",
       "      <th>...</th>\n",
       "      <th>GalaxyTablet</th>\n",
       "      <th>SurfaceTablet</th>\n",
       "      <th>HPLaptop</th>\n",
       "      <th>HDMICable</th>\n",
       "      <th>SpeakerCable</th>\n",
       "      <th>CallOfDutyGame</th>\n",
       "      <th>GrandTheftAutoGame</th>\n",
       "      <th>ASUSLaptop</th>\n",
       "      <th>LenevoLaptop</th>\n",
       "      <th>TVStandWallMount</th>\n",
       "    </tr>\n",
       "  </thead>\n",
       "  <tbody>\n",
       "    <tr>\n",
       "      <th>0</th>\n",
       "      <td>30134.0</td>\n",
       "      <td>35.0</td>\n",
       "      <td>1</td>\n",
       "      <td>1</td>\n",
       "      <td>1</td>\n",
       "      <td>0</td>\n",
       "      <td>0</td>\n",
       "      <td>1.0</td>\n",
       "      <td>1.0</td>\n",
       "      <td>0.0</td>\n",
       "      <td>...</td>\n",
       "      <td>1</td>\n",
       "      <td>0.0</td>\n",
       "      <td>1.0</td>\n",
       "      <td>1.0</td>\n",
       "      <td>1.0</td>\n",
       "      <td>1.0</td>\n",
       "      <td>0.0</td>\n",
       "      <td>1.0</td>\n",
       "      <td>1.0</td>\n",
       "      <td>1</td>\n",
       "    </tr>\n",
       "    <tr>\n",
       "      <th>1</th>\n",
       "      <td>62791.0</td>\n",
       "      <td>43.0</td>\n",
       "      <td>0</td>\n",
       "      <td>1</td>\n",
       "      <td>0</td>\n",
       "      <td>0</td>\n",
       "      <td>1</td>\n",
       "      <td>0.0</td>\n",
       "      <td>1.0</td>\n",
       "      <td>0.0</td>\n",
       "      <td>...</td>\n",
       "      <td>1</td>\n",
       "      <td>0.0</td>\n",
       "      <td>1.0</td>\n",
       "      <td>0.0</td>\n",
       "      <td>1.0</td>\n",
       "      <td>1.0</td>\n",
       "      <td>0.0</td>\n",
       "      <td>1.0</td>\n",
       "      <td>1.0</td>\n",
       "      <td>1</td>\n",
       "    </tr>\n",
       "    <tr>\n",
       "      <th>3</th>\n",
       "      <td>60616.0</td>\n",
       "      <td>56.0</td>\n",
       "      <td>0</td>\n",
       "      <td>1</td>\n",
       "      <td>1</td>\n",
       "      <td>1</td>\n",
       "      <td>0</td>\n",
       "      <td>0.0</td>\n",
       "      <td>1.0</td>\n",
       "      <td>1.0</td>\n",
       "      <td>...</td>\n",
       "      <td>0</td>\n",
       "      <td>0.0</td>\n",
       "      <td>1.0</td>\n",
       "      <td>0.0</td>\n",
       "      <td>1.0</td>\n",
       "      <td>0.0</td>\n",
       "      <td>0.0</td>\n",
       "      <td>1.0</td>\n",
       "      <td>0.0</td>\n",
       "      <td>0</td>\n",
       "    </tr>\n",
       "    <tr>\n",
       "      <th>5</th>\n",
       "      <td>2108.0</td>\n",
       "      <td>55.0</td>\n",
       "      <td>1</td>\n",
       "      <td>1</td>\n",
       "      <td>1</td>\n",
       "      <td>1</td>\n",
       "      <td>10</td>\n",
       "      <td>0.0</td>\n",
       "      <td>0.0</td>\n",
       "      <td>0.0</td>\n",
       "      <td>...</td>\n",
       "      <td>1</td>\n",
       "      <td>1.0</td>\n",
       "      <td>1.0</td>\n",
       "      <td>1.0</td>\n",
       "      <td>1.0</td>\n",
       "      <td>1.0</td>\n",
       "      <td>0.0</td>\n",
       "      <td>1.0</td>\n",
       "      <td>0.0</td>\n",
       "      <td>0</td>\n",
       "    </tr>\n",
       "    <tr>\n",
       "      <th>6</th>\n",
       "      <td>90033.0</td>\n",
       "      <td>44.0</td>\n",
       "      <td>1</td>\n",
       "      <td>1</td>\n",
       "      <td>1</td>\n",
       "      <td>1</td>\n",
       "      <td>0</td>\n",
       "      <td>0.0</td>\n",
       "      <td>0.0</td>\n",
       "      <td>0.0</td>\n",
       "      <td>...</td>\n",
       "      <td>1</td>\n",
       "      <td>1.0</td>\n",
       "      <td>1.0</td>\n",
       "      <td>1.0</td>\n",
       "      <td>0.0</td>\n",
       "      <td>1.0</td>\n",
       "      <td>1.0</td>\n",
       "      <td>0.0</td>\n",
       "      <td>0.0</td>\n",
       "      <td>1</td>\n",
       "    </tr>\n",
       "  </tbody>\n",
       "</table>\n",
       "<p>5 rows × 34 columns</p>\n",
       "</div>"
      ],
      "text/plain": [
       "   ZipCode  CustomerAge  SamsungTV46LED SonyTV42LED XBOX360 DellLaptop  \\\n",
       "0  30134.0         35.0               1           1       1          0   \n",
       "1  62791.0         43.0               0           1       0          0   \n",
       "3  60616.0         56.0               0           1       1          1   \n",
       "5   2108.0         55.0               1           1       1          1   \n",
       "6  90033.0         44.0               1           1       1          1   \n",
       "\n",
       "  BoseSoundSystem  BoseHeadSet  SonyHeadSet  iPod  ...  GalaxyTablet  \\\n",
       "0               0          1.0          1.0   0.0  ...             1   \n",
       "1               1          0.0          1.0   0.0  ...             1   \n",
       "3               0          0.0          1.0   1.0  ...             0   \n",
       "5              10          0.0          0.0   0.0  ...             1   \n",
       "6               0          0.0          0.0   0.0  ...             1   \n",
       "\n",
       "   SurfaceTablet  HPLaptop  HDMICable  SpeakerCable  CallOfDutyGame  \\\n",
       "0            0.0       1.0        1.0           1.0             1.0   \n",
       "1            0.0       1.0        0.0           1.0             1.0   \n",
       "3            0.0       1.0        0.0           1.0             0.0   \n",
       "5            1.0       1.0        1.0           1.0             1.0   \n",
       "6            1.0       1.0        1.0           0.0             1.0   \n",
       "\n",
       "   GrandTheftAutoGame  ASUSLaptop  LenevoLaptop  TVStandWallMount  \n",
       "0                 0.0         1.0           1.0                 1  \n",
       "1                 0.0         1.0           1.0                 1  \n",
       "3                 0.0         1.0           0.0                 0  \n",
       "5                 0.0         1.0           0.0                 0  \n",
       "6                 1.0         0.0           0.0                 1  \n",
       "\n",
       "[5 rows x 34 columns]"
      ]
     },
     "execution_count": 9,
     "metadata": {},
     "output_type": "execute_result"
    }
   ],
   "source": [
    "# what is the shape of cleandata before manipulating it?\n",
    "dirtydata.shape\n",
    "\n",
    "# Drop the NaN values - remember that dropna will make a new copy of the dataframe\n",
    "cleandata = dirtydata.dropna()\n",
    "\n",
    "# how did this affect the data?\n",
    "cleandata.shape\n",
    "\n",
    "# Do you see NaN values dropped below?\n",
    "cleandata.head()"
   ]
  },
  {
   "cell_type": "code",
   "execution_count": 10,
   "metadata": {},
   "outputs": [],
   "source": [
    "# ----------------------------------------------------------------------------------\n",
    "\n",
    "# Add the rest of your code here to clean the data\n",
    "\n",
    "# steps you must take\n",
    "# - eliminate NA's and blanks\n",
    "cleandata = dirtydata.replace(r'^\\s*$', np.nan, regex=True)\n",
    "cleandata = cleandata.dropna()\n",
    "\n",
    "cleandata[\"ZipCode\"] = cleandata[\"ZipCode\"].astype(int)\n",
    "cleandata[\"CustomerAge\"] = cleandata[\"CustomerAge\"].astype(int)\n",
    "\n",
    "# - product values should only be either a 0 or a 1\n",
    "for column in [x for x in list(cleandata.columns) if (x != \"ZipCode\" and x != \"CustomerAge\")]:\n",
    "    cleandata[column] = cleandata[column].astype(int)\n",
    "    cleandata = cleandata[cleandata[column].isin([0, 1])]\n",
    "\n",
    "# - customer's age needs to be valid\n",
    "cleandata = cleandata[cleandata[\"CustomerAge\"] >= 18]\n",
    "cleandata = cleandata[cleandata[\"CustomerAge\"] <= 100]\n",
    "\n",
    "# - zipcodes should have 5 digits\n",
    "cleandata = cleandata[cleandata[\"ZipCode\"] <= 99999]\n",
    "cleandata[\"ZipCode\"] = cleandata[\"ZipCode\"].astype(str)\n",
    "cleandata[\"ZipCode\"] = [str(i).zfill(5) for i in cleandata[\"ZipCode\"]]\n",
    "\n",
    "# - all numbers should be integers\n",
    "#note: intentionally made zipcode a string to include leading zeros for some data to have 5 digits.\n",
    "\n",
    "# Optional steps\n",
    "# - if there are other things you want to clean, clearly document them\n",
    "#   and run them in this section before you create a database\n",
    "\n",
    "# ----------------------------------------------------------------------------------"
   ]
  },
  {
   "cell_type": "code",
   "execution_count": 11,
   "metadata": {},
   "outputs": [
    {
     "data": {
      "text/plain": [
       "<matplotlib.axes._subplots.AxesSubplot at 0x7fcedb3ce2e0>"
      ]
     },
     "execution_count": 11,
     "metadata": {},
     "output_type": "execute_result"
    },
    {
     "data": {
      "image/png": "[encoded data removed]",
      "text/plain": [
       "<Figure size 432x288 with 1 Axes>"
      ]
     },
     "metadata": {
      "needs_background": "light"
     },
     "output_type": "display_data"
    }
   ],
   "source": [
    "# after cleaning the customer age - does the boxplot still show outliers?\n",
    "# how does the histogram look?\n",
    "# if this does not look better - you are not ready to proceed\n",
    "cleandata.boxplot(column='CustomerAge')\n"
   ]
  },
  {
   "cell_type": "code",
   "execution_count": 12,
   "metadata": {},
   "outputs": [
    {
     "data": {
      "text/plain": [
       "<matplotlib.axes._subplots.AxesSubplot at 0x7fcedbcd5790>"
      ]
     },
     "execution_count": 12,
     "metadata": {},
     "output_type": "execute_result"
    },
    {
     "data": {
      "image/png": "[encoded data removed]",
      "text/plain": [
       "<Figure size 432x288 with 1 Axes>"
      ]
     },
     "metadata": {
      "needs_background": "light"
     },
     "output_type": "display_data"
    }
   ],
   "source": [
    "cleandata['CustomerAge'].hist(bins=20)"
   ]
  },
  {
   "cell_type": "markdown",
   "metadata": {},
   "source": [
    "### Lets store the cleaned data into the Database"
   ]
  },
  {
   "cell_type": "code",
   "execution_count": 13,
   "metadata": {},
   "outputs": [
    {
     "data": {
      "text/plain": [
       "(9092, 34)"
      ]
     },
     "execution_count": 13,
     "metadata": {},
     "output_type": "execute_result"
    }
   ],
   "source": [
    "# how many records did you end up with after the data cleaning?\n",
    "cleandata.shape"
   ]
  },
  {
   "cell_type": "code",
   "execution_count": 14,
   "metadata": {},
   "outputs": [],
   "source": [
    "# now that your data has been cleaned, lets store it in a database\n",
    "\n",
    "# NOTE - the parameters to replace an existing database if it already exists\n",
    "\n",
    "engine = create_engine('sqlite:///bestdeal.db')"
   ]
  },
  {
   "cell_type": "code",
   "execution_count": 15,
   "metadata": {},
   "outputs": [],
   "source": [
    "cleandata.to_sql('trans4cust', engine, if_exists = 'replace', index = False)"
   ]
  },
  {
   "cell_type": "markdown",
   "metadata": {},
   "source": [
    "** Sanity Test: Did it create the table in bestdeal.db?  Check!!**"
   ]
  },
  {
   "cell_type": "code",
   "execution_count": 16,
   "metadata": {},
   "outputs": [],
   "source": [
    "insp = inspect(engine)"
   ]
  },
  {
   "cell_type": "code",
   "execution_count": 17,
   "metadata": {},
   "outputs": [
    {
     "data": {
      "text/plain": [
       "['trans4cust']"
      ]
     },
     "execution_count": 17,
     "metadata": {},
     "output_type": "execute_result"
    }
   ],
   "source": [
    "insp.get_table_names()"
   ]
  },
  {
   "cell_type": "code",
   "execution_count": 18,
   "metadata": {},
   "outputs": [
    {
     "data": {
      "text/plain": [
       "Index(['ZipCode', 'CustomerAge', 'SamsungTV46LED', 'SonyTV42LED', 'XBOX360',\n",
       "       'DellLaptop', 'BoseSoundSystem', 'BoseHeadSet', 'SonyHeadSet', 'iPod',\n",
       "       'iPhone', 'Panasonic50LED', 'SonyPS4', 'WiiU', 'WDexternalHD',\n",
       "       'SamsungTV55LED', 'SonyTV60LED', 'SandiskMemoryCard', 'SonySoundSystem',\n",
       "       'SonyCamera', 'PanasonicCamera', 'HPPrinter', 'SonyDVDplayer',\n",
       "       'ToshibaDVDplayer', 'GalaxyTablet', 'SurfaceTablet', 'HPLaptop',\n",
       "       'HDMICable', 'SpeakerCable', 'CallOfDutyGame', 'GrandTheftAutoGame',\n",
       "       'ASUSLaptop', 'LenevoLaptop', 'TVStandWallMount'],\n",
       "      dtype='object')"
      ]
     },
     "execution_count": 18,
     "metadata": {},
     "output_type": "execute_result"
    }
   ],
   "source": [
    "pd.read_sql_table('trans4cust', engine).columns"
   ]
  },
  {
   "cell_type": "raw",
   "metadata": {},
   "source": [
    "should produce the columns of the DataFrame you wrote to the db.  "
   ]
  },
  {
   "cell_type": "markdown",
   "metadata": {},
   "source": [
    "### Now we are ready to query the Database"
   ]
  },
  {
   "cell_type": "markdown",
   "metadata": {},
   "source": [
    "#### Query example #1: get the transactions for the customers in zipCode 60616"
   ]
  },
  {
   "cell_type": "code",
   "execution_count": 19,
   "metadata": {},
   "outputs": [],
   "source": [
    "# ======================================================================\n",
    "# **********************************************************************\n",
    "# \n",
    "# WARNING - this pre-run notebook is using dirty data\n",
    "# WARNING - after cleaning the data, your output should look different\n",
    "#\n",
    "# ======================================================================\n",
    "# **********************************************************************"
   ]
  },
  {
   "cell_type": "code",
   "execution_count": 20,
   "metadata": {},
   "outputs": [
    {
     "data": {
      "text/html": [
       "<div>\n",
       "<style scoped>\n",
       "    .dataframe tbody tr th:only-of-type {\n",
       "        vertical-align: middle;\n",
       "    }\n",
       "\n",
       "    .dataframe tbody tr th {\n",
       "        vertical-align: top;\n",
       "    }\n",
       "\n",
       "    .dataframe thead th {\n",
       "        text-align: right;\n",
       "    }\n",
       "</style>\n",
       "<table border=\"1\" class=\"dataframe\">\n",
       "  <thead>\n",
       "    <tr style=\"text-align: right;\">\n",
       "      <th></th>\n",
       "      <th>ZipCode</th>\n",
       "      <th>CustomerAge</th>\n",
       "      <th>SamsungTV46LED</th>\n",
       "      <th>SonyTV42LED</th>\n",
       "      <th>XBOX360</th>\n",
       "      <th>DellLaptop</th>\n",
       "      <th>BoseSoundSystem</th>\n",
       "      <th>BoseHeadSet</th>\n",
       "      <th>SonyHeadSet</th>\n",
       "      <th>iPod</th>\n",
       "      <th>...</th>\n",
       "      <th>GalaxyTablet</th>\n",
       "      <th>SurfaceTablet</th>\n",
       "      <th>HPLaptop</th>\n",
       "      <th>HDMICable</th>\n",
       "      <th>SpeakerCable</th>\n",
       "      <th>CallOfDutyGame</th>\n",
       "      <th>GrandTheftAutoGame</th>\n",
       "      <th>ASUSLaptop</th>\n",
       "      <th>LenevoLaptop</th>\n",
       "      <th>TVStandWallMount</th>\n",
       "    </tr>\n",
       "  </thead>\n",
       "  <tbody>\n",
       "    <tr>\n",
       "      <th>0</th>\n",
       "      <td>60616</td>\n",
       "      <td>56</td>\n",
       "      <td>0</td>\n",
       "      <td>1</td>\n",
       "      <td>1</td>\n",
       "      <td>1</td>\n",
       "      <td>0</td>\n",
       "      <td>0</td>\n",
       "      <td>1</td>\n",
       "      <td>1</td>\n",
       "      <td>...</td>\n",
       "      <td>0</td>\n",
       "      <td>0</td>\n",
       "      <td>1</td>\n",
       "      <td>0</td>\n",
       "      <td>1</td>\n",
       "      <td>0</td>\n",
       "      <td>0</td>\n",
       "      <td>1</td>\n",
       "      <td>0</td>\n",
       "      <td>0</td>\n",
       "    </tr>\n",
       "    <tr>\n",
       "      <th>1</th>\n",
       "      <td>60616</td>\n",
       "      <td>43</td>\n",
       "      <td>0</td>\n",
       "      <td>1</td>\n",
       "      <td>1</td>\n",
       "      <td>0</td>\n",
       "      <td>1</td>\n",
       "      <td>0</td>\n",
       "      <td>1</td>\n",
       "      <td>0</td>\n",
       "      <td>...</td>\n",
       "      <td>1</td>\n",
       "      <td>0</td>\n",
       "      <td>1</td>\n",
       "      <td>1</td>\n",
       "      <td>1</td>\n",
       "      <td>1</td>\n",
       "      <td>0</td>\n",
       "      <td>1</td>\n",
       "      <td>1</td>\n",
       "      <td>1</td>\n",
       "    </tr>\n",
       "    <tr>\n",
       "      <th>2</th>\n",
       "      <td>60616</td>\n",
       "      <td>54</td>\n",
       "      <td>1</td>\n",
       "      <td>0</td>\n",
       "      <td>0</td>\n",
       "      <td>1</td>\n",
       "      <td>0</td>\n",
       "      <td>1</td>\n",
       "      <td>1</td>\n",
       "      <td>0</td>\n",
       "      <td>...</td>\n",
       "      <td>0</td>\n",
       "      <td>1</td>\n",
       "      <td>1</td>\n",
       "      <td>0</td>\n",
       "      <td>1</td>\n",
       "      <td>1</td>\n",
       "      <td>0</td>\n",
       "      <td>1</td>\n",
       "      <td>1</td>\n",
       "      <td>1</td>\n",
       "    </tr>\n",
       "    <tr>\n",
       "      <th>3</th>\n",
       "      <td>60616</td>\n",
       "      <td>43</td>\n",
       "      <td>1</td>\n",
       "      <td>1</td>\n",
       "      <td>1</td>\n",
       "      <td>0</td>\n",
       "      <td>1</td>\n",
       "      <td>1</td>\n",
       "      <td>1</td>\n",
       "      <td>0</td>\n",
       "      <td>...</td>\n",
       "      <td>1</td>\n",
       "      <td>1</td>\n",
       "      <td>1</td>\n",
       "      <td>1</td>\n",
       "      <td>0</td>\n",
       "      <td>1</td>\n",
       "      <td>0</td>\n",
       "      <td>1</td>\n",
       "      <td>1</td>\n",
       "      <td>1</td>\n",
       "    </tr>\n",
       "    <tr>\n",
       "      <th>4</th>\n",
       "      <td>60616</td>\n",
       "      <td>31</td>\n",
       "      <td>0</td>\n",
       "      <td>1</td>\n",
       "      <td>1</td>\n",
       "      <td>1</td>\n",
       "      <td>0</td>\n",
       "      <td>0</td>\n",
       "      <td>1</td>\n",
       "      <td>1</td>\n",
       "      <td>...</td>\n",
       "      <td>1</td>\n",
       "      <td>0</td>\n",
       "      <td>1</td>\n",
       "      <td>1</td>\n",
       "      <td>1</td>\n",
       "      <td>1</td>\n",
       "      <td>1</td>\n",
       "      <td>0</td>\n",
       "      <td>0</td>\n",
       "      <td>1</td>\n",
       "    </tr>\n",
       "  </tbody>\n",
       "</table>\n",
       "<p>5 rows × 34 columns</p>\n",
       "</div>"
      ],
      "text/plain": [
       "  ZipCode  CustomerAge  SamsungTV46LED  SonyTV42LED  XBOX360  DellLaptop  \\\n",
       "0   60616           56               0            1        1           1   \n",
       "1   60616           43               0            1        1           0   \n",
       "2   60616           54               1            0        0           1   \n",
       "3   60616           43               1            1        1           0   \n",
       "4   60616           31               0            1        1           1   \n",
       "\n",
       "   BoseSoundSystem  BoseHeadSet  SonyHeadSet  iPod  ...  GalaxyTablet  \\\n",
       "0                0            0            1     1  ...             0   \n",
       "1                1            0            1     0  ...             1   \n",
       "2                0            1            1     0  ...             0   \n",
       "3                1            1            1     0  ...             1   \n",
       "4                0            0            1     1  ...             1   \n",
       "\n",
       "   SurfaceTablet  HPLaptop  HDMICable  SpeakerCable  CallOfDutyGame  \\\n",
       "0              0         1          0             1               0   \n",
       "1              0         1          1             1               1   \n",
       "2              1         1          0             1               1   \n",
       "3              1         1          1             0               1   \n",
       "4              0         1          1             1               1   \n",
       "\n",
       "   GrandTheftAutoGame  ASUSLaptop  LenevoLaptop  TVStandWallMount  \n",
       "0                   0           1             0                 0  \n",
       "1                   0           1             1                 1  \n",
       "2                   0           1             1                 1  \n",
       "3                   0           1             1                 1  \n",
       "4                   1           0             0                 1  \n",
       "\n",
       "[5 rows x 34 columns]"
      ]
     },
     "execution_count": 20,
     "metadata": {},
     "output_type": "execute_result"
    }
   ],
   "source": [
    "q1 = pd.read_sql_query(\"SELECT * \\\n",
    "                FROM trans4cust \\\n",
    "                WHERE ZipCode='60616'\", engine)\n",
    "\n",
    "q1.head()"
   ]
  },
  {
   "cell_type": "markdown",
   "metadata": {},
   "source": [
    "#### Query example #2: get the transactions for ALL customers"
   ]
  },
  {
   "cell_type": "code",
   "execution_count": 21,
   "metadata": {},
   "outputs": [
    {
     "data": {
      "text/html": [
       "<div>\n",
       "<style scoped>\n",
       "    .dataframe tbody tr th:only-of-type {\n",
       "        vertical-align: middle;\n",
       "    }\n",
       "\n",
       "    .dataframe tbody tr th {\n",
       "        vertical-align: top;\n",
       "    }\n",
       "\n",
       "    .dataframe thead th {\n",
       "        text-align: right;\n",
       "    }\n",
       "</style>\n",
       "<table border=\"1\" class=\"dataframe\">\n",
       "  <thead>\n",
       "    <tr style=\"text-align: right;\">\n",
       "      <th></th>\n",
       "      <th>ZipCode</th>\n",
       "      <th>CustomerAge</th>\n",
       "      <th>SamsungTV46LED</th>\n",
       "      <th>SonyTV42LED</th>\n",
       "      <th>XBOX360</th>\n",
       "      <th>DellLaptop</th>\n",
       "      <th>BoseSoundSystem</th>\n",
       "      <th>BoseHeadSet</th>\n",
       "      <th>SonyHeadSet</th>\n",
       "      <th>iPod</th>\n",
       "      <th>...</th>\n",
       "      <th>GalaxyTablet</th>\n",
       "      <th>SurfaceTablet</th>\n",
       "      <th>HPLaptop</th>\n",
       "      <th>HDMICable</th>\n",
       "      <th>SpeakerCable</th>\n",
       "      <th>CallOfDutyGame</th>\n",
       "      <th>GrandTheftAutoGame</th>\n",
       "      <th>ASUSLaptop</th>\n",
       "      <th>LenevoLaptop</th>\n",
       "      <th>TVStandWallMount</th>\n",
       "    </tr>\n",
       "  </thead>\n",
       "  <tbody>\n",
       "    <tr>\n",
       "      <th>0</th>\n",
       "      <td>30134</td>\n",
       "      <td>35</td>\n",
       "      <td>1</td>\n",
       "      <td>1</td>\n",
       "      <td>1</td>\n",
       "      <td>0</td>\n",
       "      <td>0</td>\n",
       "      <td>1</td>\n",
       "      <td>1</td>\n",
       "      <td>0</td>\n",
       "      <td>...</td>\n",
       "      <td>1</td>\n",
       "      <td>0</td>\n",
       "      <td>1</td>\n",
       "      <td>1</td>\n",
       "      <td>1</td>\n",
       "      <td>1</td>\n",
       "      <td>0</td>\n",
       "      <td>1</td>\n",
       "      <td>1</td>\n",
       "      <td>1</td>\n",
       "    </tr>\n",
       "    <tr>\n",
       "      <th>1</th>\n",
       "      <td>62791</td>\n",
       "      <td>43</td>\n",
       "      <td>0</td>\n",
       "      <td>1</td>\n",
       "      <td>0</td>\n",
       "      <td>0</td>\n",
       "      <td>1</td>\n",
       "      <td>0</td>\n",
       "      <td>1</td>\n",
       "      <td>0</td>\n",
       "      <td>...</td>\n",
       "      <td>1</td>\n",
       "      <td>0</td>\n",
       "      <td>1</td>\n",
       "      <td>0</td>\n",
       "      <td>1</td>\n",
       "      <td>1</td>\n",
       "      <td>0</td>\n",
       "      <td>1</td>\n",
       "      <td>1</td>\n",
       "      <td>1</td>\n",
       "    </tr>\n",
       "    <tr>\n",
       "      <th>2</th>\n",
       "      <td>60616</td>\n",
       "      <td>56</td>\n",
       "      <td>0</td>\n",
       "      <td>1</td>\n",
       "      <td>1</td>\n",
       "      <td>1</td>\n",
       "      <td>0</td>\n",
       "      <td>0</td>\n",
       "      <td>1</td>\n",
       "      <td>1</td>\n",
       "      <td>...</td>\n",
       "      <td>0</td>\n",
       "      <td>0</td>\n",
       "      <td>1</td>\n",
       "      <td>0</td>\n",
       "      <td>1</td>\n",
       "      <td>0</td>\n",
       "      <td>0</td>\n",
       "      <td>1</td>\n",
       "      <td>0</td>\n",
       "      <td>0</td>\n",
       "    </tr>\n",
       "    <tr>\n",
       "      <th>3</th>\n",
       "      <td>90033</td>\n",
       "      <td>44</td>\n",
       "      <td>1</td>\n",
       "      <td>1</td>\n",
       "      <td>1</td>\n",
       "      <td>1</td>\n",
       "      <td>0</td>\n",
       "      <td>0</td>\n",
       "      <td>0</td>\n",
       "      <td>0</td>\n",
       "      <td>...</td>\n",
       "      <td>1</td>\n",
       "      <td>1</td>\n",
       "      <td>1</td>\n",
       "      <td>1</td>\n",
       "      <td>0</td>\n",
       "      <td>1</td>\n",
       "      <td>1</td>\n",
       "      <td>0</td>\n",
       "      <td>0</td>\n",
       "      <td>1</td>\n",
       "    </tr>\n",
       "    <tr>\n",
       "      <th>4</th>\n",
       "      <td>02109</td>\n",
       "      <td>37</td>\n",
       "      <td>0</td>\n",
       "      <td>1</td>\n",
       "      <td>1</td>\n",
       "      <td>0</td>\n",
       "      <td>1</td>\n",
       "      <td>0</td>\n",
       "      <td>1</td>\n",
       "      <td>0</td>\n",
       "      <td>...</td>\n",
       "      <td>0</td>\n",
       "      <td>0</td>\n",
       "      <td>1</td>\n",
       "      <td>0</td>\n",
       "      <td>1</td>\n",
       "      <td>0</td>\n",
       "      <td>0</td>\n",
       "      <td>1</td>\n",
       "      <td>1</td>\n",
       "      <td>0</td>\n",
       "    </tr>\n",
       "  </tbody>\n",
       "</table>\n",
       "<p>5 rows × 34 columns</p>\n",
       "</div>"
      ],
      "text/plain": [
       "  ZipCode  CustomerAge  SamsungTV46LED  SonyTV42LED  XBOX360  DellLaptop  \\\n",
       "0   30134           35               1            1        1           0   \n",
       "1   62791           43               0            1        0           0   \n",
       "2   60616           56               0            1        1           1   \n",
       "3   90033           44               1            1        1           1   \n",
       "4   02109           37               0            1        1           0   \n",
       "\n",
       "   BoseSoundSystem  BoseHeadSet  SonyHeadSet  iPod  ...  GalaxyTablet  \\\n",
       "0                0            1            1     0  ...             1   \n",
       "1                1            0            1     0  ...             1   \n",
       "2                0            0            1     1  ...             0   \n",
       "3                0            0            0     0  ...             1   \n",
       "4                1            0            1     0  ...             0   \n",
       "\n",
       "   SurfaceTablet  HPLaptop  HDMICable  SpeakerCable  CallOfDutyGame  \\\n",
       "0              0         1          1             1               1   \n",
       "1              0         1          0             1               1   \n",
       "2              0         1          0             1               0   \n",
       "3              1         1          1             0               1   \n",
       "4              0         1          0             1               0   \n",
       "\n",
       "   GrandTheftAutoGame  ASUSLaptop  LenevoLaptop  TVStandWallMount  \n",
       "0                   0           1             1                 1  \n",
       "1                   0           1             1                 1  \n",
       "2                   0           1             0                 0  \n",
       "3                   1           0             0                 1  \n",
       "4                   0           1             1                 0  \n",
       "\n",
       "[5 rows x 34 columns]"
      ]
     },
     "execution_count": 21,
     "metadata": {},
     "output_type": "execute_result"
    }
   ],
   "source": [
    "q2 = pd.read_sql_query(\"SELECT * \\\n",
    "                FROM trans4cust\", engine)\n",
    "\n",
    "q2.head()"
   ]
  },
  {
   "cell_type": "markdown",
   "metadata": {},
   "source": [
    "#### Query example #3: get the number of customers in every ZipCode sorted by ZipCode"
   ]
  },
  {
   "cell_type": "code",
   "execution_count": 22,
   "metadata": {},
   "outputs": [
    {
     "data": {
      "text/html": [
       "<div>\n",
       "<style scoped>\n",
       "    .dataframe tbody tr th:only-of-type {\n",
       "        vertical-align: middle;\n",
       "    }\n",
       "\n",
       "    .dataframe tbody tr th {\n",
       "        vertical-align: top;\n",
       "    }\n",
       "\n",
       "    .dataframe thead th {\n",
       "        text-align: right;\n",
       "    }\n",
       "</style>\n",
       "<table border=\"1\" class=\"dataframe\">\n",
       "  <thead>\n",
       "    <tr style=\"text-align: right;\">\n",
       "      <th></th>\n",
       "      <th>ZipCode</th>\n",
       "      <th>num_customers</th>\n",
       "    </tr>\n",
       "  </thead>\n",
       "  <tbody>\n",
       "    <tr>\n",
       "      <th>0</th>\n",
       "      <td>02108</td>\n",
       "      <td>613</td>\n",
       "    </tr>\n",
       "    <tr>\n",
       "      <th>1</th>\n",
       "      <td>02109</td>\n",
       "      <td>917</td>\n",
       "    </tr>\n",
       "    <tr>\n",
       "      <th>2</th>\n",
       "      <td>02110</td>\n",
       "      <td>224</td>\n",
       "    </tr>\n",
       "    <tr>\n",
       "      <th>3</th>\n",
       "      <td>10065</td>\n",
       "      <td>750</td>\n",
       "    </tr>\n",
       "    <tr>\n",
       "      <th>4</th>\n",
       "      <td>30134</td>\n",
       "      <td>1133</td>\n",
       "    </tr>\n",
       "  </tbody>\n",
       "</table>\n",
       "</div>"
      ],
      "text/plain": [
       "  ZipCode  num_customers\n",
       "0   02108            613\n",
       "1   02109            917\n",
       "2   02110            224\n",
       "3   10065            750\n",
       "4   30134           1133"
      ]
     },
     "execution_count": 22,
     "metadata": {},
     "output_type": "execute_result"
    }
   ],
   "source": [
    "q3 = pd.read_sql_query(\"SELECT ZipCode , COUNT(*) as 'num_customers' \\\n",
    "            FROM trans4cust \\\n",
    "            GROUP BY ZipCode \\\n",
    "            ORDER BY ZipCode\", engine)\n",
    "\n",
    "q3.head()"
   ]
  },
  {
   "cell_type": "markdown",
   "metadata": {},
   "source": [
    "#### Query example #4: get the number of customers for  every Age Group in ZipCode 60616 sorted by CustomerAge"
   ]
  },
  {
   "cell_type": "code",
   "execution_count": 23,
   "metadata": {},
   "outputs": [
    {
     "data": {
      "text/html": [
       "<div>\n",
       "<style scoped>\n",
       "    .dataframe tbody tr th:only-of-type {\n",
       "        vertical-align: middle;\n",
       "    }\n",
       "\n",
       "    .dataframe tbody tr th {\n",
       "        vertical-align: top;\n",
       "    }\n",
       "\n",
       "    .dataframe thead th {\n",
       "        text-align: right;\n",
       "    }\n",
       "</style>\n",
       "<table border=\"1\" class=\"dataframe\">\n",
       "  <thead>\n",
       "    <tr style=\"text-align: right;\">\n",
       "      <th></th>\n",
       "      <th>CustomerAge</th>\n",
       "      <th>num_customers</th>\n",
       "    </tr>\n",
       "  </thead>\n",
       "  <tbody>\n",
       "    <tr>\n",
       "      <th>0</th>\n",
       "      <td>21</td>\n",
       "      <td>56</td>\n",
       "    </tr>\n",
       "    <tr>\n",
       "      <th>1</th>\n",
       "      <td>22</td>\n",
       "      <td>32</td>\n",
       "    </tr>\n",
       "    <tr>\n",
       "      <th>2</th>\n",
       "      <td>23</td>\n",
       "      <td>40</td>\n",
       "    </tr>\n",
       "    <tr>\n",
       "      <th>3</th>\n",
       "      <td>25</td>\n",
       "      <td>88</td>\n",
       "    </tr>\n",
       "    <tr>\n",
       "      <th>4</th>\n",
       "      <td>26</td>\n",
       "      <td>48</td>\n",
       "    </tr>\n",
       "  </tbody>\n",
       "</table>\n",
       "</div>"
      ],
      "text/plain": [
       "   CustomerAge  num_customers\n",
       "0           21             56\n",
       "1           22             32\n",
       "2           23             40\n",
       "3           25             88\n",
       "4           26             48"
      ]
     },
     "execution_count": 23,
     "metadata": {},
     "output_type": "execute_result"
    }
   ],
   "source": [
    "q4 = pd.read_sql_query(\n",
    "        \"SELECT CustomerAge , COUNT(*) as 'num_customers' \\\n",
    "        FROM trans4cust \\\n",
    "        WHERE ZipCode=60616 \\\n",
    "        GROUP BY CustomerAge  \\\n",
    "        ORDER BY CustomerAge\", engine)\n",
    "\n",
    "q4.head()"
   ]
  },
  {
   "cell_type": "markdown",
   "metadata": {},
   "source": [
    "#### Query example #5: Plot in a stacked-bar figure the number of customers who bought SonyTV60LED and/or BoseSoundSystem in  every zipcode that has more than 400 customers who bought these two products(either bought one of these products or the two products)"
   ]
  },
  {
   "cell_type": "code",
   "execution_count": 24,
   "metadata": {},
   "outputs": [],
   "source": [
    "SonyTV60LEDCustTrans = pd.read_sql_query(\n",
    "    \"SELECT ZipCode , COUNT(*) as 'num_customers' \\\n",
    "    FROM trans4cust \\\n",
    "    WHERE SonyTV60LED=1  \\\n",
    "    GROUP BY ZipCode \\\n",
    "    HAVING COUNT(*) > 400\", engine)\n",
    "\n",
    "BoseSoundSystemCustTrans = pd.read_sql_query(\n",
    "    \"SELECT ZipCode , COUNT(*) as 'num_customers'\\\n",
    "    FROM trans4cust \\\n",
    "    WHERE BoseSoundSystem=1 \\\n",
    "    GROUP BY ZipCode \\\n",
    "    HAVING COUNT(*) > 400\", engine)"
   ]
  },
  {
   "cell_type": "code",
   "execution_count": 25,
   "metadata": {},
   "outputs": [
    {
     "data": {
      "text/html": [
       "<div>\n",
       "<style scoped>\n",
       "    .dataframe tbody tr th:only-of-type {\n",
       "        vertical-align: middle;\n",
       "    }\n",
       "\n",
       "    .dataframe tbody tr th {\n",
       "        vertical-align: top;\n",
       "    }\n",
       "\n",
       "    .dataframe thead th {\n",
       "        text-align: right;\n",
       "    }\n",
       "</style>\n",
       "<table border=\"1\" class=\"dataframe\">\n",
       "  <thead>\n",
       "    <tr style=\"text-align: right;\">\n",
       "      <th></th>\n",
       "      <th>ZipCode</th>\n",
       "      <th>num_customers</th>\n",
       "    </tr>\n",
       "  </thead>\n",
       "  <tbody>\n",
       "    <tr>\n",
       "      <th>0</th>\n",
       "      <td>02108</td>\n",
       "      <td>402</td>\n",
       "    </tr>\n",
       "    <tr>\n",
       "      <th>1</th>\n",
       "      <td>02109</td>\n",
       "      <td>578</td>\n",
       "    </tr>\n",
       "    <tr>\n",
       "      <th>2</th>\n",
       "      <td>10065</td>\n",
       "      <td>439</td>\n",
       "    </tr>\n",
       "    <tr>\n",
       "      <th>3</th>\n",
       "      <td>30134</td>\n",
       "      <td>757</td>\n",
       "    </tr>\n",
       "    <tr>\n",
       "      <th>4</th>\n",
       "      <td>30303</td>\n",
       "      <td>517</td>\n",
       "    </tr>\n",
       "    <tr>\n",
       "      <th>5</th>\n",
       "      <td>60616</td>\n",
       "      <td>689</td>\n",
       "    </tr>\n",
       "  </tbody>\n",
       "</table>\n",
       "</div>"
      ],
      "text/plain": [
       "  ZipCode  num_customers\n",
       "0   02108            402\n",
       "1   02109            578\n",
       "2   10065            439\n",
       "3   30134            757\n",
       "4   30303            517\n",
       "5   60616            689"
      ]
     },
     "execution_count": 25,
     "metadata": {},
     "output_type": "execute_result"
    }
   ],
   "source": [
    "SonyTV60LEDCustTrans"
   ]
  },
  {
   "cell_type": "code",
   "execution_count": 26,
   "metadata": {},
   "outputs": [
    {
     "data": {
      "text/html": [
       "<div>\n",
       "<style scoped>\n",
       "    .dataframe tbody tr th:only-of-type {\n",
       "        vertical-align: middle;\n",
       "    }\n",
       "\n",
       "    .dataframe tbody tr th {\n",
       "        vertical-align: top;\n",
       "    }\n",
       "\n",
       "    .dataframe thead th {\n",
       "        text-align: right;\n",
       "    }\n",
       "</style>\n",
       "<table border=\"1\" class=\"dataframe\">\n",
       "  <thead>\n",
       "    <tr style=\"text-align: right;\">\n",
       "      <th></th>\n",
       "      <th>ZipCode</th>\n",
       "      <th>num_customers</th>\n",
       "    </tr>\n",
       "  </thead>\n",
       "  <tbody>\n",
       "    <tr>\n",
       "      <th>0</th>\n",
       "      <td>02109</td>\n",
       "      <td>424</td>\n",
       "    </tr>\n",
       "    <tr>\n",
       "      <th>1</th>\n",
       "      <td>30134</td>\n",
       "      <td>799</td>\n",
       "    </tr>\n",
       "    <tr>\n",
       "      <th>2</th>\n",
       "      <td>30303</td>\n",
       "      <td>464</td>\n",
       "    </tr>\n",
       "    <tr>\n",
       "      <th>3</th>\n",
       "      <td>60616</td>\n",
       "      <td>466</td>\n",
       "    </tr>\n",
       "    <tr>\n",
       "      <th>4</th>\n",
       "      <td>90033</td>\n",
       "      <td>404</td>\n",
       "    </tr>\n",
       "  </tbody>\n",
       "</table>\n",
       "</div>"
      ],
      "text/plain": [
       "  ZipCode  num_customers\n",
       "0   02109            424\n",
       "1   30134            799\n",
       "2   30303            464\n",
       "3   60616            466\n",
       "4   90033            404"
      ]
     },
     "execution_count": 26,
     "metadata": {},
     "output_type": "execute_result"
    }
   ],
   "source": [
    "BoseSoundSystemCustTrans"
   ]
  },
  {
   "cell_type": "code",
   "execution_count": 27,
   "metadata": {},
   "outputs": [
    {
     "data": {
      "text/plain": [
       "0    02108\n",
       "1    02109\n",
       "2    10065\n",
       "3    30134\n",
       "4    30303\n",
       "5    60616\n",
       "Name: ZipCode, dtype: object"
      ]
     },
     "execution_count": 27,
     "metadata": {},
     "output_type": "execute_result"
    }
   ],
   "source": [
    "SonyTV60LEDCustTrans.ZipCode\n"
   ]
  },
  {
   "cell_type": "code",
   "execution_count": 28,
   "metadata": {},
   "outputs": [],
   "source": [
    "import numpy\n",
    "\n",
    "#   There are zipcodes that Sony got bought but not Bose \n",
    "#   but there are also zipcodes that Bose got bought but not Sony\n",
    "#\n",
    "#   AND we need to use stacked-bar graph and we have a potentially asymmetrical set  of zipcode values\n",
    "#   So, we need to do somework to create the symmteric set of zipcode values for Sony and Bose\n",
    "\n",
    "\n",
    "sonyZipCodeTuples = tuple(SonyTV60LEDCustTrans.ZipCode.astype(numpy.int))\n",
    "sony_num_customersTuples = tuple(SonyTV60LEDCustTrans.num_customers.astype(numpy.int))\n",
    "\n",
    "boseZipCodeTuples = tuple(BoseSoundSystemCustTrans.ZipCode.astype(numpy.int))\n",
    "bose_num_customersTuples = tuple(BoseSoundSystemCustTrans.num_customers.astype(numpy.int))\n",
    "\n",
    "sony_dict = dict(zip(sonyZipCodeTuples, sony_num_customersTuples))\n",
    "bose_dict = dict(zip(boseZipCodeTuples, bose_num_customersTuples))\n",
    "\n",
    "for key in bose_dict.keys():\n",
    "    if ((key in sony_dict.keys()) == False): sony_dict[key]=0\n",
    "        \n",
    "for key in sony_dict.keys():\n",
    "    if ((key in bose_dict.keys()) == False): bose_dict[key]=0\n",
    "        \n",
    "bose_zip = sorted(bose_dict.keys())\n",
    "\n",
    "sony_zip = sorted(sony_dict.keys())\n",
    "\n",
    "bose_zip_tuple = tuple(bose_zip)\n",
    "\n",
    "sony_zip_tuple = tuple(sony_zip)\n",
    "\n",
    "bose_customer_list = []\n",
    "\n",
    "for bose in bose_zip_tuple:\n",
    "    bose_customer_list.append(bose_dict[bose])\n",
    "\n",
    "sony_customer_list = []\n",
    "\n",
    "for sony in sony_zip_tuple:\n",
    "    sony_customer_list.append(sony_dict[sony])\n",
    "\n",
    "bose_customer_tuple = tuple(bose_customer_list)\n",
    "sony_customer_tuple = tuple(sony_customer_list)\n"
   ]
  },
  {
   "cell_type": "code",
   "execution_count": 29,
   "metadata": {},
   "outputs": [
    {
     "data": {
      "text/plain": [
       "Text(0, 0.5, 'Number of Customers')"
      ]
     },
     "execution_count": 29,
     "metadata": {},
     "output_type": "execute_result"
    },
    {
     "data": {
      "text/plain": [
       "Text(0.5, 0, 'Zip Code')"
      ]
     },
     "execution_count": 29,
     "metadata": {},
     "output_type": "execute_result"
    },
    {
     "data": {
      "text/plain": [
       "Text(0.5, 1.0, 'Number of Customers by ZipCode and 2 Products')"
      ]
     },
     "execution_count": 29,
     "metadata": {},
     "output_type": "execute_result"
    },
    {
     "data": {
      "text/plain": [
       "([<matplotlib.axis.XTick at 0x7fcedc531070>,\n",
       "  <matplotlib.axis.XTick at 0x7fcedc531040>,\n",
       "  <matplotlib.axis.XTick at 0x7fcedc4a0ca0>,\n",
       "  <matplotlib.axis.XTick at 0x7fcedb9b7160>,\n",
       "  <matplotlib.axis.XTick at 0x7fcedb9b7670>,\n",
       "  <matplotlib.axis.XTick at 0x7fcedb9b7370>,\n",
       "  <matplotlib.axis.XTick at 0x7fcedb9b7d30>],\n",
       " [Text(0, 0, '2108'),\n",
       "  Text(0, 0, '2109'),\n",
       "  Text(0, 0, '10065'),\n",
       "  Text(0, 0, '30134'),\n",
       "  Text(0, 0, '30303'),\n",
       "  Text(0, 0, '60616'),\n",
       "  Text(0, 0, '90033')])"
      ]
     },
     "execution_count": 29,
     "metadata": {},
     "output_type": "execute_result"
    },
    {
     "data": {
      "text/plain": [
       "([<matplotlib.axis.YTick at 0x7fcedc531910>,\n",
       "  <matplotlib.axis.YTick at 0x7fcedc5314f0>,\n",
       "  <matplotlib.axis.YTick at 0x7fcedc4fe460>,\n",
       "  <matplotlib.axis.YTick at 0x7fcedb9c46d0>,\n",
       "  <matplotlib.axis.YTick at 0x7fcedb9c4ca0>,\n",
       "  <matplotlib.axis.YTick at 0x7fcedba331f0>,\n",
       "  <matplotlib.axis.YTick at 0x7fcedba33700>,\n",
       "  <matplotlib.axis.YTick at 0x7fcedba33c10>,\n",
       "  <matplotlib.axis.YTick at 0x7fcedba3b160>,\n",
       "  <matplotlib.axis.YTick at 0x7fcedba3b670>,\n",
       "  <matplotlib.axis.YTick at 0x7fcedba333d0>,\n",
       "  <matplotlib.axis.YTick at 0x7fcedb9c4460>,\n",
       "  <matplotlib.axis.YTick at 0x7fcedba3b1f0>,\n",
       "  <matplotlib.axis.YTick at 0x7fcedba3bb80>,\n",
       "  <matplotlib.axis.YTick at 0x7fcedba430d0>,\n",
       "  <matplotlib.axis.YTick at 0x7fcedba435e0>,\n",
       "  <matplotlib.axis.YTick at 0x7fcedba43af0>,\n",
       "  <matplotlib.axis.YTick at 0x7fcedba4b070>,\n",
       "  <matplotlib.axis.YTick at 0x7fcedba4b580>,\n",
       "  <matplotlib.axis.YTick at 0x7fcedba4ba90>],\n",
       " <a list of 20 Text major ticklabel objects>)"
      ]
     },
     "execution_count": 29,
     "metadata": {},
     "output_type": "execute_result"
    },
    {
     "data": {
      "text/plain": [
       "<matplotlib.legend.Legend at 0x7fcedb9b7280>"
      ]
     },
     "execution_count": 29,
     "metadata": {},
     "output_type": "execute_result"
    },
    {
     "data": {
      "image/png": "[encoded data removed]",
      "text/plain": [
       "<Figure size 432x288 with 1 Axes>"
      ]
     },
     "metadata": {
      "needs_background": "light"
     },
     "output_type": "display_data"
    }
   ],
   "source": [
    "# See docs for bar_stack at the URL\n",
    "# http://matplotlib.org/examples/pylab_examples/bar_stacked.html\n",
    "\n",
    "import numpy as np\n",
    "import matplotlib.pyplot as plt\n",
    "\n",
    "%matplotlib inline \n",
    "\n",
    "ind = np.arange(len(sony_customer_tuple))    \n",
    "\n",
    "# the width of the bars: can also be len(x) sequence\n",
    "width = .5\n",
    "\n",
    "p1 = plt.bar(ind, sony_customer_tuple, width,  color='r')\n",
    "p2 = plt.bar(ind, bose_customer_tuple, width, color='y', bottom=sony_customer_tuple)\n",
    "\n",
    "plt.ylabel('Number of Customers')\n",
    "plt.xlabel('Zip Code')\n",
    "\n",
    "plt.title('Number of Customers by ZipCode and 2 Products')\n",
    "\n",
    "plt.xticks(ind + width, sony_zip_tuple, horizontalalignment='right')\n",
    "\n",
    "plt.yticks(np.arange(0, 2000, 100))\n",
    "plt.legend((p1[0], p2[0]), ('Sony', 'Bose'))\n",
    "\n",
    "plt.show()"
   ]
  },
  {
   "attachments": {
    "image.png": {
     "image/png": "[encoded data removed]"
    }
   },
   "cell_type": "markdown",
   "metadata": {},
   "source": [
    "## Alternative code for above 2 cells\n",
    "\n",
    "### Join Options\n",
    "![image.png](attachment:image.png)\n",
    "https://www.datasciencemadesimple.com/join-merge-data-frames-pandas-python/"
   ]
  },
  {
   "cell_type": "code",
   "execution_count": 30,
   "metadata": {},
   "outputs": [
    {
     "data": {
      "image/png": "[encoded data removed]",
      "text/plain": [
       "<Figure size 432x288 with 1 Axes>"
      ]
     },
     "metadata": {
      "needs_background": "light"
     },
     "output_type": "display_data"
    }
   ],
   "source": [
    "import numpy as np\n",
    "import matplotlib.pyplot as plt\n",
    "\n",
    "%matplotlib inline \n",
    "\n",
    "df =pd.merge(SonyTV60LEDCustTrans, BoseSoundSystemCustTrans, \n",
    "         on='ZipCode',how='outer').fillna(0)\n",
    "#df\n",
    "\n",
    "df.columns = ['ZipCode', 'Sony', 'Bose'];\n",
    "df.set_index('ZipCode').plot(kind='bar',stacked=True,\n",
    "                             rot = 0, color=['r','y']);\n",
    "plt.ylabel('Number of Customers');\n",
    "plt.show();"
   ]
  },
  {
   "cell_type": "markdown",
   "metadata": {},
   "source": [
    "<div class=\"alert alert-block alert-warning\">\n",
    "    \n",
    "# Requirements :\n",
    "\n",
    "Answer the homework questions below; add cells as needed.\n",
    "\n",
    "</div>"
   ]
  },
  {
   "cell_type": "markdown",
   "metadata": {},
   "source": [
    "### Requirement 1 (7 points)\n",
    "\n",
    "Show the shape of your data and the variable types of your data. You will get points for clean data - no NA's, product values of only 0 or 1, valid customer ages, zipcodes with 5 digits."
   ]
  },
  {
   "cell_type": "code",
   "execution_count": 31,
   "metadata": {},
   "outputs": [
    {
     "data": {
      "text/plain": [
       "(9092, 34)"
      ]
     },
     "execution_count": 31,
     "metadata": {},
     "output_type": "execute_result"
    },
    {
     "name": "stdout",
     "output_type": "stream",
     "text": [
      "<class 'pandas.core.frame.DataFrame'>\n",
      "Int64Index: 9092 entries, 0 to 9999\n",
      "Data columns (total 34 columns):\n",
      " #   Column              Non-Null Count  Dtype \n",
      "---  ------              --------------  ----- \n",
      " 0   ZipCode             9092 non-null   object\n",
      " 1   CustomerAge         9092 non-null   int64 \n",
      " 2   SamsungTV46LED      9092 non-null   int64 \n",
      " 3   SonyTV42LED         9092 non-null   int64 \n",
      " 4   XBOX360             9092 non-null   int64 \n",
      " 5   DellLaptop          9092 non-null   int64 \n",
      " 6   BoseSoundSystem     9092 non-null   int64 \n",
      " 7   BoseHeadSet         9092 non-null   int64 \n",
      " 8   SonyHeadSet         9092 non-null   int64 \n",
      " 9   iPod                9092 non-null   int64 \n",
      " 10  iPhone              9092 non-null   int64 \n",
      " 11  Panasonic50LED      9092 non-null   int64 \n",
      " 12  SonyPS4             9092 non-null   int64 \n",
      " 13  WiiU                9092 non-null   int64 \n",
      " 14  WDexternalHD        9092 non-null   int64 \n",
      " 15  SamsungTV55LED      9092 non-null   int64 \n",
      " 16  SonyTV60LED         9092 non-null   int64 \n",
      " 17  SandiskMemoryCard   9092 non-null   int64 \n",
      " 18  SonySoundSystem     9092 non-null   int64 \n",
      " 19  SonyCamera          9092 non-null   int64 \n",
      " 20  PanasonicCamera     9092 non-null   int64 \n",
      " 21  HPPrinter           9092 non-null   int64 \n",
      " 22  SonyDVDplayer       9092 non-null   int64 \n",
      " 23  ToshibaDVDplayer    9092 non-null   int64 \n",
      " 24  GalaxyTablet        9092 non-null   int64 \n",
      " 25  SurfaceTablet       9092 non-null   int64 \n",
      " 26  HPLaptop            9092 non-null   int64 \n",
      " 27  HDMICable           9092 non-null   int64 \n",
      " 28  SpeakerCable        9092 non-null   int64 \n",
      " 29  CallOfDutyGame      9092 non-null   int64 \n",
      " 30  GrandTheftAutoGame  9092 non-null   int64 \n",
      " 31  ASUSLaptop          9092 non-null   int64 \n",
      " 32  LenevoLaptop        9092 non-null   int64 \n",
      " 33  TVStandWallMount    9092 non-null   int64 \n",
      "dtypes: int64(33), object(1)\n",
      "memory usage: 2.4+ MB\n"
     ]
    }
   ],
   "source": [
    "cleandata.shape\n",
    "\n",
    "#removed rows with NA or blank (' ')\n",
    "#removed rows where value was not 0 or 1\n",
    "#removed rows where age <18 or >100\n",
    "#removed rows where zip was more than 5 digits\n",
    "####intentionally kept 4 digit zip codes because they are valid and exist in the US - added a leading zero so they became 5 digits\n",
    "\n",
    "\n",
    "cleandata.info()\n",
    "\n",
    "#had all variables as integers EXCEPT zip so it could have leading zeros and fulfill the 5 digit requirement"
   ]
  },
  {
   "cell_type": "markdown",
   "metadata": {},
   "source": [
    "### Requirement 2 (7 points) - Use SQL/SQLite\n",
    "\n",
    "a) Show the top 3 zip codes with the most customers.  <br>\n",
    "b) Using just the top 3 zip codes, what are the ages of the customers? Sort the output by highest count on top."
   ]
  },
  {
   "cell_type": "code",
   "execution_count": 32,
   "metadata": {},
   "outputs": [
    {
     "data": {
      "text/html": [
       "<div>\n",
       "<style scoped>\n",
       "    .dataframe tbody tr th:only-of-type {\n",
       "        vertical-align: middle;\n",
       "    }\n",
       "\n",
       "    .dataframe tbody tr th {\n",
       "        vertical-align: top;\n",
       "    }\n",
       "\n",
       "    .dataframe thead th {\n",
       "        text-align: right;\n",
       "    }\n",
       "</style>\n",
       "<table border=\"1\" class=\"dataframe\">\n",
       "  <thead>\n",
       "    <tr style=\"text-align: right;\">\n",
       "      <th></th>\n",
       "      <th>ZipCode</th>\n",
       "      <th>num_customers</th>\n",
       "    </tr>\n",
       "  </thead>\n",
       "  <tbody>\n",
       "    <tr>\n",
       "      <th>0</th>\n",
       "      <td>30134</td>\n",
       "      <td>1133</td>\n",
       "    </tr>\n",
       "    <tr>\n",
       "      <th>1</th>\n",
       "      <td>30303</td>\n",
       "      <td>985</td>\n",
       "    </tr>\n",
       "    <tr>\n",
       "      <th>2</th>\n",
       "      <td>60616</td>\n",
       "      <td>951</td>\n",
       "    </tr>\n",
       "  </tbody>\n",
       "</table>\n",
       "</div>"
      ],
      "text/plain": [
       "  ZipCode  num_customers\n",
       "0   30134           1133\n",
       "1   30303            985\n",
       "2   60616            951"
      ]
     },
     "execution_count": 32,
     "metadata": {},
     "output_type": "execute_result"
    },
    {
     "data": {
      "text/html": [
       "<div>\n",
       "<style scoped>\n",
       "    .dataframe tbody tr th:only-of-type {\n",
       "        vertical-align: middle;\n",
       "    }\n",
       "\n",
       "    .dataframe tbody tr th {\n",
       "        vertical-align: top;\n",
       "    }\n",
       "\n",
       "    .dataframe thead th {\n",
       "        text-align: right;\n",
       "    }\n",
       "</style>\n",
       "<table border=\"1\" class=\"dataframe\">\n",
       "  <thead>\n",
       "    <tr style=\"text-align: right;\">\n",
       "      <th></th>\n",
       "      <th>CustomerAge</th>\n",
       "      <th>num_customers</th>\n",
       "    </tr>\n",
       "  </thead>\n",
       "  <tbody>\n",
       "    <tr>\n",
       "      <th>0</th>\n",
       "      <td>25</td>\n",
       "      <td>277</td>\n",
       "    </tr>\n",
       "    <tr>\n",
       "      <th>1</th>\n",
       "      <td>34</td>\n",
       "      <td>231</td>\n",
       "    </tr>\n",
       "    <tr>\n",
       "      <th>2</th>\n",
       "      <td>44</td>\n",
       "      <td>222</td>\n",
       "    </tr>\n",
       "    <tr>\n",
       "      <th>3</th>\n",
       "      <td>29</td>\n",
       "      <td>214</td>\n",
       "    </tr>\n",
       "    <tr>\n",
       "      <th>4</th>\n",
       "      <td>43</td>\n",
       "      <td>191</td>\n",
       "    </tr>\n",
       "    <tr>\n",
       "      <th>5</th>\n",
       "      <td>27</td>\n",
       "      <td>153</td>\n",
       "    </tr>\n",
       "    <tr>\n",
       "      <th>6</th>\n",
       "      <td>37</td>\n",
       "      <td>148</td>\n",
       "    </tr>\n",
       "    <tr>\n",
       "      <th>7</th>\n",
       "      <td>23</td>\n",
       "      <td>148</td>\n",
       "    </tr>\n",
       "    <tr>\n",
       "      <th>8</th>\n",
       "      <td>26</td>\n",
       "      <td>133</td>\n",
       "    </tr>\n",
       "    <tr>\n",
       "      <th>9</th>\n",
       "      <td>35</td>\n",
       "      <td>115</td>\n",
       "    </tr>\n",
       "    <tr>\n",
       "      <th>10</th>\n",
       "      <td>38</td>\n",
       "      <td>111</td>\n",
       "    </tr>\n",
       "    <tr>\n",
       "      <th>11</th>\n",
       "      <td>32</td>\n",
       "      <td>102</td>\n",
       "    </tr>\n",
       "    <tr>\n",
       "      <th>12</th>\n",
       "      <td>28</td>\n",
       "      <td>99</td>\n",
       "    </tr>\n",
       "    <tr>\n",
       "      <th>13</th>\n",
       "      <td>31</td>\n",
       "      <td>91</td>\n",
       "    </tr>\n",
       "    <tr>\n",
       "      <th>14</th>\n",
       "      <td>56</td>\n",
       "      <td>90</td>\n",
       "    </tr>\n",
       "    <tr>\n",
       "      <th>15</th>\n",
       "      <td>21</td>\n",
       "      <td>88</td>\n",
       "    </tr>\n",
       "    <tr>\n",
       "      <th>16</th>\n",
       "      <td>54</td>\n",
       "      <td>84</td>\n",
       "    </tr>\n",
       "    <tr>\n",
       "      <th>17</th>\n",
       "      <td>41</td>\n",
       "      <td>81</td>\n",
       "    </tr>\n",
       "    <tr>\n",
       "      <th>18</th>\n",
       "      <td>22</td>\n",
       "      <td>80</td>\n",
       "    </tr>\n",
       "    <tr>\n",
       "      <th>19</th>\n",
       "      <td>49</td>\n",
       "      <td>59</td>\n",
       "    </tr>\n",
       "    <tr>\n",
       "      <th>20</th>\n",
       "      <td>45</td>\n",
       "      <td>57</td>\n",
       "    </tr>\n",
       "    <tr>\n",
       "      <th>21</th>\n",
       "      <td>42</td>\n",
       "      <td>50</td>\n",
       "    </tr>\n",
       "    <tr>\n",
       "      <th>22</th>\n",
       "      <td>36</td>\n",
       "      <td>40</td>\n",
       "    </tr>\n",
       "    <tr>\n",
       "      <th>23</th>\n",
       "      <td>47</td>\n",
       "      <td>32</td>\n",
       "    </tr>\n",
       "    <tr>\n",
       "      <th>24</th>\n",
       "      <td>61</td>\n",
       "      <td>27</td>\n",
       "    </tr>\n",
       "    <tr>\n",
       "      <th>25</th>\n",
       "      <td>24</td>\n",
       "      <td>27</td>\n",
       "    </tr>\n",
       "    <tr>\n",
       "      <th>26</th>\n",
       "      <td>46</td>\n",
       "      <td>25</td>\n",
       "    </tr>\n",
       "    <tr>\n",
       "      <th>27</th>\n",
       "      <td>51</td>\n",
       "      <td>24</td>\n",
       "    </tr>\n",
       "    <tr>\n",
       "      <th>28</th>\n",
       "      <td>59</td>\n",
       "      <td>23</td>\n",
       "    </tr>\n",
       "    <tr>\n",
       "      <th>29</th>\n",
       "      <td>33</td>\n",
       "      <td>16</td>\n",
       "    </tr>\n",
       "    <tr>\n",
       "      <th>30</th>\n",
       "      <td>55</td>\n",
       "      <td>14</td>\n",
       "    </tr>\n",
       "    <tr>\n",
       "      <th>31</th>\n",
       "      <td>39</td>\n",
       "      <td>10</td>\n",
       "    </tr>\n",
       "    <tr>\n",
       "      <th>32</th>\n",
       "      <td>30</td>\n",
       "      <td>7</td>\n",
       "    </tr>\n",
       "  </tbody>\n",
       "</table>\n",
       "</div>"
      ],
      "text/plain": [
       "    CustomerAge  num_customers\n",
       "0            25            277\n",
       "1            34            231\n",
       "2            44            222\n",
       "3            29            214\n",
       "4            43            191\n",
       "5            27            153\n",
       "6            37            148\n",
       "7            23            148\n",
       "8            26            133\n",
       "9            35            115\n",
       "10           38            111\n",
       "11           32            102\n",
       "12           28             99\n",
       "13           31             91\n",
       "14           56             90\n",
       "15           21             88\n",
       "16           54             84\n",
       "17           41             81\n",
       "18           22             80\n",
       "19           49             59\n",
       "20           45             57\n",
       "21           42             50\n",
       "22           36             40\n",
       "23           47             32\n",
       "24           61             27\n",
       "25           24             27\n",
       "26           46             25\n",
       "27           51             24\n",
       "28           59             23\n",
       "29           33             16\n",
       "30           55             14\n",
       "31           39             10\n",
       "32           30              7"
      ]
     },
     "execution_count": 32,
     "metadata": {},
     "output_type": "execute_result"
    }
   ],
   "source": [
    "R2a = pd.read_sql_query(\"SELECT ZipCode , COUNT(*) as 'num_customers' \\\n",
    "            FROM trans4cust \\\n",
    "            GROUP BY ZipCode \\\n",
    "            ORDER BY num_customers desc\", engine)\n",
    "\n",
    "R2a.head(3)\n",
    "\n",
    "R2b = pd.read_sql_query(\n",
    "        \"SELECT CustomerAge , COUNT(*) as 'num_customers' \\\n",
    "        FROM trans4cust \\\n",
    "        WHERE ZipCode=30134 OR ZipCode=30303 OR ZipCode=60616 \\\n",
    "        GROUP BY CustomerAge  \\\n",
    "        ORDER BY num_customers desc\", engine)\n",
    "\n",
    "R2b"
   ]
  },
  {
   "cell_type": "markdown",
   "metadata": {},
   "source": [
    "### Requirement 3 (7 points) - Use SQL/SQLite\n",
    "\n",
    "Get the number of customers that bought both a DellLaptop and HPPrinter. Show the results for every age and sort the output by age so that the oldest customers are shown at the top."
   ]
  },
  {
   "cell_type": "code",
   "execution_count": 33,
   "metadata": {},
   "outputs": [
    {
     "data": {
      "text/html": [
       "<div>\n",
       "<style scoped>\n",
       "    .dataframe tbody tr th:only-of-type {\n",
       "        vertical-align: middle;\n",
       "    }\n",
       "\n",
       "    .dataframe tbody tr th {\n",
       "        vertical-align: top;\n",
       "    }\n",
       "\n",
       "    .dataframe thead th {\n",
       "        text-align: right;\n",
       "    }\n",
       "</style>\n",
       "<table border=\"1\" class=\"dataframe\">\n",
       "  <thead>\n",
       "    <tr style=\"text-align: right;\">\n",
       "      <th></th>\n",
       "      <th>CustomerAge</th>\n",
       "      <th>num_customers</th>\n",
       "    </tr>\n",
       "  </thead>\n",
       "  <tbody>\n",
       "    <tr>\n",
       "      <th>0</th>\n",
       "      <td>61</td>\n",
       "      <td>32</td>\n",
       "    </tr>\n",
       "    <tr>\n",
       "      <th>1</th>\n",
       "      <td>59</td>\n",
       "      <td>80</td>\n",
       "    </tr>\n",
       "    <tr>\n",
       "      <th>2</th>\n",
       "      <td>57</td>\n",
       "      <td>64</td>\n",
       "    </tr>\n",
       "    <tr>\n",
       "      <th>3</th>\n",
       "      <td>56</td>\n",
       "      <td>176</td>\n",
       "    </tr>\n",
       "    <tr>\n",
       "      <th>4</th>\n",
       "      <td>54</td>\n",
       "      <td>127</td>\n",
       "    </tr>\n",
       "    <tr>\n",
       "      <th>5</th>\n",
       "      <td>53</td>\n",
       "      <td>24</td>\n",
       "    </tr>\n",
       "    <tr>\n",
       "      <th>6</th>\n",
       "      <td>51</td>\n",
       "      <td>16</td>\n",
       "    </tr>\n",
       "    <tr>\n",
       "      <th>7</th>\n",
       "      <td>47</td>\n",
       "      <td>32</td>\n",
       "    </tr>\n",
       "    <tr>\n",
       "      <th>8</th>\n",
       "      <td>46</td>\n",
       "      <td>63</td>\n",
       "    </tr>\n",
       "    <tr>\n",
       "      <th>9</th>\n",
       "      <td>45</td>\n",
       "      <td>32</td>\n",
       "    </tr>\n",
       "    <tr>\n",
       "      <th>10</th>\n",
       "      <td>44</td>\n",
       "      <td>184</td>\n",
       "    </tr>\n",
       "    <tr>\n",
       "      <th>11</th>\n",
       "      <td>42</td>\n",
       "      <td>72</td>\n",
       "    </tr>\n",
       "    <tr>\n",
       "      <th>12</th>\n",
       "      <td>39</td>\n",
       "      <td>88</td>\n",
       "    </tr>\n",
       "    <tr>\n",
       "      <th>13</th>\n",
       "      <td>38</td>\n",
       "      <td>16</td>\n",
       "    </tr>\n",
       "    <tr>\n",
       "      <th>14</th>\n",
       "      <td>36</td>\n",
       "      <td>192</td>\n",
       "    </tr>\n",
       "    <tr>\n",
       "      <th>15</th>\n",
       "      <td>35</td>\n",
       "      <td>136</td>\n",
       "    </tr>\n",
       "    <tr>\n",
       "      <th>16</th>\n",
       "      <td>34</td>\n",
       "      <td>120</td>\n",
       "    </tr>\n",
       "    <tr>\n",
       "      <th>17</th>\n",
       "      <td>32</td>\n",
       "      <td>184</td>\n",
       "    </tr>\n",
       "    <tr>\n",
       "      <th>18</th>\n",
       "      <td>31</td>\n",
       "      <td>194</td>\n",
       "    </tr>\n",
       "    <tr>\n",
       "      <th>19</th>\n",
       "      <td>29</td>\n",
       "      <td>143</td>\n",
       "    </tr>\n",
       "    <tr>\n",
       "      <th>20</th>\n",
       "      <td>28</td>\n",
       "      <td>56</td>\n",
       "    </tr>\n",
       "    <tr>\n",
       "      <th>21</th>\n",
       "      <td>27</td>\n",
       "      <td>272</td>\n",
       "    </tr>\n",
       "    <tr>\n",
       "      <th>22</th>\n",
       "      <td>26</td>\n",
       "      <td>183</td>\n",
       "    </tr>\n",
       "    <tr>\n",
       "      <th>23</th>\n",
       "      <td>25</td>\n",
       "      <td>64</td>\n",
       "    </tr>\n",
       "    <tr>\n",
       "      <th>24</th>\n",
       "      <td>23</td>\n",
       "      <td>304</td>\n",
       "    </tr>\n",
       "    <tr>\n",
       "      <th>25</th>\n",
       "      <td>22</td>\n",
       "      <td>203</td>\n",
       "    </tr>\n",
       "    <tr>\n",
       "      <th>26</th>\n",
       "      <td>21</td>\n",
       "      <td>201</td>\n",
       "    </tr>\n",
       "  </tbody>\n",
       "</table>\n",
       "</div>"
      ],
      "text/plain": [
       "    CustomerAge  num_customers\n",
       "0            61             32\n",
       "1            59             80\n",
       "2            57             64\n",
       "3            56            176\n",
       "4            54            127\n",
       "5            53             24\n",
       "6            51             16\n",
       "7            47             32\n",
       "8            46             63\n",
       "9            45             32\n",
       "10           44            184\n",
       "11           42             72\n",
       "12           39             88\n",
       "13           38             16\n",
       "14           36            192\n",
       "15           35            136\n",
       "16           34            120\n",
       "17           32            184\n",
       "18           31            194\n",
       "19           29            143\n",
       "20           28             56\n",
       "21           27            272\n",
       "22           26            183\n",
       "23           25             64\n",
       "24           23            304\n",
       "25           22            203\n",
       "26           21            201"
      ]
     },
     "execution_count": 33,
     "metadata": {},
     "output_type": "execute_result"
    }
   ],
   "source": [
    "R3 = pd.read_sql_query(\n",
    "        \"SELECT CustomerAge , COUNT(*) as 'num_customers' \\\n",
    "        FROM trans4cust \\\n",
    "        WHERE DellLaptop=1 AND HPPrinter=1 \\\n",
    "        GROUP BY CustomerAge  \\\n",
    "        ORDER BY CustomerAge desc\", engine)\n",
    "\n",
    "R3"
   ]
  },
  {
   "cell_type": "markdown",
   "metadata": {},
   "source": [
    "### Requirement 4 (7 points) - Use SQL/SQLite\n",
    "\n",
    "a) How many customers are in the 25 and under group? <br>\n",
    "b) Of these customers, how many iPods were purchased? How many CallOfDutyGame were purchased? <br>\n",
    "c) How many customers are in the 55 and over group? <br>\n",
    "d) Of these customers, how many iPods were purchased? How many CallOfDutyGame were purchased? <br>"
   ]
  },
  {
   "cell_type": "code",
   "execution_count": 34,
   "metadata": {},
   "outputs": [
    {
     "data": {
      "text/html": [
       "<div>\n",
       "<style scoped>\n",
       "    .dataframe tbody tr th:only-of-type {\n",
       "        vertical-align: middle;\n",
       "    }\n",
       "\n",
       "    .dataframe tbody tr th {\n",
       "        vertical-align: top;\n",
       "    }\n",
       "\n",
       "    .dataframe thead th {\n",
       "        text-align: right;\n",
       "    }\n",
       "</style>\n",
       "<table border=\"1\" class=\"dataframe\">\n",
       "  <thead>\n",
       "    <tr style=\"text-align: right;\">\n",
       "      <th></th>\n",
       "      <th>num_customers_under_25</th>\n",
       "    </tr>\n",
       "  </thead>\n",
       "  <tbody>\n",
       "    <tr>\n",
       "      <th>0</th>\n",
       "      <td>1859</td>\n",
       "    </tr>\n",
       "  </tbody>\n",
       "</table>\n",
       "</div>"
      ],
      "text/plain": [
       "   num_customers_under_25\n",
       "0                    1859"
      ]
     },
     "execution_count": 34,
     "metadata": {},
     "output_type": "execute_result"
    },
    {
     "data": {
      "text/html": [
       "<div>\n",
       "<style scoped>\n",
       "    .dataframe tbody tr th:only-of-type {\n",
       "        vertical-align: middle;\n",
       "    }\n",
       "\n",
       "    .dataframe tbody tr th {\n",
       "        vertical-align: top;\n",
       "    }\n",
       "\n",
       "    .dataframe thead th {\n",
       "        text-align: right;\n",
       "    }\n",
       "</style>\n",
       "<table border=\"1\" class=\"dataframe\">\n",
       "  <thead>\n",
       "    <tr style=\"text-align: right;\">\n",
       "      <th></th>\n",
       "      <th>num_customers_under_25_ipod</th>\n",
       "    </tr>\n",
       "  </thead>\n",
       "  <tbody>\n",
       "    <tr>\n",
       "      <th>0</th>\n",
       "      <td>265</td>\n",
       "    </tr>\n",
       "  </tbody>\n",
       "</table>\n",
       "</div>"
      ],
      "text/plain": [
       "   num_customers_under_25_ipod\n",
       "0                          265"
      ]
     },
     "execution_count": 34,
     "metadata": {},
     "output_type": "execute_result"
    },
    {
     "data": {
      "text/html": [
       "<div>\n",
       "<style scoped>\n",
       "    .dataframe tbody tr th:only-of-type {\n",
       "        vertical-align: middle;\n",
       "    }\n",
       "\n",
       "    .dataframe tbody tr th {\n",
       "        vertical-align: top;\n",
       "    }\n",
       "\n",
       "    .dataframe thead th {\n",
       "        text-align: right;\n",
       "    }\n",
       "</style>\n",
       "<table border=\"1\" class=\"dataframe\">\n",
       "  <thead>\n",
       "    <tr style=\"text-align: right;\">\n",
       "      <th></th>\n",
       "      <th>num_customers_under_25_cod</th>\n",
       "    </tr>\n",
       "  </thead>\n",
       "  <tbody>\n",
       "    <tr>\n",
       "      <th>0</th>\n",
       "      <td>1714</td>\n",
       "    </tr>\n",
       "  </tbody>\n",
       "</table>\n",
       "</div>"
      ],
      "text/plain": [
       "   num_customers_under_25_cod\n",
       "0                        1714"
      ]
     },
     "execution_count": 34,
     "metadata": {},
     "output_type": "execute_result"
    },
    {
     "data": {
      "text/html": [
       "<div>\n",
       "<style scoped>\n",
       "    .dataframe tbody tr th:only-of-type {\n",
       "        vertical-align: middle;\n",
       "    }\n",
       "\n",
       "    .dataframe tbody tr th {\n",
       "        vertical-align: top;\n",
       "    }\n",
       "\n",
       "    .dataframe thead th {\n",
       "        text-align: right;\n",
       "    }\n",
       "</style>\n",
       "<table border=\"1\" class=\"dataframe\">\n",
       "  <thead>\n",
       "    <tr style=\"text-align: right;\">\n",
       "      <th></th>\n",
       "      <th>num_customers_over_55</th>\n",
       "    </tr>\n",
       "  </thead>\n",
       "  <tbody>\n",
       "    <tr>\n",
       "      <th>0</th>\n",
       "      <td>537</td>\n",
       "    </tr>\n",
       "  </tbody>\n",
       "</table>\n",
       "</div>"
      ],
      "text/plain": [
       "   num_customers_over_55\n",
       "0                    537"
      ]
     },
     "execution_count": 34,
     "metadata": {},
     "output_type": "execute_result"
    },
    {
     "data": {
      "text/html": [
       "<div>\n",
       "<style scoped>\n",
       "    .dataframe tbody tr th:only-of-type {\n",
       "        vertical-align: middle;\n",
       "    }\n",
       "\n",
       "    .dataframe tbody tr th {\n",
       "        vertical-align: top;\n",
       "    }\n",
       "\n",
       "    .dataframe thead th {\n",
       "        text-align: right;\n",
       "    }\n",
       "</style>\n",
       "<table border=\"1\" class=\"dataframe\">\n",
       "  <thead>\n",
       "    <tr style=\"text-align: right;\">\n",
       "      <th></th>\n",
       "      <th>num_customers_over_55_ipod</th>\n",
       "    </tr>\n",
       "  </thead>\n",
       "  <tbody>\n",
       "    <tr>\n",
       "      <th>0</th>\n",
       "      <td>280</td>\n",
       "    </tr>\n",
       "  </tbody>\n",
       "</table>\n",
       "</div>"
      ],
      "text/plain": [
       "   num_customers_over_55_ipod\n",
       "0                         280"
      ]
     },
     "execution_count": 34,
     "metadata": {},
     "output_type": "execute_result"
    },
    {
     "data": {
      "text/html": [
       "<div>\n",
       "<style scoped>\n",
       "    .dataframe tbody tr th:only-of-type {\n",
       "        vertical-align: middle;\n",
       "    }\n",
       "\n",
       "    .dataframe tbody tr th {\n",
       "        vertical-align: top;\n",
       "    }\n",
       "\n",
       "    .dataframe thead th {\n",
       "        text-align: right;\n",
       "    }\n",
       "</style>\n",
       "<table border=\"1\" class=\"dataframe\">\n",
       "  <thead>\n",
       "    <tr style=\"text-align: right;\">\n",
       "      <th></th>\n",
       "      <th>num_customers_over_55_cod</th>\n",
       "    </tr>\n",
       "  </thead>\n",
       "  <tbody>\n",
       "    <tr>\n",
       "      <th>0</th>\n",
       "      <td>361</td>\n",
       "    </tr>\n",
       "  </tbody>\n",
       "</table>\n",
       "</div>"
      ],
      "text/plain": [
       "   num_customers_over_55_cod\n",
       "0                        361"
      ]
     },
     "execution_count": 34,
     "metadata": {},
     "output_type": "execute_result"
    }
   ],
   "source": [
    "R4a = pd.read_sql_query(\n",
    "        \"SELECT COUNT(*) as 'num_customers_under_25' \\\n",
    "        FROM trans4cust \\\n",
    "        WHERE CustomerAge<=25\", engine)\n",
    "\n",
    "R4a\n",
    "\n",
    "R4b1 = pd.read_sql_query(\n",
    "        \"SELECT COUNT(*) as 'num_customers_under_25_ipod' \\\n",
    "        FROM trans4cust \\\n",
    "        WHERE CustomerAge<=25 AND iPod=1 \", engine)\n",
    "\n",
    "R4b1\n",
    "\n",
    "R4b2 = pd.read_sql_query(\n",
    "        \"SELECT COUNT(*) as 'num_customers_under_25_cod' \\\n",
    "        FROM trans4cust \\\n",
    "        WHERE CustomerAge<=25 AND CallOfDutyGame=1 \", engine)\n",
    "\n",
    "R4b2\n",
    "\n",
    "R4c = pd.read_sql_query(\n",
    "        \"SELECT COUNT(*) as 'num_customers_over_55' \\\n",
    "        FROM trans4cust \\\n",
    "        WHERE CustomerAge>=55\", engine)\n",
    "\n",
    "R4c\n",
    "\n",
    "R4d1 = pd.read_sql_query(\n",
    "        \"SELECT COUNT(*) as 'num_customers_over_55_ipod' \\\n",
    "        FROM trans4cust \\\n",
    "        WHERE CustomerAge>=55 AND iPod=1 \", engine)\n",
    "\n",
    "R4d1\n",
    "\n",
    "R4d2 = pd.read_sql_query(\n",
    "        \"SELECT COUNT(*) as 'num_customers_over_55_cod' \\\n",
    "        FROM trans4cust \\\n",
    "        WHERE CustomerAge>=55 AND CallOfDutyGame=1 \", engine)\n",
    "\n",
    "R4d2"
   ]
  },
  {
   "cell_type": "markdown",
   "metadata": {},
   "source": [
    "### Requirement 5 (12 points) - Use SQL/SQLite\n",
    " \n",
    "Plot in a stacked-bar figure the number of customers who bought HPLaptop and/or HPPrinter but did NOT buy WDexternalHD for every CustomerAge group that has more than 100 customers who bought these two products(either bought one of these products or the two products but didn't buy WDexternalHD)."
   ]
  },
  {
   "cell_type": "code",
   "execution_count": 35,
   "metadata": {},
   "outputs": [],
   "source": [
    "#Plot in a stacked-bar figure the number of customers who bought SonyTV60LED and/or BoseSoundSystem \n",
    "#in every zipcode that has more than 400 customers who bought these two products(either bought one of \n",
    "#these products or the two products)\n",
    "\n",
    "HPLaptopCustTrans = pd.read_sql_query(\n",
    "    \"SELECT CustomerAge , COUNT(*) as 'num_customers' \\\n",
    "    FROM trans4cust \\\n",
    "    WHERE HPLaptop=1 AND WDexternalHD=0\\\n",
    "    GROUP BY CustomerAge \\\n",
    "    HAVING COUNT(*) > 100\", engine)\n",
    "\n",
    "HPPrinterCustTrans = pd.read_sql_query(\n",
    "    \"SELECT CustomerAge , COUNT(*) as 'num_customers'\\\n",
    "    FROM trans4cust \\\n",
    "    WHERE HPPrinter=1 AND WDexternalHD=0 \\\n",
    "    GROUP BY CustomerAge \\\n",
    "    HAVING COUNT(*) > 100\", engine)"
   ]
  },
  {
   "cell_type": "code",
   "execution_count": 36,
   "metadata": {},
   "outputs": [
    {
     "data": {
      "image/png": "[encoded data removed]",
      "text/plain": [
       "<Figure size 432x288 with 1 Axes>"
      ]
     },
     "metadata": {
      "needs_background": "light"
     },
     "output_type": "display_data"
    }
   ],
   "source": [
    "import numpy as np\n",
    "import matplotlib.pyplot as plt\n",
    "\n",
    "%matplotlib inline \n",
    "\n",
    "df =pd.merge(HPLaptopCustTrans, HPPrinterCustTrans, \n",
    "         on='CustomerAge',how='outer').fillna(0)\n",
    "#df\n",
    "\n",
    "df.columns = ['CustomerAge', 'HPLaptop', 'HPPrinter'];\n",
    "df.set_index('CustomerAge').plot(kind='bar',stacked=True,\n",
    "                             rot = 0, color=['r','y']);\n",
    "plt.ylabel('Number of Customers');\n",
    "plt.show();"
   ]
  },
  {
   "cell_type": "code",
   "execution_count": null,
   "metadata": {},
   "outputs": [],
   "source": []
  }
 ],
 "metadata": {
  "kernelspec": {
   "display_name": "Python 3",
   "language": "python",
   "name": "python3"
  },
  "language_info": {
   "codemirror_mode": {
    "name": "ipython",
    "version": 3
   },
   "file_extension": ".py",
   "mimetype": "text/x-python",
   "name": "python",
   "nbconvert_exporter": "python",
   "pygments_lexer": "ipython3",
   "version": "3.8.3"
  }
 },
 "nbformat": 4,
 "nbformat_minor": 1
}
